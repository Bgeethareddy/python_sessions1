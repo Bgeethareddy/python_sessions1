{
 "cells": [
  {
   "cell_type": "markdown",
   "id": "4d82128f",
   "metadata": {},
   "source": [
    "***create a basic function***"
   ]
  },
  {
   "cell_type": "markdown",
   "id": "e7dc6eb3",
   "metadata": {},
   "source": [
    "***single arguments***"
   ]
  },
  {
   "cell_type": "code",
   "execution_count": 2,
   "id": "c3177603",
   "metadata": {},
   "outputs": [
    {
     "data": {
      "text/plain": [
       "60"
      ]
     },
     "execution_count": 2,
     "metadata": {},
     "output_type": "execute_result"
    }
   ],
   "source": [
    "def add(x):\n",
    "    summ=x+10\n",
    "    return(summ)\n",
    "\n",
    "add(50)"
   ]
  },
  {
   "cell_type": "code",
   "execution_count": null,
   "id": "c83f51b6",
   "metadata": {},
   "outputs": [],
   "source": [
    "def add(x):\n",
    "    return(x+10)\n",
    "\n",
    "add(50)\n",
    "\n",
    "\n",
    "# how many arguments are present? : x\n",
    "# what u are returning? :x+10\n",
    "\n",
    "\n",
    "# format: lambda <argument>:<output>"
   ]
  },
  {
   "cell_type": "code",
   "execution_count": 3,
   "id": "d7301774",
   "metadata": {},
   "outputs": [
    {
     "data": {
      "text/plain": [
       "60"
      ]
     },
     "execution_count": 3,
     "metadata": {},
     "output_type": "execute_result"
    }
   ],
   "source": [
    "add=lambda x:x+10\n",
    "add(50)"
   ]
  },
  {
   "cell_type": "code",
   "execution_count": null,
   "id": "91801b4e",
   "metadata": {},
   "outputs": [],
   "source": [
    "def square(x):\n",
    "    return(x*x)\n",
    "\n",
    "add(50)"
   ]
  },
  {
   "cell_type": "code",
   "execution_count": 4,
   "id": "d58ff2f3",
   "metadata": {},
   "outputs": [
    {
     "data": {
      "text/plain": [
       "9"
      ]
     },
     "execution_count": 4,
     "metadata": {},
     "output_type": "execute_result"
    }
   ],
   "source": [
    "square=lambda x:x*x\n",
    "square(3)"
   ]
  },
  {
   "cell_type": "code",
   "execution_count": null,
   "id": "173b4f51",
   "metadata": {},
   "outputs": [],
   "source": [
    "def cube(x):\n",
    "    return(x*x*x)\n",
    "\n",
    "add(50)"
   ]
  },
  {
   "cell_type": "code",
   "execution_count": 5,
   "id": "de329f77",
   "metadata": {},
   "outputs": [
    {
     "data": {
      "text/plain": [
       "125"
      ]
     },
     "execution_count": 5,
     "metadata": {},
     "output_type": "execute_result"
    }
   ],
   "source": [
    "cube=lambda x:x*x*x\n",
    "cube(5)"
   ]
  },
  {
   "cell_type": "markdown",
   "id": "32c3adf0",
   "metadata": {},
   "source": [
    "***two arguments***"
   ]
  },
  {
   "cell_type": "code",
   "execution_count": null,
   "id": "87952102",
   "metadata": {},
   "outputs": [],
   "source": [
    "def add(a,b):\n",
    "    return(a+b)\n",
    "\n",
    "add(30+50)\n",
    "\n",
    "\n",
    "# how many arguments are present?\n",
    "# what u r returning?\n",
    "\n",
    "# format: lambda <arg1>,<arg2>:<output>"
   ]
  },
  {
   "cell_type": "code",
   "execution_count": 7,
   "id": "865cf672",
   "metadata": {},
   "outputs": [
    {
     "data": {
      "text/plain": [
       "80"
      ]
     },
     "execution_count": 7,
     "metadata": {},
     "output_type": "execute_result"
    }
   ],
   "source": [
    "add=lambda a,b:a+b\n",
    "add(30,50)"
   ]
  },
  {
   "cell_type": "code",
   "execution_count": 8,
   "id": "6ddc998f",
   "metadata": {},
   "outputs": [
    {
     "data": {
      "text/plain": [
       "5.0"
      ]
     },
     "execution_count": 8,
     "metadata": {},
     "output_type": "execute_result"
    }
   ],
   "source": [
    "# implement average of 3 numbers using lambda\n",
    "\n",
    "\n",
    "avg= lambda a,b,c:(a+b+c)/3\n",
    "avg(5,5,5)"
   ]
  },
  {
   "cell_type": "code",
   "execution_count": 16,
   "id": "8452c185",
   "metadata": {},
   "outputs": [
    {
     "data": {
      "text/plain": [
       "26.67"
      ]
     },
     "execution_count": 16,
     "metadata": {},
     "output_type": "execute_result"
    }
   ],
   "source": [
    "# implement avaergae make c as default parameter\n",
    "\n",
    "avg= lambda a,b,c=30:round((a+b+c)/3,2)\n",
    "avg(20,30)"
   ]
  },
  {
   "cell_type": "code",
   "execution_count": 17,
   "id": "75052092",
   "metadata": {},
   "outputs": [
    {
     "data": {
      "text/plain": [
       "26.667"
      ]
     },
     "execution_count": 17,
     "metadata": {},
     "output_type": "execute_result"
    }
   ],
   "source": [
    "round(26.666666666666666,3)"
   ]
  },
  {
   "cell_type": "code",
   "execution_count": 18,
   "id": "12f0f77f",
   "metadata": {},
   "outputs": [
    {
     "ename": "NameError",
     "evalue": "name 'a' is not defined",
     "output_type": "error",
     "traceback": [
      "\u001b[1;31m---------------------------------------------------------------------------\u001b[0m",
      "\u001b[1;31mNameError\u001b[0m                                 Traceback (most recent call last)",
      "Cell \u001b[1;32mIn[18], line 1\u001b[0m\n\u001b[1;32m----> 1\u001b[0m \u001b[38;5;28mround\u001b[39m((a\u001b[38;5;241m+\u001b[39mb\u001b[38;5;241m+\u001b[39mc)\u001b[38;5;241m/\u001b[39m\u001b[38;5;241m3\u001b[39m,\u001b[38;5;241m2\u001b[39m)\n",
      "\u001b[1;31mNameError\u001b[0m: name 'a' is not defined"
     ]
    }
   ],
   "source": [
    "round((a+b+c)/3,2)"
   ]
  },
  {
   "cell_type": "markdown",
   "id": "26aa348f",
   "metadata": {},
   "source": [
    "$if$-$else$"
   ]
  },
  {
   "cell_type": "code",
   "execution_count": 19,
   "id": "a394e1e4",
   "metadata": {},
   "outputs": [
    {
     "data": {
      "text/plain": [
       "300"
      ]
     },
     "execution_count": 19,
     "metadata": {},
     "output_type": "execute_result"
    }
   ],
   "source": [
    "# create a function for finding greater number between two numbers\n",
    "\n",
    "def greater(n1,n2):\n",
    "    if n1>n2:\n",
    "        return(n1)\n",
    "    else:\n",
    "        return(n2)\n",
    "    \n",
    "greater(200,300)"
   ]
  },
  {
   "cell_type": "code",
   "execution_count": 21,
   "id": "6e399160",
   "metadata": {},
   "outputs": [],
   "source": [
    "l1=[]\n",
    "def greater(n1,n2):\n",
    "    if n1>n2:\n",
    "        l1.append(n1)\n",
    "    else:\n",
    "        l1.append(n2)\n",
    "    \n",
    "greater(200,300)"
   ]
  },
  {
   "cell_type": "code",
   "execution_count": 22,
   "id": "80e42477",
   "metadata": {},
   "outputs": [
    {
     "ename": "SyntaxError",
     "evalue": "invalid syntax (1439479498.py, line 1)",
     "output_type": "error",
     "traceback": [
      "\u001b[1;36m  Cell \u001b[1;32mIn[22], line 1\u001b[1;36m\u001b[0m\n\u001b[1;33m    l1=[<if_output> <if_con> else <else_op> <loop>]\u001b[0m\n\u001b[1;37m        ^\u001b[0m\n\u001b[1;31mSyntaxError\u001b[0m\u001b[1;31m:\u001b[0m invalid syntax\n"
     ]
    }
   ],
   "source": [
    "l1=[<if_output> <if_con> else <else_op> <loop>]"
   ]
  },
  {
   "cell_type": "code",
   "execution_count": null,
   "id": "91bea15c",
   "metadata": {},
   "outputs": [],
   "source": [
    "l1=[<if_output> <if_con> else <else_op> <loop>]"
   ]
  },
  {
   "cell_type": "code",
   "execution_count": null,
   "id": "cef86e40",
   "metadata": {},
   "outputs": [],
   "source": [
    "def greater(n1,n2):\n",
    "    if n1>n2:\n",
    "        return(n1)\n",
    "    else:\n",
    "        return(n2)\n",
    "    \n",
    "greater(100,200)\n",
    "\n",
    "# formate:\n",
    "# lambda   <arg1>,<arg2>: <if_output>  <if_con>  else <else_op>"
   ]
  },
  {
   "cell_type": "code",
   "execution_count": 23,
   "id": "8cab1252",
   "metadata": {},
   "outputs": [
    {
     "data": {
      "text/plain": [
       "200"
      ]
     },
     "execution_count": 23,
     "metadata": {},
     "output_type": "execute_result"
    }
   ],
   "source": [
    "greater=lambda a,b:(a if a>b else b)\n",
    "greater(100,200)"
   ]
  },
  {
   "cell_type": "markdown",
   "id": "7cc00145",
   "metadata": {},
   "source": [
    "- lambda function is nothing but creat a function\n",
    "\n",
    "- one arguments\n",
    " \n",
    "- multiple arguments\n",
    "\n",
    "- if else conditions\n",
    "\n",
    "- is else conditions same like list compehenshion"
   ]
  },
  {
   "cell_type": "code",
   "execution_count": 3,
   "id": "60ea65b6",
   "metadata": {},
   "outputs": [
    {
     "name": "stdout",
     "output_type": "stream",
     "text": [
      "['Hyd', 'Mumbai', 'Chennai']\n"
     ]
    },
    {
     "data": {
      "text/plain": [
       "['Hyd', 'Mumbai', 'Chennai']"
      ]
     },
     "execution_count": 3,
     "metadata": {},
     "output_type": "execute_result"
    }
   ],
   "source": [
    "list1=['hyd','mumbai','chennai']\n",
    "\n",
    "\n",
    "# output: ['hyd','mumbai','chennai']\n",
    "#m-1: use appens method\n",
    "list2=[]\n",
    "\n",
    "for i in list1:\n",
    "    list2.append(i.capitalize())\n",
    "    \n",
    "print(list2)\n",
    "# m-2: use list compeheshion\n",
    "[i.capitalize() for i in list1]\n",
    "\n",
    "# m-3: make a lambda function\n",
    "\n",
    "\n"
   ]
  },
  {
   "cell_type": "code",
   "execution_count": null,
   "id": "ef394168",
   "metadata": {},
   "outputs": [],
   "source": [
    "lambda <argument>: <output>"
   ]
  },
  {
   "cell_type": "code",
   "execution_count": null,
   "id": "0881f3b7",
   "metadata": {},
   "outputs": [],
   "source": [
    "# whenever you use iterations \n",
    "\n",
    "# iterator: some thing can be iterable/you can print using for loop\n",
    "\n",
    "# list string tuplr dictionary"
   ]
  },
  {
   "cell_type": "code",
   "execution_count": null,
   "id": "d0301321",
   "metadata": {},
   "outputs": [],
   "source": [
    "lambda <argument>: <output>,<iterator>\n",
    "[i.capitalize() for i in list1]"
   ]
  },
  {
   "cell_type": "code",
   "execution_count": 4,
   "id": "4d5de303",
   "metadata": {},
   "outputs": [
    {
     "data": {
      "text/plain": [
       "(<function __main__.<lambda>(i)>, ['hyd', 'mumbai', 'chennai'])"
      ]
     },
     "execution_count": 4,
     "metadata": {},
     "output_type": "execute_result"
    }
   ],
   "source": [
    "list1=['hyd','mumbai','chennai']\n",
    "lambda i:i.capitalize(),list1"
   ]
  },
  {
   "cell_type": "code",
   "execution_count": null,
   "id": "5d3ee021",
   "metadata": {},
   "outputs": [],
   "source": [
    "lambda <arg>:<output>"
   ]
  },
  {
   "cell_type": "code",
   "execution_count": null,
   "id": "2cc64cda",
   "metadata": {},
   "outputs": [],
   "source": [
    "- next thing is map input and output"
   ]
  },
  {
   "cell_type": "code",
   "execution_count": 5,
   "id": "89d656bf",
   "metadata": {},
   "outputs": [
    {
     "data": {
      "text/plain": [
       "<map at 0x1fe17f28160>"
      ]
     },
     "execution_count": 5,
     "metadata": {},
     "output_type": "execute_result"
    }
   ],
   "source": [
    "list1=['hyd','mumbai','chennai']\n",
    "map(lambda i:i.capitalize(),list1)"
   ]
  },
  {
   "cell_type": "code",
   "execution_count": null,
   "id": "04a938ea",
   "metadata": {},
   "outputs": [],
   "source": [
    "- store the output"
   ]
  },
  {
   "cell_type": "code",
   "execution_count": 6,
   "id": "85303051",
   "metadata": {},
   "outputs": [
    {
     "data": {
      "text/plain": [
       "['Hyd', 'Mumbai', 'Chennai']"
      ]
     },
     "execution_count": 6,
     "metadata": {},
     "output_type": "execute_result"
    }
   ],
   "source": [
    "list(map(lambda i:i.capitalize(),list1))"
   ]
  },
  {
   "cell_type": "markdown",
   "id": "82831d2d",
   "metadata": {},
   "source": [
    "- first make a lambda function\n",
    "\n",
    "- second add your iterator\n",
    "\n",
    "- map both function and iterator\n",
    "\n",
    "- save the result in a list"
   ]
  },
  {
   "cell_type": "code",
   "execution_count": 7,
   "id": "fa1f887f",
   "metadata": {},
   "outputs": [
    {
     "data": {
      "text/plain": [
       "['Hyd', 'Mumbai', 'Chennai']"
      ]
     },
     "execution_count": 7,
     "metadata": {},
     "output_type": "execute_result"
    }
   ],
   "source": [
    "list1=['hyd','mumbai','chennai']\n",
    "lambda i:i.capitalize(),list1\n",
    "map(lambda i:i.capitalize(),list1)\n",
    "list(map(lambda i:i.capitalize(),list1))"
   ]
  },
  {
   "cell_type": "code",
   "execution_count": 13,
   "id": "18eb0140",
   "metadata": {},
   "outputs": [
    {
     "data": {
      "text/plain": [
       "[1, 4, 9, 16, 25]"
      ]
     },
     "execution_count": 13,
     "metadata": {},
     "output_type": "execute_result"
    }
   ],
   "source": [
    "list1=[1,2,3,4,5]\n",
    "# [1,4,9,16,25]\n",
    "list(map(lambda i:i*i,list1))"
   ]
  },
  {
   "cell_type": "code",
   "execution_count": 14,
   "id": "43e3501a",
   "metadata": {},
   "outputs": [
    {
     "name": "stdout",
     "output_type": "stream",
     "text": [
      "1\n",
      "4\n",
      "9\n",
      "16\n",
      "25\n"
     ]
    }
   ],
   "source": [
    "for i in map(lambda i:i*i,list1):                           # another method \n",
    "    print(i)"
   ]
  },
  {
   "cell_type": "code",
   "execution_count": 19,
   "id": "910ac0d7",
   "metadata": {},
   "outputs": [
    {
     "data": {
      "text/plain": [
       "[12, 24, 36]"
      ]
     },
     "execution_count": 19,
     "metadata": {},
     "output_type": "execute_result"
    }
   ],
   "source": [
    "list1=[1,2,3]\n",
    "list2=[11,22,33]\n",
    "list(map(lambda i,j:i+j,list1,list2))\n",
    "# [12,24,36]"
   ]
  },
  {
   "cell_type": "code",
   "execution_count": 18,
   "id": "169fe4d9",
   "metadata": {},
   "outputs": [
    {
     "name": "stdout",
     "output_type": "stream",
     "text": [
      "12\n",
      "24\n",
      "36\n"
     ]
    }
   ],
   "source": [
    "for i,j in zip(list1,list2):\n",
    "    print(i+j)"
   ]
  },
  {
   "cell_type": "code",
   "execution_count": 20,
   "id": "376f370e",
   "metadata": {},
   "outputs": [
    {
     "data": {
      "text/plain": [
       "'[12, 24, 36]'"
      ]
     },
     "execution_count": 20,
     "metadata": {},
     "output_type": "execute_result"
    }
   ],
   "source": [
    "str(list(map(lambda i,j:i+j,list1,list2)))"
   ]
  },
  {
   "cell_type": "code",
   "execution_count": 21,
   "id": "395a96ee",
   "metadata": {},
   "outputs": [
    {
     "data": {
      "text/plain": [
       "(12, 24, 36)"
      ]
     },
     "execution_count": 21,
     "metadata": {},
     "output_type": "execute_result"
    }
   ],
   "source": [
    "tuple(list(map(lambda i,j:i+j,list1,list2)))"
   ]
  },
  {
   "cell_type": "code",
   "execution_count": null,
   "id": "5faca716",
   "metadata": {},
   "outputs": [],
   "source": [
    "completed\n",
    "\n",
    "- i.capitalize()\n",
    "\n",
    "- i*i\n",
    "\n",
    "- i+j"
   ]
  },
  {
   "cell_type": "code",
   "execution_count": 24,
   "id": "f98d6b62",
   "metadata": {},
   "outputs": [
    {
     "name": "stdout",
     "output_type": "stream",
     "text": [
      "['h#d', 'mum#bai']\n"
     ]
    },
    {
     "data": {
      "text/plain": [
       "['h#d', 'mum#bai']"
      ]
     },
     "execution_count": 24,
     "metadata": {},
     "output_type": "execute_result"
    }
   ],
   "source": [
    "list1=['h#d','mum#bai','chennai']\n",
    "#['h#d','mum#bai']\n",
    "list2=[]\n",
    "for i in list1:\n",
    "    if '#' in i:\n",
    "        list2.append(i)\n",
    "print(list2)\n",
    "\n",
    "\n",
    "[i for i in list1 if '#' in i]\n"
   ]
  },
  {
   "cell_type": "code",
   "execution_count": 29,
   "id": "e54ed485",
   "metadata": {},
   "outputs": [
    {
     "data": {
      "text/plain": [
       "[True, True, False]"
      ]
     },
     "execution_count": 29,
     "metadata": {},
     "output_type": "execute_result"
    }
   ],
   "source": [
    "list1=['h#d','mum#bai','chennai']\n",
    "list(map(lambda i:'#' in i,list1))\n",
    "\n",
    "# condition mapping to list of items"
   ]
  },
  {
   "cell_type": "code",
   "execution_count": 32,
   "id": "53396153",
   "metadata": {},
   "outputs": [
    {
     "data": {
      "text/plain": [
       "False"
      ]
     },
     "execution_count": 32,
     "metadata": {},
     "output_type": "execute_result"
    }
   ],
   "source": [
    "list1=['h#d','mum#bai','chennai']\n",
    "'#' in 'h#d'\n",
    "'#' in 'mum#bai'\n",
    "'#' in 'chennai'"
   ]
  },
  {
   "cell_type": "code",
   "execution_count": 33,
   "id": "8d1b1300",
   "metadata": {},
   "outputs": [
    {
     "data": {
      "text/plain": [
       "['h#d', 'mum#bai']"
      ]
     },
     "execution_count": 33,
     "metadata": {},
     "output_type": "execute_result"
    }
   ],
   "source": [
    "list1=['h#d','mum#bai','chennai']\n",
    "list(filter(lambda i:'#' in i,list1))"
   ]
  }
 ],
 "metadata": {
  "kernelspec": {
   "display_name": "Python 3 (ipykernel)",
   "language": "python",
   "name": "python3"
  },
  "language_info": {
   "codemirror_mode": {
    "name": "ipython",
    "version": 3
   },
   "file_extension": ".py",
   "mimetype": "text/x-python",
   "name": "python",
   "nbconvert_exporter": "python",
   "pygments_lexer": "ipython3",
   "version": "3.11.5"
  }
 },
 "nbformat": 4,
 "nbformat_minor": 5
}
