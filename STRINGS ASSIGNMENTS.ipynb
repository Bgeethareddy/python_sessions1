{
 "cells": [
  {
   "cell_type": "code",
   "execution_count": 1,
   "id": "342bbfec",
   "metadata": {},
   "outputs": [
    {
     "name": "stdout",
     "output_type": "stream",
     "text": [
      "enter a string:geetha\n",
      "total number of characters in the string 6:\n",
      "string repeated 10 times geethageethageethageethageethageethageethageethageethageetha:\n",
      "total number of characters in the string g:\n",
      "the first three  characters of the string gee:\n",
      "the last three  characters of the string tha:\n",
      "The string backwards ahteeg:\n",
      "the string is not enough long:\n",
      "the string first and last characters removed eeth:\n",
      "The string in all caps GEETHA:\n",
      "The string with every a replaced with an e geethE:\n"
     ]
    }
   ],
   "source": [
    "# 1. Write a program that asks the user to enter a string. \n",
    "# The program should then print the following:\n",
    "# (a) The total number of characters in the string\n",
    "# (b) The string repeated 10 times\n",
    "# (c) The total number of characters in the string (remember that string indices start at 0)\n",
    "# (d) The first three characters of the string\n",
    "# (e) The last three characters of the string\n",
    "# (f) The string backwards\n",
    "# (g) The seventh character of the string if the string is long enough and a message otherwise\n",
    "# (h) The string with its first and last characters removed\n",
    "# (i) The string in all caps\n",
    "# (j) The string with every a replaced with an e\n",
    "\n",
    "\n",
    "user=input(\"enter a string:\")\n",
    "\n",
    "print(\"total number of characters in the string {}:\".format(len(user)))\n",
    "\n",
    "print(\"string repeated 10 times {}:\".format(user*10))\n",
    "\n",
    "print(\"total number of characters in the string {}:\".format(user[0]))\n",
    "\n",
    "print(\"the first three  characters of the string {}:\".format(user[:3]))\n",
    "\n",
    "print(\"the last three  characters of the string {}:\".format(user[3:]))\n",
    "\n",
    "print(\"The string backwards {}:\".format(user[::-1]))\n",
    "\n",
    "if len(user)>7:\n",
    "    print(\"The seventh character of the string {}:\".format(user[6]))\n",
    "else:\n",
    "    print(\"the string is not enough long:\")\n",
    "    \n",
    "print(\"the string first and last characters removed {}:\".format(user[1:-1]))\n",
    "\n",
    "print(\"The string in all caps {}:\".format(user.upper()))\n",
    "\n",
    "print(\"The string with every a replaced with an e {}:\".format(user.replace('a','E')))"
   ]
  },
  {
   "cell_type": "code",
   "execution_count": 34,
   "id": "f3e579bd",
   "metadata": {},
   "outputs": [
    {
     "name": "stdout",
     "output_type": "stream",
     "text": [
      "enter a string:bandalakunta geetha reddy\n",
      "estimate the word count 3:\n"
     ]
    }
   ],
   "source": [
    "# 2. A simple way to estimate the number of words in a string is to count \n",
    "# the number of spaces in the string.\n",
    "# Write a program that asks the user for a string and returns an \n",
    "# estimate of how many wordsare in the string.\n",
    "# Tip: You need to count the number of words using spaces\n",
    "\n",
    "\n",
    "def number_of_words():\n",
    "    user=input(\"enter a string:\")\n",
    "    count=user.count(' ')+1\n",
    "    print(\"estimate the word count {}:\".format(count))\n",
    "    \n",
    "number_of_words()"
   ]
  },
  {
   "cell_type": "code",
   "execution_count": 40,
   "id": "d97cef4c",
   "metadata": {},
   "outputs": [
    {
     "name": "stdout",
     "output_type": "stream",
     "text": [
      "Enter a word: bandalakunta geetha reddy\n",
      "The word contains vowels.\n"
     ]
    }
   ],
   "source": [
    "# 3.Write a program that asks the user to enter a word and prints out\n",
    "# whether that word contains any vowels.\n",
    "\n",
    "\n",
    "def contains_vowels(word):\n",
    "    vowels = \"aeiou\"\n",
    "    for char in word:\n",
    "        if char in vowels:\n",
    "            return True\n",
    "    return False\n",
    "\n",
    "def main():\n",
    "    user_input = input(\"Enter a word:\")\n",
    "    if contains_vowels(user_input):\n",
    "        print(\"The word contains vowels:\")\n",
    "    else:\n",
    "        print(\"The word does not contain any vowels:\")\n",
    "\n",
    "main()\n",
    "\n"
   ]
  },
  {
   "cell_type": "code",
   "execution_count": 70,
   "id": "7460030a",
   "metadata": {},
   "outputs": [
    {
     "name": "stdout",
     "output_type": "stream",
     "text": [
      "Enter a word: BANDALAKUNTA GEETHA REDDY\n",
      "The word contains unqiue vowels.\n"
     ]
    }
   ],
   "source": [
    "# 4. Improvise above code by providing unique vowels\n",
    "\n",
    "def contains_unqiue_vowels(word):\n",
    "    vowels = \"AEIOU\"\n",
    "    for char in word:\n",
    "        if char in vowels:\n",
    "            return True\n",
    "    return False\n",
    "\n",
    "def main():\n",
    "    user = input(\"Enter a word: \")\n",
    "    if contains_unqiue_vowels(user):\n",
    "        print(\"The word contains unqiue vowels.\")\n",
    "    else:\n",
    "        print(\"The word does not containS any unqiue vowels.\")\n",
    "\n",
    "main()"
   ]
  },
  {
   "cell_type": "code",
   "execution_count": 13,
   "id": "23eb1c69",
   "metadata": {},
   "outputs": [
    {
     "name": "stdout",
     "output_type": "stream",
     "text": [
      "enter a string:Qbert\n",
      "output: Q*ert!!!\n"
     ]
    }
   ],
   "source": [
    "# 5.Write a program that asks the user to enter a string.\n",
    "# The program should create a new string\n",
    "# called new_string from the user’s string such that\n",
    "# the second character is changed to an asterisk and\n",
    "# three exclamation points are attached to the end of the string.\n",
    "# Finally, print new_string.\n",
    "# Typical output is shown below:\n",
    "# Enter your string: Qbert\n",
    "# Output: Q*ert!!!\n",
    "\n",
    "\n",
    "def modify_string(string):\n",
    "    if len(string)>=2:\n",
    "        new_string=string[:1]+\"*\"+string[2:]+\"!!!\"\n",
    "        return new_string\n",
    "    else:\n",
    "        return \"pelase enter a string with at least two characters\"\n",
    "\n",
    "def main():\n",
    "\n",
    "    user_input= input(\"enter a string:\")\n",
    "    result_string=modify_string(user_input)\n",
    "    print(\"output:\",result_string)\n",
    "\n",
    "main()"
   ]
  },
  {
   "cell_type": "code",
   "execution_count": 79,
   "id": "ec3d2761",
   "metadata": {},
   "outputs": [
    {
     "name": "stdout",
     "output_type": "stream",
     "text": [
      "enter a word:geetha\n",
      "enter the word is a palindrome or not:\n"
     ]
    }
   ],
   "source": [
    "# 6. Write a program that asks the user to enter a word and determines whether the word is apalindrome or not.\n",
    "# A palindrome is a word that reads the same backwards as forwards\n",
    "\n",
    "\n",
    "def palindrome(word):\n",
    "    backward=word[::-1]\n",
    "    forword=backward\n",
    "    \n",
    "def palindrome():\n",
    "    user=input(\"enter a word:\")\n",
    "    if palindrome==user:\n",
    "        print(\"enter the word is a palindrome:\")\n",
    "    else:\n",
    "        print(\"enter the word is a palindrome or not:\")\n",
    "    \n",
    "palindrome()\n",
    "    "
   ]
  },
  {
   "cell_type": "code",
   "execution_count": null,
   "id": "7212b96f",
   "metadata": {},
   "outputs": [],
   "source": [
    "# 7. At a certain school, student email addresses end with @student.college.edu, while professor\n",
    "# email addresses end with @prof.college.edu. Write a program that first asks the user how many\n",
    "# email addresses they will be entering, and then has the user enter those addresses. After all the\n",
    "# email addresses are entered, the program should print out a message indicating either that all the\n",
    "# addresses are student addresses or that there were some professor addresses entered.\n",
    "addreses\n",
    "\n",
    "def check_email_addresses():\n",
    "    num_addresses=int(input(\"how many email addresses will you be entering:\"))\n",
    "    student=\"@student.college.edu:\"\n",
    "    proffessor=\"@prof.college.edu:\"\n",
    "    \n",
    "    student_count=0\n",
    "    professor_count=0\n",
    "    \n",
    "    for _ in range(num_addresses):\n",
    "        email = input(\"enter an email address:\")\n",
    "        if email.endswith(student):\n",
    "            student_count+=1\n",
    "        elif if email.endswith(student):\n",
    "            professor_count+=1\n",
    "    if professor_count==0\n",
    "    print(\"all addresses are student addresses:)\n",
    "    else:\n",
    "          (\"some professor addresses entered ({professo_count} professor(s))\")\n",
    "check_gamil_addreses\n"
   ]
  },
  {
   "cell_type": "code",
   "execution_count": null,
   "id": "68bc6a1d",
   "metadata": {},
   "outputs": [
    {
     "name": "stdout",
     "output_type": "stream",
     "text": [
      "How many email addresses will you be entering? 50\n",
      "Enter an email address: kadapa\n",
      "Enter an email address: mydykur\n",
      "Enter an email address: kDP\n",
      "Enter an email address: \n",
      "Enter an email address: \n",
      "Enter an email address:  CS\n",
      "Enter an email address: \n",
      "Enter an email address: \n",
      "Enter an email address: \n"
     ]
    }
   ],
   "source": [
    "def check_email_addresses():\n",
    "    num_addresses = int(input(\"How many email addresses will you be entering? \"))\n",
    "    \n",
    "    student_domain = \"@student.college.edu\"\n",
    "    professor_domain = \"@prof.college.edu\"\n",
    "    \n",
    "    student_count = 0\n",
    "    professor_count = 0\n",
    "    \n",
    "    for _ in range(num_addresses):\n",
    "        email = input(\"Enter an email address: \")\n",
    "        if email.endswith(student_domain):\n",
    "            student_count += 1\n",
    "        elif email.endswith(professor_domain):\n",
    "            professor_count += 1\n",
    "    \n",
    "    if professor_count == 0:\n",
    "        print(\"All addresses are student addresses.\")\n",
    "    else:\n",
    "        print(f\"There were some professor addresses entered ({professor_count} professor(s)).\")\n",
    "\n",
    "# Run the program\n",
    "check_email_addresses()"
   ]
  },
  {
   "cell_type": "code",
   "execution_count": 1,
   "id": "5e11d5f6",
   "metadata": {},
   "outputs": [
    {
     "name": "stdout",
     "output_type": "stream",
     "text": [
      "Enter a string: HEY\n",
      "HH\n",
      "EE\n",
      "YY\n"
     ]
    }
   ],
   "source": [
    "# 8. Write a program that asks the user to enter a string, then prints out each letter of the string\n",
    "# doubled and on a separate line. For instance,\n",
    "# if the user entered HEY,\n",
    "# the output would be\n",
    "# HH\n",
    "# EE\n",
    "# YY\n",
    "\n",
    "def double_and_print_letters(user_input):\n",
    "    for char in user_input:\n",
    "        print(char * 2)\n",
    "\n",
    "def main():\n",
    "    user_input = input(\"Enter a string: \")\n",
    "    double_and_print_letters(user_input)\n",
    "\n",
    "main()"
   ]
  },
  {
   "cell_type": "code",
   "execution_count": 2,
   "id": "f2de6d4e",
   "metadata": {},
   "outputs": [
    {
     "name": "stdout",
     "output_type": "stream",
     "text": [
      "Enter a word: buffalo\n",
      "buffa\n",
      "lo\n"
     ]
    }
   ],
   "source": [
    "# 9.Write a program that asks the user to enter a word that contains the letter a.\n",
    "# The program shouldthen print the following two lines:\n",
    "# On the first line should be the part of the string up to and\n",
    "# including the the first a, and on the second line should be the rest of the string.\n",
    "# Sample output is shown below:\n",
    "# Enter a word: buffalo\n",
    "# buffa\n",
    "# lo\n",
    "\n",
    "def split_and_print(word):\n",
    "    index_of_a = word.find('a')\n",
    "    if index_of_a != -1:\n",
    "        first_part = word[:index_of_a + 1]\n",
    "        second_part = word[index_of_a + 1:]\n",
    "        print(first_part)\n",
    "        print(second_part)\n",
    "    else:\n",
    "        print(\"The word doesn't contain the letter 'a'.\")\n",
    "\n",
    "user_word = input(\"Enter a word: \")\n",
    "split_and_print(user_word)"
   ]
  },
  {
   "cell_type": "code",
   "execution_count": 3,
   "id": "74675fe3",
   "metadata": {},
   "outputs": [
    {
     "name": "stdout",
     "output_type": "stream",
     "text": [
      "Enter a word: geethareddy\n",
      "gEeThArEdDy\n"
     ]
    }
   ],
   "source": [
    "# 10. Write a program that asks the user to enter a word and then capitalizes every other letter of that word.\n",
    "# So if the user enters rhinoceros,\n",
    "# the program should print rHiNoCeRoS.\n",
    "\n",
    "def capitalize_every_other(word):\n",
    "    result = ''\n",
    "    for i, char in enumerate(word):\n",
    "        if i % 2 == 1: \n",
    "            result += char.upper()\n",
    "        else:\n",
    "            result += char\n",
    "    return result\n",
    "\n",
    "user_word = input(\"Enter a word: \")\n",
    "capitalized_word = capitalize_every_other(user_word)\n",
    "print(capitalized_word)"
   ]
  },
  {
   "cell_type": "code",
   "execution_count": 5,
   "id": "76d2f455",
   "metadata": {},
   "outputs": [
    {
     "name": "stdout",
     "output_type": "stream",
     "text": [
      "Enter the first string: ABCDEFG\n",
      "Enter the second string: abcdefg\n",
      "Result: AaBbCcDdEeFfGg\n"
     ]
    }
   ],
   "source": [
    "# 11. Write a program that asks the user to enter two strings of the same length.\n",
    "# The program shouldthen check to see if the strings are of the same length.\n",
    "# If they are not, the program should print anappropriate message and exit.\n",
    "# If they are of the same length, the program should alternate thecharacters of the two strings.\n",
    "# For example,if the user enters abcde and ABCDE the program should print out AaBbCcDdEe.\n",
    "\n",
    "\n",
    "def alternate_strings():\n",
    "\n",
    "    str1 = input(\"Enter the first string: \")\n",
    "    str2 = input(\"Enter the second string: \")\n",
    "\n",
    "    if len(str1) != len(str2):\n",
    "        print(\"Error: The strings are not of the same length.\")\n",
    "        return\n",
    "\n",
    "    result = ''\n",
    "    for char1, char2 in zip(str1, str2):\n",
    "        result += char1 + char2\n",
    "        \n",
    "    print(\"Result:\", result)\n",
    "\n",
    "alternate_strings()\n"
   ]
  },
  {
   "cell_type": "code",
   "execution_count": 6,
   "id": "22388d4c",
   "metadata": {},
   "outputs": [
    {
     "name": "stdout",
     "output_type": "stream",
     "text": [
      "Enter your name in lowercase: prakash reddy\n",
      "Capitalized Name: Prakash Reddy\n"
     ]
    }
   ],
   "source": [
    "# 12. Write a program that asks the user to enter their name in lowercase and then capitalizes the first\n",
    "# letter of each word of their name.\n",
    "\n",
    "\n",
    "list1=['geetha reddy','prakash reddy']\n",
    "output=[]\n",
    "for i in list1:\n",
    "    output.append(i.capitalize())\n",
    "output\n",
    "\n",
    "output1=[i.capitalize() for i in list1]\n",
    "output1"
   ]
  },
  {
   "cell_type": "code",
   "execution_count": 11,
   "id": "caa065cb",
   "metadata": {},
   "outputs": [
    {
     "name": "stdout",
     "output_type": "stream",
     "text": [
      "Enter a string: geetha reddy\n",
      "Enter a letter: g\n",
      "The letter 'g' appears in the string.\n",
      "Enter a string: geetha reddy\n",
      "Enter a letter: e\n",
      "The letter 'e' appears 3 times in the string.\n",
      "Enter a string: geetha reddy\n",
      "Enter a letter: a\n",
      "The index of the first occurrence of 'a' is 5.\n"
     ]
    }
   ],
   "source": [
    "# 13. The goal of this exercise is to see if you can mimic the behavior of the in operator and the count\n",
    "# and index methods using only variables, for loops, and if statements.\n",
    "# (a) Without using the in operator, write a program that asks the user for a string and a letter\n",
    "# and prints out whether or not the letter appears in the string.\n",
    "# (b) Without using the count method, write a program that asks the user for a string and a\n",
    "# letter and counts how many occurrences there are of the letter in the string.\n",
    "# (c) Without using the index method, write a program that asks the user for a string and a\n",
    "# letter and prints out the index of the first occurrence of the letter in the string. If the letter is\n",
    "# not in the string, the program should say so.\n",
    "\n",
    "# a\n",
    "\n",
    "def letter_in_string():\n",
    "    \n",
    "    user_string = input(\"Enter a string: \")\n",
    "    user_letter = input(\"Enter a letter: \")\n",
    "\n",
    "    letter_found = False\n",
    "    for char in user_string:\n",
    "        if char == user_letter:\n",
    "            letter_found = True\n",
    "            break\n",
    "\n",
    "    if letter_found:\n",
    "        print(f\"The letter '{user_letter}' appears in the string.\")\n",
    "    else:\n",
    "        print(f\"The letter '{user_letter}' does not appear in the string.\")\n",
    "\n",
    "letter_in_string()\n",
    "\n",
    "# b\n",
    "\n",
    "def count_occurrences():\n",
    "\n",
    "    user_string = input(\"Enter a string: \")\n",
    "    user_letter = input(\"Enter a letter: \")\n",
    "\n",
    "    count = 0\n",
    "    for char in user_string:\n",
    "        if char == user_letter:\n",
    "            count += 1\n",
    "\n",
    "    print(f\"The letter '{user_letter}' appears {count} times in the string.\")\n",
    "\n",
    "count_occurrences()\n",
    "\n",
    "# c\n",
    "\n",
    "\n",
    "def find_index():\n",
    "    \n",
    "    user_string = input(\"Enter a string: \")\n",
    "    user_letter = input(\"Enter a letter: \")\n",
    "    \n",
    "    index = -1\n",
    "    for i, char in enumerate(user_string):\n",
    "        if char == user_letter:\n",
    "            index = i\n",
    "            break\n",
    "\n",
    "    if index != -1:\n",
    "        print(f\"The index of the first occurrence of '{user_letter}' is {index}.\")\n",
    "    else:\n",
    "        print(f\"The letter '{user_letter}' is not in the string.\")\n",
    "\n",
    "\n",
    "find_index()\n"
   ]
  },
  {
   "cell_type": "code",
   "execution_count": 23,
   "id": "6764900f",
   "metadata": {},
   "outputs": [
    {
     "name": "stdout",
     "output_type": "stream",
     "text": [
      "Second half of the address: uct.ac.za Sat Jan 5 09:14:16 2008\n"
     ]
    }
   ],
   "source": [
    "# 14. Finding a substring within a string\n",
    "# For example, if we were presented a series of lines formatted as follows:\n",
    "# From stephen.marquard@uct.ac.za Sat Jan 5 09:14:16 2008\n",
    "# and we wanted to pull out only the second half of the address (i.e., uct.ac.za)\n",
    "\n",
    "\n",
    "line = \"From stephen.marquard@uct.ac.za Sat Jan 5 09:14:16 2008\"\n",
    "\n",
    "at_symbol_index = line.find('@')\n",
    "\n",
    "second_half = line[at_symbol_index + 1:]\n",
    "\n",
    "print(\"Second half of the address:\", second_half)"
   ]
  },
  {
   "cell_type": "code",
   "execution_count": 18,
   "id": "0d3289be",
   "metadata": {},
   "outputs": [
    {
     "name": "stdout",
     "output_type": "stream",
     "text": [
      "Sample String 1: abc\n",
      "Expected Result 1: abcing\n",
      "\n",
      "Sample String 2: string\n",
      "Expected Result 2: stringly\n"
     ]
    }
   ],
   "source": [
    "# 15. Write a Python program to add 'ing' at the end of a given string (length should be at least 3).\n",
    "# If the given string already ends with 'ing' then add 'ly' instead.\n",
    "# If the string length of the given string is less than 3, leave it unchanged.\n",
    "# Go to the editor\n",
    "# Sample String : 'abc'\n",
    "# Expected Result : 'abcing'\n",
    "# Sample String : 'string'\n",
    "# Expected Result : 'stringly'\n",
    "\n",
    "def modify_string(s):\n",
    "    if len(s) < 3:\n",
    "        result = s\n",
    "    elif s[-3:] == 'ing':\n",
    "        result = s + 'ly'\n",
    "    else:\n",
    "        result = s + 'ing'\n",
    "    \n",
    "    return result\n",
    "\n",
    "sample_string1 = 'abc'\n",
    "sample_string2 = 'string'\n",
    "\n",
    "result1 = modify_string(sample_string1)\n",
    "result2 = modify_string(sample_string2)\n",
    "\n",
    "print(\"Sample String 1:\", sample_string1)\n",
    "print(\"Expected Result 1:\", result1)\n",
    "\n",
    "print(\"\\nSample String 2:\", sample_string2)\n",
    "print(\"Expected Result 2:\", result2)\n"
   ]
  },
  {
   "cell_type": "code",
   "execution_count": 22,
   "id": "83adf657",
   "metadata": {},
   "outputs": [
    {
     "name": "stdout",
     "output_type": "stream",
     "text": [
      "Extracted Confidence as Float: 0.8475\n"
     ]
    }
   ],
   "source": [
    "# 16. Take the following Python code that stores a string:‘\n",
    "# string = 'X-DSPAM-Confidence: 0.8475'\n",
    "# Extract the portion of the string after the colon character and then use the float function to convert\n",
    "# the extracted string into a floating point number.\n",
    "\n",
    "string = 'X-DSPAM-Confidence: 0.8475'\n",
    "\n",
    "parts = string.split(':')\n",
    "\n",
    "confidence_str = parts[1].strip()\n",
    "\n",
    "confidence_float = float(confidence_str)\n",
    "\n",
    "print(\"Extracted Confidence as Float:\", confidence_float)\n"
   ]
  },
  {
   "cell_type": "code",
   "execution_count": null,
   "id": "73378b1f",
   "metadata": {},
   "outputs": [],
   "source": []
  },
  {
   "cell_type": "code",
   "execution_count": null,
   "id": "32126631",
   "metadata": {},
   "outputs": [],
   "source": []
  }
 ],
 "metadata": {
  "kernelspec": {
   "display_name": "Python 3 (ipykernel)",
   "language": "python",
   "name": "python3"
  },
  "language_info": {
   "codemirror_mode": {
    "name": "ipython",
    "version": 3
   },
   "file_extension": ".py",
   "mimetype": "text/x-python",
   "name": "python",
   "nbconvert_exporter": "python",
   "pygments_lexer": "ipython3",
   "version": "3.11.5"
  }
 },
 "nbformat": 4,
 "nbformat_minor": 5
}
