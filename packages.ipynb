{
 "cells": [
  {
   "cell_type": "code",
   "execution_count": null,
   "id": "3e3aa78b",
   "metadata": {},
   "outputs": [],
   "source": [
    "import random\n",
    "dir(random)\n",
    "help(random.randint)"
   ]
  },
  {
   "cell_type": "code",
   "execution_count": null,
   "id": "2c9f0006",
   "metadata": {},
   "outputs": [],
   "source": [
    "import math\n",
    "math.sin(90)"
   ]
  },
  {
   "cell_type": "code",
   "execution_count": null,
   "id": "1ebb996b",
   "metadata": {},
   "outputs": [],
   "source": [
    "import math\n",
    "math.sin(10)"
   ]
  },
  {
   "cell_type": "code",
   "execution_count": null,
   "id": "a1f50f96",
   "metadata": {},
   "outputs": [],
   "source": [
    "import math\n",
    "math.cos(20)"
   ]
  },
  {
   "cell_type": "code",
   "execution_count": null,
   "id": "bba520d2",
   "metadata": {},
   "outputs": [],
   "source": [
    "a=20  # 20 value saved in a variable a\n",
    "a"
   ]
  },
  {
   "cell_type": "code",
   "execution_count": null,
   "id": "30d128b5",
   "metadata": {},
   "outputs": [],
   "source": [
    "geetha=300\n",
    "geetha"
   ]
  },
  {
   "cell_type": "code",
   "execution_count": null,
   "id": "b4762e3a",
   "metadata": {},
   "outputs": [],
   "source": [
    "import keyword\n",
    "dir(keyword)\n",
    "help(keyword.kwlist)"
   ]
  },
  {
   "cell_type": "code",
   "execution_count": null,
   "id": "7a75085d",
   "metadata": {},
   "outputs": [],
   "source": [
    "shift+enter at a time to get output\n",
    "esc+y to return the code\n",
    "esc+m at a time is markdown shortcut\n",
    "ctrl+shift+n"
   ]
  },
  {
   "cell_type": "code",
   "execution_count": 2,
   "id": "c39a6975",
   "metadata": {},
   "outputs": [
    {
     "data": {
      "text/plain": [
       "400"
      ]
     },
     "execution_count": 2,
     "metadata": {},
     "output_type": "execute_result"
    }
   ],
   "source": [
    "# Upper case\n",
    "NUMBER=400\n",
    "NUMBER"
   ]
  },
  {
   "cell_type": "code",
   "execution_count": 1,
   "id": "c81916d0",
   "metadata": {},
   "outputs": [
    {
     "data": {
      "text/plain": [
       "600"
      ]
     },
     "execution_count": 1,
     "metadata": {},
     "output_type": "execute_result"
    }
   ],
   "source": [
    "# lower case\n",
    "NUMBER=600\n",
    "NUMBER"
   ]
  },
  {
   "cell_type": "code",
   "execution_count": 3,
   "id": "0e16b818",
   "metadata": {},
   "outputs": [
    {
     "data": {
      "text/plain": [
       "400"
      ]
     },
     "execution_count": 3,
     "metadata": {},
     "output_type": "execute_result"
    }
   ],
   "source": [
    "# combination of Upper case and lower case\n",
    "Number=200\n",
    "NUMBER"
   ]
  },
  {
   "cell_type": "code",
   "execution_count": 4,
   "id": "fa244a09",
   "metadata": {},
   "outputs": [
    {
     "data": {
      "text/plain": [
       "600"
      ]
     },
     "execution_count": 4,
     "metadata": {},
     "output_type": "execute_result"
    }
   ],
   "source": [
    "# combination of letters and number, number as suffix\n",
    "number123=600\n",
    "number123"
   ]
  },
  {
   "cell_type": "code",
   "execution_count": null,
   "id": "9bf63b0d",
   "metadata": {},
   "outputs": [],
   "source": [
    "# special characters\n",
    "number% =800\n",
    "number%"
   ]
  },
  {
   "cell_type": "code",
   "execution_count": null,
   "id": "ffdbfcb0",
   "metadata": {},
   "outputs": [],
   "source": [
    "# keywords\n",
    "if=500\n",
    "if"
   ]
  },
  {
   "cell_type": "code",
   "execution_count": null,
   "id": "51135447",
   "metadata": {},
   "outputs": [],
   "source": [
    "number_one=700\n",
    "number_one               # spaces will not allowed"
   ]
  },
  {
   "cell_type": "code",
   "execution_count": null,
   "id": "7a1ffc0b",
   "metadata": {},
   "outputs": [],
   "source": []
  },
  {
   "cell_type": "code",
   "execution_count": null,
   "id": "a9badc6a",
   "metadata": {},
   "outputs": [],
   "source": [
    "# Data types\n",
    "integer    int\n",
    "float      float\n",
    "strings    str\n",
    "boolean    bool\n",
    "complex conjugate    complex"
   ]
  },
  {
   "cell_type": "markdown",
   "id": "7adba872",
   "metadata": {},
   "source": [
    "**integer**"
   ]
  },
  {
   "cell_type": "code",
   "execution_count": null,
   "id": "02d3adac",
   "metadata": {},
   "outputs": [],
   "source": [
    "number=100\n",
    "number"
   ]
  },
  {
   "cell_type": "code",
   "execution_count": 5,
   "id": "6afc6e71",
   "metadata": {},
   "outputs": [
    {
     "ename": "NameError",
     "evalue": "name 'number' is not defined",
     "output_type": "error",
     "traceback": [
      "\u001b[1;31m---------------------------------------------------------------------------\u001b[0m",
      "\u001b[1;31mNameError\u001b[0m                                 Traceback (most recent call last)",
      "Cell \u001b[1;32mIn[5], line 2\u001b[0m\n\u001b[0;32m      1\u001b[0m \u001b[38;5;66;03m# type of the variable:type\u001b[39;00m\n\u001b[1;32m----> 2\u001b[0m \u001b[38;5;28mtype\u001b[39m(number)\n",
      "\u001b[1;31mNameError\u001b[0m: name 'number' is not defined"
     ]
    }
   ],
   "source": [
    "# type of the variable:type\n",
    "type(number)"
   ]
  },
  {
   "cell_type": "markdown",
   "id": "4da03e0c",
   "metadata": {},
   "source": [
    "# in maths we have different number system\n",
    "-decimal \n",
    "-binary\n",
    "-octal\n",
    "-hexa\n",
    "\n",
    "\n",
    "**binary**\n",
    "- bi means 2 \n",
    "- so the base is also 2\n",
    "- 0 1 2 3 4 5 6 7 8 9 \n",
    "- here will use only two digits: 0 and 1\n",
    "- representation is : 0b<combinations of 0 and 1>\n",
    "- 0b0110,0b011101\n",
    "- 0b102"
   ]
  },
  {
   "cell_type": "code",
   "execution_count": null,
   "id": "2255eb62",
   "metadata": {},
   "outputs": [],
   "source": [
    "0b0110"
   ]
  },
  {
   "cell_type": "code",
   "execution_count": null,
   "id": "fd295c6e",
   "metadata": {},
   "outputs": [],
   "source": [
    "0b011101"
   ]
  },
  {
   "cell_type": "code",
   "execution_count": null,
   "id": "ac1b2500",
   "metadata": {},
   "outputs": [],
   "source": [
    "0b102"
   ]
  },
  {
   "cell_type": "markdown",
   "id": "26aefd2d",
   "metadata": {},
   "source": [
    "**octal**"
   ]
  },
  {
   "cell_type": "code",
   "execution_count": null,
   "id": "5387522a",
   "metadata": {},
   "outputs": [],
   "source": [
    "- octa means 8 \n",
    "- so the base is also 8\n",
    "- 0 1 2 3 4 5 6 7  \n",
    "- here will use only 8 digits:0 to 7 means 8 digits\n",
    "- representation is : 0o<combinations of 0 and 7>\n",
    "- 0o123,0o7564"
   ]
  },
  {
   "cell_type": "code",
   "execution_count": null,
   "id": "a6c66295",
   "metadata": {},
   "outputs": [],
   "source": [
    "0o123"
   ]
  },
  {
   "cell_type": "code",
   "execution_count": null,
   "id": "4593f456",
   "metadata": {},
   "outputs": [],
   "source": [
    "0o7564"
   ]
  },
  {
   "cell_type": "markdown",
   "id": "b20864e5",
   "metadata": {},
   "source": [
    "**hexa**"
   ]
  },
  {
   "cell_type": "code",
   "execution_count": null,
   "id": "9bf70b44",
   "metadata": {},
   "outputs": [],
   "source": [
    "- hexa means 16\n",
    "- so the base is also 16\n",
    "- 0 1 2 3 4 5 6 7 8 9 A B C D E F\n",
    "- here will use only 16 digits:(0 to 1 and A to F)\n",
    "- representation is : 0x<combinations of 0 to 9 and A and F>\n",
    "- 0xabc,0x9df"
   ]
  },
  {
   "cell_type": "code",
   "execution_count": null,
   "id": "a9eea990",
   "metadata": {},
   "outputs": [],
   "source": [
    "0xabc"
   ]
  },
  {
   "cell_type": "code",
   "execution_count": null,
   "id": "c1fe59b9",
   "metadata": {},
   "outputs": [],
   "source": [
    "0x9df"
   ]
  },
  {
   "cell_type": "code",
   "execution_count": null,
   "id": "c1c29d4c",
   "metadata": {},
   "outputs": [],
   "source": [
    "# float\n",
    "number1=123.5\n",
    "number "
   ]
  },
  {
   "cell_type": "code",
   "execution_count": null,
   "id": "2b23cb86",
   "metadata": {},
   "outputs": [],
   "source": [
    "string1=\"good morning\"\n",
    "string1"
   ]
  },
  {
   "cell_type": "code",
   "execution_count": null,
   "id": "ff3de497",
   "metadata": {},
   "outputs": [],
   "source": [
    "# triples quotes ====== doc string\n",
    "# you are writing some information\n",
    "string3=\"\"\"how are you\"\"\""
   ]
  },
  {
   "cell_type": "code",
   "execution_count": null,
   "id": "796620ff",
   "metadata": {},
   "outputs": [],
   "source": [
    "# whwenever if you ask any question to the computer\n",
    "#what its replay? true or false\n",
    "# true=1\n",
    "# false=0"
   ]
  },
  {
   "cell_type": "code",
   "execution_count": 6,
   "id": "0f794ebf",
   "metadata": {},
   "outputs": [
    {
     "data": {
      "text/plain": [
       "False"
      ]
     },
     "execution_count": 6,
     "metadata": {},
     "output_type": "execute_result"
    }
   ],
   "source": [
    "value=False      # we are assigning False in a variable value\n",
    "value"
   ]
  },
  {
   "cell_type": "code",
   "execution_count": 7,
   "id": "0ed89903",
   "metadata": {},
   "outputs": [
    {
     "data": {
      "text/plain": [
       "type"
      ]
     },
     "execution_count": 7,
     "metadata": {},
     "output_type": "execute_result"
    }
   ],
   "source": [
    "type(value)\n",
    "type"
   ]
  },
  {
   "cell_type": "code",
   "execution_count": 8,
   "id": "59ff2a94",
   "metadata": {},
   "outputs": [
    {
     "data": {
      "text/plain": [
       "bool"
      ]
     },
     "execution_count": 8,
     "metadata": {},
     "output_type": "execute_result"
    }
   ],
   "source": [
    "valu1=True\n",
    "type(valu1)"
   ]
  },
  {
   "cell_type": "code",
   "execution_count": 9,
   "id": "c98b0add",
   "metadata": {},
   "outputs": [
    {
     "ename": "NameError",
     "evalue": "name 'true' is not defined",
     "output_type": "error",
     "traceback": [
      "\u001b[1;31m---------------------------------------------------------------------------\u001b[0m",
      "\u001b[1;31mNameError\u001b[0m                                 Traceback (most recent call last)",
      "Cell \u001b[1;32mIn[9], line 1\u001b[0m\n\u001b[1;32m----> 1\u001b[0m name2\u001b[38;5;241m=\u001b[39mtrue\n",
      "\u001b[1;31mNameError\u001b[0m: name 'true' is not defined"
     ]
    }
   ],
   "source": [
    "name2=true\n",
    "# have you defined True before?\n",
    "# i did not defined true,thats whyiam not able to use that"
   ]
  },
  {
   "cell_type": "code",
   "execution_count": 10,
   "id": "e6c182c1",
   "metadata": {},
   "outputs": [
    {
     "data": {
      "text/plain": [
       "500"
      ]
     },
     "execution_count": 10,
     "metadata": {},
     "output_type": "execute_result"
    }
   ],
   "source": [
    "a=100    #100 saved in a\n",
    "b=200    #200 saved in b\n",
    "a=b      #b is saved in a=200\n",
    "b=a      #a is saved in b=200\n",
    "a=500    #500 is saved in a=500\n",
    "b=a      #a is saved in b=500\n",
    "b=900    #900 is saved in b=900\n",
    "a        #latest value=500"
   ]
  },
  {
   "cell_type": "code",
   "execution_count": 11,
   "id": "1953c98b",
   "metadata": {},
   "outputs": [
    {
     "ename": "NameError",
     "evalue": "name 'number' is not defined",
     "output_type": "error",
     "traceback": [
      "\u001b[1;31m---------------------------------------------------------------------------\u001b[0m",
      "\u001b[1;31mNameError\u001b[0m                                 Traceback (most recent call last)",
      "Cell \u001b[1;32mIn[11], line 1\u001b[0m\n\u001b[1;32m----> 1\u001b[0m number\u001b[38;5;241m.\u001b[39mconjugate()\n",
      "\u001b[1;31mNameError\u001b[0m: name 'number' is not defined"
     ]
    }
   ],
   "source": [
    "number.conjugate()"
   ]
  },
  {
   "cell_type": "code",
   "execution_count": 12,
   "id": "0ca84659",
   "metadata": {},
   "outputs": [
    {
     "ename": "SyntaxError",
     "evalue": "invalid syntax (3664622725.py, line 2)",
     "output_type": "error",
     "traceback": [
      "\u001b[1;36m  Cell \u001b[1;32mIn[12], line 2\u001b[1;36m\u001b[0m\n\u001b[1;33m    - where a= real number\u001b[0m\n\u001b[1;37m            ^\u001b[0m\n\u001b[1;31mSyntaxError\u001b[0m\u001b[1;31m:\u001b[0m invalid syntax\n"
     ]
    }
   ],
   "source": [
    "-   a+jb    or  a+ib\n",
    "- where a= real number\n",
    "- b= imgainary number\n",
    "- i= sqrt(-1)"
   ]
  },
  {
   "cell_type": "code",
   "execution_count": 13,
   "id": "d6ff8cc8",
   "metadata": {},
   "outputs": [
    {
     "data": {
      "text/plain": [
       "(3+5j)"
      ]
     },
     "execution_count": 13,
     "metadata": {},
     "output_type": "execute_result"
    }
   ],
   "source": [
    "number= 3+5j\n",
    "number"
   ]
  },
  {
   "cell_type": "code",
   "execution_count": 14,
   "id": "8c0051f5",
   "metadata": {},
   "outputs": [
    {
     "data": {
      "text/plain": [
       "complex"
      ]
     },
     "execution_count": 14,
     "metadata": {},
     "output_type": "execute_result"
    }
   ],
   "source": [
    "type(number)"
   ]
  },
  {
   "cell_type": "code",
   "execution_count": 15,
   "id": "d9325742",
   "metadata": {},
   "outputs": [
    {
     "data": {
      "text/plain": [
       "(3-5j)"
      ]
     },
     "execution_count": 15,
     "metadata": {},
     "output_type": "execute_result"
    }
   ],
   "source": [
    "number1= 3-5j\n",
    "number1"
   ]
  },
  {
   "cell_type": "code",
   "execution_count": 16,
   "id": "c14bd0c5",
   "metadata": {},
   "outputs": [
    {
     "data": {
      "text/plain": [
       "(3+5j)"
      ]
     },
     "execution_count": 16,
     "metadata": {},
     "output_type": "execute_result"
    }
   ],
   "source": [
    "# if i want to retrive only real value seperately\n",
    "3+5j\n",
    "#3 is the real value\n",
    "#5 is the imaginary value"
   ]
  },
  {
   "cell_type": "code",
   "execution_count": 17,
   "id": "bb241d77",
   "metadata": {},
   "outputs": [
    {
     "ename": "SyntaxError",
     "evalue": "invalid syntax (3557043712.py, line 1)",
     "output_type": "error",
     "traceback": [
      "\u001b[1;36m  Cell \u001b[1;32mIn[17], line 1\u001b[1;36m\u001b[0m\n\u001b[1;33m    number.real  <packagename>.<method>\u001b[0m\n\u001b[1;37m                              ^\u001b[0m\n\u001b[1;31mSyntaxError\u001b[0m\u001b[1;31m:\u001b[0m invalid syntax\n"
     ]
    }
   ],
   "source": [
    "number.real  <packagename>.<method>"
   ]
  },
  {
   "cell_type": "code",
   "execution_count": 18,
   "id": "4a22fa36",
   "metadata": {},
   "outputs": [
    {
     "data": {
      "text/plain": [
       "(3+5j)"
      ]
     },
     "execution_count": 18,
     "metadata": {},
     "output_type": "execute_result"
    }
   ],
   "source": [
    "number= 3+5j\n",
    "number"
   ]
  },
  {
   "cell_type": "code",
   "execution_count": 19,
   "id": "42e1aec2",
   "metadata": {},
   "outputs": [
    {
     "data": {
      "text/plain": [
       "5.0"
      ]
     },
     "execution_count": 19,
     "metadata": {},
     "output_type": "execute_result"
    }
   ],
   "source": [
    "number.imag"
   ]
  },
  {
   "cell_type": "code",
   "execution_count": 20,
   "id": "2908a00b",
   "metadata": {},
   "outputs": [
    {
     "data": {
      "text/plain": [
       "(3-5j)"
      ]
     },
     "execution_count": 20,
     "metadata": {},
     "output_type": "execute_result"
    }
   ],
   "source": [
    "number.conjugate()      # +  become -\n",
    "                        # - become +"
   ]
  },
  {
   "cell_type": "code",
   "execution_count": 21,
   "id": "3402afbe",
   "metadata": {},
   "outputs": [],
   "source": [
    "number1=3-5j\n",
    "# number1.real =3\n",
    "# number1.imag =-5\n",
    "#number1.conjugate =3-5j"
   ]
  },
  {
   "cell_type": "code",
   "execution_count": 22,
   "id": "17b79fac",
   "metadata": {},
   "outputs": [
    {
     "data": {
      "text/plain": [
       "(3-5j)"
      ]
     },
     "execution_count": 22,
     "metadata": {},
     "output_type": "execute_result"
    }
   ],
   "source": [
    "number=3-5j\n",
    "number"
   ]
  },
  {
   "cell_type": "code",
   "execution_count": 23,
   "id": "6f120ddc",
   "metadata": {},
   "outputs": [
    {
     "data": {
      "text/plain": [
       "(4+10j)"
      ]
     },
     "execution_count": 23,
     "metadata": {},
     "output_type": "execute_result"
    }
   ],
   "source": [
    "complex(4,10)\n",
    "# real=4\n",
    "# image=10\n",
    "# 4+10j"
   ]
  },
  {
   "cell_type": "code",
   "execution_count": 24,
   "id": "de16d231",
   "metadata": {},
   "outputs": [
    {
     "data": {
      "text/plain": [
       "(4-10j)"
      ]
     },
     "execution_count": 24,
     "metadata": {},
     "output_type": "execute_result"
    }
   ],
   "source": [
    "complex(4,-10)\n",
    "# inside braket what you are seeing\n",
    "# parameter/arguments"
   ]
  },
  {
   "cell_type": "code",
   "execution_count": 25,
   "id": "b28e70a2",
   "metadata": {},
   "outputs": [
    {
     "data": {
      "text/plain": [
       "0j"
      ]
     },
     "execution_count": 25,
     "metadata": {},
     "output_type": "execute_result"
    }
   ],
   "source": [
    "complex()   # if i did not provide anything inside"
   ]
  },
  {
   "cell_type": "code",
   "execution_count": 26,
   "id": "fd8e5799",
   "metadata": {},
   "outputs": [
    {
     "ename": "SyntaxError",
     "evalue": "expected 'else' after 'if' expression (1037167580.py, line 1)",
     "output_type": "error",
     "traceback": [
      "\u001b[1;36m  Cell \u001b[1;32mIn[26], line 1\u001b[1;36m\u001b[0m\n\u001b[1;33m    - whenever if you see any brakets(), that is called function\u001b[0m\n\u001b[1;37m    ^\u001b[0m\n\u001b[1;31mSyntaxError\u001b[0m\u001b[1;31m:\u001b[0m expected 'else' after 'if' expression\n"
     ]
    }
   ],
   "source": [
    "- whenever if you see any brakets(), that is called function\n",
    "- another name of function is called method\n",
    "- inside brakets what you are seeing is called parameter\n",
    "- another name for parameter is arguments"
   ]
  },
  {
   "cell_type": "code",
   "execution_count": 27,
   "id": "6f6bae98",
   "metadata": {},
   "outputs": [
    {
     "data": {
      "text/plain": [
       "<bound method Random.randint of <random.Random object at 0x0000026BEEEC9020>>"
      ]
     },
     "execution_count": 27,
     "metadata": {},
     "output_type": "execute_result"
    }
   ],
   "source": [
    "import random\n",
    "random.randint"
   ]
  },
  {
   "cell_type": "code",
   "execution_count": 28,
   "id": "1a2c56df",
   "metadata": {},
   "outputs": [
    {
     "data": {
      "text/plain": [
       "75"
      ]
     },
     "execution_count": 28,
     "metadata": {},
     "output_type": "execute_result"
    }
   ],
   "source": [
    "import random\n",
    "random.randint(1,100)"
   ]
  },
  {
   "cell_type": "code",
   "execution_count": null,
   "id": "1b74053b",
   "metadata": {},
   "outputs": [],
   "source": [
    "complex()\n",
    "# if you not provide amything inside brackets\n",
    "# i will use real value as 0\n",
    "# imaginary value also 0\n",
    "0+0j======> 0j only"
   ]
  },
  {
   "cell_type": "code",
   "execution_count": null,
   "id": "25184045",
   "metadata": {},
   "outputs": [],
   "source": [
    "there are four options\n",
    "1.0+0j \n",
    "2.0j\n",
    "3.0-0j\n",
    "4.0\n",
    "5.error"
   ]
  },
  {
   "cell_type": "code",
   "execution_count": 31,
   "id": "f9f7c2aa",
   "metadata": {},
   "outputs": [
    {
     "ename": "TypeError",
     "evalue": "Random.randint() missing 2 required positional arguments: 'a' and 'b'",
     "output_type": "error",
     "traceback": [
      "\u001b[1;31m---------------------------------------------------------------------------\u001b[0m",
      "\u001b[1;31mTypeError\u001b[0m                                 Traceback (most recent call last)",
      "Cell \u001b[1;32mIn[31], line 1\u001b[0m\n\u001b[1;32m----> 1\u001b[0m random\u001b[38;5;241m.\u001b[39mrandint()\n",
      "\u001b[1;31mTypeError\u001b[0m: Random.randint() missing 2 required positional arguments: 'a' and 'b'"
     ]
    }
   ],
   "source": [
    "random.randint()"
   ]
  },
  {
   "cell_type": "markdown",
   "id": "402e23bf",
   "metadata": {},
   "source": [
    "1. random.randint()      # error is it necessary to provide arguments\n",
    "2. math.sin()            # error is it necessary to provide arguments\n",
    "3. complex()             # no error "
   ]
  },
  {
   "cell_type": "code",
   "execution_count": 34,
   "id": "740ad22b",
   "metadata": {},
   "outputs": [],
   "source": [
    "#packages\n",
    "# method\n",
    "# parameters"
   ]
  },
  {
   "cell_type": "markdown",
   "id": "5116309e",
   "metadata": {},
   "source": [
    "**python session-5 basic**"
   ]
  },
  {
   "cell_type": "code",
   "execution_count": 35,
   "id": "f94d9d8c",
   "metadata": {},
   "outputs": [
    {
     "data": {
      "text/plain": [
       "200"
      ]
     },
     "execution_count": 35,
     "metadata": {},
     "output_type": "execute_result"
    }
   ],
   "source": [
    "number1=100\n",
    "number2=200\n",
    "number1      # 100 is not coming\n",
    "number2      #200 is latest so it is coming"
   ]
  },
  {
   "cell_type": "code",
   "execution_count": 36,
   "id": "a20f579e",
   "metadata": {},
   "outputs": [],
   "source": [
    "# in order to if you want to see both answer\n",
    "#print"
   ]
  },
  {
   "cell_type": "code",
   "execution_count": 37,
   "id": "2bc764e0",
   "metadata": {},
   "outputs": [
    {
     "name": "stdout",
     "output_type": "stream",
     "text": [
      "100\n",
      "200\n"
     ]
    }
   ],
   "source": [
    "number1=100    # 100 is saved in a variable number1\n",
    "number2=200    # 200 is saved in a variable number2\n",
    "print(number1) # print the value of number1=100\n",
    "print(number2) # print the value of number2=200"
   ]
  },
  {
   "cell_type": "code",
   "execution_count": 39,
   "id": "aaceeb5a",
   "metadata": {},
   "outputs": [
    {
     "name": "stdout",
     "output_type": "stream",
     "text": [
      "hello\n",
      "how\n",
      "are\n",
      "you\n",
      "hello\n",
      "100\n"
     ]
    }
   ],
   "source": [
    "print('hello')   # step1: hello\n",
    "print('how')     # step2: how\n",
    "print('are')     # step3: are\n",
    "print('you')     # step4: you\n",
    "print('hello')      # step5:hello is variable, is hello intoalised above\n",
    "print(number1)"
   ]
  },
  {
   "cell_type": "code",
   "execution_count": null,
   "id": "b5269458",
   "metadata": {},
   "outputs": [],
   "source": [
    "# you written 500 lines of code\n",
    "# you got error at 200 line\n",
    "# after 200 line, 201 to 500 will not execute"
   ]
  },
  {
   "cell_type": "code",
   "execution_count": 40,
   "id": "71ecbf3c",
   "metadata": {},
   "outputs": [
    {
     "name": "stdout",
     "output_type": "stream",
     "text": [
      "100 200\n"
     ]
    }
   ],
   "source": [
    "print(number1,number2)"
   ]
  },
  {
   "cell_type": "code",
   "execution_count": null,
   "id": "725adafc",
   "metadata": {},
   "outputs": [],
   "source": [
    "100\n",
    "200\n",
    "print(number1)\n",
    "print(number2)"
   ]
  },
  {
   "cell_type": "code",
   "execution_count": null,
   "id": "095d0929",
   "metadata": {},
   "outputs": [],
   "source": [
    "print(number1)\n",
    "print('------')\n",
    "print(number2)\n",
    "print('-----')"
   ]
  },
  {
   "cell_type": "code",
   "execution_count": null,
   "id": "74d72e11",
   "metadata": {},
   "outputs": [],
   "source": [
    "print('hai','how','ARE','you','CHINU')\n",
    "print('hai how are you CHINU')"
   ]
  },
  {
   "cell_type": "code",
   "execution_count": null,
   "id": "7eef1bd2",
   "metadata": {},
   "outputs": [],
   "source": [
    "print('HAI')\n",
    "print('HOW')"
   ]
  },
  {
   "cell_type": "markdown",
   "id": "50b1de20",
   "metadata": {},
   "source": [
    "**joining of print statement**"
   ]
  },
  {
   "cell_type": "code",
   "execution_count": 41,
   "id": "c2eecf70",
   "metadata": {},
   "outputs": [
    {
     "name": "stdout",
     "output_type": "stream",
     "text": [
      "hai\n"
     ]
    }
   ],
   "source": [
    "print('hai')"
   ]
  },
  {
   "cell_type": "markdown",
   "id": "8f74a29e",
   "metadata": {},
   "source": [
    "**end**"
   ]
  },
  {
   "cell_type": "code",
   "execution_count": 44,
   "id": "f02bbc3a",
   "metadata": {},
   "outputs": [
    {
     "name": "stdout",
     "output_type": "stream",
     "text": [
      "hai&how\n"
     ]
    }
   ],
   "source": [
    "print('hai',end='&')\n",
    "print('how')"
   ]
  },
  {
   "cell_type": "code",
   "execution_count": 45,
   "id": "f2ad48ab",
   "metadata": {},
   "outputs": [
    {
     "name": "stdout",
     "output_type": "stream",
     "text": [
      "1----2******3\n"
     ]
    }
   ],
   "source": [
    "print('1',end='----')\n",
    "print('2',end='******')\n",
    "print('3')"
   ]
  },
  {
   "cell_type": "code",
   "execution_count": 48,
   "id": "9f9b14a4",
   "metadata": {},
   "outputs": [
    {
     "name": "stdout",
     "output_type": "stream",
     "text": [
      "the addition of number1 and number2 is 300\n"
     ]
    }
   ],
   "source": [
    "number1=100\n",
    "number2=200\n",
    "add=number1+number2\n",
    "print(\"the addition of number1 and number2 is\",add)"
   ]
  },
  {
   "cell_type": "code",
   "execution_count": 47,
   "id": "6adb3fc9",
   "metadata": {},
   "outputs": [
    {
     "name": "stdout",
     "output_type": "stream",
     "text": [
      "the addition of number1 and number2 is 300:\n"
     ]
    }
   ],
   "source": [
    "number1=100\n",
    "number2=200\n",
    "add=number1+number2\n",
    "print(\"the addition of number1 and number2 is {}:\".format(add))"
   ]
  },
  {
   "cell_type": "code",
   "execution_count": null,
   "id": "f72bcb1d",
   "metadata": {},
   "outputs": [],
   "source": [
    "# the addition of 20 and 40 is 60"
   ]
  },
  {
   "cell_type": "code",
   "execution_count": 55,
   "id": "0e52c2d8",
   "metadata": {},
   "outputs": [
    {
     "name": "stdout",
     "output_type": "stream",
     "text": [
      "the addition of 20 and 40 is 60\n"
     ]
    }
   ],
   "source": [
    "number1=20\n",
    "number2=40\n",
    "add=number1+number2\n",
    "print(\"the addition of\", number1,\"and\",number2,\"is\",add)"
   ]
  },
  {
   "cell_type": "code",
   "execution_count": 50,
   "id": "74aa8962",
   "metadata": {},
   "outputs": [
    {
     "name": "stdout",
     "output_type": "stream",
     "text": [
      "the addition of 20 and 40 is 60\n"
     ]
    }
   ],
   "source": [
    "number1=20\n",
    "number2=40\n",
    "add=number1+number2\n",
    "print(\"the addition of\",number1,\"and\",number2,\"is\",add)"
   ]
  },
  {
   "cell_type": "code",
   "execution_count": null,
   "id": "cd921fcd",
   "metadata": {},
   "outputs": [],
   "source": [
    "# step-1: variable name='python'\n",
    "# step-2:  city='hyd'\n",
    "# step-3:  age=10"
   ]
  },
  {
   "cell_type": "code",
   "execution_count": 56,
   "id": "a968a213",
   "metadata": {},
   "outputs": [
    {
     "name": "stdout",
     "output_type": "stream",
     "text": [
      "variable-name and python\n",
      "city and hyd\n",
      "age and 10\n"
     ]
    }
   ],
   "source": [
    "print('variable-name',\"and\",'python')\n",
    "print('city',\"and\",'hyd')\n",
    "print('age',\"and\",10)"
   ]
  },
  {
   "cell_type": "code",
   "execution_count": 57,
   "id": "2ef443ef",
   "metadata": {},
   "outputs": [
    {
     "name": "stdout",
     "output_type": "stream",
     "text": [
      "my name is python iam from hyd iam 10 years old\n"
     ]
    }
   ],
   "source": [
    "name='python'\n",
    "city='hyd'\n",
    "age=10\n",
    "print(\"my name is\",name,\"iam from\",city,\"iam\",age,\"years old\")"
   ]
  },
  {
   "cell_type": "code",
   "execution_count": 58,
   "id": "9aeaf3e7",
   "metadata": {},
   "outputs": [
    {
     "name": "stdout",
     "output_type": "stream",
     "text": [
      "the addition of 20 and 40 is 60\n"
     ]
    }
   ],
   "source": [
    "number1=20\n",
    "number2=40\n",
    "add=number1+number2\n",
    "print(\"the addition of\",number1,\"and\",number2,\"is\",add)"
   ]
  },
  {
   "cell_type": "code",
   "execution_count": null,
   "id": "beb4fcad",
   "metadata": {},
   "outputs": [],
   "source": [
    "# \"the addition of 200 and 400 is 600\"\n",
    "# the addition of {} and {} is {}"
   ]
  },
  {
   "cell_type": "code",
   "execution_count": 61,
   "id": "acbe0648",
   "metadata": {},
   "outputs": [
    {
     "name": "stdout",
     "output_type": "stream",
     "text": [
      "the addition of 200 and 400 is 600\n"
     ]
    }
   ],
   "source": [
    "num1=200\n",
    "num2=400\n",
    "add=num1+num2\n",
    "print(\"the addition of {} and {} is {}\".format(num1,num2,add))"
   ]
  },
  {
   "cell_type": "code",
   "execution_count": null,
   "id": "2a6e8685",
   "metadata": {},
   "outputs": [],
   "source": [
    "name='python'\n",
    "city='hyd'\n",
    "age=10\n",
    "print(\"my name is {} iam from {} and my age {} yeras old\".format(name,city,age))"
   ]
  },
  {
   "cell_type": "code",
   "execution_count": null,
   "id": "b01612fd",
   "metadata": {},
   "outputs": [],
   "source": [
    "# step1:     value1=200\n",
    "# step2:     value2=300\n",
    "# step3:     add=value1+value2\n",
    "# step4:     sub=value1+value2\n",
    "# step5:     mul=value1+value2\n",
    "# step6:     div=value1+value2\n",
    "# step7:     print(\"the addition of {} and {} is {}\".format(value1,value2,add))"
   ]
  },
  {
   "cell_type": "code",
   "execution_count": 62,
   "id": "8c27b219",
   "metadata": {},
   "outputs": [
    {
     "name": "stdout",
     "output_type": "stream",
     "text": [
      "the addition of 200 and 300 is 500\n",
      "the sub of 200 and 300 is -100\n",
      "the mul of 200 and 300 is 60000\n",
      "the div of 200 and 300 is 1\n"
     ]
    }
   ],
   "source": [
    "value1=200\n",
    "value2=300\n",
    "add=value1+value2\n",
    "sub=value1-value2\n",
    "mul=value1*value2\n",
    "div=round(value1/value2)\n",
    "print(\"the addition of {} and {} is {}\".format(value1,value2,add))\n",
    "print(\"the sub of {} and {} is {}\".format(value1,value2,sub))\n",
    "print(\"the mul of {} and {} is {}\".format(value1,value2,mul))\n",
    "print(\"the div of {} and {} is {}\".format(value1,value2,div))"
   ]
  },
  {
   "cell_type": "code",
   "execution_count": null,
   "id": "ded36753",
   "metadata": {},
   "outputs": [],
   "source": [
    "the division of 200 and 300 is"
   ]
  },
  {
   "cell_type": "code",
   "execution_count": null,
   "id": "fc5626f7",
   "metadata": {},
   "outputs": [],
   "source": [
    "20%30"
   ]
  },
  {
   "cell_type": "code",
   "execution_count": 63,
   "id": "2b661ec5",
   "metadata": {},
   "outputs": [
    {
     "name": "stdout",
     "output_type": "stream",
     "text": [
      "2.5\n",
      "2\n",
      "1\n"
     ]
    }
   ],
   "source": [
    "print(5/2)    # division\n",
    "print(5//2)   # floor division=qutioent\n",
    "print(5%2)    # modulus=reminder"
   ]
  },
  {
   "cell_type": "markdown",
   "id": "574ebd59",
   "metadata": {},
   "source": [
    "**input**"
   ]
  },
  {
   "cell_type": "code",
   "execution_count": null,
   "id": "92446a6e",
   "metadata": {},
   "outputs": [],
   "source": [
    "input()"
   ]
  },
  {
   "cell_type": "code",
   "execution_count": null,
   "id": "a5abe78c",
   "metadata": {},
   "outputs": [],
   "source": [
    "input(\"enter a number\")"
   ]
  },
  {
   "cell_type": "code",
   "execution_count": null,
   "id": "8e6116a8",
   "metadata": {},
   "outputs": [],
   "source": [
    "input(\"prakash\")"
   ]
  },
  {
   "cell_type": "code",
   "execution_count": null,
   "id": "3e95fb9d",
   "metadata": {},
   "outputs": [],
   "source": [
    "input(\"what is a for:\")\n",
    "input(\"what is b for:\")"
   ]
  },
  {
   "cell_type": "code",
   "execution_count": null,
   "id": "2ddcb108",
   "metadata": {},
   "outputs": [],
   "source": [
    "num1=50\n",
    "num2=80\n",
    "num1\n",
    "num2"
   ]
  },
  {
   "cell_type": "code",
   "execution_count": null,
   "id": "3cd3c253",
   "metadata": {},
   "outputs": [],
   "source": [
    "input(\"what is a for:\")\n",
    "input(\"what is b for:\")\n",
    "print(name1)\n",
    "print(name2)"
   ]
  },
  {
   "cell_type": "code",
   "execution_count": null,
   "id": "7111d949",
   "metadata": {},
   "outputs": [],
   "source": [
    "num=input('enter the number')"
   ]
  },
  {
   "cell_type": "code",
   "execution_count": null,
   "id": "1939d306",
   "metadata": {},
   "outputs": [],
   "source": [
    "num=input('enter the number')"
   ]
  },
  {
   "cell_type": "code",
   "execution_count": null,
   "id": "2c560588",
   "metadata": {},
   "outputs": [],
   "source": [
    "val1 = input(\"enter val1:\")\n",
    "val2 = input(\"enter val2:\")\n",
    "add = val1+val2\n",
    "print(\"the addition of {} and {} is {}\".format(val1,val2,add))"
   ]
  },
  {
   "cell_type": "code",
   "execution_count": 65,
   "id": "08d8729b",
   "metadata": {},
   "outputs": [
    {
     "name": "stdout",
     "output_type": "stream",
     "text": [
      "enter val1:20\n",
      "enter val2:30\n",
      "the addition of 20 and 30 is 50\n"
     ]
    }
   ],
   "source": [
    "val1 =int(input(\"enter val1:\"))\n",
    "val2 =int(input(\"enter val2:\"))\n",
    "add = int(val1)+int(val2)\n",
    "print(\"the addition of {} and {} is {}\".format(val1,val2,add))"
   ]
  },
  {
   "cell_type": "code",
   "execution_count": null,
   "id": "db86eab4",
   "metadata": {},
   "outputs": [],
   "source": [
    "num1=int(input(\"enter num1:\"))\n",
    "num2=int(input(\"enter num2:\"))\n",
    "add=int(num1)+int(num2)\n",
    "print(\"the addition of {} and is {}\".format(val1,val2,add))"
   ]
  },
  {
   "cell_type": "code",
   "execution_count": 68,
   "id": "abab603b",
   "metadata": {},
   "outputs": [
    {
     "ename": "ValueError",
     "evalue": "invalid literal for int() with base 10: '5.5'",
     "output_type": "error",
     "traceback": [
      "\u001b[1;31m---------------------------------------------------------------------------\u001b[0m",
      "\u001b[1;31mValueError\u001b[0m                                Traceback (most recent call last)",
      "Cell \u001b[1;32mIn[68], line 2\u001b[0m\n\u001b[0;32m      1\u001b[0m \u001b[38;5;28mint\u001b[39m(\u001b[38;5;124m'\u001b[39m\u001b[38;5;124m9\u001b[39m\u001b[38;5;124m'\u001b[39m)    \u001b[38;5;66;03m#------- works\u001b[39;00m\n\u001b[1;32m----> 2\u001b[0m \u001b[38;5;28mint\u001b[39m(\u001b[38;5;124m'\u001b[39m\u001b[38;5;124m5.5\u001b[39m\u001b[38;5;124m'\u001b[39m)  \u001b[38;5;66;03m#------fall\u001b[39;00m\n\u001b[0;32m      3\u001b[0m \u001b[38;5;28mfloat\u001b[39m(\u001b[38;5;124m'\u001b[39m\u001b[38;5;124m2\u001b[39m\u001b[38;5;124m'\u001b[39m)\n",
      "\u001b[1;31mValueError\u001b[0m: invalid literal for int() with base 10: '5.5'"
     ]
    }
   ],
   "source": [
    "int('9')    #------- works\n",
    "int('5.5')  #------fall\n",
    "float('2')  #----- fall"
   ]
  },
  {
   "cell_type": "markdown",
   "id": "2cb9e11a",
   "metadata": {},
   "source": [
    "$eval$"
   ]
  },
  {
   "cell_type": "code",
   "execution_count": null,
   "id": "4b2b44bf",
   "metadata": {},
   "outputs": [],
   "source": [
    "num1=eval(input(\"enter a number1:\"))\n",
    "num2=eval(input('enter a number2:'))\n",
    "print(num1+num2)"
   ]
  },
  {
   "cell_type": "code",
   "execution_count": 72,
   "id": "15af49be",
   "metadata": {},
   "outputs": [
    {
     "name": "stdout",
     "output_type": "stream",
     "text": [
      "enter a v1:20\n",
      "enter a v2:30\n",
      "enter a v3:40\n",
      "ente a v4:15\n"
     ]
    }
   ],
   "source": [
    "v1=input('enter a v1:')\n",
    "v2=int(input('enter a v2:'))\n",
    "v3=float(input('enter a v3:'))\n",
    "v4=eval(input('ente a v4:'))"
   ]
  },
  {
   "cell_type": "code",
   "execution_count": null,
   "id": "be73ed22",
   "metadata": {},
   "outputs": [],
   "source": [
    "value1=200\n",
    "value2=300\n",
    "add=value1+value2\n",
    "sub=value1-value2\n",
    "mul=value1*value2\n",
    "div=round(value1/value2)\n",
    "print(\"the addition of {} and {} is {}\".format(value1,value2,add))\n",
    "print(\"the sub of {} and {} is {}\".format(value1,value2,sub))\n",
    "print(\"the mul of {} and {} is {}\".format(value1,value2,mul))\n",
    "print(\"the div of {} and {} is {}\".format(value1,value2,div))"
   ]
  },
  {
   "cell_type": "code",
   "execution_count": 93,
   "id": "f4665858",
   "metadata": {},
   "outputs": [
    {
     "name": "stdout",
     "output_type": "stream",
     "text": [
      "the sum of 10 and 20 is 30\n",
      "the average of 10 and 20 is 30\n"
     ]
    }
   ],
   "source": [
    "value1=(10)\n",
    "value2=(20)\n",
    "value3=(30)\n",
    "sum=value1+value2+value3\n",
    "average=sum/3\n",
    "print(\"the sum of {} and {} is {}\".format(value1,value2,value3,sum))\n",
    "print(\"the average of {} and {} is {}\".format(value1,value2,value3,average))"
   ]
  },
  {
   "cell_type": "code",
   "execution_count": 79,
   "id": "1dc3da0f",
   "metadata": {},
   "outputs": [
    {
     "name": "stdout",
     "output_type": "stream",
     "text": [
      "enter a basic salary50000\n",
      "enter DA amount2000\n",
      "enter HRA amount3000\n",
      "the total salary is: 55000\n"
     ]
    }
   ],
   "source": [
    "# wap ask the user enter a basic_salary\n",
    "#     ask the user enter DA amount\n",
    "#     ask the user enter HRA amount\n",
    "#calculate total pay= basic_Salary+Da+HRA\n",
    "\n",
    "\n",
    "# step-1:\n",
    "basic_salary=eval(input(\"enter a basic salary\"))\n",
    "DA=eval(input(\"enter DA amount\"))\n",
    "HRA=eval(input(\"enter HRA amount\"))\n",
    "total_pay=basic_salary+DA+HRA\n",
    "print(\"the total salary is:\",total_pay)"
   ]
  },
  {
   "cell_type": "code",
   "execution_count": 80,
   "id": "fa7b9324",
   "metadata": {},
   "outputs": [
    {
     "data": {
      "text/plain": [
       "50000"
      ]
     },
     "execution_count": 80,
     "metadata": {},
     "output_type": "execute_result"
    }
   ],
   "source": [
    "basic_salary"
   ]
  },
  {
   "cell_type": "code",
   "execution_count": 81,
   "id": "cb0ae86d",
   "metadata": {},
   "outputs": [
    {
     "name": "stdout",
     "output_type": "stream",
     "text": [
      "enter the salary50000\n",
      "enter your tax percentage10\n",
      "the total tax is 5000.0\n"
     ]
    }
   ],
   "source": [
    "# wap ask the user enter salary\n",
    "#   ask the usee enter tax percentage\n",
    "#calculate how much tax user need to pay\n",
    "\n",
    "salary=eval(input(\"enter the salary\"))\n",
    "tax_percentage=eval(input(\"enter your tax percentage\"))\n",
    "tax_amount=(salary*tax_percentage)/100\n",
    "print(\"the total tax is\",tax_amount)"
   ]
  },
  {
   "cell_type": "code",
   "execution_count": null,
   "id": "1a0be328",
   "metadata": {},
   "outputs": [],
   "source": [
    "#wap ask the user get a random valuse between 1 and 100\n",
    "# perform the square of the number\n",
    "\n",
    "#package name: random\n",
    "#method name: randint"
   ]
  },
  {
   "cell_type": "code",
   "execution_count": 83,
   "id": "992e29df",
   "metadata": {},
   "outputs": [
    {
     "name": "stdout",
     "output_type": "stream",
     "text": [
      "entera number10\n"
     ]
    },
    {
     "data": {
      "text/plain": [
       "10"
      ]
     },
     "execution_count": 83,
     "metadata": {},
     "output_type": "execute_result"
    }
   ],
   "source": [
    "eval(input(\"entera number\"))"
   ]
  },
  {
   "cell_type": "code",
   "execution_count": 85,
   "id": "3dd78bff",
   "metadata": {},
   "outputs": [
    {
     "data": {
      "text/plain": [
       "50"
      ]
     },
     "execution_count": 85,
     "metadata": {},
     "output_type": "execute_result"
    }
   ],
   "source": [
    "import random\n",
    "random.randint(1,100)"
   ]
  },
  {
   "cell_type": "code",
   "execution_count": null,
   "id": "8642403c",
   "metadata": {},
   "outputs": [],
   "source": [
    "import random\n",
    "num=random.randint(1,100)\n",
    "print(\"square of the number is\",num*num)"
   ]
  },
  {
   "cell_type": "code",
   "execution_count": null,
   "id": "f4056b3f",
   "metadata": {},
   "outputs": [],
   "source": [
    "import random\n",
    "num=random.randint(1,100)\n",
    "square=num*num\n",
    "print(\"square of {} is {}\",num*square)"
   ]
  },
  {
   "cell_type": "code",
   "execution_count": null,
   "id": "25718ce1",
   "metadata": {},
   "outputs": [],
   "source": [
    "number=100\n",
    "square=number*number\n",
    "print(\"square of the number is\",number*square)"
   ]
  },
  {
   "cell_type": "code",
   "execution_count": 6,
   "id": "8166bd6f",
   "metadata": {},
   "outputs": [
    {
     "name": "stdout",
     "output_type": "stream",
     "text": [
      "enter a number600\n",
      "square of the number is 216000000\n"
     ]
    }
   ],
   "source": [
    "number=eval(input('enter a number'))\n",
    "square=number*number\n",
    "print(\"square of the number is\",number*square)"
   ]
  },
  {
   "cell_type": "code",
   "execution_count": null,
   "id": "dccb6436",
   "metadata": {},
   "outputs": [],
   "source": [
    "import random\n",
    "num=random.randint(1,100)   # computer will generate a rondom number \n",
    "#between 1 to 100, that will save in number\n",
    "square=num*num\n",
    "print(\"square of {} is {}\",num*square)"
   ]
  },
  {
   "cell_type": "code",
   "execution_count": null,
   "id": "5b58351d",
   "metadata": {},
   "outputs": [],
   "source": [
    "# wap ask the user enter a distance \n",
    "#     ask the user enter a rate per distance\n",
    "# calculate total charge"
   ]
  },
  {
   "cell_type": "code",
   "execution_count": 5,
   "id": "0ffe0de1",
   "metadata": {},
   "outputs": [
    {
     "name": "stdout",
     "output_type": "stream",
     "text": [
      "enter a distance55\n",
      "enter the rate per distance15\n",
      "for 55 km the charge is 15 rs\n"
     ]
    }
   ],
   "source": [
    "distance=eval(input(\"enter a distance\"))\n",
    "rate=eval(input(\"enter the rate per distance\"))\n",
    "total_charge=distance+rate\n",
    "print(\"for {} km the charge is {} rs\".format(distance,rate))"
   ]
  },
  {
   "cell_type": "code",
   "execution_count": null,
   "id": "5f7d79e6",
   "metadata": {},
   "outputs": [],
   "source": [
    "# ask the user enter total bill in dollars:100\n",
    "# manger: the dollars are not accepted\n",
    "# user: what will accepted\n",
    "# manager: only indian rupees\n",
    "# ask the user enter one dollar is equal to how many ruppes:80\n",
    "total bill=100*80\n",
    "manager: thank you!"
   ]
  },
  {
   "cell_type": "code",
   "execution_count": 87,
   "id": "9acf984a",
   "metadata": {},
   "outputs": [
    {
     "name": "stdout",
     "output_type": "stream",
     "text": [
      "enter total bill in dollars:1000\n",
      "manger canot accept the dollars\n",
      "customer:only indian ruppes are accepted  how much the one dollar\n",
      "one dollar equal to 80:80\n",
      " the bill amount is 1000\n"
     ]
    }
   ],
   "source": [
    "bill=eval(input(\"enter total bill in dollars:\"))\n",
    "print(\"manger canot accept the dollars\" )\n",
    "print(\"customer:only indian ruppes are accepted  how much the one dollar\")\n",
    "conversion_rate=eval(input(\"one dollar equal to 80:\"))\n",
    "total_amount=bill*conversion_rate\n",
    "print(\" the bill amount is {}\".format(bill,conversion_rate))"
   ]
  },
  {
   "cell_type": "code",
   "execution_count": null,
   "id": "5268ca70",
   "metadata": {},
   "outputs": [],
   "source": [
    "bill=eval(input(\"manger:enter the total bill in doolars:\"))\n",
    "input('manager response')\n",
    "input(\"user response\")\n",
    "input('manager response')\n",
    "cr=eval(input(\"dollar convesion:\"))\n",
    "total=bill*cr\n",
    "print(\"the total amount is :\",total)"
   ]
  },
  {
   "cell_type": "code",
   "execution_count": null,
   "id": "6d4e023c",
   "metadata": {},
   "outputs": [],
   "source": [
    "# father and son/d\n",
    "# father: which course you wants to do\n",
    "# s/d: i want to pursue ds course\n",
    "# father: oh! that is very nice!\n",
    "# father: may i know your jee rank\n",
    "# son: 20000  # user input\n",
    "# father: then how can you purse\n",
    "# son payment seat\n",
    "# father: which college is offer\n",
    "# son: naresh it  # user input\n",
    "# father: how much is the fee \n",
    "#son: 20000  # user input\n",
    "# father: how many sem\n",
    "#son: 4    # user input\n",
    "# father: how much total cost\n",
    "4*20000    # user input"
   ]
  },
  {
   "cell_type": "code",
   "execution_count": null,
   "id": "8426a27c",
   "metadata": {},
   "outputs": [],
   "source": [
    "print(\"father: which course you wants to do\")\n",
    "print(\"s/d: i want to pursue ds course\")\n",
    "print(\"father:oh! that is very nice!\")\n",
    "print(\"father:may i know your jee rank\")\n",
    "input()\n",
    "print(\"father:then how can you purse\")\n",
    "print(\"son:payment seat\")\n",
    "print(\" father: which college is offer\")\n",
    "input()\n",
    "print(\"father: how much is the fee\")\n",
    "input()\n",
    "print(\"father: how many sem\")\n",
    "input()\n",
    "print(\"father: how much total cost\")\n",
    "input()"
   ]
  },
  {
   "cell_type": "code",
   "execution_count": 1,
   "id": "4297b68f",
   "metadata": {},
   "outputs": [
    {
     "name": "stdout",
     "output_type": "stream",
     "text": [
      "father: which course you wants to do\n",
      "s/d: i want to pursue ds course\n",
      "father:oh! that is very nice!\n",
      "father:may i know your jee rank\n",
      "20000\n",
      "father:then how can you purse\n",
      "son:payment seat\n",
      " father: which college is offer\n",
      "naresh it\n",
      "father: how much is the fee\n",
      "20000\n",
      "father: how many sem\n",
      "4\n",
      "father: how much total cost\n",
      "total fee: 80000\n"
     ]
    }
   ],
   "source": [
    "print(\"father: which course you wants to do\")\n",
    "print(\"s/d: i want to pursue ds course\")\n",
    "print(\"father:oh! that is very nice!\")\n",
    "print(\"father:may i know your jee rank\")\n",
    "input()\n",
    "print(\"father:then how can you purse\")\n",
    "print(\"son:payment seat\")\n",
    "print(\" father: which college is offer\")\n",
    "input()\n",
    "print(\"father: how much is the fee\")\n",
    "fee=eval(input())\n",
    "print(\"father: how many sem\")\n",
    "sem=eval(input())\n",
    "print(\"father: how much total cost\")\n",
    "print(\"total fee:\",fee*sem)"
   ]
  },
  {
   "cell_type": "code",
   "execution_count": null,
   "id": "3dfd710c",
   "metadata": {},
   "outputs": [],
   "source": []
  },
  {
   "cell_type": "code",
   "execution_count": 8,
   "id": "24848d92",
   "metadata": {},
   "outputs": [
    {
     "name": "stdout",
     "output_type": "stream",
     "text": [
      "enter a value25\n",
      "the square of25 is625\n"
     ]
    }
   ],
   "source": [
    "number=eval(input(\"enter a value\"))\n",
    "square=number*number\n",
    "print(\"the square of{} is{}\".format(number,square))"
   ]
  },
  {
   "cell_type": "code",
   "execution_count": 13,
   "id": "a3dfadda",
   "metadata": {},
   "outputs": [
    {
     "name": "stdout",
     "output_type": "stream",
     "text": [
      "enter a number:8\n",
      "8---16---24---32---40\n"
     ]
    }
   ],
   "source": [
    "x=eval(input(\"enter a number:\"))\n",
    "print(x,2*x,3*x,4*x,5*x,sep='---')"
   ]
  },
  {
   "cell_type": "code",
   "execution_count": 89,
   "id": "467aadba",
   "metadata": {},
   "outputs": [
    {
     "name": "stdout",
     "output_type": "stream",
     "text": [
      "enter a number:7\n",
      "7****14****21****28\n"
     ]
    }
   ],
   "source": [
    "x=eval(input(\"enter a number:\"))\n",
    "print(x,2*x,3*x,4*x,sep='****')"
   ]
  },
  {
   "cell_type": "code",
   "execution_count": 91,
   "id": "a2078c07",
   "metadata": {},
   "outputs": [
    {
     "name": "stdout",
     "output_type": "stream",
     "text": [
      "enter a weight in kilograms20\n",
      "20.0 kilograms is equal to 40.0 pounds.\n"
     ]
    }
   ],
   "source": [
    "weight_in_kilograms=float(input(\"enter a weight in kilograms\"))\n",
    "weight_in_pounds=weight_in_kilograms*2\n",
    "print(f\"{weight_in_kilograms} kilograms is equal to {weight_in_pounds} pounds.\")"
   ]
  },
  {
   "cell_type": "code",
   "execution_count": 14,
   "id": "a7a73097",
   "metadata": {},
   "outputs": [
    {
     "name": "stdout",
     "output_type": "stream",
     "text": [
      "enter the first num20\n",
      "enter the second num360\n",
      "enter the third num40\n",
      "total: 420\n",
      "average: 140.0\n"
     ]
    }
   ],
   "source": [
    "num1=eval(input(\"enter the first num\"))\n",
    "num2=eval(input(\"enter the second num\"))\n",
    "num3=eval(input(\"enter the third num\"))\n",
    "total=num1+num2+num3\n",
    "average=total/3\n",
    "print(\"total:\",total)\n",
    "print(\"average:\",average)"
   ]
  },
  {
   "cell_type": "code",
   "execution_count": 28,
   "id": "eba21f16",
   "metadata": {},
   "outputs": [
    {
     "name": "stdout",
     "output_type": "stream",
     "text": [
      "enter the price of the meal:500\n",
      "enter the tip percentage you want to leave:40\n",
      "bill of meal: 500.0 total_bill: 501.6666666666667\n"
     ]
    }
   ],
   "source": [
    "meal_price=float(input(\"enter the price of the meal:\"))\n",
    "tip_percentage=float(input(\"enter the tip percentage you want to leave:\"))\n",
    "total_bill=meal_price/tip_amount*100\n",
    "p=meal_price+total_bill\n",
    "print(\"bill of meal:\",price,\"total_bill:\",p)"
   ]
  },
  {
   "cell_type": "code",
   "execution_count": 27,
   "id": "db14ef13",
   "metadata": {},
   "outputs": [
    {
     "name": "stdout",
     "output_type": "stream",
     "text": [
      "enter the price of the meal:500\n",
      "enter the tip percentage you want to leave:40\n",
      "bill of meal: 500.0 total_bill: 1750.0\n"
     ]
    }
   ],
   "source": [
    "price=float(input(\"enter the price of the meal:\"))\n",
    "tip=float(input(\"enter the tip percentage you want to leave:\"))\n",
    "total_bill=price/tip*100\n",
    "j=price+total_bill\n",
    "print(\"bill of meal:\",price,\"total_bill:\",j)"
   ]
  },
  {
   "cell_type": "code",
   "execution_count": 6,
   "id": "431f5869",
   "metadata": {},
   "outputs": [
    {
     "name": "stdout",
     "output_type": "stream",
     "text": [
      "enter a number120\n",
      "enter a number230\n",
      "50\n"
     ]
    }
   ],
   "source": [
    "num1=eval(input(\"enter a number1\"))\n",
    "num2=eval(input(\"enter a number2\"))\n",
    "add=num1+num2\n",
    "print(add)"
   ]
  },
  {
   "cell_type": "code",
   "execution_count": 94,
   "id": "44f579cf",
   "metadata": {},
   "outputs": [
    {
     "name": "stdout",
     "output_type": "stream",
     "text": [
      "enter a number1:30\n",
      "enter a number2:60\n",
      "90\n"
     ]
    }
   ],
   "source": [
    "num1=eval(input(\"enter a number1:\"))\n",
    "num2=eval(input(\"enter a number2:\"))\n",
    "add=num1+num2\n",
    "print(add)"
   ]
  },
  {
   "cell_type": "code",
   "execution_count": 16,
   "id": "c5b3e6ea",
   "metadata": {},
   "outputs": [
    {
     "name": "stdout",
     "output_type": "stream",
     "text": [
      "enter a number1:10\n",
      "enter a number2:20\n",
      "0.5\n"
     ]
    }
   ],
   "source": [
    "num1=eval(input(\"enter a number1:\"))\n",
    "num2=eval(input(\"enter a number2:\"))\n",
    "division=num1/num2\n",
    "print(division)"
   ]
  },
  {
   "cell_type": "code",
   "execution_count": 22,
   "id": "dc607982",
   "metadata": {},
   "outputs": [
    {
     "name": "stdout",
     "output_type": "stream",
     "text": [
      "enter a number1:50\n",
      "enter a number2:20\n",
      "30\n"
     ]
    }
   ],
   "source": [
    "num1=eval(input(\"enter a number1:\"))\n",
    "num2=eval(input(\"enter a number2:\"))\n",
    "sub=num1-num2\n",
    "print(sub)"
   ]
  },
  {
   "cell_type": "code",
   "execution_count": null,
   "id": "8c9dce7b",
   "metadata": {},
   "outputs": [],
   "source": [
    "# possible error####\n",
    "\n",
    "name error\n",
    "syntax errors'('was never closed\n",
    "zero divided error:division by zero\n",
    "Type error:unsupported operand type(s) for/:'str'and'int'\n",
    "missing parentheses in call to 'print'.did you mean print(...)\n",
    "        "
   ]
  },
  {
   "cell_type": "markdown",
   "id": "a7b98a46",
   "metadata": {},
   "source": [
    "-suppose you have wrriten 500 lines of code 200 you got on error\n",
    "   \n",
    "   -this error is ,ight not impact your code\n",
    "\n",
    "***exception handling***"
   ]
  },
  {
   "cell_type": "code",
   "execution_count": null,
   "id": "3eee8006",
   "metadata": {},
   "outputs": [],
   "source": [
    "try except   (keyword)\n",
    "there are two blocks\n",
    "one try block\n",
    "another is exception block\n",
    "your code will be there in try block\n",
    "error capture will happens in except block\n",
    "indentation  (space is nothing but indentation)\n",
    "red: space/indentation not mentioned properly colour \n",
    "    indentation has minimum 4 characters"
   ]
  },
  {
   "cell_type": "code",
   "execution_count": 28,
   "id": "2c4ef3a1",
   "metadata": {},
   "outputs": [
    {
     "name": "stdout",
     "output_type": "stream",
     "text": [
      "60\n"
     ]
    }
   ],
   "source": [
    "try:\n",
    "    num1=10\n",
    "    num2=20\n",
    "    num3=30\n",
    "    add=num1+num2+num3\n",
    "    print(add)\n",
    "    \n",
    "except:\n",
    "    print(\"error is there,check code\")"
   ]
  },
  {
   "cell_type": "code",
   "execution_count": 97,
   "id": "ebb056ae",
   "metadata": {},
   "outputs": [
    {
     "name": "stdout",
     "output_type": "stream",
     "text": [
      "90\n"
     ]
    }
   ],
   "source": [
    "try:\n",
    "    num1=20\n",
    "    num2=30\n",
    "    num3=40\n",
    "    add=num1+num2+num3\n",
    "    print(add)\n",
    "except:\n",
    "    print(\"check the code\")"
   ]
  },
  {
   "cell_type": "code",
   "execution_count": null,
   "id": "5f916dbc",
   "metadata": {},
   "outputs": [],
   "source": [
    "how to alignseveral lines of code with different characters\n",
    "try"
   ]
  },
  {
   "cell_type": "code",
   "execution_count": 31,
   "id": "03108a36",
   "metadata": {},
   "outputs": [
    {
     "name": "stdout",
     "output_type": "stream",
     "text": [
      "0.5\n"
     ]
    }
   ],
   "source": [
    "try:\n",
    "    num=10\n",
    "    num2=20\n",
    "    num3=30\n",
    "    add=num1/num2      #10/0====>zero\n",
    "    print(add)\n",
    "    \n",
    "except:\n",
    "    print(\"error is there,check code\")"
   ]
  },
  {
   "cell_type": "code",
   "execution_count": null,
   "id": "d68a6826",
   "metadata": {},
   "outputs": [],
   "source": [
    "# wap ask the user enter a number and find the average"
   ]
  },
  {
   "cell_type": "code",
   "execution_count": 37,
   "id": "588590b4",
   "metadata": {},
   "outputs": [
    {
     "name": "stdout",
     "output_type": "stream",
     "text": [
      "enter number1-:10\n",
      "enter a number2-:30\n",
      "enter a number3-:80\n",
      "the average of10,30 and 80 is 40.0\n"
     ]
    }
   ],
   "source": [
    "try:\n",
    "    num1=eval(input(\"enter number1-:\"))\n",
    "    num2=eval(input(\"enter a number2-:\"))\n",
    "    num3=eval(input(\"enter a number3-:\"))\n",
    "    average=(num1+num2+num3)/3\n",
    "    print(\"the average of{},{} and {} is {}\".format(num1,num2,num3,average))\n",
    "\n",
    "except:\n",
    "    print(\"check the code\")\n",
    "                "
   ]
  },
  {
   "cell_type": "code",
   "execution_count": 100,
   "id": "85c04f75",
   "metadata": {},
   "outputs": [
    {
     "name": "stdout",
     "output_type": "stream",
     "text": [
      "enter number1-:100\n",
      "enter a number2-:200\n",
      "enter a number3-:300\n",
      "division by zero\n"
     ]
    }
   ],
   "source": [
    "try:\n",
    "    num1=eval(input(\"enter number1-:\"))\n",
    "    num2=eval(input(\"enter a number2-:\"))\n",
    "    num3=eval(input(\"enter a number3-:\"))\n",
    "    average=(num1+num2+num3)/0\n",
    "    print(\"the average of{},{} and {} is {}\".format(num1,num2,num3,average))\n",
    "\n",
    "except Exception as e:\n",
    "        print(e)     "
   ]
  },
  {
   "cell_type": "code",
   "execution_count": 52,
   "id": "5f2d9253",
   "metadata": {},
   "outputs": [
    {
     "name": "stdout",
     "output_type": "stream",
     "text": [
      "enter number1-:50\n",
      "enter a number2-:25\n",
      "enter a number3-:15\n",
      "the sub of50,25 and 15 is 10\n"
     ]
    }
   ],
   "source": [
    "try:\n",
    "    num1=eval(input(\"enter number1-:\"))\n",
    "    num2=eval(input(\"enter a number2-:\"))\n",
    "    num3=eval(input(\"enter a number3-:\"))\n",
    "    sub=(num1-num2-num3)\n",
    "    print(\"the sub of{},{} and {} is {}\".format(num1,num2,num3,sub))\n",
    "    \n",
    "except:\n",
    "    print(\"check the code\")\n"
   ]
  },
  {
   "cell_type": "code",
   "execution_count": 101,
   "id": "e4f61721",
   "metadata": {},
   "outputs": [
    {
     "name": "stdout",
     "output_type": "stream",
     "text": [
      "enter number1-:5\n",
      "enter a number2-:25\n",
      "enter a number3-:50\n",
      "the square of5,25 and 50 is 6250\n"
     ]
    }
   ],
   "source": [
    "# wap ask the user enter a number and find the square of the number\n",
    "\n",
    "\n",
    "try:\n",
    "    num1=eval(input(\"enter number1-:\"))\n",
    "    num2=eval(input(\"enter a number2-:\"))\n",
    "    num3=eval(input(\"enter a number3-:\"))\n",
    "    square=(num1*num2*num3)\n",
    "    print(\"the square of{},{} and {} is {}\".format(num1,num2,num3,square))\n",
    "    \n",
    "except:\n",
    "    print(\"check the code\")\n"
   ]
  },
  {
   "cell_type": "code",
   "execution_count": 103,
   "id": "1c1c7a1e",
   "metadata": {},
   "outputs": [
    {
     "name": "stdout",
     "output_type": "stream",
     "text": [
      "enter a number:5\n",
      "name 'num222' is not defined\n",
      "hello\n"
     ]
    }
   ],
   "source": [
    "try:\n",
    "    num=eval(input(\"enter a number:\"))\n",
    "    print(\"the square of{} is {}\".format (num,num222*num))\n",
    "except Exception as e:\n",
    "    print(e)\n",
    "    print('hello')"
   ]
  },
  {
   "cell_type": "code",
   "execution_count": 104,
   "id": "a7f5fc13",
   "metadata": {},
   "outputs": [
    {
     "name": "stdout",
     "output_type": "stream",
     "text": [
      "enter a number:5\n",
      "hello\n"
     ]
    }
   ],
   "source": [
    "try:\n",
    "    num=eval(input(\"enter a number:\"))\n",
    "    print(\"the square of{} is {}\".format (num,num222*num))\n",
    "except Exception as e:\n",
    "    # print(e)\n",
    "    print('hello')"
   ]
  },
  {
   "cell_type": "code",
   "execution_count": 55,
   "id": "1efef2d2",
   "metadata": {},
   "outputs": [
    {
     "name": "stdout",
     "output_type": "stream",
     "text": [
      "enter a number:3\n",
      "hai\n",
      "name 'num222' is not defined\n",
      "hello\n"
     ]
    }
   ],
   "source": [
    "try:\n",
    "    num=eval(input(\"enter a number:\"))\n",
    "    print(\"the square of{} is {}\".format (num,num222*num))\n",
    "except Exception as e:\n",
    "    print('hai')\n",
    "    print(e)\n",
    "    print('hello')"
   ]
  },
  {
   "cell_type": "code",
   "execution_count": 56,
   "id": "2fb265f7",
   "metadata": {},
   "outputs": [
    {
     "name": "stdout",
     "output_type": "stream",
     "text": [
      "enter a number:6\n",
      "name 'num222' is not defined\n",
      "hello\n",
      "python\n",
      "1\n",
      "2\n"
     ]
    }
   ],
   "source": [
    "try:\n",
    "    num=eval(input(\"enter a number:\"))\n",
    "    print(\"the square of{} is {}\".format (num,num222*num))\n",
    "except Exception as e:\n",
    "    print(e)\n",
    "    print('hello')\n",
    "    \n",
    "    \n",
    "    print('python')\n",
    "    print(1)\n",
    "    print(2)"
   ]
  },
  {
   "cell_type": "code",
   "execution_count": 1,
   "id": "7ede378c",
   "metadata": {},
   "outputs": [
    {
     "name": "stdout",
     "output_type": "stream",
     "text": [
      "-----------\n",
      "8\n",
      "********\n",
      "enter a number:3\n",
      "hai\n",
      "name 'num222' is not defined\n",
      "hello\n",
      "python\n",
      "1\n",
      "2\n"
     ]
    }
   ],
   "source": [
    "print(\"-----------\")\n",
    "print(3+5)\n",
    "print('********')\n",
    "try:\n",
    "    num=eval(input(\"enter a number:\"))\n",
    "    print(\"the square of {} is {}\".format(num,num222*num))\n",
    "except Exception as e:\n",
    "    print('hai')\n",
    "    print(e)\n",
    "    print(\"hello\")\n",
    "       \n",
    "        \n",
    "    print('python')\n",
    "    print(1)\n",
    "    print(2)"
   ]
  },
  {
   "cell_type": "code",
   "execution_count": null,
   "id": "332c9b71",
   "metadata": {},
   "outputs": [],
   "source": [
    "only try block content is printed\n",
    "if your code is with out error,try block excute\n",
    "if your code has error,it will redirect to except block\n",
    "what ever you writtern inside except block that will run\n",
    "try and exception is together.\n",
    "once try and exception code are compelete,it try to look any other lines of codes are there"
   ]
  },
  {
   "cell_type": "code",
   "execution_count": 109,
   "id": "7710b4ee",
   "metadata": {},
   "outputs": [
    {
     "name": "stdout",
     "output_type": "stream",
     "text": [
      "enter a number8\n",
      "200\n"
     ]
    }
   ],
   "source": [
    "try:\n",
    "    num1=eval(input(\"enter a number\"))\n",
    "    square=(num1*num2)\n",
    "    print(square)\n",
    "except Exception as error:\n",
    "    print(e)\n",
    "    print('hello')"
   ]
  },
  {
   "cell_type": "code",
   "execution_count": null,
   "id": "70a9caf2",
   "metadata": {},
   "outputs": [],
   "source": []
  }
 ],
 "metadata": {
  "kernelspec": {
   "display_name": "Python 3 (ipykernel)",
   "language": "python",
   "name": "python3"
  },
  "language_info": {
   "codemirror_mode": {
    "name": "ipython",
    "version": 3
   },
   "file_extension": ".py",
   "mimetype": "text/x-python",
   "name": "python",
   "nbconvert_exporter": "python",
   "pygments_lexer": "ipython3",
   "version": "3.11.5"
  }
 },
 "nbformat": 4,
 "nbformat_minor": 5
}
