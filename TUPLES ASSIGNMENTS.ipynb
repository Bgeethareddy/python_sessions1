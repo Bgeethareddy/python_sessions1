{
 "cells": [
  {
   "cell_type": "markdown",
   "id": "03476d3d",
   "metadata": {},
   "source": [
    "$TUPLES$"
   ]
  },
  {
   "cell_type": "markdown",
   "id": "9b325d74",
   "metadata": {},
   "source": [
    "- A tuple in Python is similar to a list.\n",
    "- The difference between the two is that we cannot change the elements of a tuple\n",
    "- Once it is assigned whereas we can change the elements of a list."
   ]
  },
  {
   "cell_type": "code",
   "execution_count": 1,
   "id": "fb20770a",
   "metadata": {},
   "outputs": [
    {
     "name": "stdout",
     "output_type": "stream",
     "text": [
      "()\n"
     ]
    }
   ],
   "source": [
    "my_tuple=()\n",
    "print(my_tuple)"
   ]
  },
  {
   "cell_type": "code",
   "execution_count": 2,
   "id": "97fb56fb",
   "metadata": {},
   "outputs": [
    {
     "name": "stdout",
     "output_type": "stream",
     "text": [
      "hello how are you\n"
     ]
    }
   ],
   "source": [
    "pgr=(\"hello how are you\")\n",
    "print(pgr)"
   ]
  },
  {
   "cell_type": "markdown",
   "id": "762f53c6",
   "metadata": {},
   "source": [
    "$INDEX$"
   ]
  },
  {
   "cell_type": "markdown",
   "id": "1a7d75e6",
   "metadata": {},
   "source": [
    "- We can use the index operator [] to access an item in a tuple, where the index starts from 0."
   ]
  },
  {
   "cell_type": "code",
   "execution_count": 4,
   "id": "3979cf94",
   "metadata": {},
   "outputs": [],
   "source": [
    "pgr=(\"G\",\"E\",\"E\",\"T\",\"H\",\"A\")"
   ]
  },
  {
   "cell_type": "code",
   "execution_count": 9,
   "id": "ce1d8013",
   "metadata": {},
   "outputs": [
    {
     "name": "stdout",
     "output_type": "stream",
     "text": [
      "G\n",
      "E\n",
      "E\n",
      "T\n",
      "H\n",
      "A\n"
     ]
    }
   ],
   "source": [
    "print(pgr[0])\n",
    "print(pgr[1])\n",
    "print(pgr[2])\n",
    "print(pgr[3])\n",
    "print(pgr[4])\n",
    "print(pgr[5])"
   ]
  },
  {
   "cell_type": "markdown",
   "id": "252c63bb",
   "metadata": {},
   "source": [
    "$NEGATIVE$  $INDEX$"
   ]
  },
  {
   "cell_type": "markdown",
   "id": "a276f5c9",
   "metadata": {},
   "source": [
    "- Python allows negative indexing for its sequences."
   ]
  },
  {
   "cell_type": "code",
   "execution_count": 11,
   "id": "1d6d2615",
   "metadata": {},
   "outputs": [],
   "source": [
    "pgr=(\"G\",\"E\",\"E\",\"T\",\"H\",\"A\")"
   ]
  },
  {
   "cell_type": "code",
   "execution_count": 12,
   "id": "7e570f62",
   "metadata": {},
   "outputs": [
    {
     "name": "stdout",
     "output_type": "stream",
     "text": [
      "A\n"
     ]
    }
   ],
   "source": [
    "print(pgr[-1])"
   ]
  },
  {
   "cell_type": "code",
   "execution_count": 15,
   "id": "a1ffca38",
   "metadata": {},
   "outputs": [
    {
     "name": "stdout",
     "output_type": "stream",
     "text": [
      "G\n",
      "E\n",
      "E\n",
      "T\n",
      "H\n",
      "A\n"
     ]
    }
   ],
   "source": [
    "print(pgr[-0])\n",
    "print(pgr[-4])\n",
    "print(pgr[-5])\n",
    "print(pgr[-3])\n",
    "print(pgr[-2])\n",
    "print(pgr[-1])"
   ]
  },
  {
   "cell_type": "markdown",
   "id": "235708ab",
   "metadata": {},
   "source": [
    "$SLICING$"
   ]
  },
  {
   "cell_type": "markdown",
   "id": "0dfcbb30",
   "metadata": {},
   "source": [
    "We can access a range of items in a tuple by using the slicing operator colon :."
   ]
  },
  {
   "cell_type": "code",
   "execution_count": 17,
   "id": "a5d8e2dd",
   "metadata": {},
   "outputs": [],
   "source": [
    "pgr=(\"G\",\"E\",\"E\",\"T\",\"H\",\"A\")"
   ]
  },
  {
   "cell_type": "code",
   "execution_count": 18,
   "id": "bdef41bd",
   "metadata": {},
   "outputs": [
    {
     "name": "stdout",
     "output_type": "stream",
     "text": [
      "('E', 'E', 'T')\n"
     ]
    }
   ],
   "source": [
    "print(pgr[1:4])"
   ]
  },
  {
   "cell_type": "code",
   "execution_count": 19,
   "id": "e163b628",
   "metadata": {},
   "outputs": [
    {
     "name": "stdout",
     "output_type": "stream",
     "text": [
      "('E', 'E', 'T', 'H')\n"
     ]
    }
   ],
   "source": [
    "print(pgr[1:5])"
   ]
  },
  {
   "cell_type": "code",
   "execution_count": 20,
   "id": "fc1c87bc",
   "metadata": {},
   "outputs": [
    {
     "name": "stdout",
     "output_type": "stream",
     "text": [
      "('G', 'E', 'E', 'T', 'H')\n"
     ]
    }
   ],
   "source": [
    "print(pgr[0:5])"
   ]
  },
  {
   "cell_type": "code",
   "execution_count": 21,
   "id": "314c5aaa",
   "metadata": {},
   "outputs": [
    {
     "name": "stdout",
     "output_type": "stream",
     "text": [
      "('G', 'E', 'E', 'T', 'H', 'A')\n"
     ]
    }
   ],
   "source": [
    "print(pgr[0:6])"
   ]
  },
  {
   "cell_type": "markdown",
   "id": "94da34e0",
   "metadata": {},
   "source": [
    "$COUNT$"
   ]
  },
  {
   "cell_type": "markdown",
   "id": "2aa31084",
   "metadata": {},
   "source": [
    "The count() method returns the number of times a specified value appears in the tuple."
   ]
  },
  {
   "cell_type": "code",
   "execution_count": 30,
   "id": "aa7d9c50",
   "metadata": {},
   "outputs": [],
   "source": [
    "pgr=(8,6,8,8,9,0,8,6,9,4)"
   ]
  },
  {
   "cell_type": "code",
   "execution_count": 43,
   "id": "53dbad29",
   "metadata": {},
   "outputs": [
    {
     "name": "stdout",
     "output_type": "stream",
     "text": [
      "4\n"
     ]
    }
   ],
   "source": [
    "pgr = (8, 6, 8, 8, 9, 0, 8, 6, 9, 4)\n",
    "p = pgr.count(8)\n",
    "print(p)\n"
   ]
  },
  {
   "cell_type": "markdown",
   "id": "3f0127b0",
   "metadata": {},
   "source": [
    "$LEN$"
   ]
  },
  {
   "cell_type": "markdown",
   "id": "1897fbeb",
   "metadata": {},
   "source": [
    "Return the number of elements in the tuple."
   ]
  },
  {
   "cell_type": "code",
   "execution_count": 44,
   "id": "81aaf29f",
   "metadata": {},
   "outputs": [
    {
     "name": "stdout",
     "output_type": "stream",
     "text": [
      "10\n"
     ]
    }
   ],
   "source": [
    "pgr=(8,6,8,8,9,0,8,6,9,4)\n",
    "print(len(pgr))"
   ]
  },
  {
   "cell_type": "code",
   "execution_count": 45,
   "id": "42b01b01",
   "metadata": {},
   "outputs": [
    {
     "name": "stdout",
     "output_type": "stream",
     "text": [
      "6\n"
     ]
    }
   ],
   "source": [
    "pgr=(\"G\",\"E\",\"E\",\"T\",\"H\",\"A\")\n",
    "print(len(pgr))"
   ]
  },
  {
   "cell_type": "markdown",
   "id": "7138dc20",
   "metadata": {},
   "source": [
    "$Min$"
   ]
  },
  {
   "cell_type": "code",
   "execution_count": null,
   "id": "34594e5f",
   "metadata": {},
   "outputs": [],
   "source": [
    "returns the elements from the tuple with minimum value."
   ]
  },
  {
   "cell_type": "code",
   "execution_count": 50,
   "id": "c00f0c29",
   "metadata": {},
   "outputs": [
    {
     "data": {
      "text/plain": [
       "'A'"
      ]
     },
     "execution_count": 50,
     "metadata": {},
     "output_type": "execute_result"
    }
   ],
   "source": [
    "pgr=(\"G\",\"E\",\"E\",\"T\",\"H\",\"A\")\n",
    "min(pgr)"
   ]
  },
  {
   "cell_type": "markdown",
   "id": "39d293ed",
   "metadata": {},
   "source": [
    "$MAX$"
   ]
  },
  {
   "cell_type": "code",
   "execution_count": null,
   "id": "ac7213be",
   "metadata": {},
   "outputs": [],
   "source": [
    "returns the elements from the tuple with maximum value."
   ]
  },
  {
   "cell_type": "code",
   "execution_count": 51,
   "id": "12af0a13",
   "metadata": {},
   "outputs": [
    {
     "data": {
      "text/plain": [
       "'T'"
      ]
     },
     "execution_count": 51,
     "metadata": {},
     "output_type": "execute_result"
    }
   ],
   "source": [
    "pgr=(\"G\",\"E\",\"E\",\"T\",\"H\",\"A\")\n",
    "max(pgr)"
   ]
  },
  {
   "cell_type": "markdown",
   "id": "f6aa7475",
   "metadata": {},
   "source": [
    "$SUM$"
   ]
  },
  {
   "cell_type": "markdown",
   "id": "4cb45d59",
   "metadata": {},
   "source": [
    "- Python sum () function is a built-in function that returns the sum of all numerical values provided in an iterable.\n",
    "- The numerical values that are passed in the function can be integer and floating-point numbers as well.\n",
    "- In Python, one of the most used functions is the sum."
   ]
  },
  {
   "cell_type": "code",
   "execution_count": 54,
   "id": "aeb2b63c",
   "metadata": {},
   "outputs": [
    {
     "name": "stdout",
     "output_type": "stream",
     "text": [
      "66\n"
     ]
    }
   ],
   "source": [
    "pgr=(8,6,8,8,9,0,8,6,9,4)\n",
    "result= sum(pgr)\n",
    "print(result)"
   ]
  },
  {
   "cell_type": "markdown",
   "id": "c303645e",
   "metadata": {},
   "source": [
    "$SORT$"
   ]
  },
  {
   "cell_type": "markdown",
   "id": "11e43e15",
   "metadata": {},
   "source": [
    "The sort() method sorts the items of a list in ascending or descending order."
   ]
  },
  {
   "cell_type": "code",
   "execution_count": 60,
   "id": "2489c4af",
   "metadata": {},
   "outputs": [
    {
     "name": "stdout",
     "output_type": "stream",
     "text": [
      "[{'car': 'Mitsubishi', 'year': 2000}, {'car': 'Ford', 'year': 2005}, {'car': 'VW', 'year': 2011}, {'car': 'BMW', 'year': 2019}]\n"
     ]
    }
   ],
   "source": [
    "def pgr(p):\n",
    "  return p['year']\n",
    "\n",
    "cars = [\n",
    "  {'car': 'Ford', 'year': 2005},\n",
    "  {'car': 'Mitsubishi', 'year': 2000},\n",
    "  {'car': 'BMW', 'year': 2019},\n",
    "  {'car': 'VW', 'year': 2011}\n",
    "]\n",
    "\n",
    "cars.sort(key=pgr)\n",
    "print(cars)"
   ]
  },
  {
   "cell_type": "code",
   "execution_count": null,
   "id": "19eb9ded",
   "metadata": {},
   "outputs": [],
   "source": []
  }
 ],
 "metadata": {
  "kernelspec": {
   "display_name": "Python 3 (ipykernel)",
   "language": "python",
   "name": "python3"
  },
  "language_info": {
   "codemirror_mode": {
    "name": "ipython",
    "version": 3
   },
   "file_extension": ".py",
   "mimetype": "text/x-python",
   "name": "python",
   "nbconvert_exporter": "python",
   "pygments_lexer": "ipython3",
   "version": "3.11.5"
  }
 },
 "nbformat": 4,
 "nbformat_minor": 5
}
