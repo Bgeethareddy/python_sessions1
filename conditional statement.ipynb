{
 "cells": [
  {
   "cell_type": "code",
   "execution_count": null,
   "id": "0cbe2bf5",
   "metadata": {},
   "outputs": [],
   "source": [
    "if - else\n",
    "\n",
    "if pak won the match they have more chance to go to SF\n",
    "else they have more chance to go home\n",
    "\n",
    "if i study will pass\n",
    "else will fail"
   ]
  },
  {
   "cell_type": "code",
   "execution_count": null,
   "id": "6fdda1a2",
   "metadata": {},
   "outputs": [],
   "source": [
    "name='python'\n",
    "# i want to make some condition\n",
    "#whenever the name ==python =====> succes\n",
    "#         otherwise =============> fail"
   ]
  },
  {
   "cell_type": "code",
   "execution_count": null,
   "id": "0202ff9b",
   "metadata": {},
   "outputs": [],
   "source": [
    "name='python'\n",
    "if <condition>:\n",
    "    #sta-1\n",
    "    #code\n",
    "    \n",
    "else:\n",
    "    #code"
   ]
  },
  {
   "cell_type": "code",
   "execution_count": 21,
   "id": "c9734ace",
   "metadata": {},
   "outputs": [
    {
     "name": "stdout",
     "output_type": "stream",
     "text": [
      "won\n"
     ]
    }
   ],
   "source": [
    "name='python'             # name\n",
    "if name=='python':         # is the name really equal to python\n",
    "    print('won')      "
   ]
  },
  {
   "cell_type": "code",
   "execution_count": 3,
   "id": "c210c8a2",
   "metadata": {},
   "outputs": [
    {
     "data": {
      "text/plain": [
       "True"
      ]
     },
     "execution_count": 3,
     "metadata": {},
     "output_type": "execute_result"
    }
   ],
   "source": [
    "a=10    \n",
    "a==10   "
   ]
  },
  {
   "cell_type": "raw",
   "id": "0f7f0072",
   "metadata": {},
   "source": [
    "=assign\n",
    "\n",
    "==condition"
   ]
  },
  {
   "cell_type": "code",
   "execution_count": 4,
   "id": "4c1b6dae",
   "metadata": {},
   "outputs": [
    {
     "data": {
      "text/plain": [
       "False"
      ]
     },
     "execution_count": 4,
     "metadata": {},
     "output_type": "execute_result"
    }
   ],
   "source": [
    "name='python'      # \n",
    "name=='py'"
   ]
  },
  {
   "cell_type": "code",
   "execution_count": null,
   "id": "28ef7580",
   "metadata": {},
   "outputs": [],
   "source": [
    "if <condition>:\n",
    "    \n",
    "if True/False:\n",
    "    inside the block"
   ]
  },
  {
   "cell_type": "code",
   "execution_count": 7,
   "id": "481c44b2",
   "metadata": {},
   "outputs": [
    {
     "name": "stdout",
     "output_type": "stream",
     "text": [
      "won\n"
     ]
    }
   ],
   "source": [
    "#True case\n",
    "name='python'             # 'python' is saved in a variable 'name'\n",
    "if name=='python':         # is the name really equal to python if True/False:\n",
    "    print('won')      "
   ]
  },
  {
   "cell_type": "code",
   "execution_count": null,
   "id": "de548de0",
   "metadata": {},
   "outputs": [],
   "source": [
    "# error capture====> my code should not stop\n",
    "#try: 100 lines  50 lines you got error\n",
    "#frist 49 exec====>50=====>exception"
   ]
  },
  {
   "cell_type": "code",
   "execution_count": 17,
   "id": "f69be4e4",
   "metadata": {},
   "outputs": [],
   "source": [
    "# False Case\n",
    "name='python'             \n",
    "if name=='py':                     # if <false>: no permission\n",
    "    a=10\n",
    "    b=20\n",
    "    print(a+b)"
   ]
  },
  {
   "cell_type": "code",
   "execution_count": 13,
   "id": "db29d9b8",
   "metadata": {},
   "outputs": [
    {
     "name": "stdout",
     "output_type": "stream",
     "text": [
      "30\n"
     ]
    }
   ],
   "source": [
    "name='python'             \n",
    "if name=='python':    \n",
    "    a=10\n",
    "    b=20\n",
    "    print(a+b)\n",
    "    "
   ]
  },
  {
   "cell_type": "code",
   "execution_count": 20,
   "id": "702bd189",
   "metadata": {},
   "outputs": [
    {
     "name": "stdout",
     "output_type": "stream",
     "text": [
      "lost\n"
     ]
    }
   ],
   "source": [
    "name='python'            \n",
    "if name=='py':      \n",
    "    print('won')\n",
    "else:\n",
    "    print('lost')"
   ]
  },
  {
   "cell_type": "code",
   "execution_count": 28,
   "id": "8a517711",
   "metadata": {},
   "outputs": [
    {
     "name": "stdout",
     "output_type": "stream",
     "text": [
      "hello\n",
      "10\n",
      "enter a number1:50\n",
      "enter a number2:60\n",
      "This is False case\n",
      "We are doing multiplication opertion\n",
      "the multiplication of50 and 60 is: 3000\n",
      "subtraction: -10\n",
      "great!\n"
     ]
    }
   ],
   "source": [
    "print('hello')\n",
    "print(10)\n",
    "num1=eval(input(\"enter a number1:\"))\n",
    "num2=eval(input(\"enter a number2:\"))\n",
    "if num1==num2:\n",
    "    print(\"This is True case\")\n",
    "    print(\"We are doing addition opertion\")\n",
    "    print(\"the addtion of{} and {} is: {}\".format(num1,num2,num1+num2))\n",
    "    print(\"Happy ending!\")\n",
    "    \n",
    "else:\n",
    "    print(\"This is False case\")\n",
    "    print(\"We are doing multiplication opertion\")\n",
    "    print(\"the multiplication of{} and {} is: {}\".format(num1,num2,num1*num2))\n",
    "    \n",
    "subtraction=num1-num2\n",
    "print('subtraction:',subtraction)\n",
    "print(\"great!\")\n",
    "    "
   ]
  },
  {
   "cell_type": "code",
   "execution_count": null,
   "id": "a40deb64",
   "metadata": {},
   "outputs": [],
   "source": [
    "#wap ask the user enter a number\n",
    "#find the number is or odd number\n",
    "# even number:if you divide with 2 the remainder is zero\n",
    "#odd number\n",
    "# in python modulus opertor gives remainder"
   ]
  },
  {
   "cell_type": "code",
   "execution_count": 87,
   "id": "a7a1d62d",
   "metadata": {},
   "outputs": [
    {
     "name": "stdout",
     "output_type": "stream",
     "text": [
      "enter the number:11\n",
      "the 11 is odd number\n"
     ]
    }
   ],
   "source": [
    "num1=eval(input(\"enter the number:\"))\n",
    "if(num1%2==0):\n",
    "    print (\"the {} is even number\".format(num1))\n",
    "else:\n",
    "    print(\"the {} is odd number\".format(num1))\n"
   ]
  },
  {
   "cell_type": "code",
   "execution_count": 85,
   "id": "62340dc4",
   "metadata": {},
   "outputs": [
    {
     "name": "stdout",
     "output_type": "stream",
     "text": [
      "enter the number:10\n",
      "the 10 is odd number\n"
     ]
    }
   ],
   "source": [
    "num1=eval(input(\"enter the number:\"))\n",
    "if(num1%2!=0):\n",
    "    print(\"the {} is even number\".format(num1))\n",
    "else:\n",
    "    print(\"the {} is odd number\".format(num1))\n"
   ]
  },
  {
   "cell_type": "code",
   "execution_count": null,
   "id": "4b5b7d9d",
   "metadata": {},
   "outputs": [],
   "source": [
    "#wap get a random number between 1 to 50\n",
    "# and check it is an even number or odd number"
   ]
  },
  {
   "cell_type": "code",
   "execution_count": 82,
   "id": "0ad5a0c8",
   "metadata": {},
   "outputs": [
    {
     "name": "stdout",
     "output_type": "stream",
     "text": [
      "enter the number:45\n",
      "the 50 is even number\n",
      "the 50 is odd number\n"
     ]
    }
   ],
   "source": [
    "num=eval(input(\"enter the number:\"))\n",
    "if (num1%2==0):\n",
    "    print(\"the {} is even number\".format(num1))\n",
    "\n",
    "    print(\"the {} is odd number\".format(num1))\n"
   ]
  },
  {
   "cell_type": "code",
   "execution_count": 80,
   "id": "dadb4edb",
   "metadata": {},
   "outputs": [],
   "source": [
    "#wap get a random number between 1 to 200\n",
    "#print you won, if number between 10 to 99\n",
    "#otherwise print\n",
    "\n",
    "import random\n",
    "try:\n",
    "    num=random.randint(1,200)\n",
    "    if(num>=10 and num<=99):\n",
    "        print(\"you won because {} is between10 and 99:\".format(num))\n",
    "        print(\"you lost because {} is between10 and 99:\".format(num))\n",
    "    \n",
    "except Exception as err:\n",
    "    print(err)\n",
    "\n",
    "    "
   ]
  },
  {
   "cell_type": "code",
   "execution_count": 65,
   "id": "8b19ea86",
   "metadata": {},
   "outputs": [
    {
     "name": "stdout",
     "output_type": "stream",
     "text": [
      "enter the number:60\n",
      "it is a pos num\n"
     ]
    }
   ],
   "source": [
    "#wap ask the user enter a number\n",
    "#if the number >=0 print it is a positive number\n",
    "# otherwise print it is a negative number\n",
    "\n",
    "num=eval(input(\"enter the number:\"))\n",
    "if num>=0:\n",
    "    print(\"it is a pos num\")\n",
    "else:\n",
    "    print(\"it is a neg num\")"
   ]
  },
  {
   "cell_type": "code",
   "execution_count": null,
   "id": "e635ab80",
   "metadata": {},
   "outputs": [],
   "source": [
    "#con-1:>0 ======= pos     if<cond>:\n",
    "#con-2:>0 =======neg      elif<cond>\n",
    "#con-3:=0 =======zero     else:\n",
    "\n",
    "#two condition:  if -else\n",
    "#> two condi:     if-elif-else"
   ]
  },
  {
   "cell_type": "code",
   "execution_count": 66,
   "id": "5586c452",
   "metadata": {},
   "outputs": [
    {
     "name": "stdout",
     "output_type": "stream",
     "text": [
      "enter the number:80\n",
      "the given number 80 is positive\n"
     ]
    }
   ],
   "source": [
    "num2=eval(input(\"enter the number:\"))\n",
    "if num>0:\n",
    "    print(\"the given number {} is positive\".format(num2))\n",
    "elif num>0:\n",
    "     print(\"the given number {} is negative\".format(num2))\n",
    "else:\n",
    "     print(\"the given number {} is zero\".format(num2))"
   ]
  },
  {
   "cell_type": "code",
   "execution_count": 72,
   "id": "53c50b57",
   "metadata": {},
   "outputs": [
    {
     "name": "stdout",
     "output_type": "stream",
     "text": [
      "enter the percentage50\n",
      "C Grade\n"
     ]
    }
   ],
   "source": [
    "#wap ask the user enter percentage of marks\n",
    "#if per>90 print a\n",
    "#if per between 70 to 90 print b\n",
    "# if per between 50 to 70 print b\n",
    "# otherwise print d\n",
    "#if - elif-elif-else\n",
    "\n",
    "\n",
    "\n",
    "per=eval(input(\"enter the percentage\"))\n",
    "if per>=90:\n",
    "    print(\"A Grade\")\n",
    "elif per>=70:\n",
    "    print(\"B Grade\")\n",
    "elif per>=50:\n",
    "    print(\"C Grade\")\n",
    "else:\n",
    "    print(\"D Grade\")"
   ]
  },
  {
   "cell_type": "code",
   "execution_count": 74,
   "id": "f72f1248",
   "metadata": {},
   "outputs": [
    {
     "name": "stdout",
     "output_type": "stream",
     "text": [
      "enter the percentage90\n",
      "the given number 90 is A grade:\n"
     ]
    }
   ],
   "source": [
    "per=eval(input(\"enter the percentage\"))\n",
    "if per>=90:\n",
    "    print(\"the given number {} is A grade:\".format(per))\n",
    "elif per>=70:\n",
    "    print(\"the given number {} is B grade:\".format(per))\n",
    "elif per>=50:\n",
    "    print(\"the given number {} is C grade:\".format(per))\n",
    "else:\n",
    "    print(\"the given number {} is D grade:\".format(per))"
   ]
  },
  {
   "cell_type": "code",
   "execution_count": null,
   "id": "f1fcec54",
   "metadata": {},
   "outputs": [],
   "source": [
    "#wap ask the user enter age \n",
    "#if age>60 print SC\n",
    "#if age between 45 to 60 (aged)\n",
    "# if age between 30 to 45 (MA)\n",
    "# if age between 20 to 30(YOUNG)\n",
    "# if age betwwn 13 to 20(TEENAGE)\n",
    "# otherwise (child)\n",
    "\n",
    "if--elif---elif--elif--elif---else"
   ]
  },
  {
   "cell_type": "code",
   "execution_count": 88,
   "id": "d76092aa",
   "metadata": {},
   "outputs": [
    {
     "name": "stdout",
     "output_type": "stream",
     "text": [
      "enter the age67\n",
      "the given number 67 is SC:\n"
     ]
    }
   ],
   "source": [
    "age=eval(input(\"enter the age\"))\n",
    "if age>=60:\n",
    "    print(\"the given number {} is SC:\".format(age))\n",
    "elif age>45:\n",
    "    print(\"the given number {} is AGED:\".format(age))\n",
    "elif age>30:\n",
    "    print(\"the given number {} is MIDDLE AGE:\".format(age))\n",
    "elif age>20:\n",
    "    print(\"the given number {} is YOUNG:\".format(age))\n",
    "elif age>13:\n",
    "    print(\"the given number {} is TEENAGE:\".format(age))\n",
    "else:\n",
    "    print(\"the given number {} is CHILD:\".format(age))"
   ]
  },
  {
   "cell_type": "code",
   "execution_count": null,
   "id": "f278085f",
   "metadata": {},
   "outputs": [],
   "source": [
    "#wap ask the user enter distancein km\n",
    "#  if distance is more than 10km: print charge is 100rs \n",
    "#  if distance is between 7 to 10km: print charge is 70rs\n",
    "#  if distance is between 4 to 7km: print charge is 40rs\n",
    "#  otherwisw print charge is 30rs"
   ]
  },
  {
   "cell_type": "code",
   "execution_count": 12,
   "id": "3e3db547",
   "metadata": {},
   "outputs": [
    {
     "ename": "SyntaxError",
     "evalue": "invalid syntax (3986084327.py, line 4)",
     "output_type": "error",
     "traceback": [
      "\u001b[1;36m  Cell \u001b[1;32mIn[12], line 4\u001b[1;36m\u001b[0m\n\u001b[1;33m    elif distance>=:\u001b[0m\n\u001b[1;37m                   ^\u001b[0m\n\u001b[1;31mSyntaxError\u001b[0m\u001b[1;31m:\u001b[0m invalid syntax\n"
     ]
    }
   ],
   "source": [
    "distance=eval(input(\"enter the distances in km\"))\n",
    "if distance>=10:\n",
    "    print(\"print charge is 100rs\")\n",
    "elif distance>=:\n",
    "    print(\"print charge is 70rs\")\n",
    "elif distance>=4:\n",
    "    print(\"print charge is 40rs\")\n",
    "else:\n",
    "    print(\"print charge is 30rs\")"
   ]
  },
  {
   "cell_type": "code",
   "execution_count": 13,
   "id": "a166c9ee",
   "metadata": {},
   "outputs": [
    {
     "name": "stdout",
     "output_type": "stream",
     "text": [
      "enter ths distance in km60\n",
      "charge is 100rs\n"
     ]
    }
   ],
   "source": [
    "distance=eval(input(\"enter ths distance in km\"))\n",
    "if distance>=10:\n",
    "    print(\"charge is 100rs\")\n",
    "elif distance>=7:\n",
    "    print(\"charge is 70rs\")\n",
    "elif distance>=4:\n",
    "    print(\"charge is 40rs\")\n",
    "else:\n",
    "    print(\"charge in 30rs\")"
   ]
  },
  {
   "cell_type": "code",
   "execution_count": null,
   "id": "33b071bd",
   "metadata": {},
   "outputs": [],
   "source": [
    "# wap ask the user enter a salary\n",
    "# if salary >10laks:\n",
    "# enter the user tax percentage :10%\n",
    "# print: the amount of tax paid (salary*tax_per)/100\n",
    "# if salary between 7 laks to laks\n",
    "#      enter the user tax percentage:5%\n",
    "#      print the amount of tax paid:\n",
    "# if salary between 4 to 7 lakhs\n",
    "#      enter the user tax percentage:2.5%\n",
    "#      print the amount of tax paid\n",
    "# otherwise: print ('no tax required')"
   ]
  },
  {
   "cell_type": "code",
   "execution_count": 23,
   "id": "d8151b5d",
   "metadata": {},
   "outputs": [
    {
     "name": "stdout",
     "output_type": "stream",
     "text": [
      "enter a salary400000\n",
      "enter the tax_per25000\n",
      "the amount tax paid: 100000000.0\n"
     ]
    }
   ],
   "source": [
    "salary=eval(input(\"enter a salary\"))\n",
    "if salary>=1000000:\n",
    "    tax_per=eval(input(\"enter the tax_per\"))\n",
    "    print(\"the amount tax paid:\",salary*tax_per/100)\n",
    "elif salary>=700000:\n",
    "    tax_per=eval(input(\"enter the tax_per\"))\n",
    "    print(\"the amount tax paid:\",salary*tax_per/100)\n",
    "elif salary>=400000:\n",
    "    tax_per=eval(input(\"enter the tax_per\"))\n",
    "    print(\"the amount tax paid:\",salary*tax_per/100)\n",
    "else:\n",
    "    print('no tax reqiured')\n"
   ]
  },
  {
   "cell_type": "code",
   "execution_count": 24,
   "id": "bd8e4350",
   "metadata": {},
   "outputs": [],
   "source": [
    "#wap ask the user enter which operation you need to perforn \n",
    "#                operation are; addition/mul/sub/div: input()\n",
    "# ask the user enter a number1= eval(input())\n",
    "# ask the user enter a number2=eval(input())\n",
    "# if the operation euql to addtion\n",
    "#      print(\"we are dpoing addition opertion\")\n",
    "#      print(\"the addtion of num1 and num2 is\")\n",
    "#if the operation euql to multiplication\n",
    "#      print(\"we are dpoing multiplication opertion\")\n",
    "#      print(\"the addtion of num1 and num2 is\")\n",
    "#if the operation euql to subtraction\n",
    "#      print(\"we are dpoing subtraction opertion\")\n",
    "#      print(\"the addtion of num1 and num2 is\")\n",
    "#if the operation euql to division\n",
    "#      print(\"we are dpoing division opertion\")\n",
    "#      print(\"the addtion of num1 and num2 is\")\n",
    "#else:\n",
    "#       print(\"provide suitable operation\")"
   ]
  },
  {
   "cell_type": "code",
   "execution_count": 60,
   "id": "26691056",
   "metadata": {},
   "outputs": [
    {
     "name": "stdout",
     "output_type": "stream",
     "text": [
      "which operation want perform*\n",
      "enter a number15\n",
      "enter a number14\n",
      "provide suitable operation\n"
     ]
    }
   ],
   "source": [
    "operation=(input(\"which operation want perform\"))\n",
    "num1=eval(input(\"enter a number\"))\n",
    "num2=eval(input(\"enter a number\"))\n",
    "if operation=='addition':\n",
    "    print(\"we are operation addition operation\")\n",
    "    print(\"the addtion of{} is {}\".format(num1,num2,num1+num2))\n",
    "elif operation=='multiplication':\n",
    "    print(\"we are operation multiplication operation\")\n",
    "    print(\"the multiplication of{} is {}\".format(num1,num2,num1*num2))\n",
    "elif operation=='subtraction':\n",
    "    print(\"we are operation subtration operation\")\n",
    "    print(\"the subtraction of{} is {}\".format(num1,num2,num1-num2))\n",
    "elif operation=='division':\n",
    "    print(\"we are operation division operation\")\n",
    "    print(\"the division of{} is {}\".format(num1,num2,num1/num2))\n",
    "else:\n",
    "    print(\"provide suitable operation\")\n",
    "\n",
    "    "
   ]
  },
  {
   "cell_type": "code",
   "execution_count": 42,
   "id": "aa9e90a3",
   "metadata": {},
   "outputs": [],
   "source": [
    "#wap ask the user enter a number\n",
    "# if number greater than zero:\n",
    "#       if the number==0:print('it is a zero')\n",
    "#           print ('it is a zero number')\n",
    "#       else:  \n",
    "#             print(\"it is pos number\")\n",
    "#else:\n",
    "#     print(\"it is a negative number\")"
   ]
  },
  {
   "cell_type": "code",
   "execution_count": 49,
   "id": "b72807ba",
   "metadata": {},
   "outputs": [
    {
     "name": "stdout",
     "output_type": "stream",
     "text": [
      "enter a number52\n",
      "it is a positive number\n"
     ]
    }
   ],
   "source": [
    "number=eval(input(\"enter a number\"))\n",
    "if number>=0:\n",
    "    if number==0:\n",
    "        print(\"it is a zero number\")\n",
    "    else:\n",
    "        print(\"it is a positive number\")\n",
    "else:\n",
    "    print(\"it is a negative number\")"
   ]
  },
  {
   "cell_type": "code",
   "execution_count": null,
   "id": "29097ccb",
   "metadata": {},
   "outputs": [],
   "source": [
    "#wap  ask the user enter gender male n female\n",
    "# if gender equal to male\n",
    "#     ask the user enter age \n",
    "#    if age>60: print(s)\n",
    "#    if age between30 to 60 print (middle aged man)\n",
    "#    if age between 20 to 30 print(young boy)\n",
    "#    if age between 13 to 20: print(teenage gril)\n",
    "# otherwise: print('boy')\n",
    "# else:\n",
    "# if gender equal to girl\n",
    "#     ask the user enter age \n",
    "#    if age>60: print(s)\n",
    "#    if age between30 to 60 print (middle aged man)\n",
    "#    if age between 20 to 30 print(young girl)\n",
    "#    if age between 13 to 20: print(teenage gril)\n",
    "# otherwise: print('girl')"
   ]
  },
  {
   "cell_type": "code",
   "execution_count": 67,
   "id": "6b95b916",
   "metadata": {},
   "outputs": [
    {
     "name": "stdout",
     "output_type": "stream",
     "text": [
      "enter the gender either male or female:male\n",
      "enter a age:30\n",
      "middle aged man\n"
     ]
    }
   ],
   "source": [
    "try:\n",
    "    gender=input(\"enter the gender either male or female:\")\n",
    "    if gender==\"male\":\n",
    "        age=eval(input(\"enter a age:\"))\n",
    "        if age>=60:\n",
    "            print(\"senior citizen\")\n",
    "        elif age>=30:\n",
    "            print(\"middle aged man\")\n",
    "        elif age>=20:\n",
    "            print(\"young boy\")\n",
    "        elif age>=13:\n",
    "            print(\"teenage boy\")\n",
    "        else:\n",
    "            print('boy')\n",
    "    elif gender==\"female\":\n",
    "        age=eval(input(\"enter a age\"))\n",
    "        if age>=60:\n",
    "            print(\"senior citizen\")\n",
    "        elif age>=30:\n",
    "            print(\"middle aged women\")\n",
    "        elif age>=20:\n",
    "            print(\"young girl\")\n",
    "        elif age>=13:\n",
    "            print(\"teenage girl\")\n",
    "        else:\n",
    "            print('girl')\n",
    "except Exception as e:\n",
    "    print(e)"
   ]
  },
  {
   "cell_type": "code",
   "execution_count": 2,
   "id": "1e45040f",
   "metadata": {},
   "outputs": [
    {
     "name": "stdout",
     "output_type": "stream",
     "text": [
      "enter a num1:41\n",
      "enter a num2:55\n",
      "enter a num3:8\n"
     ]
    },
    {
     "ename": "TypeError",
     "evalue": "format expected at most 2 arguments, got 3",
     "output_type": "error",
     "traceback": [
      "\u001b[1;31m---------------------------------------------------------------------------\u001b[0m",
      "\u001b[1;31mTypeError\u001b[0m                                 Traceback (most recent call last)",
      "Cell \u001b[1;32mIn[2], line 11\u001b[0m\n\u001b[0;32m      9\u001b[0m num2\u001b[38;5;241m>\u001b[39m\u001b[38;5;241m=\u001b[39mnum3\n\u001b[0;32m     10\u001b[0m num3\u001b[38;5;241m>\u001b[39m\u001b[38;5;241m=\u001b[39mnum1\n\u001b[1;32m---> 11\u001b[0m \u001b[38;5;28mprint\u001b[39m(\u001b[38;5;124m\"\u001b[39m\u001b[38;5;124mfind the biggest number of \u001b[39m\u001b[38;5;132;01m{}\u001b[39;00m\u001b[38;5;124m is \u001b[39m\u001b[38;5;132;01m{}\u001b[39;00m\u001b[38;5;124m:\u001b[39m\u001b[38;5;124m\"\u001b[39m,\u001b[38;5;28mformat\u001b[39m(num1,num2,num3))\n",
      "\u001b[1;31mTypeError\u001b[0m: format expected at most 2 arguments, got 3"
     ]
    }
   ],
   "source": [
    "#wap ask the user 3 number\n",
    "# find the biggest number\n",
    "\n",
    "\n",
    "num1=eval(input(\"enter a num1:\"))\n",
    "num2=eval(input(\"enter a num2:\"))\n",
    "num3=eval(input('enter a num3:'))\n",
    "num1>=num2\n",
    "num2>=num3\n",
    "num3>=num1\n",
    "print(\"find the biggest number of {} is {}:\",format(num1,num2,num3))\n"
   ]
  },
  {
   "cell_type": "code",
   "execution_count": null,
   "id": "e7a14452",
   "metadata": {},
   "outputs": [],
   "source": []
  }
 ],
 "metadata": {
  "kernelspec": {
   "display_name": "Python 3 (ipykernel)",
   "language": "python",
   "name": "python3"
  },
  "language_info": {
   "codemirror_mode": {
    "name": "ipython",
    "version": 3
   },
   "file_extension": ".py",
   "mimetype": "text/x-python",
   "name": "python",
   "nbconvert_exporter": "python",
   "pygments_lexer": "ipython3",
   "version": "3.11.5"
  }
 },
 "nbformat": 4,
 "nbformat_minor": 5
}
