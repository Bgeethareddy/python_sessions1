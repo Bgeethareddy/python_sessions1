{
 "cells": [
  {
   "cell_type": "code",
   "execution_count": 1,
   "id": "72d92b4c",
   "metadata": {},
   "outputs": [
    {
     "name": "stdout",
     "output_type": "stream",
     "text": [
      "enter a value12\n",
      "the square of12 is144\n"
     ]
    }
   ],
   "source": [
    "try:\n",
    "    number=eval(input(\"enter a value\"))\n",
    "    square=number*number\n",
    "    print(\"the square of{} is{}\".format(number,square))\n",
    "except Exception as e:\n",
    "    print(e)"
   ]
  },
  {
   "cell_type": "code",
   "execution_count": null,
   "id": "3cf5efae",
   "metadata": {},
   "outputs": [],
   "source": [
    "iam changing the code"
   ]
  },
  {
   "cell_type": "code",
   "execution_count": 2,
   "id": "6376dfce",
   "metadata": {},
   "outputs": [
    {
     "name": "stdout",
     "output_type": "stream",
     "text": [
      "enter a number:55\n",
      "55---110---165---220---275\n"
     ]
    }
   ],
   "source": [
    "try:\n",
    "    x=eval(input(\"enter a number:\"))\n",
    "    print(x,2*x,3*x,4*x,5*x,sep='---')\n",
    "except Exception as e:\n",
    "    print(e)"
   ]
  },
  {
   "cell_type": "code",
   "execution_count": 3,
   "id": "5d14659f",
   "metadata": {},
   "outputs": [
    {
     "name": "stdout",
     "output_type": "stream",
     "text": [
      "enter a weight in kilograms55\n",
      "55.0 kilograms is equal to 110.0 pounds.\n"
     ]
    }
   ],
   "source": [
    "try:\n",
    "    weight_in_kilograms=float(input(\"enter a weight in kilograms\"))\n",
    "    weight_in_pounds=weight_in_kilograms*2\n",
    "    print(f\"{weight_in_kilograms} kilograms is equal to {weight_in_pounds} pounds.\")\n",
    "except Exception as e:\n",
    "    print(e)"
   ]
  },
  {
   "cell_type": "code",
   "execution_count": 4,
   "id": "422911e3",
   "metadata": {},
   "outputs": [
    {
     "name": "stdout",
     "output_type": "stream",
     "text": [
      "enter the price of the meal:500\n",
      "enter the tip percentage you want to leave:50\n",
      "bill of meal: 500.0 total_bill: 1500.0\n"
     ]
    }
   ],
   "source": [
    "try:\n",
    "    meal_price=float(input(\"enter the price of the meal:\"))\n",
    "    tip_percentage=float(input(\"enter the tip percentage you want to leave:\"))\n",
    "    total_bill=meal_price/tip_percentage*100\n",
    "    p=meal_price+total_bill\n",
    "    print(\"bill of meal:\",meal_price,\"total_bill:\",p)\n",
    "except Exception as e:\n",
    "    print(e)"
   ]
  },
  {
   "cell_type": "code",
   "execution_count": 5,
   "id": "db36e294",
   "metadata": {},
   "outputs": [
    {
     "name": "stdout",
     "output_type": "stream",
     "text": [
      "enter the first num55\n",
      "enter the second num66\n",
      "enter the third num88\n",
      "total: 209\n",
      "average: 69.66666666666667\n"
     ]
    }
   ],
   "source": [
    "try:\n",
    "    num1=eval(input(\"enter the first num\"))\n",
    "    num2=eval(input(\"enter the second num\"))\n",
    "    num3=eval(input(\"enter the third num\"))\n",
    "    total=num1+num2+num3\n",
    "    average=total/3\n",
    "    print(\"total:\",total)\n",
    "    print(\"average:\",average)\n",
    "except Exception as e:\n",
    "    print(e)"
   ]
  },
  {
   "cell_type": "code",
   "execution_count": 6,
   "id": "7cca9f4f",
   "metadata": {},
   "outputs": [
    {
     "name": "stdout",
     "output_type": "stream",
     "text": [
      "enter the basic_salary:100000\n",
      "gross_salary: 160000.0\n"
     ]
    }
   ],
   "source": [
    "try:\n",
    "    basic_salary=eval(input(\"enter the basic_salary:\"))\n",
    "    dearness_allowance=0.4*basic_salary\n",
    "    house_rent_allowance=0.2*basic_salary\n",
    "    gross_salary=basic_salary+dearness_allowance+house_rent_allowance\n",
    "    print(\"gross_salary:\",gross_salary)\n",
    "except Exception as e:\n",
    "    print(e)"
   ]
  },
  {
   "cell_type": "code",
   "execution_count": 7,
   "id": "69cff22c",
   "metadata": {},
   "outputs": [
    {
     "name": "stdout",
     "output_type": "stream",
     "text": [
      "enter the distance between two citizen in km:20\n",
      "distance in meters of{} is {}: 20000.0\n",
      "distance in feet of{} is {}: 96410.40000000001\n",
      "distance in inches of{} is {}: 57044.0\n",
      "distance in centimeters of{} is {}: 400000.0\n"
     ]
    }
   ],
   "source": [
    "try:\n",
    "    distance_in_km=float(input(\"enter the distance between two citizen in km:\"))\n",
    "    meters=distance_in_km*1000\n",
    "    feet=distance_in_km*4820.52\n",
    "    inches=distance_in_km*2852.2\n",
    "    centimeters=distance_in_km*20000\n",
    "    print(\"distance in meters of{} is {}:\",format(meters))\n",
    "    print(\"distance in feet of{} is {}:\",format(feet))\n",
    "    print(\"distance in inches of{} is {}:\",format(inches))\n",
    "    print(\"distance in centimeters of{} is {}:\",format(centimeters))\n",
    "except Exception as e:\n",
    "    print(e)"
   ]
  },
  {
   "cell_type": "code",
   "execution_count": 8,
   "id": "40b8e235",
   "metadata": {},
   "outputs": [
    {
     "name": "stdout",
     "output_type": "stream",
     "text": [
      "enter the students marks in 1st subjests:98\n",
      "enter the students marks in 2nd subjests:89\n",
      "enter the students marks in 3rd subjests:78\n",
      "enter the students marks in 4th subjests:64\n",
      "enter the students marks in 5th subjests:55\n",
      "percentage_marks of all subjects 3.84 is 3.84:\n",
      "aggregate_marks of all subjects 3.84 is 3.84:\n",
      "the highest marks 1st subject marks 98 is 89:\n",
      "the highest marks 2nd subject marks 98 is 89:\n",
      "the highest marks 3rd subject marks 98 is 89:\n",
      "the highest marks 4th subject marks 98 is 89:\n",
      "the highest marks 5th subject marks 98 is 89:\n"
     ]
    }
   ],
   "source": [
    "try:\n",
    "    m1=eval(input(\"enter the students marks in 1st subjests:\"))\n",
    "    m2=eval(input(\"enter the students marks in 2nd subjests:\"))\n",
    "    m3=eval(input(\"enter the students marks in 3rd subjests:\"))\n",
    "    m4=eval(input(\"enter the students marks in 4th subjests:\"))\n",
    "    m5=eval(input(\"enter the students marks in 5th subjests:\"))\n",
    "    total_marks=m1+m2+m3+m4+m5\n",
    "    percentage_marks=total_marks/100\n",
    "    print(\"percentage_marks of all subjects {} is {}:\".format(percentage_marks,total_marks/100))\n",
    "    aggregate_marks=total_marks/100\n",
    "    print(\"aggregate_marks of all subjects {} is {}:\".format(aggregate_marks,total_marks/100))\n",
    "    if m1>=90:\n",
    "        print(\"the highest marks 1st subject marks {} is {}:\".format(m1,m2,m3,m4,m5,percentage_marks,aggregate_marks))\n",
    "    if m2>=80:\n",
    "        print(\"the highest marks 2nd subject marks {} is {}:\".format(m1,m2,m3,m4,m5,percentage_marks,aggregate_marks))\n",
    "    if m3>=70:\n",
    "        print(\"the highest marks 3rd subject marks {} is {}:\".format(m1,m2,m3,m4,m5,percentage_marks,aggregate_marks))\n",
    "    if m4>=60:\n",
    "        print(\"the highest marks 4th subject marks {} is {}:\".format(m1,m2,m3,m4,m5,percentage_marks,aggregate_marks))\n",
    "    if m5>=50:\n",
    "        print(\"the highest marks 5th subject marks {} is {}:\".format(m1,m2,m3,m4,m5,percentage_marks,aggregate_marks))\n",
    "    else:\n",
    "        print('fail')\n",
    "except Exception as e:\n",
    "    print(e)"
   ]
  },
  {
   "cell_type": "code",
   "execution_count": 9,
   "id": "cddff6bb",
   "metadata": {},
   "outputs": [
    {
     "name": "stdout",
     "output_type": "stream",
     "text": [
      "enter the Temperature in Fahrenheit degrees:45\n",
      "Fahrenheit of {} is {} degree celsius: 7.222222222222222\n"
     ]
    }
   ],
   "source": [
    "try:\n",
    "    Fahrenheit=eval(input(\"enter the Temperature in Fahrenheit degrees:\"))\n",
    "    celsius=(Fahrenheit-32)*5/9\n",
    "    print(\"Fahrenheit of {} is {} degree celsius:\",format(celsius))\n",
    "except Exception as e:\n",
    "    print(e)"
   ]
  },
  {
   "cell_type": "code",
   "execution_count": 10,
   "id": "693f88e5",
   "metadata": {},
   "outputs": [
    {
     "name": "stdout",
     "output_type": "stream",
     "text": [
      "enter the length of rectangle:6\n",
      "enter the breadth of rectangle:6\n",
      "enter the radius of circle:5\n",
      "area_rectangle of {} is {}: 36\n",
      "area_perimeter of {} is {}: 24\n",
      "area_circle of {} is {}: 78.53981633974483\n",
      "area_circumference of {} is {}: 16.283185307179586\n"
     ]
    }
   ],
   "source": [
    "import math\n",
    "try:\n",
    "    length=eval(input(\"enter the length of rectangle:\"))\n",
    "    breadth=eval(input(\"enter the breadth of rectangle:\"))\n",
    "    radius=eval(input(\"enter the radius of circle:\"))\n",
    "    area_rectangle=length*breadth\n",
    "    area_perimeter=2*(length+breadth)\n",
    "    area_circle=math.pi*radius**2\n",
    "    area_circumference=2*(math.pi+radius)\n",
    "    print(\"area_rectangle of {} is {}:\",format(area_rectangle))\n",
    "    print(\"area_perimeter of {} is {}:\",format(area_perimeter))\n",
    "    print(\"area_circle of {} is {}:\",format(area_circle))\n",
    "    print(\"area_circumference of {} is {}:\",format(area_circumference))\n",
    "except Exception as e:\n",
    "    print(e)"
   ]
  },
  {
   "cell_type": "code",
   "execution_count": 11,
   "id": "392080ed",
   "metadata": {},
   "outputs": [
    {
     "name": "stdout",
     "output_type": "stream",
     "text": [
      "enter the value of C:60\n",
      "enter the value of D100\n",
      "the value of C is{}: 100\n",
      "the value of D is{}: 60\n"
     ]
    }
   ],
   "source": [
    "try:\n",
    "    C=int(input(\"enter the value of C:\"))\n",
    "    D=int(input(\"enter the value of D\"))\n",
    "    A=C\n",
    "    C=D\n",
    "    D=A\n",
    "    print(\"the value of C is{}:\",format(C))\n",
    "    print(\"the value of D is{}:\",format(D))\n",
    "except Exception as e:\n",
    "    print(e)"
   ]
  },
  {
   "cell_type": "code",
   "execution_count": 13,
   "id": "4cdd5106",
   "metadata": {},
   "outputs": [
    {
     "name": "stdout",
     "output_type": "stream",
     "text": [
      "total illiterate men is: 0.0\n",
      "total illiterate women is: 13600.0\n"
     ]
    }
   ],
   "source": [
    "try:\n",
    "    percentage_total_literate=48\n",
    "    percentage_literate_men=35\n",
    "    total_population=80000\n",
    "    total_men=(percentage_literate_men/100)*total_population\n",
    "    total_women=total_population-total_men\n",
    "    literate_men=(percentage_literate_men/100)*total_population\n",
    "    illiterate_men=total_men-literate_men\n",
    "    illiterate_women=total_women-(percentage_total_literate/100)*total_population\n",
    "    print(\"total illiterate men is:\",format(illiterate_men))\n",
    "    print(\"total illiterate women is:\",format(illiterate_women))\n",
    "except Exception as e:\n",
    "    print(e)"
   ]
  },
  {
   "cell_type": "code",
   "execution_count": 14,
   "id": "1119a98c",
   "metadata": {},
   "outputs": [
    {
     "name": "stdout",
     "output_type": "stream",
     "text": [
      "Enter a four-digit number:1346\n",
      "The sum of the first and last digits is: 7\n"
     ]
    }
   ],
   "source": [
    "try:\n",
    "    number = input(\"Enter a four-digit number:\")\n",
    "    if len(number) == 4 and number.isdigit():\n",
    "        number = int(number)\n",
    "        first_digit = number // 1000\n",
    "        last_digit = number % 10\n",
    "        sum_of_digits = first_digit + last_digit\n",
    "        print(f\"The sum of the first and last digits is: {sum_of_digits}\")\n",
    "    else:\n",
    "        print(\"Please enter a valid four-digit number.\")\n",
    "except Exception as e:\n",
    "    print(e)"
   ]
  },
  {
   "cell_type": "code",
   "execution_count": 15,
   "id": "e9c7ab8a",
   "metadata": {},
   "outputs": [
    {
     "name": "stdout",
     "output_type": "stream",
     "text": [
      "enter a five_digits:86889\n",
      "enter the reversed number is 98868:\n"
     ]
    }
   ],
   "source": [
    "try:\n",
    "    number=input(\"enter a five_digits:\")\n",
    "    if len(number) == 5 and number.isdigit():\n",
    "        number = int(number)\n",
    "        reversed_number=0\n",
    "        last_digit=number % 10\n",
    "        reversed_number=reversed_number*10+last_digit\n",
    "        number=number // 10\n",
    "        second_digit=number % 10\n",
    "        reversed_number=reversed_number*10+second_digit\n",
    "        number=number // 10\n",
    "        third_digit=number % 10\n",
    "        reversed_number=reversed_number*10+third_digit\n",
    "        number=number // 10\n",
    "        forth_digit=number % 10\n",
    "        reversed_number=reversed_number*10+forth_digit\n",
    "        number=number // 10\n",
    "        fifth_digit=number % 10\n",
    "        reversed_number=reversed_number*10+fifth_digit\n",
    "        number=number // 10\n",
    "        print(\"enter the reversed number is {}:\".format(reversed_number))\n",
    "    else:\n",
    "        print(\"Please enter a valid four-digit number.\")\n",
    "except Exception as e:\n",
    "    print(e)"
   ]
  },
  {
   "cell_type": "code",
   "execution_count": 18,
   "id": "e2ac2b4b",
   "metadata": {},
   "outputs": [
    {
     "name": "stdout",
     "output_type": "stream",
     "text": [
      "enter the amount to withdrawn in hundred:500\n",
      "num of 100 is {}: 0\n",
      "num of 50 is {}: 1\n",
      "num of 10 is {}: 0\n"
     ]
    }
   ],
   "source": [
    "try:\n",
    "    amount_in_hundred=eval(input(\"enter the amount to withdrawn in hundred:\"))\n",
    "    num_100=0\n",
    "    num_50=0\n",
    "    num_10=0\n",
    "    if amount_in_hundred<0:\n",
    "        if amount_in_hundred>=1:\n",
    "            num_100=amount_in_hundred\n",
    "            amount_in_hundred=0\n",
    "    elif amount_in_hundred>=0.5:\n",
    "        num_50=1\n",
    "        amount_in_hundred=0.5\n",
    "    else:\n",
    "        num_10=1\n",
    "        amount_in_hundred=0.1\n",
    "    print(\"num of 100 is {}:\",format(num_100))\n",
    "    print(\"num of 50 is {}:\",format(num_50))\n",
    "    print(\"num of 10 is {}:\",format(num_10))\n",
    "except Exception as e:\n",
    "    print(e)"
   ]
  },
  {
   "cell_type": "code",
   "execution_count": null,
   "id": "be69aeba",
   "metadata": {},
   "outputs": [],
   "source": []
  }
 ],
 "metadata": {
  "kernelspec": {
   "display_name": "Python 3 (ipykernel)",
   "language": "python",
   "name": "python3"
  },
  "language_info": {
   "codemirror_mode": {
    "name": "ipython",
    "version": 3
   },
   "file_extension": ".py",
   "mimetype": "text/x-python",
   "name": "python",
   "nbconvert_exporter": "python",
   "pygments_lexer": "ipython3",
   "version": "3.11.5"
  }
 },
 "nbformat": 4,
 "nbformat_minor": 5
}
