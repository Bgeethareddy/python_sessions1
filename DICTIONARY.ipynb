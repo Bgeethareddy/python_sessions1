{
 "cells": [
  {
   "cell_type": "code",
   "execution_count": 1,
   "id": "6358e55e",
   "metadata": {},
   "outputs": [],
   "source": [
    "list1=['Ram','Raheem','Robert']\n",
    "\n",
    "\n",
    "list2=[25,30,35]"
   ]
  },
  {
   "cell_type": "code",
   "execution_count": 2,
   "id": "eaca6eec",
   "metadata": {},
   "outputs": [
    {
     "data": {
      "text/plain": [
       "'Robert has age 35'"
      ]
     },
     "execution_count": 2,
     "metadata": {},
     "output_type": "execute_result"
    }
   ],
   "source": [
    "'Ram has age 25'\n",
    "'Raheem has age 30'\n",
    "'Robert has age 35'"
   ]
  },
  {
   "cell_type": "code",
   "execution_count": 3,
   "id": "7839e617",
   "metadata": {},
   "outputs": [
    {
     "name": "stdout",
     "output_type": "stream",
     "text": [
      "Ram 25\n",
      "Raheem 30\n",
      "Robert 35\n"
     ]
    }
   ],
   "source": [
    "for i,j in zip(list1,list2):\n",
    "    print(i,j)\n"
   ]
  },
  {
   "cell_type": "code",
   "execution_count": null,
   "id": "ca5682e5",
   "metadata": {},
   "outputs": [],
   "source": [
    "# {ket:value}"
   ]
  },
  {
   "cell_type": "code",
   "execution_count": 33,
   "id": "d51dd438",
   "metadata": {},
   "outputs": [
    {
     "data": {
      "text/plain": [
       "{'Ram': 25, 'Raheem': 30, 'Robert': 35}"
      ]
     },
     "execution_count": 33,
     "metadata": {},
     "output_type": "execute_result"
    }
   ],
   "source": [
    "d1={'Ram':25,\n",
    "   'Raheem':30,\n",
    "   'Robert':35}\n",
    "\n",
    "d1\n",
    "\n",
    "# keys= 'Ram','Raheem','Robert'\n",
    "# values= 25,30,35"
   ]
  },
  {
   "cell_type": "code",
   "execution_count": null,
   "id": "a8d768e1",
   "metadata": {},
   "outputs": [],
   "source": [
    "{'Ram':25,'Raheem':30,'Robert':35}"
   ]
  },
  {
   "cell_type": "code",
   "execution_count": null,
   "id": "1ddf77db",
   "metadata": {},
   "outputs": [],
   "source": [
    "d2={25:'Ram',30:'Raheem',30:'Robert'}"
   ]
  },
  {
   "cell_type": "code",
   "execution_count": 6,
   "id": "7a278519",
   "metadata": {},
   "outputs": [
    {
     "ename": "TypeError",
     "evalue": "unhashable type: 'list'",
     "output_type": "error",
     "traceback": [
      "\u001b[1;31m---------------------------------------------------------------------------\u001b[0m",
      "\u001b[1;31mTypeError\u001b[0m                                 Traceback (most recent call last)",
      "Cell \u001b[1;32mIn[6], line 1\u001b[0m\n\u001b[1;32m----> 1\u001b[0m d4\u001b[38;5;241m=\u001b[39m{[\u001b[38;5;241m2\u001b[39m,\u001b[38;5;241m3\u001b[39m,\u001b[38;5;241m4\u001b[39m]:\u001b[38;5;124m'\u001b[39m\u001b[38;5;124meven\u001b[39m\u001b[38;5;124m'\u001b[39m,\n\u001b[0;32m      2\u001b[0m    (\u001b[38;5;241m3\u001b[39m,\u001b[38;5;241m5\u001b[39m,\u001b[38;5;241m7\u001b[39m):\u001b[38;5;124m'\u001b[39m\u001b[38;5;124modd\u001b[39m\u001b[38;5;124m'\u001b[39m}\n",
      "\u001b[1;31mTypeError\u001b[0m: unhashable type: 'list'"
     ]
    }
   ],
   "source": [
    "d4={[2,6,4]:'even',\n",
    "   (3,5,7):'odd'}"
   ]
  },
  {
   "cell_type": "code",
   "execution_count": 8,
   "id": "153a4a2f",
   "metadata": {},
   "outputs": [],
   "source": [
    "d3={'even':[2,6,4],\n",
    "   'odd':(3,5,7)}"
   ]
  },
  {
   "cell_type": "code",
   "execution_count": 10,
   "id": "a53d3054",
   "metadata": {},
   "outputs": [
    {
     "data": {
      "text/plain": [
       "{(2, 6, 4): 'even', (3, 5, 7): 'odd'}"
      ]
     },
     "execution_count": 10,
     "metadata": {},
     "output_type": "execute_result"
    }
   ],
   "source": [
    "d4={(2,6,4):'even',\n",
    "   (3,5,7):'odd'}\n",
    "d4"
   ]
  },
  {
   "cell_type": "code",
   "execution_count": 13,
   "id": "8f757312",
   "metadata": {},
   "outputs": [
    {
     "data": {
      "text/plain": [
       "{'item_list': {'fruits': 'apple'}}"
      ]
     },
     "execution_count": 13,
     "metadata": {},
     "output_type": "execute_result"
    }
   ],
   "source": [
    "#{'key':<{}>}\n",
    "d5={'item_list':{'fruits':'apple'}}\n",
    "\n",
    "d5"
   ]
  },
  {
   "cell_type": "code",
   "execution_count": 11,
   "id": "6794339e",
   "metadata": {},
   "outputs": [
    {
     "ename": "TypeError",
     "evalue": "unhashable type: 'dict'",
     "output_type": "error",
     "traceback": [
      "\u001b[1;31m---------------------------------------------------------------------------\u001b[0m",
      "\u001b[1;31mTypeError\u001b[0m                                 Traceback (most recent call last)",
      "Cell \u001b[1;32mIn[11], line 1\u001b[0m\n\u001b[1;32m----> 1\u001b[0m d6\u001b[38;5;241m=\u001b[39m{{\u001b[38;5;124m'\u001b[39m\u001b[38;5;124mfriuts\u001b[39m\u001b[38;5;124m'\u001b[39m:\u001b[38;5;124m'\u001b[39m\u001b[38;5;124mApple\u001b[39m\u001b[38;5;124m'\u001b[39m}:\u001b[38;5;124m'\u001b[39m\u001b[38;5;124mitem_list\u001b[39m\u001b[38;5;124m'\u001b[39m}\n\u001b[0;32m      3\u001b[0m d6\n",
      "\u001b[1;31mTypeError\u001b[0m: unhashable type: 'dict'"
     ]
    }
   ],
   "source": [
    "d6={{'friuts':'Apple'}:'item_list'}\n",
    "\n",
    "d6"
   ]
  },
  {
   "cell_type": "code",
   "execution_count": null,
   "id": "50c46014",
   "metadata": {},
   "outputs": [],
   "source": [
    "a=[1,2]\n",
    "b=(1,2)"
   ]
  },
  {
   "cell_type": "code",
   "execution_count": 15,
   "id": "aff20f87",
   "metadata": {},
   "outputs": [
    {
     "data": {
      "text/plain": [
       "2"
      ]
     },
     "execution_count": 15,
     "metadata": {},
     "output_type": "execute_result"
    }
   ],
   "source": [
    "a,b=[1,2]\n",
    "c,d=(1,2)\n",
    "d"
   ]
  },
  {
   "cell_type": "code",
   "execution_count": 18,
   "id": "24feb8bb",
   "metadata": {},
   "outputs": [
    {
     "data": {
      "text/plain": [
       "(1, 2)"
      ]
     },
     "execution_count": 18,
     "metadata": {},
     "output_type": "execute_result"
    }
   ],
   "source": [
    "a=(1,2)\n",
    "a"
   ]
  },
  {
   "cell_type": "code",
   "execution_count": 19,
   "id": "d74dc53d",
   "metadata": {},
   "outputs": [
    {
     "data": {
      "text/plain": [
       "{'A': 1, 'B': 2}"
      ]
     },
     "execution_count": 19,
     "metadata": {},
     "output_type": "execute_result"
    }
   ],
   "source": [
    "d1={'A':1,'B':2,'A':1}\n",
    "d1"
   ]
  },
  {
   "cell_type": "code",
   "execution_count": 22,
   "id": "cfca7f53",
   "metadata": {},
   "outputs": [
    {
     "data": {
      "text/plain": [
       "{'A': 3, 'B': 2}"
      ]
     },
     "execution_count": 22,
     "metadata": {},
     "output_type": "execute_result"
    }
   ],
   "source": [
    "d1={'A':1,'B':2,'A':3}\n",
    "d1"
   ]
  },
  {
   "cell_type": "markdown",
   "id": "99af6aaf",
   "metadata": {},
   "source": [
    "- Dictionary is a key: value pair\n",
    "    \n",
    "- At values position you acnt take any data type\n",
    "\n",
    "- At keys position list and dictionary will fail\n",
    "\n",
    "- Duplicates are not allowed\n",
    "\n",
    "- If you will update a kye values, latest value it will take"
   ]
  },
  {
   "cell_type": "markdown",
   "id": "2838ffb6",
   "metadata": {},
   "source": [
    "$TYPE$"
   ]
  },
  {
   "cell_type": "code",
   "execution_count": 24,
   "id": "55a3eaf8",
   "metadata": {},
   "outputs": [
    {
     "data": {
      "text/plain": [
       "dict"
      ]
     },
     "execution_count": 24,
     "metadata": {},
     "output_type": "execute_result"
    }
   ],
   "source": [
    "type(d1)"
   ]
  },
  {
   "cell_type": "markdown",
   "id": "d5d01d5c",
   "metadata": {},
   "source": [
    "- str\n",
    "- list\n",
    "- dict\n",
    "- int\n",
    "- float\n",
    "- bool\n",
    "- complex\n",
    "- tuple\n",
    "- set"
   ]
  },
  {
   "cell_type": "code",
   "execution_count": 29,
   "id": "60eae56f",
   "metadata": {},
   "outputs": [
    {
     "data": {
      "text/plain": [
       "'Robert'"
      ]
     },
     "execution_count": 29,
     "metadata": {},
     "output_type": "execute_result"
    }
   ],
   "source": [
    "d1={'Ram':25,\n",
    "    'Raheem': 30,\n",
    "    'Robert':35}\n",
    "\n",
    "max(d1)\n",
    "\n",
    "# this maximum we are getting based on key or value"
   ]
  },
  {
   "cell_type": "markdown",
   "id": "411732b0",
   "metadata": {},
   "source": [
    "- Maximum and MInimum value based on key only"
   ]
  },
  {
   "cell_type": "code",
   "execution_count": 30,
   "id": "424c719c",
   "metadata": {},
   "outputs": [
    {
     "data": {
      "text/plain": [
       "'Robert'"
      ]
     },
     "execution_count": 30,
     "metadata": {},
     "output_type": "execute_result"
    }
   ],
   "source": [
    "min(d1)\n",
    "\n",
    "'Ram',    ord('m')\n",
    "'Raheem', ord('h')\n",
    "'Robert'"
   ]
  },
  {
   "cell_type": "code",
   "execution_count": 31,
   "id": "68d28122",
   "metadata": {},
   "outputs": [
    {
     "data": {
      "text/plain": [
       "3"
      ]
     },
     "execution_count": 31,
     "metadata": {},
     "output_type": "execute_result"
    }
   ],
   "source": [
    "len(d1)"
   ]
  },
  {
   "cell_type": "code",
   "execution_count": 32,
   "id": "9ea7458b",
   "metadata": {},
   "outputs": [
    {
     "ename": "TypeError",
     "evalue": "unsupported operand type(s) for +: 'int' and 'str'",
     "output_type": "error",
     "traceback": [
      "\u001b[1;31m---------------------------------------------------------------------------\u001b[0m",
      "\u001b[1;31mTypeError\u001b[0m                                 Traceback (most recent call last)",
      "Cell \u001b[1;32mIn[32], line 1\u001b[0m\n\u001b[1;32m----> 1\u001b[0m \u001b[38;5;28msum\u001b[39m(d1)\n",
      "\u001b[1;31mTypeError\u001b[0m: unsupported operand type(s) for +: 'int' and 'str'"
     ]
    }
   ],
   "source": [
    "sum(d1)"
   ]
  },
  {
   "cell_type": "code",
   "execution_count": 35,
   "id": "fc53f30a",
   "metadata": {},
   "outputs": [
    {
     "data": {
      "text/plain": [
       "400"
      ]
     },
     "execution_count": 35,
     "metadata": {},
     "output_type": "execute_result"
    }
   ],
   "source": [
    "d2={100:2,300:4}\n",
    "sum(d2)"
   ]
  },
  {
   "cell_type": "markdown",
   "id": "69455ec3",
   "metadata": {},
   "source": [
    "- If keys has numeric then we can do sum"
   ]
  },
  {
   "cell_type": "markdown",
   "id": "244701a8",
   "metadata": {},
   "source": [
    "- completed topices\n",
    "- type\n",
    "- len\n",
    "- max\n",
    "- min\n",
    "- sum"
   ]
  },
  {
   "cell_type": "code",
   "execution_count": null,
   "id": "9cadcdc8",
   "metadata": {},
   "outputs": [],
   "source": [
    "d1={'Ram':25,\n",
    "   'Raheem':30,\n",
    "   'Robert':35}\n",
    "\n",
    "# 'Ram':25 in d1   # fails\n",
    "    \n",
    "'Ram': in d1   # works \n",
    "\n",
    "# 25 in d1   # fails\n",
    "\n",
    "\n",
    "# only keys will be run"
   ]
  },
  {
   "cell_type": "code",
   "execution_count": 37,
   "id": "9fdc4622",
   "metadata": {},
   "outputs": [
    {
     "name": "stdout",
     "output_type": "stream",
     "text": [
      "1\n",
      "2\n",
      "3\n"
     ]
    }
   ],
   "source": [
    "str1='apple'\n",
    "'a' in str1\n",
    "\n",
    "list1=[1,2,3]\n",
    "1 in list1\n",
    "\n",
    "for i in list1:\n",
    "    print(i)"
   ]
  },
  {
   "cell_type": "markdown",
   "id": "63069560",
   "metadata": {},
   "source": [
    "$INDEX$"
   ]
  },
  {
   "cell_type": "code",
   "execution_count": 39,
   "id": "f6027fcc",
   "metadata": {},
   "outputs": [
    {
     "data": {
      "text/plain": [
       "'a'"
      ]
     },
     "execution_count": 39,
     "metadata": {},
     "output_type": "execute_result"
    }
   ],
   "source": [
    "list1=[10,20,30,40,]\n",
    "list1[0]\n",
    "\n",
    "str1='apple'\n",
    "str1[0]"
   ]
  },
  {
   "cell_type": "code",
   "execution_count": 41,
   "id": "79b01cab",
   "metadata": {},
   "outputs": [
    {
     "ename": "KeyError",
     "evalue": "0",
     "output_type": "error",
     "traceback": [
      "\u001b[1;31m---------------------------------------------------------------------------\u001b[0m",
      "\u001b[1;31mKeyError\u001b[0m                                  Traceback (most recent call last)",
      "Cell \u001b[1;32mIn[41], line 5\u001b[0m\n\u001b[0;32m      1\u001b[0m d1\u001b[38;5;241m=\u001b[39m{\u001b[38;5;124m'\u001b[39m\u001b[38;5;124mRam\u001b[39m\u001b[38;5;124m'\u001b[39m:\u001b[38;5;241m25\u001b[39m,\n\u001b[0;32m      2\u001b[0m    \u001b[38;5;124m'\u001b[39m\u001b[38;5;124mRaheem\u001b[39m\u001b[38;5;124m'\u001b[39m:\u001b[38;5;241m30\u001b[39m,\n\u001b[0;32m      3\u001b[0m    \u001b[38;5;124m'\u001b[39m\u001b[38;5;124mRobert\u001b[39m\u001b[38;5;124m'\u001b[39m:\u001b[38;5;241m35\u001b[39m}\n\u001b[1;32m----> 5\u001b[0m d1[\u001b[38;5;241m0\u001b[39m]\n",
      "\u001b[1;31mKeyError\u001b[0m: 0"
     ]
    }
   ],
   "source": [
    "d1={'Ram':25,\n",
    "   'Raheem':30,\n",
    "   'Robert':35}\n",
    "\n",
    "d1[0]"
   ]
  },
  {
   "cell_type": "code",
   "execution_count": 42,
   "id": "7a2bce64",
   "metadata": {},
   "outputs": [
    {
     "data": {
      "text/plain": [
       "25"
      ]
     },
     "execution_count": 42,
     "metadata": {},
     "output_type": "execute_result"
    }
   ],
   "source": [
    "d1={'Ram':25,\n",
    "   'Raheem':30,\n",
    "   'Robert':35}\n",
    "\n",
    "d1['Ram']\n",
    "\n",
    "# can we get values using for loop"
   ]
  },
  {
   "cell_type": "code",
   "execution_count": 46,
   "id": "0cd6e303",
   "metadata": {},
   "outputs": [
    {
     "name": "stdout",
     "output_type": "stream",
     "text": [
      "the age of Ram, is 25\n",
      "the age of Raheem, is 30\n",
      "the age of Robert, is 35\n"
     ]
    }
   ],
   "source": [
    "for key in d1:\n",
    "    print(\"the age of {}, is {}\".format(key,d1[key]))\n",
    "    "
   ]
  },
  {
   "cell_type": "code",
   "execution_count": 47,
   "id": "5bef783b",
   "metadata": {},
   "outputs": [
    {
     "name": "stdout",
     "output_type": "stream",
     "text": [
      "Ram\n",
      "Raheem\n",
      "Robert\n"
     ]
    }
   ],
   "source": [
    "for key in d1:\n",
    "    print(key)\n",
    "    "
   ]
  },
  {
   "cell_type": "code",
   "execution_count": 48,
   "id": "9a8ea5de",
   "metadata": {},
   "outputs": [
    {
     "name": "stdout",
     "output_type": "stream",
     "text": [
      "0 10\n",
      "1 20\n",
      "2 30\n",
      "3 40\n"
     ]
    }
   ],
   "source": [
    "for i in range(len(list1)):\n",
    "    print(i,list1[i])"
   ]
  },
  {
   "cell_type": "code",
   "execution_count": 49,
   "id": "869bfa6d",
   "metadata": {},
   "outputs": [
    {
     "name": "stdout",
     "output_type": "stream",
     "text": [
      "0\n",
      "1\n",
      "2\n"
     ]
    }
   ],
   "source": [
    "for key in range(len(d1)):\n",
    "    print(key)\n",
    "    #print(\"the age of {}, is {}\".format(key,d1[key]))"
   ]
  },
  {
   "cell_type": "markdown",
   "id": "ffe35054",
   "metadata": {},
   "source": [
    "***creating a empty dictionary and update***"
   ]
  },
  {
   "cell_type": "code",
   "execution_count": 52,
   "id": "c61a28ed",
   "metadata": {},
   "outputs": [
    {
     "name": "stdout",
     "output_type": "stream",
     "text": [
      " apple\n"
     ]
    }
   ],
   "source": [
    "s=' '\n",
    "\n",
    "for i in 'apple':\n",
    "    s=s+i\n",
    "    \n",
    "print(s)"
   ]
  },
  {
   "cell_type": "code",
   "execution_count": 53,
   "id": "daa11ab2",
   "metadata": {},
   "outputs": [
    {
     "data": {
      "text/plain": [
       "[0, 1, 2, 3, 4, 5, 6, 7, 8, 9]"
      ]
     },
     "execution_count": 53,
     "metadata": {},
     "output_type": "execute_result"
    }
   ],
   "source": [
    "list=[i for i in range(10)]\n",
    "\n",
    "list=[]\n",
    "for i in range(10):\n",
    "    list.append(i)\n",
    "    \n",
    "list"
   ]
  },
  {
   "cell_type": "code",
   "execution_count": 57,
   "id": "5c901d7c",
   "metadata": {},
   "outputs": [
    {
     "data": {
      "text/plain": [
       "{'fruit': 'apple'}"
      ]
     },
     "execution_count": 57,
     "metadata": {},
     "output_type": "execute_result"
    }
   ],
   "source": [
    "d1={}\n",
    "d1['fruit']='apple'\n",
    "d1"
   ]
  },
  {
   "cell_type": "code",
   "execution_count": 61,
   "id": "56e93f23",
   "metadata": {},
   "outputs": [
    {
     "data": {
      "text/plain": [
       "{'first name': ('geetha reddy',)}"
      ]
     },
     "execution_count": 61,
     "metadata": {},
     "output_type": "execute_result"
    }
   ],
   "source": [
    "# wap create a data base you own\n",
    "\n",
    "d1={}\n",
    "d1['first name']= 'geetha reddy',\n",
    "d2['sir name']='omkar',\n",
    "d3['nativepalce']= 'Kadapa',\n",
    "d4['state']='Andhra pradesh'\n",
    "d1"
   ]
  },
  {
   "cell_type": "code",
   "execution_count": 108,
   "id": "67bd8396",
   "metadata": {},
   "outputs": [],
   "source": [
    "# wap create a dictionarybased on two list\n",
    "\n",
    "# names=['Ram','Raheem''Robert]\n",
    "# age=[20,30,35]\n",
    "d1\n",
    "d1['names']=['Ram','Raheem','Robert']\n",
    "d2['age']=[25,30,35]"
   ]
  },
  {
   "cell_type": "code",
   "execution_count": 69,
   "id": "7b9e6d26",
   "metadata": {},
   "outputs": [
    {
     "data": {
      "text/plain": [
       "{'Ram': 20, 'Raheem': 30, 'Robert': 35}"
      ]
     },
     "execution_count": 69,
     "metadata": {},
     "output_type": "execute_result"
    }
   ],
   "source": [
    "names=['Ram','Raheem','Robert']\n",
    "age=[20,30,35]\n",
    "dict1={}\n",
    "for i,j in zip(names,age):\n",
    "    dict1[i]=j\n",
    "dict1"
   ]
  },
  {
   "cell_type": "code",
   "execution_count": 72,
   "id": "2890c6ad",
   "metadata": {},
   "outputs": [
    {
     "data": {
      "text/plain": [
       "{}"
      ]
     },
     "execution_count": 72,
     "metadata": {},
     "output_type": "execute_result"
    }
   ],
   "source": [
    "d1={}\n",
    "for i in range(len(names)):\n",
    "    d1[names[i]]:age[i]\n",
    "d1"
   ]
  },
  {
   "cell_type": "code",
   "execution_count": 78,
   "id": "8451daea",
   "metadata": {},
   "outputs": [
    {
     "data": {
      "text/plain": [
       "[25, 30, 35]"
      ]
     },
     "execution_count": 78,
     "metadata": {},
     "output_type": "execute_result"
    }
   ],
   "source": [
    "list1=[]\n",
    "for i in range(len(names)):\n",
    "    list1.append(i)\n",
    "\n",
    "    \n",
    "list1=[i for i in range(len(names))]\n",
    "list2"
   ]
  },
  {
   "cell_type": "code",
   "execution_count": 113,
   "id": "52ed3555",
   "metadata": {},
   "outputs": [
    {
     "ename": "TypeError",
     "evalue": "unhashable type: 'list'",
     "output_type": "error",
     "traceback": [
      "\u001b[1;31m---------------------------------------------------------------------------\u001b[0m",
      "\u001b[1;31mTypeError\u001b[0m                                 Traceback (most recent call last)",
      "Cell \u001b[1;32mIn[113], line 10\u001b[0m\n\u001b[0;32m      3\u001b[0m     d1[names[i]]:age[i]\n\u001b[0;32m      7\u001b[0m d1\u001b[38;5;241m=\u001b[39m{names[i]:age[i] \u001b[38;5;28;01mfor\u001b[39;00m i \u001b[38;5;129;01min\u001b[39;00m \u001b[38;5;28mrange\u001b[39m(\u001b[38;5;28mlen\u001b[39m(names))}\n\u001b[1;32m---> 10\u001b[0m d1\u001b[38;5;241m=\u001b[39m{names:age \u001b[38;5;28;01mfor\u001b[39;00m name,age \u001b[38;5;129;01min\u001b[39;00m \u001b[38;5;28mzip\u001b[39m(names,age)}\n\u001b[0;32m     12\u001b[0m names[\u001b[38;5;241m0\u001b[39m],age[\u001b[38;5;241m0\u001b[39m]\n\u001b[0;32m     13\u001b[0m \u001b[38;5;28;01mfor\u001b[39;00m name,age \u001b[38;5;129;01min\u001b[39;00m \u001b[38;5;28mzip\u001b[39m(names,age):\n",
      "Cell \u001b[1;32mIn[113], line 10\u001b[0m, in \u001b[0;36m<dictcomp>\u001b[1;34m(.0)\u001b[0m\n\u001b[0;32m      3\u001b[0m     d1[names[i]]:age[i]\n\u001b[0;32m      7\u001b[0m d1\u001b[38;5;241m=\u001b[39m{names[i]:age[i] \u001b[38;5;28;01mfor\u001b[39;00m i \u001b[38;5;129;01min\u001b[39;00m \u001b[38;5;28mrange\u001b[39m(\u001b[38;5;28mlen\u001b[39m(names))}\n\u001b[1;32m---> 10\u001b[0m d1\u001b[38;5;241m=\u001b[39m{names:age \u001b[38;5;28;01mfor\u001b[39;00m name,age \u001b[38;5;129;01min\u001b[39;00m \u001b[38;5;28mzip\u001b[39m(names,age)}\n\u001b[0;32m     12\u001b[0m names[\u001b[38;5;241m0\u001b[39m],age[\u001b[38;5;241m0\u001b[39m]\n\u001b[0;32m     13\u001b[0m \u001b[38;5;28;01mfor\u001b[39;00m name,age \u001b[38;5;129;01min\u001b[39;00m \u001b[38;5;28mzip\u001b[39m(names,age):\n",
      "\u001b[1;31mTypeError\u001b[0m: unhashable type: 'list'"
     ]
    }
   ],
   "source": [
    "d1={}\n",
    "for i in range(len(names)):\n",
    "    d1[names[i]]:age[i]\n",
    "        \n",
    "        \n",
    "        \n",
    "d1={names[i]:age[i] for i in range(len(names))}\n",
    "\n",
    "\n",
    "d1={names:age for name,age in zip(names,age)}\n",
    "\n",
    "names(0),age[0]\n",
    "for name,age in zip(names,age):\n",
    "    print(name,age)"
   ]
  },
  {
   "cell_type": "code",
   "execution_count": 82,
   "id": "df181f08",
   "metadata": {},
   "outputs": [],
   "source": [
    "d1={names[i]:age[i] for i in range(len(names))}"
   ]
  },
  {
   "cell_type": "code",
   "execution_count": null,
   "id": "1159b7db",
   "metadata": {},
   "outputs": [],
   "source": [
    "d1={names:age for name,age in zip(names,age)}\n"
   ]
  },
  {
   "cell_type": "code",
   "execution_count": 101,
   "id": "eacb050d",
   "metadata": {},
   "outputs": [
    {
     "data": {
      "text/plain": [
       "[0, 1, 2]"
      ]
     },
     "execution_count": 101,
     "metadata": {},
     "output_type": "execute_result"
    }
   ],
   "source": [
    "list1=[]\n",
    "for i in range(len(names)):\n",
    "    list1.append(i)\n",
    "    \n",
    "    \n",
    "list1=[i for i in range(len(names))]\n",
    "list1"
   ]
  },
  {
   "cell_type": "code",
   "execution_count": null,
   "id": "8ee3226c",
   "metadata": {},
   "outputs": [],
   "source": [
    "# wap take 5 random numbers\n",
    "# and create  a dictionary with even and odd\n",
    "# output:'even:[20,22]','odd':[19,21,23]\n",
    "# step-1:take empty dictionary\n",
    "# step-2:take two even and odd list\n",
    "# step-3: import random\n",
    "# step-4: for i in range(5):\n",
    "# step-5:    num=random.randint(a,b)\n",
    "# step-6:    if<even>:\n",
    "# step-7:    append the value in even list\n",
    "# step-8:    else:\n",
    "# step-9:        append the value in odd list\n",
    "#step-10:  create dictionary"
   ]
  },
  {
   "cell_type": "code",
   "execution_count": null,
   "id": "f78bdb25",
   "metadata": {},
   "outputs": [],
   "source": []
  },
  {
   "cell_type": "code",
   "execution_count": 107,
   "id": "4bbe4ef4",
   "metadata": {},
   "outputs": [
    {
     "name": "stdout",
     "output_type": "stream",
     "text": [
      "even.append the values in even list6:\n",
      "even.append the values in even list4:\n",
      "even.append the values in even list2:\n",
      "odd.append the value in odd list5:\n",
      "odd.append the value in odd list7:\n"
     ]
    },
    {
     "data": {
      "text/plain": [
       "{'even': [6, 4, 2], 'odd': [5, 7]}"
      ]
     },
     "execution_count": 107,
     "metadata": {},
     "output_type": "execute_result"
    }
   ],
   "source": [
    "import random\n",
    "d1={}\n",
    "even=[]\n",
    "odd=[]\n",
    "for i in range(5):\n",
    "    num=random.randint(1,10)\n",
    "    if num%2==0:\n",
    "        print(\"even.append the values in even list{}:\".format(num))\n",
    "        even.append(num)\n",
    "    else:\n",
    "        print(\"odd.append the value in odd list{}:\".format(num))\n",
    "        odd.append(num)\n",
    "\n",
    "d1['even']=even\n",
    "d1['odd']=odd\n",
    "d1"
   ]
  },
  {
   "cell_type": "code",
   "execution_count": 1,
   "id": "ecf05178",
   "metadata": {},
   "outputs": [],
   "source": [
    "import os"
   ]
  },
  {
   "cell_type": "code",
   "execution_count": 2,
   "id": "a8e1b991",
   "metadata": {},
   "outputs": [
    {
     "data": {
      "text/plain": [
       "'C:\\\\Users\\\\gr970\\\\OneDrive\\\\Documents\\\\data science'"
      ]
     },
     "execution_count": 2,
     "metadata": {},
     "output_type": "execute_result"
    }
   ],
   "source": [
    "os.getcwd()"
   ]
  },
  {
   "cell_type": "markdown",
   "id": "f8b44b86",
   "metadata": {},
   "source": [
    "$DICTIONARY$ $METHODS$"
   ]
  },
  {
   "cell_type": "code",
   "execution_count": 4,
   "id": "17ffc16d",
   "metadata": {},
   "outputs": [
    {
     "data": {
      "text/plain": [
       "['__class__',\n",
       " '__class_getitem__',\n",
       " '__contains__',\n",
       " '__delattr__',\n",
       " '__delitem__',\n",
       " '__dir__',\n",
       " '__doc__',\n",
       " '__eq__',\n",
       " '__format__',\n",
       " '__ge__',\n",
       " '__getattribute__',\n",
       " '__getitem__',\n",
       " '__getstate__',\n",
       " '__gt__',\n",
       " '__hash__',\n",
       " '__init__',\n",
       " '__init_subclass__',\n",
       " '__ior__',\n",
       " '__iter__',\n",
       " '__le__',\n",
       " '__len__',\n",
       " '__lt__',\n",
       " '__ne__',\n",
       " '__new__',\n",
       " '__or__',\n",
       " '__reduce__',\n",
       " '__reduce_ex__',\n",
       " '__repr__',\n",
       " '__reversed__',\n",
       " '__ror__',\n",
       " '__setattr__',\n",
       " '__setitem__',\n",
       " '__sizeof__',\n",
       " '__str__',\n",
       " '__subclasshook__',\n",
       " 'clear',\n",
       " 'copy',\n",
       " 'fromkeys',\n",
       " 'get',\n",
       " 'items',\n",
       " 'keys',\n",
       " 'pop',\n",
       " 'popitem',\n",
       " 'setdefault',\n",
       " 'update',\n",
       " 'values']"
      ]
     },
     "execution_count": 4,
     "metadata": {},
     "output_type": "execute_result"
    }
   ],
   "source": [
    "dir({})\n",
    "\n",
    "\n",
    "# str=''\n",
    "# list=[]\n",
    "# "
   ]
  },
  {
   "cell_type": "markdown",
   "id": "b5c39684",
   "metadata": {},
   "source": [
    "$ITEMS$-$KEYS$-$VALUES$"
   ]
  },
  {
   "cell_type": "code",
   "execution_count": 5,
   "id": "ffe0d677",
   "metadata": {},
   "outputs": [
    {
     "data": {
      "text/plain": [
       "{'Ram': 25, 'Raheem': 30, 'Robert': 35}"
      ]
     },
     "execution_count": 5,
     "metadata": {},
     "output_type": "execute_result"
    }
   ],
   "source": [
    "d1={'Ram':25,\n",
    "   'Raheem':30,\n",
    "   'Robert':35}\n",
    "d1"
   ]
  },
  {
   "cell_type": "code",
   "execution_count": 13,
   "id": "023b0633",
   "metadata": {},
   "outputs": [
    {
     "data": {
      "text/plain": [
       "dict_items([('Ram', 25), ('Raheem', 30), ('Robert', 35)])"
      ]
     },
     "execution_count": 13,
     "metadata": {},
     "output_type": "execute_result"
    }
   ],
   "source": [
    "#items\n",
    "items=d1.items()\n",
    "items"
   ]
  },
  {
   "cell_type": "code",
   "execution_count": 6,
   "id": "923c24ca",
   "metadata": {},
   "outputs": [
    {
     "data": {
      "text/plain": [
       "dict_items([('Ram', 25), ('Raheem', 30), ('Robert', 35)])"
      ]
     },
     "execution_count": 6,
     "metadata": {},
     "output_type": "execute_result"
    }
   ],
   "source": [
    "#items\n",
    "d1.items()"
   ]
  },
  {
   "cell_type": "code",
   "execution_count": 11,
   "id": "fd8d1e09",
   "metadata": {},
   "outputs": [
    {
     "data": {
      "text/plain": [
       "dict_keys(['Ram', 'Raheem', 'Robert'])"
      ]
     },
     "execution_count": 11,
     "metadata": {},
     "output_type": "execute_result"
    }
   ],
   "source": [
    "# keys\n",
    "keys=d1.keys()\n",
    "keys"
   ]
  },
  {
   "cell_type": "code",
   "execution_count": 7,
   "id": "541baad1",
   "metadata": {},
   "outputs": [
    {
     "data": {
      "text/plain": [
       "dict_keys(['Ram', 'Raheem', 'Robert'])"
      ]
     },
     "execution_count": 7,
     "metadata": {},
     "output_type": "execute_result"
    }
   ],
   "source": [
    "#keys\n",
    "d1.keys()"
   ]
  },
  {
   "cell_type": "code",
   "execution_count": 12,
   "id": "1e5b75c3",
   "metadata": {},
   "outputs": [
    {
     "data": {
      "text/plain": [
       "dict_values([25, 30, 35])"
      ]
     },
     "execution_count": 12,
     "metadata": {},
     "output_type": "execute_result"
    }
   ],
   "source": [
    "# values\n",
    "values=d1.values()\n",
    "values"
   ]
  },
  {
   "cell_type": "code",
   "execution_count": 8,
   "id": "008b965e",
   "metadata": {},
   "outputs": [
    {
     "data": {
      "text/plain": [
       "dict_values([25, 30, 35])"
      ]
     },
     "execution_count": 8,
     "metadata": {},
     "output_type": "execute_result"
    }
   ],
   "source": [
    "# values\n",
    "d1.values()"
   ]
  },
  {
   "cell_type": "code",
   "execution_count": 14,
   "id": "4b26762a",
   "metadata": {},
   "outputs": [
    {
     "data": {
      "text/plain": [
       "[25, 30, 35, 400]"
      ]
     },
     "execution_count": 14,
     "metadata": {},
     "output_type": "execute_result"
    }
   ],
   "source": [
    "list1=[25,30,35]\n",
    "list1.append(400)\n",
    "list1"
   ]
  },
  {
   "cell_type": "code",
   "execution_count": 17,
   "id": "1631776e",
   "metadata": {},
   "outputs": [
    {
     "data": {
      "text/plain": [
       "[25, 30, 35]"
      ]
     },
     "execution_count": 17,
     "metadata": {},
     "output_type": "execute_result"
    }
   ],
   "source": [
    "values    # i want to convert into a list\n",
    "values_list1=list(values)  # then you can apply list method\n",
    "values_list1"
   ]
  },
  {
   "cell_type": "code",
   "execution_count": 18,
   "id": "3dbb1836",
   "metadata": {},
   "outputs": [
    {
     "data": {
      "text/plain": [
       "['Ram', 'Raheem', 'Robert']"
      ]
     },
     "execution_count": 18,
     "metadata": {},
     "output_type": "execute_result"
    }
   ],
   "source": [
    "keys_list1=list(keys)\n",
    "keys_list1"
   ]
  },
  {
   "cell_type": "code",
   "execution_count": null,
   "id": "8b6fd7c7",
   "metadata": {},
   "outputs": [],
   "source": [
    "#  i will give the dictionary\n",
    "# can you extract keysa ans values in a list\n",
    "\n",
    "\n",
    "#   i waill give two lista keys and avlues\n",
    "# can you create a dictionaty"
   ]
  },
  {
   "cell_type": "code",
   "execution_count": 19,
   "id": "88b6c5d1",
   "metadata": {},
   "outputs": [],
   "source": [
    "d1={'Ram':25,\n",
    "   'Raheem':30,\n",
    "   'Robert':35}\n",
    "keys=list(d1.keys())\n",
    "values=list(d1.values())"
   ]
  },
  {
   "cell_type": "code",
   "execution_count": 20,
   "id": "da49a995",
   "metadata": {},
   "outputs": [
    {
     "data": {
      "text/plain": [
       "(['Ram', 'Raheem', 'Robert'], [25, 30, 35])"
      ]
     },
     "execution_count": 20,
     "metadata": {},
     "output_type": "execute_result"
    }
   ],
   "source": [
    "keys,values"
   ]
  },
  {
   "cell_type": "code",
   "execution_count": 24,
   "id": "3f0494d5",
   "metadata": {},
   "outputs": [
    {
     "data": {
      "text/plain": [
       "{'Ram': 25, 'Raheem': 30, 'Robert': 35}"
      ]
     },
     "execution_count": 24,
     "metadata": {},
     "output_type": "execute_result"
    }
   ],
   "source": [
    "{i:j for i,j in zip(keys,values)}"
   ]
  },
  {
   "cell_type": "code",
   "execution_count": 25,
   "id": "dff5f8ad",
   "metadata": {},
   "outputs": [
    {
     "data": {
      "text/plain": [
       "{'Ram': 25, 'Raheem': 30, 'Robert': 35}"
      ]
     },
     "execution_count": 25,
     "metadata": {},
     "output_type": "execute_result"
    }
   ],
   "source": [
    "d1={}\n",
    "for i in range(len(keys)):\n",
    "    d1[keys[i]]=values[i]    # d1[keys[0]]=values[0]   d1['Ram']=25\n",
    "\n",
    "d1"
   ]
  },
  {
   "cell_type": "code",
   "execution_count": 26,
   "id": "7a111bb9",
   "metadata": {},
   "outputs": [
    {
     "data": {
      "text/plain": [
       "{'Ram': 25, 'Raheem': 30, 'Robert': 35}"
      ]
     },
     "execution_count": 26,
     "metadata": {},
     "output_type": "execute_result"
    }
   ],
   "source": [
    "dict(zip(keys,values))"
   ]
  },
  {
   "cell_type": "code",
   "execution_count": 30,
   "id": "50f9fa8c",
   "metadata": {},
   "outputs": [
    {
     "data": {
      "text/plain": [
       "{'Ram': 25, 'Raheem': 30, 'Robert': 35}"
      ]
     },
     "execution_count": 30,
     "metadata": {},
     "output_type": "execute_result"
    }
   ],
   "source": [
    "for i,j in zip(keys,values):\n",
    "    d1[i]=j\n",
    "    \n",
    "d1\n"
   ]
  },
  {
   "cell_type": "code",
   "execution_count": 32,
   "id": "11bf6173",
   "metadata": {},
   "outputs": [],
   "source": [
    "str1='virat.kohli@blr.com,Rohit.sharma@mumbai.com,kl.rahul@lucknow.com'\n",
    "\n",
    "\n",
    "# {'first_name':['Virat','Rohit','Kl']\n",
    "# 'second_name':['Kohil','Sharma','Rahul']\n",
    "# 'compnay':['blr','mumbai','lucknow']}"
   ]
  },
  {
   "cell_type": "code",
   "execution_count": 49,
   "id": "c11579a6",
   "metadata": {},
   "outputs": [],
   "source": [
    "lsit1=[\"Virat\",\"Rohit\",\"Kl\"]"
   ]
  },
  {
   "cell_type": "code",
   "execution_count": 50,
   "id": "8354f305",
   "metadata": {},
   "outputs": [
    {
     "data": {
      "text/plain": [
       "{'first name': [25, 30, 35, 400],\n",
       " 'second name': ['Kohil', 'Sharma', 'Rahul'],\n",
       " 'company name': ['Blr', 'Mumbai', 'Lucknow']}"
      ]
     },
     "execution_count": 50,
     "metadata": {},
     "output_type": "execute_result"
    }
   ],
   "source": [
    "d1={}\n",
    "lsit1=[\"Virat\",\"Rohit\",\"Kl\"]\n",
    "list2=[\"Kohil\",\"Sharma\",\"Rahul\"]\n",
    "list3=[\"Blr\",\"Mumbai\",\"Lucknow\"]\n",
    "d1[\"first name\"]=list1\n",
    "d1[\"second name\"]=list2\n",
    "d1[\"company name\"]=list3\n",
    "d1"
   ]
  },
  {
   "cell_type": "code",
   "execution_count": 51,
   "id": "7b74eb60",
   "metadata": {},
   "outputs": [
    {
     "data": {
      "text/plain": [
       "{'first name': [25, 30, 35, 400],\n",
       " 'second name': ['Kohil', 'Sharma', 'Rahul'],\n",
       " 'company name': ['Blr', 'Mumbai', 'Lucknow']}"
      ]
     },
     "execution_count": 51,
     "metadata": {},
     "output_type": "execute_result"
    }
   ],
   "source": [
    "str1='virat.kohil@blr.com'\n",
    "d1={}\n",
    "first_name=[str1[:str1.find('.')]for str1 in str1.split(',')]\n",
    "second_name=[str1[str1.find('-')+1:str1.find('@')]for str1 in str1.split(',')]\n",
    "company_name=[str1[str1.find('-')+1:str1.find('.',str1.find('.')+1)]for str1 in str1.split(',')]\n",
    "first_name,second_name,company_name\n",
    "\n",
    "\n",
    "d1[\"first name\"]=list1\n",
    "d1[\"second name\"]=list2\n",
    "d1[\"company name\"]=list3\n",
    "d1"
   ]
  },
  {
   "cell_type": "code",
   "execution_count": null,
   "id": "d138ccf6",
   "metadata": {},
   "outputs": [],
   "source": [
    "str1='can can you canner can you able to can canner'\n",
    "\n",
    "#('can':4,'you':2,'canner':2,'able':1,'to':1)\n"
   ]
  },
  {
   "cell_type": "code",
   "execution_count": 57,
   "id": "14d2359a",
   "metadata": {},
   "outputs": [
    {
     "data": {
      "text/plain": [
       "{'can': 4, 'you': 2, 'canner': 2, 'able': 1, 'to': 1}"
      ]
     },
     "execution_count": 57,
     "metadata": {},
     "output_type": "execute_result"
    }
   ],
   "source": [
    "str1='can can you canner can you able to can canner'\n",
    "l1=str1.split(' ')    # step 1\n",
    "d1={}\n",
    "\n",
    "for i in l1:           # step 2\n",
    "    d1[i]=l1.count(i)   # step3\n",
    "d1"
   ]
  },
  {
   "cell_type": "code",
   "execution_count": 58,
   "id": "e3f198a1",
   "metadata": {},
   "outputs": [
    {
     "data": {
      "text/plain": [
       "['can', 'can', 'you', 'canner', 'can', 'you', 'able', 'to', 'can', 'canner']"
      ]
     },
     "execution_count": 58,
     "metadata": {},
     "output_type": "execute_result"
    }
   ],
   "source": [
    "str1='can can you canner can you able to can canner'\n",
    "str1.split()"
   ]
  },
  {
   "cell_type": "code",
   "execution_count": 60,
   "id": "cc03ea7c",
   "metadata": {},
   "outputs": [
    {
     "data": {
      "text/plain": [
       "{'can': 4, 'you': 2, 'canner': 2, 'able': 1, 'to': 1}"
      ]
     },
     "execution_count": 60,
     "metadata": {},
     "output_type": "execute_result"
    }
   ],
   "source": [
    "for i in l1:\n",
    "    d1[i]=l1.count(i)   \n",
    "d1"
   ]
  },
  {
   "cell_type": "code",
   "execution_count": 62,
   "id": "6244e04d",
   "metadata": {},
   "outputs": [],
   "source": [
    "keys=list(d1.keys())"
   ]
  },
  {
   "cell_type": "code",
   "execution_count": 63,
   "id": "6c5a6bd8",
   "metadata": {},
   "outputs": [],
   "source": [
    "values=list(d1.values())"
   ]
  },
  {
   "cell_type": "code",
   "execution_count": 64,
   "id": "93e0b906",
   "metadata": {},
   "outputs": [
    {
     "data": {
      "text/plain": [
       "(['can', 'you', 'canner', 'able', 'to'], [4, 2, 2, 1, 1])"
      ]
     },
     "execution_count": 64,
     "metadata": {},
     "output_type": "execute_result"
    }
   ],
   "source": [
    "keys,values"
   ]
  },
  {
   "cell_type": "code",
   "execution_count": 65,
   "id": "c425d9b8",
   "metadata": {},
   "outputs": [],
   "source": [
    "i=max(values)"
   ]
  },
  {
   "cell_type": "code",
   "execution_count": 66,
   "id": "639f2f12",
   "metadata": {},
   "outputs": [
    {
     "data": {
      "text/plain": [
       "0"
      ]
     },
     "execution_count": 66,
     "metadata": {},
     "output_type": "execute_result"
    }
   ],
   "source": [
    "values.index(i)"
   ]
  },
  {
   "cell_type": "code",
   "execution_count": 67,
   "id": "adb0ca9d",
   "metadata": {},
   "outputs": [
    {
     "data": {
      "text/plain": [
       "'can'"
      ]
     },
     "execution_count": 67,
     "metadata": {},
     "output_type": "execute_result"
    }
   ],
   "source": [
    "keys[values.index(max(values))]"
   ]
  },
  {
   "cell_type": "code",
   "execution_count": 74,
   "id": "6235ffda",
   "metadata": {},
   "outputs": [],
   "source": [
    "d1={'a':20,'b':30,'c':40,'d':500}\n",
    "d2={'a':50,'b':100,'c':200}\n",
    "\n",
    "\n",
    "# o/p={'a':20,'b':130,'c':240,'d':500}"
   ]
  },
  {
   "cell_type": "code",
   "execution_count": 80,
   "id": "920b7522",
   "metadata": {},
   "outputs": [
    {
     "data": {
      "text/plain": [
       "{'a': 70, 'b': 130, 'c': 240, 'd': 500}"
      ]
     },
     "execution_count": 80,
     "metadata": {},
     "output_type": "execute_result"
    }
   ],
   "source": [
    "d1={'a':20,'b':30,'c':40,'d':500}\n",
    "d2={'a':50,'b':100,'c':200}\n",
    "for i in d2:\n",
    "    d1[i]+=d2[i]\n",
    "d1"
   ]
  },
  {
   "cell_type": "code",
   "execution_count": 79,
   "id": "65e85ab7",
   "metadata": {},
   "outputs": [
    {
     "data": {
      "text/plain": [
       "{'a': 70, 'b': 130, 'c': 240}"
      ]
     },
     "execution_count": 79,
     "metadata": {},
     "output_type": "execute_result"
    }
   ],
   "source": [
    "d1={'a':20,'b':30,'c':40}\n",
    "d2={'a':50,'b':100,'c':200}\n",
    "d3={}\n",
    "if len(d1)==len(d2):\n",
    "    for i in d1:\n",
    "        d3[i]=d1[i]+d2[i]       # d3['a']=d1['a']+d2['a']\n",
    "d3"
   ]
  },
  {
   "cell_type": "markdown",
   "id": "9a49f3f3",
   "metadata": {},
   "source": [
    "$CLEAR$-$COPY$"
   ]
  },
  {
   "cell_type": "code",
   "execution_count": null,
   "id": "a1219f92",
   "metadata": {},
   "outputs": [],
   "source": [
    "# take one dictionary \n",
    "# take second dictionary\n",
    "# copy fisrt dictionary into second\n",
    "# clear fisrt dictionary\n",
    "# and print both"
   ]
  },
  {
   "cell_type": "code",
   "execution_count": 3,
   "id": "54f87b85",
   "metadata": {},
   "outputs": [
    {
     "name": "stdout",
     "output_type": "stream",
     "text": [
      "{'a': 20, 'b': 30, 'c': 35, 'd': 40}\n",
      "{'a': 20, 'b': 30, 'c': 35, 'd': 40}\n"
     ]
    }
   ],
   "source": [
    "d1={'a':20,'b':30,'c':35,'d':40}\n",
    "d2=d1.copy()\n",
    "d1.clear\n",
    "print(d1)   # {}\n",
    "print(d2)   # {'a':20,'b':30,'c':35,'d':40}"
   ]
  },
  {
   "cell_type": "markdown",
   "id": "5ba4ddf3",
   "metadata": {},
   "source": [
    "$POP$-$POPITEM$-$DEL$"
   ]
  },
  {
   "cell_type": "code",
   "execution_count": null,
   "id": "c39441bb",
   "metadata": {},
   "outputs": [],
   "source": [
    "- what is pop\n",
    "\n",
    "    - pop will remove specify key\n",
    "    - return item\n",
    "\n",
    "- what is popitem\n",
    "\n",
    "    - remove the last value default\n",
    "    \n",
    "    - return the pair\n",
    "\n",
    "- what is del\n",
    "\n",
    "    - del is keyword \n",
    "    - it can \n"
   ]
  },
  {
   "cell_type": "code",
   "execution_count": 4,
   "id": "abeb4b8f",
   "metadata": {},
   "outputs": [
    {
     "data": {
      "text/plain": [
       "20"
      ]
     },
     "execution_count": 4,
     "metadata": {},
     "output_type": "execute_result"
    }
   ],
   "source": [
    "d1={'a':20,'b':30,'c':35,'d':40}\n",
    "d1.pop('a')"
   ]
  },
  {
   "cell_type": "code",
   "execution_count": 5,
   "id": "b8a77aca",
   "metadata": {},
   "outputs": [
    {
     "data": {
      "text/plain": [
       "{'b': 30, 'c': 35, 'd': 40}"
      ]
     },
     "execution_count": 5,
     "metadata": {},
     "output_type": "execute_result"
    }
   ],
   "source": [
    "d1"
   ]
  },
  {
   "cell_type": "code",
   "execution_count": 7,
   "id": "e46b906b",
   "metadata": {},
   "outputs": [
    {
     "data": {
      "text/plain": [
       "('d', 40)"
      ]
     },
     "execution_count": 7,
     "metadata": {},
     "output_type": "execute_result"
    }
   ],
   "source": [
    "d1={'a':20,'b':30,'c':35,'d':40}\n",
    "d1.popitem()"
   ]
  },
  {
   "cell_type": "code",
   "execution_count": null,
   "id": "81082a2b",
   "metadata": {},
   "outputs": [],
   "source": [
    "# del is keyword\n",
    "\n",
    "del d2[]"
   ]
  },
  {
   "cell_type": "code",
   "execution_count": null,
   "id": "5c2a3b59",
   "metadata": {},
   "outputs": [],
   "source": []
  },
  {
   "cell_type": "code",
   "execution_count": 8,
   "id": "df60c064",
   "metadata": {},
   "outputs": [],
   "source": [
    "l1=[10,20,30,40,50]\n",
    "del l1[1]   # list is acess by index"
   ]
  },
  {
   "cell_type": "code",
   "execution_count": 9,
   "id": "e3d6eb85",
   "metadata": {},
   "outputs": [
    {
     "data": {
      "text/plain": [
       "[10, 30, 40, 50]"
      ]
     },
     "execution_count": 9,
     "metadata": {},
     "output_type": "execute_result"
    }
   ],
   "source": [
    "l1"
   ]
  },
  {
   "cell_type": "code",
   "execution_count": null,
   "id": "fd7a6869",
   "metadata": {},
   "outputs": [],
   "source": [
    "d1={'a':1,'b':2,'c':3}\n",
    "del d1['c']\n",
    "###################\n",
    "d1.pop('c')\n",
    "\n",
    "\n",
    "d1.popitem()   #lifo\n",
    "#########################\n",
    "del(d1)"
   ]
  },
  {
   "cell_type": "markdown",
   "id": "f70f90f1",
   "metadata": {},
   "source": [
    "- items/values/keys\n",
    "\n",
    "- if i provide two list you know how to make dict\n",
    "- if i provide dict, you know hoe to geneate dict\n",
    "- create an empty string/list/dictionary\n",
    "- counter\n",
    "- summ\n",
    "- function\n",
    "- pop/popitem/clear\n",
    "- copy/clear"
   ]
  },
  {
   "cell_type": "markdown",
   "id": "7aa5721c",
   "metadata": {},
   "source": [
    "$FROMKEYS$-$GET$"
   ]
  },
  {
   "cell_type": "code",
   "execution_count": 16,
   "id": "57dd56cc",
   "metadata": {},
   "outputs": [
    {
     "data": {
      "text/plain": [
       "30"
      ]
     },
     "execution_count": 16,
     "metadata": {},
     "output_type": "execute_result"
    }
   ],
   "source": [
    "d1={'a':20,'b':30,'c':35,'d':40}\n",
    "d1['b']"
   ]
  },
  {
   "cell_type": "code",
   "execution_count": 17,
   "id": "02d4d7d6",
   "metadata": {},
   "outputs": [
    {
     "data": {
      "text/plain": [
       "30"
      ]
     },
     "execution_count": 17,
     "metadata": {},
     "output_type": "execute_result"
    }
   ],
   "source": [
    "d1.get('b')"
   ]
  },
  {
   "cell_type": "markdown",
   "id": "98c031a9",
   "metadata": {},
   "source": [
    "- how many ways we can do \n",
    "- what optput is returning \n",
    "- what is the differnce\n",
    "- we can acess the values by providing key as index and key in get method\n",
    "- but if the key is not present in dictionary, key as index will give key error\n",
    "- get method will not return anything and no error"
   ]
  },
  {
   "cell_type": "markdown",
   "id": "bf5baa3b",
   "metadata": {},
   "source": [
    "- fromkeys\n",
    "\n",
    "- it creates a new dictionary\n",
    "- create a new dictionary from the given sequence of the element\n",
    "- create a new dictionary with iterable key"
   ]
  },
  {
   "cell_type": "code",
   "execution_count": 18,
   "id": "dc466809",
   "metadata": {},
   "outputs": [
    {
     "data": {
      "text/plain": [
       "{'p': 25, 'g': 25, 'r': 25}"
      ]
     },
     "execution_count": 18,
     "metadata": {},
     "output_type": "execute_result"
    }
   ],
   "source": [
    "d2=d1.fromkeys('pgr',25)\n",
    "d2"
   ]
  },
  {
   "cell_type": "code",
   "execution_count": 20,
   "id": "8385cd99",
   "metadata": {},
   "outputs": [
    {
     "data": {
      "text/plain": [
       "{'p': 25, 'g': 25, 'r': 25}"
      ]
     },
     "execution_count": 20,
     "metadata": {},
     "output_type": "execute_result"
    }
   ],
   "source": [
    "d2={}.fromkeys('pgr',25)\n",
    "d2"
   ]
  },
  {
   "cell_type": "code",
   "execution_count": 21,
   "id": "2b5233e8",
   "metadata": {},
   "outputs": [
    {
     "data": {
      "text/plain": [
       "{'a': 20, 'b': 30, 'c': 35, 'd': 40}"
      ]
     },
     "execution_count": 21,
     "metadata": {},
     "output_type": "execute_result"
    }
   ],
   "source": [
    "d1"
   ]
  },
  {
   "cell_type": "code",
   "execution_count": 22,
   "id": "8b77be57",
   "metadata": {},
   "outputs": [],
   "source": [
    "name='pgr'\n",
    "new=name.capitalize()"
   ]
  },
  {
   "cell_type": "code",
   "execution_count": 23,
   "id": "5a77f2b3",
   "metadata": {},
   "outputs": [
    {
     "data": {
      "text/plain": [
       "'pgr'"
      ]
     },
     "execution_count": 23,
     "metadata": {},
     "output_type": "execute_result"
    }
   ],
   "source": [
    "name"
   ]
  },
  {
   "cell_type": "code",
   "execution_count": 24,
   "id": "87c242ef",
   "metadata": {},
   "outputs": [
    {
     "data": {
      "text/plain": [
       "('pgr', 'Pgr')"
      ]
     },
     "execution_count": 24,
     "metadata": {},
     "output_type": "execute_result"
    }
   ],
   "source": [
    "name,new"
   ]
  },
  {
   "cell_type": "code",
   "execution_count": 25,
   "id": "31a3033d",
   "metadata": {},
   "outputs": [
    {
     "data": {
      "text/plain": [
       "{3: 'odd', 5: 'odd', 7: 'odd'}"
      ]
     },
     "execution_count": 25,
     "metadata": {},
     "output_type": "execute_result"
    }
   ],
   "source": [
    "d3={}.fromkeys([3,5,7],'odd')\n",
    "d3"
   ]
  },
  {
   "cell_type": "code",
   "execution_count": 26,
   "id": "6fbba10d",
   "metadata": {},
   "outputs": [
    {
     "name": "stdout",
     "output_type": "stream",
     "text": [
      "3\n",
      "5\n",
      "7\n"
     ]
    }
   ],
   "source": [
    "for i in [3,5,7]:\n",
    "    print(i)"
   ]
  },
  {
   "cell_type": "markdown",
   "id": "68a6bd1f",
   "metadata": {},
   "source": [
    "$SET$ $AS$ $DEFAULT$"
   ]
  },
  {
   "cell_type": "code",
   "execution_count": null,
   "id": "380a8f62",
   "metadata": {},
   "outputs": [],
   "source": [
    "- "
   ]
  },
  {
   "cell_type": "code",
   "execution_count": 29,
   "id": "476ea931",
   "metadata": {},
   "outputs": [
    {
     "data": {
      "text/plain": [
       "{'nareshit': 'Ds'}"
      ]
     },
     "execution_count": 29,
     "metadata": {},
     "output_type": "execute_result"
    }
   ],
   "source": [
    "d1={}\n",
    "d1.setdefault('nareshit','Ds')\n",
    "d1"
   ]
  },
  {
   "cell_type": "code",
   "execution_count": 38,
   "id": "bf30801b",
   "metadata": {},
   "outputs": [
    {
     "data": {
      "text/plain": [
       "{'nareshit': ['Ds', 'mLops', 'DE'], 'city': None}"
      ]
     },
     "execution_count": 38,
     "metadata": {},
     "output_type": "execute_result"
    }
   ],
   "source": [
    "d1={}\n",
    "d1.setdefault('nareshit','Ds')\n",
    "d1.setdefault('city')\n",
    "d1.setdefault('nareshit',['Ds','mLops','DE'])\n",
    "d1['nareshit']=['Ds','mLops','DE']\n",
    "d1.setdefault('city','kap')\n",
    "d1"
   ]
  },
  {
   "cell_type": "markdown",
   "id": "0bbc45c0",
   "metadata": {},
   "source": [
    "$UPDATE$"
   ]
  },
  {
   "cell_type": "code",
   "execution_count": null,
   "id": "c9796f03",
   "metadata": {},
   "outputs": [],
   "source": [
    "# it inserts the particluar items to the dictionary\n"
   ]
  },
  {
   "cell_type": "code",
   "execution_count": 42,
   "id": "d28cdc8c",
   "metadata": {},
   "outputs": [],
   "source": [
    "d1={'a':20,'b':30,'c':35,'d':40}"
   ]
  },
  {
   "cell_type": "code",
   "execution_count": 49,
   "id": "a777596e",
   "metadata": {},
   "outputs": [
    {
     "name": "stdout",
     "output_type": "stream",
     "text": [
      "{'a': 1, 'b': 2, 'c': 3}\n"
     ]
    }
   ],
   "source": [
    "d1={'a':1,'b':2,'c':3}\n",
    "d2={'a':4,'b':5}\n",
    "d2.update(d1)\n",
    "print(d2)"
   ]
  },
  {
   "cell_type": "markdown",
   "id": "4ba9d879",
   "metadata": {},
   "source": [
    "- Update method will update a dictionary with element from another dictionary.\n",
    "- It modifies the dictionary"
   ]
  },
  {
   "cell_type": "code",
   "execution_count": 50,
   "id": "d4db2187",
   "metadata": {},
   "outputs": [
    {
     "data": {
      "text/plain": [
       "{1: 2, 2: 3}"
      ]
     },
     "execution_count": 50,
     "metadata": {},
     "output_type": "execute_result"
    }
   ],
   "source": [
    "t1=[(1,2),(2,3)]      # dict/iterable\n",
    "d1={}\n",
    "d1.update(t1)\n",
    "d1"
   ]
  },
  {
   "cell_type": "code",
   "execution_count": null,
   "id": "08cc8636",
   "metadata": {},
   "outputs": [],
   "source": [
    "- tuple\n",
    "- write an article on tuple"
   ]
  },
  {
   "cell_type": "code",
   "execution_count": null,
   "id": "37bdc8d4",
   "metadata": {},
   "outputs": [],
   "source": [
    "- how to read\n",
    "- type/max/min/sum\n",
    "- index/mutable\n",
    "- in/for \n",
    "- slice\n",
    "- methods"
   ]
  },
  {
   "cell_type": "code",
   "execution_count": null,
   "id": "19b2bcf8",
   "metadata": {},
   "outputs": [],
   "source": []
  },
  {
   "cell_type": "code",
   "execution_count": null,
   "id": "bebb59ec",
   "metadata": {},
   "outputs": [],
   "source": []
  },
  {
   "cell_type": "code",
   "execution_count": null,
   "id": "6afa2359",
   "metadata": {},
   "outputs": [],
   "source": []
  },
  {
   "cell_type": "code",
   "execution_count": null,
   "id": "8dbe7697",
   "metadata": {},
   "outputs": [],
   "source": []
  },
  {
   "cell_type": "code",
   "execution_count": null,
   "id": "3560e67a",
   "metadata": {},
   "outputs": [],
   "source": []
  },
  {
   "cell_type": "code",
   "execution_count": null,
   "id": "0f5bd4b9",
   "metadata": {},
   "outputs": [],
   "source": []
  },
  {
   "cell_type": "code",
   "execution_count": null,
   "id": "0f4e05e9",
   "metadata": {},
   "outputs": [],
   "source": []
  },
  {
   "cell_type": "code",
   "execution_count": null,
   "id": "89273b32",
   "metadata": {},
   "outputs": [],
   "source": []
  },
  {
   "cell_type": "code",
   "execution_count": null,
   "id": "911ee932",
   "metadata": {},
   "outputs": [],
   "source": []
  },
  {
   "cell_type": "code",
   "execution_count": null,
   "id": "7a90a76a",
   "metadata": {},
   "outputs": [],
   "source": []
  },
  {
   "cell_type": "code",
   "execution_count": null,
   "id": "016cba0d",
   "metadata": {},
   "outputs": [],
   "source": []
  },
  {
   "cell_type": "code",
   "execution_count": null,
   "id": "7f891aa0",
   "metadata": {},
   "outputs": [],
   "source": []
  },
  {
   "cell_type": "code",
   "execution_count": null,
   "id": "1e2c8785",
   "metadata": {},
   "outputs": [],
   "source": []
  }
 ],
 "metadata": {
  "kernelspec": {
   "display_name": "Python 3 (ipykernel)",
   "language": "python",
   "name": "python3"
  },
  "language_info": {
   "codemirror_mode": {
    "name": "ipython",
    "version": 3
   },
   "file_extension": ".py",
   "mimetype": "text/x-python",
   "name": "python",
   "nbconvert_exporter": "python",
   "pygments_lexer": "ipython3",
   "version": "3.11.5"
  }
 },
 "nbformat": 4,
 "nbformat_minor": 5
}
