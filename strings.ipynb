{
 "cells": [
  {
   "cell_type": "code",
   "execution_count": null,
   "id": "d053cb60",
   "metadata": {},
   "outputs": [],
   "source": [
    "# strings\n",
    "# list\n",
    "# dictionary\n",
    "# tuple\n",
    "# set"
   ]
  },
  {
   "cell_type": "markdown",
   "id": "dc7add09",
   "metadata": {},
   "source": [
    "**how to read the strings**"
   ]
  },
  {
   "cell_type": "code",
   "execution_count": 1,
   "id": "2ff89e92",
   "metadata": {},
   "outputs": [
    {
     "data": {
      "text/plain": [
       "'python'"
      ]
     },
     "execution_count": 1,
     "metadata": {},
     "output_type": "execute_result"
    }
   ],
   "source": [
    "string1='python'          # single quote\n",
    "string1"
   ]
  },
  {
   "cell_type": "code",
   "execution_count": 2,
   "id": "42afe582",
   "metadata": {},
   "outputs": [
    {
     "data": {
      "text/plain": [
       "'python'"
      ]
     },
     "execution_count": 2,
     "metadata": {},
     "output_type": "execute_result"
    }
   ],
   "source": [
    "string2=\"python\"          # double quote\n",
    "string2"
   ]
  },
  {
   "cell_type": "code",
   "execution_count": null,
   "id": "d7ed236d",
   "metadata": {},
   "outputs": [],
   "source": [
    "### triple quotes\n",
    "# Doc string is used to say some information about your python code"
   ]
  },
  {
   "cell_type": "code",
   "execution_count": 2,
   "id": "278a7283",
   "metadata": {},
   "outputs": [],
   "source": [
    "\"\"\"\n",
    "im creating a hello function\n",
    "arguments: None\n",
    "return:  None\n",
    "\"\"\"\n",
    "def hello():\n",
    "    print(\"good morning\")"
   ]
  },
  {
   "cell_type": "code",
   "execution_count": 4,
   "id": "3c841d92",
   "metadata": {},
   "outputs": [
    {
     "data": {
      "text/plain": [
       "'\\nthis is geetha reddy \\nform kadapa\\n'"
      ]
     },
     "execution_count": 4,
     "metadata": {},
     "output_type": "execute_result"
    }
   ],
   "source": [
    "\"\"\"\n",
    "this is geetha reddy \n",
    "form kadapa\n",
    "\"\"\"\n"
   ]
  },
  {
   "cell_type": "code",
   "execution_count": null,
   "id": "e03e37fd",
   "metadata": {},
   "outputs": [],
   "source": [
    "'hello python'    # i want to highlite the python"
   ]
  },
  {
   "cell_type": "code",
   "execution_count": 4,
   "id": "f435c132",
   "metadata": {},
   "outputs": [
    {
     "name": "stdout",
     "output_type": "stream",
     "text": [
      "hello \"python\"\n"
     ]
    }
   ],
   "source": [
    "string3='hello \"python\"'\n",
    "print(string3)"
   ]
  },
  {
   "cell_type": "code",
   "execution_count": 5,
   "id": "eae265a9",
   "metadata": {},
   "outputs": [
    {
     "name": "stdout",
     "output_type": "stream",
     "text": [
      "hello \"python\"\n"
     ]
    }
   ],
   "source": [
    "string4='hello \"python\"'\n",
    "print(string4)"
   ]
  },
  {
   "cell_type": "code",
   "execution_count": null,
   "id": "d8479b7d",
   "metadata": {},
   "outputs": [],
   "source": [
    "- type\n",
    "- len\n",
    "- max\n",
    "- min"
   ]
  },
  {
   "cell_type": "markdown",
   "id": "7d14c13b",
   "metadata": {},
   "source": [
    "$TYPE$:"
   ]
  },
  {
   "cell_type": "code",
   "execution_count": 6,
   "id": "af913252",
   "metadata": {},
   "outputs": [
    {
     "data": {
      "text/plain": [
       "'python'"
      ]
     },
     "execution_count": 6,
     "metadata": {},
     "output_type": "execute_result"
    }
   ],
   "source": [
    "string1"
   ]
  },
  {
   "cell_type": "code",
   "execution_count": 7,
   "id": "012e8b4a",
   "metadata": {},
   "outputs": [
    {
     "data": {
      "text/plain": [
       "str"
      ]
     },
     "execution_count": 7,
     "metadata": {},
     "output_type": "execute_result"
    }
   ],
   "source": [
    "type(string1)"
   ]
  },
  {
   "cell_type": "code",
   "execution_count": 15,
   "id": "ff132e25",
   "metadata": {},
   "outputs": [
    {
     "data": {
      "text/plain": [
       "type"
      ]
     },
     "execution_count": 15,
     "metadata": {},
     "output_type": "execute_result"
    }
   ],
   "source": [
    "type(bool)"
   ]
  },
  {
   "cell_type": "markdown",
   "id": "c626f405",
   "metadata": {},
   "source": [
    "$LEN$:"
   ]
  },
  {
   "cell_type": "code",
   "execution_count": 8,
   "id": "dc8048ec",
   "metadata": {},
   "outputs": [
    {
     "data": {
      "text/plain": [
       "6"
      ]
     },
     "execution_count": 8,
     "metadata": {},
     "output_type": "execute_result"
    }
   ],
   "source": [
    "len(string1)"
   ]
  },
  {
   "cell_type": "markdown",
   "id": "c29d47ac",
   "metadata": {},
   "source": [
    "$MAX-MIN$:"
   ]
  },
  {
   "cell_type": "code",
   "execution_count": 15,
   "id": "c64f3c5c",
   "metadata": {},
   "outputs": [
    {
     "data": {
      "text/plain": [
       "'P'"
      ]
     },
     "execution_count": 15,
     "metadata": {},
     "output_type": "execute_result"
    }
   ],
   "source": [
    "string1='pP'\n",
    "max(string1)\n",
    "\n",
    "# ASCLL\n",
    "#'A'=65   'a'=97\n",
    "\n",
    "\n",
    "string1=\"pP\"\n",
    "min(string1)"
   ]
  },
  {
   "cell_type": "code",
   "execution_count": 16,
   "id": "788e71eb",
   "metadata": {},
   "outputs": [
    {
     "data": {
      "text/plain": [
       "'a'"
      ]
     },
     "execution_count": 16,
     "metadata": {},
     "output_type": "execute_result"
    }
   ],
   "source": [
    "string1=\"geetha\"\n",
    "min(string1)"
   ]
  },
  {
   "cell_type": "code",
   "execution_count": 17,
   "id": "ca8d02e3",
   "metadata": {},
   "outputs": [
    {
     "data": {
      "text/plain": [
       "'r'"
      ]
     },
     "execution_count": 17,
     "metadata": {},
     "output_type": "execute_result"
    }
   ],
   "source": [
    "string1=\"pGr\"\n",
    "max(string1)"
   ]
  },
  {
   "cell_type": "markdown",
   "id": "805bf2f3",
   "metadata": {},
   "source": [
    "$ORD-CHR$:"
   ]
  },
  {
   "cell_type": "code",
   "execution_count": 18,
   "id": "c733193e",
   "metadata": {},
   "outputs": [
    {
     "data": {
      "text/plain": [
       "112"
      ]
     },
     "execution_count": 18,
     "metadata": {},
     "output_type": "execute_result"
    }
   ],
   "source": [
    "ord('p')       # it will provide ascii value of char"
   ]
  },
  {
   "cell_type": "code",
   "execution_count": 19,
   "id": "001a79b1",
   "metadata": {},
   "outputs": [
    {
     "data": {
      "text/plain": [
       "103"
      ]
     },
     "execution_count": 19,
     "metadata": {},
     "output_type": "execute_result"
    }
   ],
   "source": [
    "ord('g')"
   ]
  },
  {
   "cell_type": "code",
   "execution_count": 20,
   "id": "229cfe98",
   "metadata": {},
   "outputs": [
    {
     "data": {
      "text/plain": [
       "112"
      ]
     },
     "execution_count": 20,
     "metadata": {},
     "output_type": "execute_result"
    }
   ],
   "source": [
    "ord('p')"
   ]
  },
  {
   "cell_type": "code",
   "execution_count": 21,
   "id": "dc484afe",
   "metadata": {},
   "outputs": [
    {
     "data": {
      "text/plain": [
       "'y'"
      ]
     },
     "execution_count": 21,
     "metadata": {},
     "output_type": "execute_result"
    }
   ],
   "source": [
    "string1='python'\n",
    "max(string1)"
   ]
  },
  {
   "cell_type": "code",
   "execution_count": 22,
   "id": "7f87104b",
   "metadata": {},
   "outputs": [
    {
     "data": {
      "text/plain": [
       "'h'"
      ]
     },
     "execution_count": 22,
     "metadata": {},
     "output_type": "execute_result"
    }
   ],
   "source": [
    "string1=\"python\"\n",
    "min(string1)"
   ]
  },
  {
   "cell_type": "code",
   "execution_count": 23,
   "id": "3543b414",
   "metadata": {},
   "outputs": [
    {
     "data": {
      "text/plain": [
       "'y'"
      ]
     },
     "execution_count": 23,
     "metadata": {},
     "output_type": "execute_result"
    }
   ],
   "source": [
    "string1=\"python\"\n",
    "max(string1)"
   ]
  },
  {
   "cell_type": "code",
   "execution_count": 24,
   "id": "1eac15e2",
   "metadata": {},
   "outputs": [
    {
     "data": {
      "text/plain": [
       "(112, 121, 116, 104, 111, 110)"
      ]
     },
     "execution_count": 24,
     "metadata": {},
     "output_type": "execute_result"
    }
   ],
   "source": [
    "ord('p'),ord('y'),ord('t'),ord('h'),ord('o'),ord('n')"
   ]
  },
  {
   "cell_type": "code",
   "execution_count": 25,
   "id": "ada46a53",
   "metadata": {},
   "outputs": [
    {
     "data": {
      "text/plain": [
       "('p', 'y', 't', 'h', 'o', 'n')"
      ]
     },
     "execution_count": 25,
     "metadata": {},
     "output_type": "execute_result"
    }
   ],
   "source": [
    "chr(112),chr(121),chr(116),chr(104),chr(111),chr(110),"
   ]
  },
  {
   "cell_type": "code",
   "execution_count": 26,
   "id": "ab5de1a5",
   "metadata": {},
   "outputs": [
    {
     "data": {
      "text/plain": [
       "(71, 69, 69, 84, 72, 65)"
      ]
     },
     "execution_count": 26,
     "metadata": {},
     "output_type": "execute_result"
    }
   ],
   "source": [
    "ord('G'),ord('E'),ord('E'),ord('T'),ord('H'),ord('A')"
   ]
  },
  {
   "cell_type": "code",
   "execution_count": 27,
   "id": "ac7324c8",
   "metadata": {},
   "outputs": [
    {
     "data": {
      "text/plain": [
       "('G', 'E', 'E', 'T', 'H', 'A')"
      ]
     },
     "execution_count": 27,
     "metadata": {},
     "output_type": "execute_result"
    }
   ],
   "source": [
    "chr(71),chr(69),chr(69),chr(84),chr(72),chr(65)"
   ]
  },
  {
   "cell_type": "code",
   "execution_count": 28,
   "id": "6b3cfbdd",
   "metadata": {},
   "outputs": [
    {
     "data": {
      "text/plain": [
       "('P', 'G', 'R')"
      ]
     },
     "execution_count": 28,
     "metadata": {},
     "output_type": "execute_result"
    }
   ],
   "source": [
    "chr(80),chr(71),chr(82),"
   ]
  },
  {
   "cell_type": "code",
   "execution_count": 29,
   "id": "bcdaa3be",
   "metadata": {},
   "outputs": [
    {
     "name": "stdout",
     "output_type": "stream",
     "text": [
      "0\n",
      "1\n",
      "2\n",
      "3\n",
      "4\n",
      "5\n"
     ]
    }
   ],
   "source": [
    "for i in range(len('geetha')):\n",
    "    print(i)"
   ]
  },
  {
   "cell_type": "code",
   "execution_count": 30,
   "id": "24f20de6",
   "metadata": {},
   "outputs": [],
   "source": [
    "# i want print p y t h o n"
   ]
  },
  {
   "cell_type": "markdown",
   "id": "fde65746",
   "metadata": {},
   "source": [
    "$IN$:"
   ]
  },
  {
   "cell_type": "code",
   "execution_count": 31,
   "id": "87ebc3eb",
   "metadata": {},
   "outputs": [
    {
     "data": {
      "text/plain": [
       "True"
      ]
     },
     "execution_count": 31,
     "metadata": {},
     "output_type": "execute_result"
    }
   ],
   "source": [
    "string1='python'\n",
    "\n",
    "'p' in string1"
   ]
  },
  {
   "cell_type": "code",
   "execution_count": 32,
   "id": "16ea74f0",
   "metadata": {},
   "outputs": [
    {
     "data": {
      "text/plain": [
       "True"
      ]
     },
     "execution_count": 32,
     "metadata": {},
     "output_type": "execute_result"
    }
   ],
   "source": [
    "string1='python'\n",
    "\n",
    "'p' in string1\n",
    "'y' in string1\n",
    "'t' in string1\n",
    "'u' in string1\n",
    "'o' in string1\n",
    "'n' in string1"
   ]
  },
  {
   "cell_type": "code",
   "execution_count": 33,
   "id": "7fbc825b",
   "metadata": {},
   "outputs": [
    {
     "data": {
      "text/plain": [
       "False"
      ]
     },
     "execution_count": 33,
     "metadata": {},
     "output_type": "execute_result"
    }
   ],
   "source": [
    "string1='python'\n",
    "\n",
    "'p' in string1\n",
    "'y' in string1\n",
    "'t' in string1\n",
    "'u' in string1\n",
    "'o' in string1\n",
    "'n' in string1\n",
    "'a' in string1"
   ]
  },
  {
   "cell_type": "code",
   "execution_count": 34,
   "id": "a7f4be57",
   "metadata": {},
   "outputs": [
    {
     "name": "stdout",
     "output_type": "stream",
     "text": [
      "p\n",
      "y\n",
      "t\n",
      "h\n",
      "o\n",
      "n\n"
     ]
    }
   ],
   "source": [
    "for i in string1:\n",
    "    print(i)"
   ]
  },
  {
   "cell_type": "markdown",
   "id": "19153878",
   "metadata": {},
   "source": [
    "- range(): you need to provide inside the range\n",
    "- in     : is used only for strings\n",
    "- if you want print the letters using for loop go for in opertor"
   ]
  },
  {
   "cell_type": "code",
   "execution_count": 35,
   "id": "3d4038ed",
   "metadata": {},
   "outputs": [
    {
     "name": "stdout",
     "output_type": "stream",
     "text": [
      "112\n",
      "121\n",
      "116\n",
      "104\n",
      "111\n",
      "110\n",
      "110\n"
     ]
    }
   ],
   "source": [
    "print(ord('p'))\n",
    "print(ord('y'))\n",
    "print(ord('t'))\n",
    "print(ord('h'))\n",
    "print(ord('o'))\n",
    "print(ord('n'))\n",
    "\n",
    "print(ord(i))"
   ]
  },
  {
   "cell_type": "code",
   "execution_count": 36,
   "id": "aad074d7",
   "metadata": {},
   "outputs": [
    {
     "name": "stdout",
     "output_type": "stream",
     "text": [
      "the ascii value of p is 112\n",
      "the ascii value of y is 121\n",
      "the ascii value of t is 116\n",
      "the ascii value of h is 104\n",
      "the ascii value of o is 111\n",
      "the ascii value of n is 110\n"
     ]
    }
   ],
   "source": [
    "for i in string1:\n",
    "    print(\"the ascii value of {} is {}\".format(i,ord(i)))\n",
    "# the ascii value of p is 112"
   ]
  },
  {
   "cell_type": "code",
   "execution_count": 37,
   "id": "6ab159c4",
   "metadata": {},
   "outputs": [
    {
     "ename": "AttributeError",
     "evalue": "'str' object has no attribute 'ascii_uppercase'",
     "output_type": "error",
     "traceback": [
      "\u001b[1;31m---------------------------------------------------------------------------\u001b[0m",
      "\u001b[1;31mAttributeError\u001b[0m                            Traceback (most recent call last)",
      "Cell \u001b[1;32mIn[37], line 4\u001b[0m\n\u001b[0;32m      1\u001b[0m \u001b[38;5;66;03m# ascii value of A to Z\u001b[39;00m\n\u001b[1;32m----> 4\u001b[0m \u001b[38;5;28;01mfor\u001b[39;00m i \u001b[38;5;129;01min\u001b[39;00m string1\u001b[38;5;241m.\u001b[39mascii_uppercase:\n\u001b[0;32m      5\u001b[0m     \u001b[38;5;28mprint\u001b[39m(\u001b[38;5;124m\"\u001b[39m\u001b[38;5;124mthe A to Z ascii value of \u001b[39m\u001b[38;5;132;01m{}\u001b[39;00m\u001b[38;5;124m is \u001b[39m\u001b[38;5;132;01m{}\u001b[39;00m\u001b[38;5;124m\"\u001b[39m\u001b[38;5;241m.\u001b[39mformat(i,\u001b[38;5;28mord\u001b[39m(i)))\n",
      "\u001b[1;31mAttributeError\u001b[0m: 'str' object has no attribute 'ascii_uppercase'"
     ]
    }
   ],
   "source": [
    "# ascii value of A to Z\n",
    "\n",
    "\n",
    "for i in string1.ascii_uppercase:\n",
    "    print(\"the A to Z ascii value of {} is {}\".format(i,ord(i)))"
   ]
  },
  {
   "cell_type": "code",
   "execution_count": 38,
   "id": "0cf446f4",
   "metadata": {},
   "outputs": [
    {
     "ename": "NameError",
     "evalue": "name 'string' is not defined",
     "output_type": "error",
     "traceback": [
      "\u001b[1;31m---------------------------------------------------------------------------\u001b[0m",
      "\u001b[1;31mNameError\u001b[0m                                 Traceback (most recent call last)",
      "Cell \u001b[1;32mIn[38], line 1\u001b[0m\n\u001b[1;32m----> 1\u001b[0m \u001b[38;5;28;01mfor\u001b[39;00m i \u001b[38;5;129;01min\u001b[39;00m string\u001b[38;5;241m.\u001b[39mascii_lowercase:\n\u001b[0;32m      2\u001b[0m     \u001b[38;5;28mprint\u001b[39m(\u001b[38;5;124m\"\u001b[39m\u001b[38;5;124mthe A to Z ascii value of \u001b[39m\u001b[38;5;132;01m{}\u001b[39;00m\u001b[38;5;124m is \u001b[39m\u001b[38;5;132;01m{}\u001b[39;00m\u001b[38;5;124m\"\u001b[39m\u001b[38;5;241m.\u001b[39mformat(i,\u001b[38;5;28mord\u001b[39m(i)))\n",
      "\u001b[1;31mNameError\u001b[0m: name 'string' is not defined"
     ]
    }
   ],
   "source": [
    "for i in string.ascii_lowercase:\n",
    "    print(\"the A to Z ascii value of {} is {}\".format(i,ord(i)))"
   ]
  },
  {
   "cell_type": "code",
   "execution_count": 39,
   "id": "40dd237a",
   "metadata": {},
   "outputs": [
    {
     "ename": "NameError",
     "evalue": "name 'string' is not defined",
     "output_type": "error",
     "traceback": [
      "\u001b[1;31m---------------------------------------------------------------------------\u001b[0m",
      "\u001b[1;31mNameError\u001b[0m                                 Traceback (most recent call last)",
      "Cell \u001b[1;32mIn[39], line 1\u001b[0m\n\u001b[1;32m----> 1\u001b[0m \u001b[38;5;28;01mfor\u001b[39;00m i \u001b[38;5;129;01min\u001b[39;00m string\u001b[38;5;241m.\u001b[39mpunctuation:\n\u001b[0;32m      2\u001b[0m     \u001b[38;5;28mprint\u001b[39m(\u001b[38;5;124m\"\u001b[39m\u001b[38;5;124mthe A to Z ascii value of \u001b[39m\u001b[38;5;132;01m{}\u001b[39;00m\u001b[38;5;124m is \u001b[39m\u001b[38;5;132;01m{}\u001b[39;00m\u001b[38;5;124m\"\u001b[39m\u001b[38;5;241m.\u001b[39mformat(i,\u001b[38;5;28mord\u001b[39m(i)))\n",
      "\u001b[1;31mNameError\u001b[0m: name 'string' is not defined"
     ]
    }
   ],
   "source": [
    "for i in string.punctuation:\n",
    "    print(\"the A to Z ascii value of {} is {}\".format(i,ord(i)))"
   ]
  },
  {
   "cell_type": "code",
   "execution_count": 40,
   "id": "83645097",
   "metadata": {},
   "outputs": [
    {
     "data": {
      "text/plain": [
       "122"
      ]
     },
     "execution_count": 40,
     "metadata": {},
     "output_type": "execute_result"
    }
   ],
   "source": [
    "# what is the start and end of ascill number?\n",
    "\n",
    "ord(\"z\")"
   ]
  },
  {
   "cell_type": "code",
   "execution_count": 41,
   "id": "b9761f1f",
   "metadata": {},
   "outputs": [
    {
     "name": "stdout",
     "output_type": "stream",
     "text": [
      "1 \u0001\n",
      "2 \u0002\n",
      "3 \u0003\n",
      "4 \u0004\n",
      "5 \u0005\n",
      "6 \u0006\n",
      "7 \u0007\n",
      "8 \b\n",
      "9 \t\n",
      "10 \n",
      "\n",
      "11 \u000b",
      "\n",
      "12 \f",
      "\n",
      "13 \r\n",
      "14 \u000e\n",
      "15 \u000f\n",
      "16 \u0010\n",
      "17 \u0011\n",
      "18 \u0012\n",
      "19 \u0013\n",
      "20 \u0014\n",
      "21 \u0015\n",
      "22 \u0016\n",
      "23 \u0017\n",
      "24 \u0018\n",
      "25 \u0019\n",
      "26 \u001a\n",
      "27 \u001b\n",
      "28 \u001c",
      "\n",
      "29 \u001d",
      "\n",
      "30 \u001e",
      "\n",
      "31 \u001f\n",
      "32  \n",
      "33 !\n",
      "34 \"\n",
      "35 #\n",
      "36 $\n",
      "37 %\n",
      "38 &\n",
      "39 '\n",
      "40 (\n",
      "41 )\n",
      "42 *\n",
      "43 +\n",
      "44 ,\n",
      "45 -\n",
      "46 .\n",
      "47 /\n",
      "48 0\n",
      "49 1\n"
     ]
    }
   ],
   "source": [
    "for i in range(1,50):\n",
    "    print(i,chr(i))"
   ]
  },
  {
   "cell_type": "code",
   "execution_count": 42,
   "id": "41497137",
   "metadata": {},
   "outputs": [
    {
     "name": "stdout",
     "output_type": "stream",
     "text": [
      "\u0001\n",
      "\u0002\n",
      "\u0003\n",
      "\u0004\n",
      "\u0005\n",
      "\u0006\n",
      "\u0007\n",
      "\b\n",
      "\t\n",
      "\n",
      "\n",
      "\u000b",
      "\n",
      "\f",
      "\n",
      "\r\n",
      "\u000e\n",
      "\u000f\n",
      "\u0010\n",
      "\u0011\n",
      "\u0012\n",
      "\u0013\n",
      "\u0014\n",
      "\u0015\n",
      "\u0016\n",
      "\u0017\n",
      "\u0018\n",
      "\u0019\n",
      "\u001a\n",
      "\u001b\n",
      "\u001c",
      "\n",
      "\u001d",
      "\n",
      "\u001e",
      "\n",
      "\u001f\n",
      " \n",
      "!\n",
      "\"\n",
      "#\n",
      "$\n",
      "%\n",
      "&\n",
      "'\n",
      "(\n",
      ")\n",
      "*\n",
      "+\n",
      ",\n",
      "-\n",
      ".\n",
      "/\n",
      "0\n",
      "1\n"
     ]
    }
   ],
   "source": [
    "for i in range(1,50):\n",
    "    print(chr(i))"
   ]
  },
  {
   "cell_type": "code",
   "execution_count": 43,
   "id": "d43f521a",
   "metadata": {},
   "outputs": [
    {
     "name": "stdout",
     "output_type": "stream",
     "text": [
      "33 !\n",
      "34 \"\n",
      "35 #\n",
      "36 $\n",
      "37 %\n",
      "38 &\n",
      "39 '\n"
     ]
    }
   ],
   "source": [
    "for i in range(33,40):\n",
    "    print(i,chr(i))    "
   ]
  },
  {
   "cell_type": "code",
   "execution_count": 44,
   "id": "28771682",
   "metadata": {},
   "outputs": [
    {
     "name": "stdout",
     "output_type": "stream",
     "text": [
      "99 c\n",
      "100 d\n",
      "101 e\n",
      "102 f\n",
      "103 g\n",
      "104 h\n",
      "105 i\n",
      "106 j\n",
      "107 k\n",
      "108 l\n",
      "109 m\n"
     ]
    }
   ],
   "source": [
    "for i in range(99,110):\n",
    "    print(i,chr(i))"
   ]
  },
  {
   "cell_type": "code",
   "execution_count": 48,
   "id": "942537e1",
   "metadata": {},
   "outputs": [
    {
     "ename": "AttributeError",
     "evalue": "'str' object has no attribute 'ascii_letters'",
     "output_type": "error",
     "traceback": [
      "\u001b[1;31m---------------------------------------------------------------------------\u001b[0m",
      "\u001b[1;31mAttributeError\u001b[0m                            Traceback (most recent call last)",
      "Cell \u001b[1;32mIn[48], line 1\u001b[0m\n\u001b[1;32m----> 1\u001b[0m string1\u001b[38;5;241m.\u001b[39mascii_letters\n",
      "\u001b[1;31mAttributeError\u001b[0m: 'str' object has no attribute 'ascii_letters'"
     ]
    }
   ],
   "source": [
    "string1.ascii_letters"
   ]
  },
  {
   "cell_type": "code",
   "execution_count": 54,
   "id": "6cda8f3e",
   "metadata": {},
   "outputs": [
    {
     "data": {
      "text/plain": [
       "'0123456789abcdefghijklmnopqrstuvwxyzABCDEFGHIJKLMNOPQRSTUVWXYZ!\"#$%&\\'()*+,-./:;<=>?@[\\\\]^_`{|}~ \\t\\n\\r\\x0b\\x0c'"
      ]
     },
     "execution_count": 54,
     "metadata": {},
     "output_type": "execute_result"
    }
   ],
   "source": [
    "string.printable\n",
    "\n",
    "# digits\n",
    "# lower\n",
    "# upp\n",
    "# "
   ]
  },
  {
   "cell_type": "code",
   "execution_count": null,
   "id": "b269d018",
   "metadata": {},
   "outputs": [],
   "source": [
    "# wap ask the user find number of a letters in a given string\n",
    "# string1= hai, how are you and how  do you do\n",
    "# ans:3\n",
    "\n",
    "\n",
    "# first iterate the string using in and for loop \n",
    "# print each letter====>                               # interview question\n",
    "# apply the if condition i=='a'"
   ]
  },
  {
   "cell_type": "code",
   "execution_count": 54,
   "id": "b5b9a8b5",
   "metadata": {},
   "outputs": [
    {
     "name": "stdout",
     "output_type": "stream",
     "text": [
      "6\n"
     ]
    }
   ],
   "source": [
    "string='hai how are you  and how  do you do'\n",
    "count=0\n",
    "for i in string:\n",
    "    if i=='a':\n",
    "        count=count+1\n",
    "print(count)"
   ]
  },
  {
   "cell_type": "code",
   "execution_count": 10,
   "id": "b82d7f8f",
   "metadata": {},
   "outputs": [
    {
     "name": "stdout",
     "output_type": "stream",
     "text": [
      "estimate how many words are in string 17:\n"
     ]
    }
   ],
   "source": [
    "# 2. A simple way to estimate the number of words in a string is to count \n",
    "# the number of spaces in the string.\n",
    "# Write a program that asks the user for a string and returns an \n",
    "# estimate of how many wordsare in the string.\n",
    "# Tip: You need to count the number of words using spaces\n",
    "\n",
    "string=\"enter a string:\"\n",
    "count=0\n",
    "for i in string:\n",
    "    count=string.count('')+1\n",
    "print(\"estimate how many words are in string {}:\".format(count))"
   ]
  },
  {
   "cell_type": "code",
   "execution_count": 15,
   "id": "9bf67b27",
   "metadata": {},
   "outputs": [
    {
     "name": "stdout",
     "output_type": "stream",
     "text": [
      "estimate the word count 3:\n"
     ]
    }
   ],
   "source": [
    "def number_of_words():\n",
    "    user='enter a string:'\n",
    "    count=user.count(' ')+1\n",
    "    print(\"estimate the word count {}:\".format(count))\n",
    "number_of_words()"
   ]
  },
  {
   "cell_type": "code",
   "execution_count": null,
   "id": "d3e80158",
   "metadata": {},
   "outputs": [],
   "source": [
    "# wap count the number of vowels in a given string\n",
    "# string='hai how are you'\n",
    "# ans=7"
   ]
  },
  {
   "cell_type": "code",
   "execution_count": 2,
   "id": "648124fc",
   "metadata": {},
   "outputs": [
    {
     "name": "stdout",
     "output_type": "stream",
     "text": [
      "7\n"
     ]
    }
   ],
   "source": [
    "string='hai how are you'\n",
    "count=0\n",
    "for i in string:\n",
    "    if i in 'aeiou':\n",
    "        count+=1\n",
    "        \n",
    "print(count)"
   ]
  },
  {
   "cell_type": "code",
   "execution_count": 28,
   "id": "eadd10a4",
   "metadata": {},
   "outputs": [
    {
     "ename": "SyntaxError",
     "evalue": "invalid syntax (3547146994.py, line 6)",
     "output_type": "error",
     "traceback": [
      "\u001b[1;36m  Cell \u001b[1;32mIn[28], line 6\u001b[1;36m\u001b[0m\n\u001b[1;33m    if vowels string:\u001b[0m\n\u001b[1;37m              ^\u001b[0m\n\u001b[1;31mSyntaxError\u001b[0m\u001b[1;31m:\u001b[0m invalid syntax\n"
     ]
    }
   ],
   "source": [
    "string=\"geetha reddy pgr\"\n",
    "vowels=\"aeiou\"\n",
    "for i in string:\n",
    "    for i in \"aeiou\":\n",
    "        count+=1\n",
    "    if vowels string:\n",
    "        print(\"the word vowels\")\n",
    "    else:\n",
    "        print(\"the word does not vowels\")\n",
    "print(count) "
   ]
  },
  {
   "cell_type": "code",
   "execution_count": 37,
   "id": "a12c819c",
   "metadata": {},
   "outputs": [
    {
     "ename": "TypeError",
     "evalue": "unsupported operand type(s) for +: 'int' and 'str'",
     "output_type": "error",
     "traceback": [
      "\u001b[1;31m---------------------------------------------------------------------------\u001b[0m",
      "\u001b[1;31mTypeError\u001b[0m                                 Traceback (most recent call last)",
      "Cell \u001b[1;32mIn[37], line 9\u001b[0m\n\u001b[0;32m      7\u001b[0m \u001b[38;5;28;01mfor\u001b[39;00m i \u001b[38;5;129;01min\u001b[39;00m string:\n\u001b[0;32m      8\u001b[0m     \u001b[38;5;28;01mfor\u001b[39;00m i \u001b[38;5;129;01min\u001b[39;00m \u001b[38;5;124m'\u001b[39m\u001b[38;5;124maeiou\u001b[39m\u001b[38;5;124m'\u001b[39m:\n\u001b[1;32m----> 9\u001b[0m         count\u001b[38;5;241m=\u001b[39mcount\u001b[38;5;241m+\u001b[39mi\n\u001b[0;32m     11\u001b[0m \u001b[38;5;28mprint\u001b[39m(string1)\n",
      "\u001b[1;31mTypeError\u001b[0m: unsupported operand type(s) for +: 'int' and 'str'"
     ]
    }
   ],
   "source": [
    "# wap count the number of unqiue vowels in given string\n",
    "# ans:5\n",
    "\n",
    "string='hai how are you'\n",
    "string1=''\n",
    "count=0\n",
    "for i in string:\n",
    "    for i in 'aeiou':\n",
    "        count=count+i\n",
    "        \n",
    "print(string1)               #$$$$$$$$$$$$$$$$$$$$$$$$$$$$$$$$$$$$$$$$$$$$$$"
   ]
  },
  {
   "cell_type": "code",
   "execution_count": 91,
   "id": "0060ce9e",
   "metadata": {},
   "outputs": [
    {
     "data": {
      "text/plain": [
       "'haihow'"
      ]
     },
     "execution_count": 91,
     "metadata": {},
     "output_type": "execute_result"
    }
   ],
   "source": [
    "str1='hai'\n",
    "str2='how'\n",
    "str1+str2"
   ]
  },
  {
   "cell_type": "code",
   "execution_count": 92,
   "id": "ca7a8b05",
   "metadata": {},
   "outputs": [
    {
     "ename": "TypeError",
     "evalue": "unsupported operand type(s) for -: 'str' and 'str'",
     "output_type": "error",
     "traceback": [
      "\u001b[1;31m---------------------------------------------------------------------------\u001b[0m",
      "\u001b[1;31mTypeError\u001b[0m                                 Traceback (most recent call last)",
      "Cell \u001b[1;32mIn[92], line 1\u001b[0m\n\u001b[1;32m----> 1\u001b[0m str1\u001b[38;5;241m-\u001b[39mstr2\n\u001b[0;32m      2\u001b[0m str2\u001b[38;5;241m*\u001b[39mstr2\n\u001b[0;32m      3\u001b[0m str1\u001b[38;5;241m/\u001b[39mstr2\n",
      "\u001b[1;31mTypeError\u001b[0m: unsupported operand type(s) for -: 'str' and 'str'"
     ]
    }
   ],
   "source": [
    "str1-str2\n",
    "str2*str2\n",
    "str1/str2"
   ]
  },
  {
   "cell_type": "code",
   "execution_count": 96,
   "id": "3b547f28",
   "metadata": {},
   "outputs": [
    {
     "ename": "TypeError",
     "evalue": "can't multiply sequence by non-int of type 'str'",
     "output_type": "error",
     "traceback": [
      "\u001b[1;31m---------------------------------------------------------------------------\u001b[0m",
      "\u001b[1;31mTypeError\u001b[0m                                 Traceback (most recent call last)",
      "Cell \u001b[1;32mIn[96], line 1\u001b[0m\n\u001b[1;32m----> 1\u001b[0m str1\u001b[38;5;241m*\u001b[39mstr2\n",
      "\u001b[1;31mTypeError\u001b[0m: can't multiply sequence by non-int of type 'str'"
     ]
    }
   ],
   "source": [
    "str1*str2"
   ]
  },
  {
   "cell_type": "code",
   "execution_count": 99,
   "id": "bc76a9a5",
   "metadata": {},
   "outputs": [
    {
     "data": {
      "text/plain": [
       "('haihaihai', 'how')"
      ]
     },
     "execution_count": 99,
     "metadata": {},
     "output_type": "execute_result"
    }
   ],
   "source": [
    "3*str1,str2"
   ]
  },
  {
   "cell_type": "code",
   "execution_count": null,
   "id": "230f06b5",
   "metadata": {},
   "outputs": [],
   "source": [
    "- how to read\n",
    "- single/double/triple\n",
    "- typr\n",
    "- len\n",
    "- in ( hoe to ilterate to through for loop)\n",
    "- min\n",
    "- max\n",
    "- concatenation\n"
   ]
  },
  {
   "cell_type": "markdown",
   "id": "0d98d33b",
   "metadata": {},
   "source": [
    "$INDEX$:"
   ]
  },
  {
   "cell_type": "code",
   "execution_count": 112,
   "id": "8c054ba4",
   "metadata": {},
   "outputs": [],
   "source": [
    "string1='python'    "
   ]
  },
  {
   "cell_type": "code",
   "execution_count": 109,
   "id": "7547c0fd",
   "metadata": {},
   "outputs": [
    {
     "data": {
      "text/plain": [
       "('p', 'y', 't', 'h', 'o', 'n')"
      ]
     },
     "execution_count": 109,
     "metadata": {},
     "output_type": "execute_result"
    }
   ],
   "source": [
    "string1[0],string1[1],string1[2],string1[3],string1[4],string1[5]"
   ]
  },
  {
   "cell_type": "code",
   "execution_count": 114,
   "id": "d61704bc",
   "metadata": {},
   "outputs": [
    {
     "name": "stdout",
     "output_type": "stream",
     "text": [
      "p\n",
      "y\n",
      "t\n",
      "h\n",
      "o\n",
      "n\n"
     ]
    }
   ],
   "source": [
    "for i in range(6):\n",
    "    print(string1[i])"
   ]
  },
  {
   "cell_type": "code",
   "execution_count": 121,
   "id": "dd0076f8",
   "metadata": {},
   "outputs": [
    {
     "name": "stdout",
     "output_type": "stream",
     "text": [
      "p\n",
      "y\n",
      "t\n",
      "h\n",
      "o\n",
      "n\n",
      "0\n",
      "1\n",
      "2\n",
      "3\n",
      "4\n",
      "5\n"
     ]
    }
   ],
   "source": [
    "string1='python'\n",
    "\n",
    " # i want print letters using in operator\n",
    "# i want print letters using in  range operator\n",
    "\n",
    "for i in string1:\n",
    "    print(i)\n",
    "for i in range(len(string1)):\n",
    "    print(i)"
   ]
  },
  {
   "cell_type": "code",
   "execution_count": 126,
   "id": "9bbc0326",
   "metadata": {},
   "outputs": [
    {
     "name": "stdout",
     "output_type": "stream",
     "text": [
      "p\n",
      "y\n",
      "t\n",
      "h\n",
      "o\n",
      "n\n",
      "0 p\n",
      "1 y\n",
      "2 t\n",
      "3 h\n",
      "4 o\n",
      "5 n\n"
     ]
    }
   ],
   "source": [
    "for i in string1:\n",
    "    print(i)\n",
    "for i in range(len(string1)):\n",
    "    print(i,string1[i])"
   ]
  },
  {
   "cell_type": "code",
   "execution_count": 15,
   "id": "be05c820",
   "metadata": {},
   "outputs": [],
   "source": [
    "string1='python'"
   ]
  },
  {
   "cell_type": "code",
   "execution_count": 12,
   "id": "05ab29ba",
   "metadata": {},
   "outputs": [],
   "source": [
    "string1='python'\n",
    "\n",
    "# i want to print to the letters using for loop\n",
    "# in\n",
    "# range"
   ]
  },
  {
   "cell_type": "code",
   "execution_count": 16,
   "id": "d8b1d92d",
   "metadata": {},
   "outputs": [
    {
     "name": "stdout",
     "output_type": "stream",
     "text": [
      "0 p\n",
      "1 y\n",
      "2 t\n",
      "3 h\n",
      "4 o\n",
      "5 n\n"
     ]
    }
   ],
   "source": [
    "#for i in string1:   # i mean each letter\n",
    "    #print(i,end='')\n",
    "    \n",
    "    \n",
    "for i in range(len(string1)):  # i means each numbers\n",
    "    print(i,string1[i])"
   ]
  },
  {
   "cell_type": "code",
   "execution_count": 17,
   "id": "fd92ce54",
   "metadata": {},
   "outputs": [
    {
     "name": "stdout",
     "output_type": "stream",
     "text": [
      "p y t h o n 0 p\n",
      "1 y\n",
      "2 t\n",
      "3 h\n",
      "4 o\n",
      "5 n\n"
     ]
    }
   ],
   "source": [
    "for i in string1:\n",
    "    print(i,end=' ')\n",
    "for i in range(len(string1)):\n",
    "    print(i,string1[i])"
   ]
  },
  {
   "cell_type": "code",
   "execution_count": 6,
   "id": "72e21394",
   "metadata": {},
   "outputs": [
    {
     "data": {
      "text/plain": [
       "'the index of p is 0'"
      ]
     },
     "execution_count": 6,
     "metadata": {},
     "output_type": "execute_result"
    }
   ],
   "source": [
    "'the index of p is 0'\n",
    "'the index of p is 0'"
   ]
  },
  {
   "cell_type": "code",
   "execution_count": 19,
   "id": "6af23fa4",
   "metadata": {},
   "outputs": [
    {
     "name": "stdout",
     "output_type": "stream",
     "text": [
      "the index of p is 0\n",
      "the index of y is 1\n",
      "the index of t is 2\n",
      "the index of h is 3\n",
      "the index of o is 4\n",
      "the index of n is 5\n"
     ]
    }
   ],
   "source": [
    "for i in range(len(string1)):\n",
    "    print('the index of {} is {}'.format(string1[i],i))"
   ]
  },
  {
   "cell_type": "code",
   "execution_count": 21,
   "id": "d1946427",
   "metadata": {},
   "outputs": [
    {
     "data": {
      "text/plain": [
       "'n'"
      ]
     },
     "execution_count": 21,
     "metadata": {},
     "output_type": "execute_result"
    }
   ],
   "source": [
    "string1[-1]"
   ]
  },
  {
   "cell_type": "code",
   "execution_count": 22,
   "id": "ea765455",
   "metadata": {},
   "outputs": [
    {
     "data": {
      "text/plain": [
       "('p', 'y', 't', 'h', 'o', 'n')"
      ]
     },
     "execution_count": 22,
     "metadata": {},
     "output_type": "execute_result"
    }
   ],
   "source": [
    "string1[-6],string1[-5],string1[-4],string1[-3],string1[-2],string1[-1]"
   ]
  },
  {
   "cell_type": "code",
   "execution_count": 24,
   "id": "83ee200e",
   "metadata": {},
   "outputs": [
    {
     "name": "stdout",
     "output_type": "stream",
     "text": [
      "the negative index of p is -6\n",
      "the negative index of y is -5\n",
      "the negative index of t is -4\n",
      "the negative index of h is -3\n",
      "the negative index of o is -2\n",
      "the negative index of n is -1\n"
     ]
    }
   ],
   "source": [
    "# iterate the for loop on string1\n",
    "# print the letters using negative index\n",
    "# the idea is first you need to print the numbers between -6 to -1, using for loop\n",
    "\n",
    "#for i in range(len(string1):\n",
    "   # print(i,end='')\n",
    "string1='python'\n",
    "for i in range(-6,0):\n",
    "    print(\"the negative index of {} is {}\".format(string1[i],i))"
   ]
  },
  {
   "cell_type": "code",
   "execution_count": 27,
   "id": "30826e54",
   "metadata": {},
   "outputs": [
    {
     "name": "stdout",
     "output_type": "stream",
     "text": [
      "-6 -5 -4 -3 -2 -1 0 1 2 3 4 5 "
     ]
    }
   ],
   "source": [
    "for i in range(-6,0):print(i,end=' ')\n",
    "for i in range(0,6):print(i,end=' ')"
   ]
  },
  {
   "cell_type": "code",
   "execution_count": 30,
   "id": "2c7cd13b",
   "metadata": {},
   "outputs": [
    {
     "name": "stdout",
     "output_type": "stream",
     "text": [
      "the negative index is -6 the positive is p for -12\n",
      "the negative index is -5 the positive is y for -11\n",
      "the negative index is -4 the positive is t for -10\n",
      "the negative index is -3 the positive is h for -9\n",
      "the negative index is -2 the positive is o for -8\n",
      "the negative index is -1 the positive is n for -7\n"
     ]
    }
   ],
   "source": [
    "# 'the positive index is 0 and negative index is -6 fot a letters p'\n",
    "string1='python'\n",
    "for i in range(-6,0):\n",
    "    print(\"the negative index is {} the positive is {} for {}\".format(i,string1[i],i-6))"
   ]
  },
  {
   "cell_type": "code",
   "execution_count": 31,
   "id": "01b9fe18",
   "metadata": {},
   "outputs": [
    {
     "name": "stdout",
     "output_type": "stream",
     "text": [
      "the negative index of p is -6\n",
      "the negative index of y is -5\n",
      "the negative index of t is -4\n",
      "the negative index of h is -3\n",
      "the negative index of o is -2\n",
      "the negative index of n is -1\n",
      "the negative index of p is 0\n",
      "the negative index of y is 1\n",
      "the negative index of t is 2\n",
      "the negative index of h is 3\n",
      "the negative index of o is 4\n",
      "the negative index of n is 5\n",
      "the negative index is -6 the positive is p for -12\n",
      "the negative index is -5 the positive is y for -11\n",
      "the negative index is -4 the positive is t for -10\n",
      "the negative index is -3 the positive is h for -9\n",
      "the negative index is -2 the positive is o for -8\n",
      "the negative index is -1 the positive is n for -7\n"
     ]
    }
   ],
   "source": [
    "for i in range(-len(string1),0):\n",
    "    print(\"the positive index of {} is {}\".format(string1[i],i+6))\n",
    "    \n",
    "for i in range(-len(string1),0):\n",
    "    print(\"the negative index of {} is {}\".format(string1[i],i-6))\n",
    "    \n",
    "for i in range(-len(string1),0):\n",
    "    print(\"the negative index is {} the positive is {} for {}\".format(i,string1[i],i-6))"
   ]
  },
  {
   "cell_type": "code",
   "execution_count": 33,
   "id": "e82cc447",
   "metadata": {},
   "outputs": [
    {
     "name": "stdout",
     "output_type": "stream",
     "text": [
      "-6 0\n",
      "-5 1\n",
      "-4 2\n",
      "-3 3\n",
      "-2 4\n",
      "-1 5\n"
     ]
    }
   ],
   "source": [
    "for i in range(-len(string1),0):\n",
    "    print(i,i+6)"
   ]
  },
  {
   "cell_type": "code",
   "execution_count": 36,
   "id": "485acb2d",
   "metadata": {},
   "outputs": [
    {
     "name": "stdout",
     "output_type": "stream",
     "text": [
      "the positive index of 0 and negative index is -6 for p\n",
      "the positive index of 1 and negative index is -5 for y\n",
      "the positive index of 2 and negative index is -4 for t\n",
      "the positive index of 3 and negative index is -3 for h\n",
      "the positive index of 4 and negative index is -2 for o\n",
      "the positive index of 5 and negative index is -1 for n\n"
     ]
    }
   ],
   "source": [
    "i=0\n",
    "while i<len(string1):\n",
    "    print(\"the positive index of {} and negative index is {} for {}\".format(i,i-6,string1[i]))\n",
    "    i=i+1"
   ]
  },
  {
   "cell_type": "code",
   "execution_count": 40,
   "id": "e74887f8",
   "metadata": {},
   "outputs": [
    {
     "name": "stdout",
     "output_type": "stream",
     "text": [
      "0\n"
     ]
    }
   ],
   "source": [
    "string='hai how are you'\n",
    "count=0\n",
    "for i in range(len(string1)):\n",
    "    if string1[i]=='a':\n",
    "        count+=1\n",
    "print(count)"
   ]
  },
  {
   "cell_type": "markdown",
   "id": "2969e956",
   "metadata": {},
   "source": [
    "** MUTABLE AND IMMUTABLE CONCEPT**\n",
    "\n",
    "MUTABLE====WE CAN CHANGE\n",
    "\n",
    "IMMUTABLE === WE CANNOT CHANGE\n",
    "\n",
    "STRINGS ARE IMMUTABLE"
   ]
  },
  {
   "cell_type": "code",
   "execution_count": 41,
   "id": "0ff47270",
   "metadata": {},
   "outputs": [
    {
     "ename": "TypeError",
     "evalue": "'str' object does not support item assignment",
     "output_type": "error",
     "traceback": [
      "\u001b[1;31m---------------------------------------------------------------------------\u001b[0m",
      "\u001b[1;31mTypeError\u001b[0m                                 Traceback (most recent call last)",
      "Cell \u001b[1;32mIn[41], line 5\u001b[0m\n\u001b[0;32m      1\u001b[0m string1\u001b[38;5;241m=\u001b[39m\u001b[38;5;124m'\u001b[39m\u001b[38;5;124mpython\u001b[39m\u001b[38;5;124m'\u001b[39m\n\u001b[0;32m      3\u001b[0m \u001b[38;5;66;03m# i want change  'p' ==== 'p'\u001b[39;00m\n\u001b[0;32m      4\u001b[0m \u001b[38;5;66;03m# o/p: 'python'\u001b[39;00m\n\u001b[1;32m----> 5\u001b[0m string1[\u001b[38;5;241m0\u001b[39m]\u001b[38;5;241m=\u001b[39m\u001b[38;5;124m'\u001b[39m\u001b[38;5;124mp\u001b[39m\u001b[38;5;124m'\u001b[39m\n",
      "\u001b[1;31mTypeError\u001b[0m: 'str' object does not support item assignment"
     ]
    }
   ],
   "source": [
    "string1='python'\n",
    "\n",
    "# i want change  'p' ==== 'p'\n",
    "# o/p: 'python'\n",
    "string1[0]='p'"
   ]
  },
  {
   "cell_type": "code",
   "execution_count": 42,
   "id": "374eb79e",
   "metadata": {},
   "outputs": [
    {
     "data": {
      "text/plain": [
       "[1000, 200, 300]"
      ]
     },
     "execution_count": 42,
     "metadata": {},
     "output_type": "execute_result"
    }
   ],
   "source": [
    "list1=[100,200,300]   # 100=====1000\n",
    "list1[0]=1000\n",
    "list1"
   ]
  },
  {
   "cell_type": "markdown",
   "id": "c9147585",
   "metadata": {},
   "source": [
    "$SLICE$"
   ]
  },
  {
   "cell_type": "code",
   "execution_count": null,
   "id": "0e4c7b19",
   "metadata": {},
   "outputs": [],
   "source": [
    "h  a  i     h  o  w     a  r  e        y   o   u\n",
    "0  1  2  3  4  5  6  7  8  9  10  11  12  13  14"
   ]
  },
  {
   "cell_type": "code",
   "execution_count": 44,
   "id": "11219bc2",
   "metadata": {},
   "outputs": [
    {
     "data": {
      "text/plain": [
       "'hai how are you'"
      ]
     },
     "execution_count": 44,
     "metadata": {},
     "output_type": "execute_result"
    }
   ],
   "source": [
    "string='hai how are you'\n",
    "string"
   ]
  },
  {
   "cell_type": "code",
   "execution_count": null,
   "id": "c1e405b7",
   "metadata": {},
   "outputs": [],
   "source": []
  },
  {
   "cell_type": "code",
   "execution_count": 46,
   "id": "f090abe6",
   "metadata": {},
   "outputs": [
    {
     "data": {
      "text/plain": [
       "'hai how are you'"
      ]
     },
     "execution_count": 46,
     "metadata": {},
     "output_type": "execute_result"
    }
   ],
   "source": [
    "string[:]\n",
    "# nothing mention means take  start and last letters"
   ]
  },
  {
   "cell_type": "code",
   "execution_count": 48,
   "id": "a12f3317",
   "metadata": {},
   "outputs": [
    {
     "data": {
      "text/plain": [
       "'hai how are you'"
      ]
     },
     "execution_count": 48,
     "metadata": {},
     "output_type": "execute_result"
    }
   ],
   "source": [
    "string[::]\n",
    "# start =0\n",
    "# stop= last letter len(string1)\n",
    "# step= +1"
   ]
  },
  {
   "cell_type": "code",
   "execution_count": 50,
   "id": "e10ac8e6",
   "metadata": {},
   "outputs": [
    {
     "data": {
      "text/plain": [
       "'hai how are you'"
      ]
     },
     "execution_count": 50,
     "metadata": {},
     "output_type": "execute_result"
    }
   ],
   "source": [
    "string='hai how are you'\n",
    "string1[2:10]\n",
    "string1[2:10:3]\n",
    "string[:]\n",
    "string[::]"
   ]
  },
  {
   "cell_type": "code",
   "execution_count": 51,
   "id": "a00822eb",
   "metadata": {},
   "outputs": [
    {
     "data": {
      "text/plain": [
       "''"
      ]
     },
     "execution_count": 51,
     "metadata": {},
     "output_type": "execute_result"
    }
   ],
   "source": [
    "string1[2:10:-3]"
   ]
  },
  {
   "cell_type": "code",
   "execution_count": null,
   "id": "602b2f0c",
   "metadata": {},
   "outputs": [],
   "source": [
    "-15   -14   -13   -12   -11   -10   -9   -8   -7   -6   -5   -4   -3   -2   -1  \n",
    "H      A     I           H     O     W         A    R    E         Y    O    U\n",
    "0      1     2     3     4     5     6    7    8    9    10   11   12   13   14"
   ]
  },
  {
   "cell_type": "code",
   "execution_count": null,
   "id": "affc0411",
   "metadata": {},
   "outputs": [],
   "source": [
    "string1[2:14:2]\n",
    "string1[2:14:-2]\n",
    "string1[2:-14:2]\n",
    "string1[2:-14:-2]\n",
    "string1[-2:14:2]\n",
    "string1[-2:-14:2]\n",
    "string1[-2:-14:-2]"
   ]
  },
  {
   "cell_type": "code",
   "execution_count": 59,
   "id": "2a569125",
   "metadata": {},
   "outputs": [
    {
     "data": {
      "text/plain": [
       "''"
      ]
     },
     "execution_count": 59,
     "metadata": {},
     "output_type": "execute_result"
    }
   ],
   "source": [
    "string1[2:14:-2]"
   ]
  },
  {
   "cell_type": "code",
   "execution_count": null,
   "id": "cc3e7010",
   "metadata": {},
   "outputs": [],
   "source": [
    "- reading methods\n",
    "- single/double/triple/(doc string)\n",
    "- type\n",
    "- len\n",
    "- min\n",
    "- max\n",
    "- concatenation\n",
    "- subtraction/mult/div\n",
    "- in\n",
    "- index\n",
    "- mutable\n",
    "- slice"
   ]
  },
  {
   "cell_type": "markdown",
   "id": "f8e970b9",
   "metadata": {},
   "source": [
    "**STRING METHOD**"
   ]
  },
  {
   "cell_type": "code",
   "execution_count": null,
   "id": "e1d8426e",
   "metadata": {},
   "outputs": [],
   "source": [
    "import <package_name>\n",
    "dir(<package_name>)\n",
    "help(<package_name>.<method_name>)"
   ]
  },
  {
   "cell_type": "code",
   "execution_count": 61,
   "id": "2d196e59",
   "metadata": {},
   "outputs": [
    {
     "data": {
      "text/plain": [
       "['__add__',\n",
       " '__class__',\n",
       " '__contains__',\n",
       " '__delattr__',\n",
       " '__dir__',\n",
       " '__doc__',\n",
       " '__eq__',\n",
       " '__format__',\n",
       " '__ge__',\n",
       " '__getattribute__',\n",
       " '__getitem__',\n",
       " '__getnewargs__',\n",
       " '__getstate__',\n",
       " '__gt__',\n",
       " '__hash__',\n",
       " '__init__',\n",
       " '__init_subclass__',\n",
       " '__iter__',\n",
       " '__le__',\n",
       " '__len__',\n",
       " '__lt__',\n",
       " '__mod__',\n",
       " '__mul__',\n",
       " '__ne__',\n",
       " '__new__',\n",
       " '__reduce__',\n",
       " '__reduce_ex__',\n",
       " '__repr__',\n",
       " '__rmod__',\n",
       " '__rmul__',\n",
       " '__setattr__',\n",
       " '__sizeof__',\n",
       " '__str__',\n",
       " '__subclasshook__',\n",
       " 'capitalize',\n",
       " 'casefold',\n",
       " 'center',\n",
       " 'count',\n",
       " 'encode',\n",
       " 'endswith',\n",
       " 'expandtabs',\n",
       " 'find',\n",
       " 'format',\n",
       " 'format_map',\n",
       " 'index',\n",
       " 'isalnum',\n",
       " 'isalpha',\n",
       " 'isascii',\n",
       " 'isdecimal',\n",
       " 'isdigit',\n",
       " 'isidentifier',\n",
       " 'islower',\n",
       " 'isnumeric',\n",
       " 'isprintable',\n",
       " 'isspace',\n",
       " 'istitle',\n",
       " 'isupper',\n",
       " 'join',\n",
       " 'ljust',\n",
       " 'lower',\n",
       " 'lstrip',\n",
       " 'maketrans',\n",
       " 'partition',\n",
       " 'removeprefix',\n",
       " 'removesuffix',\n",
       " 'replace',\n",
       " 'rfind',\n",
       " 'rindex',\n",
       " 'rjust',\n",
       " 'rpartition',\n",
       " 'rsplit',\n",
       " 'rstrip',\n",
       " 'split',\n",
       " 'splitlines',\n",
       " 'startswith',\n",
       " 'strip',\n",
       " 'swapcase',\n",
       " 'title',\n",
       " 'translate',\n",
       " 'upper',\n",
       " 'zfill']"
      ]
     },
     "execution_count": 61,
     "metadata": {},
     "output_type": "execute_result"
    }
   ],
   "source": [
    "dir('')"
   ]
  },
  {
   "cell_type": "markdown",
   "id": "cf8cc189",
   "metadata": {},
   "source": [
    "**CAPITALIZE**"
   ]
  },
  {
   "cell_type": "code",
   "execution_count": 63,
   "id": "b7ed95bc",
   "metadata": {},
   "outputs": [
    {
     "name": "stdout",
     "output_type": "stream",
     "text": [
      "Help on built-in function capitalize:\n",
      "\n",
      "capitalize() method of builtins.str instance\n",
      "    Return a capitalized version of the string.\n",
      "    \n",
      "    More specifically, make the first character have upper case and the rest lower\n",
      "    case.\n",
      "\n"
     ]
    }
   ],
   "source": [
    "string1='welcome'\n",
    "help(string1.capitalize)"
   ]
  },
  {
   "cell_type": "code",
   "execution_count": 65,
   "id": "cfb2ea6c",
   "metadata": {},
   "outputs": [
    {
     "data": {
      "text/plain": [
       "'Welcome'"
      ]
     },
     "execution_count": 65,
     "metadata": {},
     "output_type": "execute_result"
    }
   ],
   "source": [
    "string1='welcome'\n",
    "string1.capitalize()"
   ]
  },
  {
   "cell_type": "markdown",
   "id": "3481f0ee",
   "metadata": {},
   "source": [
    "$UPPER$"
   ]
  },
  {
   "cell_type": "code",
   "execution_count": 66,
   "id": "fff2e1ea",
   "metadata": {},
   "outputs": [
    {
     "data": {
      "text/plain": [
       "'WELCOME'"
      ]
     },
     "execution_count": 66,
     "metadata": {},
     "output_type": "execute_result"
    }
   ],
   "source": [
    "string1.upper()"
   ]
  },
  {
   "cell_type": "markdown",
   "id": "46e8d0f4",
   "metadata": {},
   "source": [
    "$LOWER$"
   ]
  },
  {
   "cell_type": "code",
   "execution_count": 67,
   "id": "627e57bf",
   "metadata": {},
   "outputs": [
    {
     "data": {
      "text/plain": [
       "'welcome'"
      ]
     },
     "execution_count": 67,
     "metadata": {},
     "output_type": "execute_result"
    }
   ],
   "source": [
    "string1.lower()"
   ]
  },
  {
   "cell_type": "code",
   "execution_count": 68,
   "id": "6797b903",
   "metadata": {},
   "outputs": [
    {
     "name": "stdout",
     "output_type": "stream",
     "text": [
      "Welcome\n",
      "WELCOME\n",
      "welcome\n"
     ]
    }
   ],
   "source": [
    "string1='welcome'\n",
    "print(string1.capitalize())\n",
    "print(string1.upper())\n",
    "print(string1.lower())"
   ]
  },
  {
   "cell_type": "code",
   "execution_count": 70,
   "id": "6d3f373b",
   "metadata": {},
   "outputs": [],
   "source": [
    "string1='hai how are you'\n",
    "# how many 'a's are there"
   ]
  },
  {
   "cell_type": "code",
   "execution_count": 71,
   "id": "ac9f5a1b",
   "metadata": {},
   "outputs": [
    {
     "data": {
      "text/plain": [
       "2"
      ]
     },
     "execution_count": 71,
     "metadata": {},
     "output_type": "execute_result"
    }
   ],
   "source": [
    "string1.count('a')"
   ]
  },
  {
   "cell_type": "code",
   "execution_count": 72,
   "id": "98605092",
   "metadata": {},
   "outputs": [],
   "source": [
    "count=0\n",
    "for i in string1:\n",
    "    if i=='a':\n",
    "        count+=1"
   ]
  },
  {
   "cell_type": "code",
   "execution_count": 81,
   "id": "42e68717",
   "metadata": {},
   "outputs": [],
   "source": [
    "string1='welcome'\n",
    "# output:  'weLcome'\n",
    "# idea\n",
    "# str1=we\n",
    "# str2=come\n",
    "# index\n",
    "# slice\n",
    "# concatenation=str1+'L'+str2\n"
   ]
  },
  {
   "cell_type": "code",
   "execution_count": 84,
   "id": "809b31ab",
   "metadata": {},
   "outputs": [
    {
     "data": {
      "text/plain": [
       "'haL how are you'"
      ]
     },
     "execution_count": 84,
     "metadata": {},
     "output_type": "execute_result"
    }
   ],
   "source": [
    "string1='welcome'\n",
    "str1=string[:2]\n",
    "str2=string[3:]\n",
    "str1+'L'+str2"
   ]
  },
  {
   "cell_type": "code",
   "execution_count": 83,
   "id": "8ef914aa",
   "metadata": {},
   "outputs": [
    {
     "data": {
      "text/plain": [
       "'welcome'"
      ]
     },
     "execution_count": 83,
     "metadata": {},
     "output_type": "execute_result"
    }
   ],
   "source": [
    "string1.replace('1','L')"
   ]
  },
  {
   "cell_type": "markdown",
   "id": "d0fe5b09",
   "metadata": {},
   "source": [
    "COUNT"
   ]
  },
  {
   "cell_type": "code",
   "execution_count": 1,
   "id": "ee28dfd5",
   "metadata": {},
   "outputs": [
    {
     "data": {
      "text/plain": [
       "2"
      ]
     },
     "execution_count": 1,
     "metadata": {},
     "output_type": "execute_result"
    }
   ],
   "source": [
    "string1='hai how are you'\n",
    "#how many 'a are there'\n",
    "string1.count('a')"
   ]
  },
  {
   "cell_type": "code",
   "execution_count": 3,
   "id": "c80e8c99",
   "metadata": {},
   "outputs": [
    {
     "data": {
      "text/plain": [
       "1"
      ]
     },
     "execution_count": 3,
     "metadata": {},
     "output_type": "execute_result"
    }
   ],
   "source": [
    "string1.count('hai')"
   ]
  },
  {
   "cell_type": "code",
   "execution_count": 6,
   "id": "e1c1cec4",
   "metadata": {},
   "outputs": [
    {
     "name": "stdout",
     "output_type": "stream",
     "text": [
      "3\n",
      "3\n",
      "3\n",
      "3\n"
     ]
    }
   ],
   "source": [
    "string1='ola ola ola'\n",
    "print(string1.count('ola'))\n",
    "print(string1.count('ola'))\n",
    "print(string1.count('ol'))\n",
    "print(string1.count('a'))"
   ]
  },
  {
   "cell_type": "code",
   "execution_count": 10,
   "id": "f1d3f350",
   "metadata": {},
   "outputs": [
    {
     "name": "stdout",
     "output_type": "stream",
     "text": [
      "2\n",
      "2\n",
      "0\n",
      "1\n",
      "0\n",
      "2\n",
      "0\n"
     ]
    }
   ],
   "source": [
    "string1='ola ola ola'\n",
    "# ola   ola   ola\n",
    "# 012 3 456 7 8910\n",
    "# we are counting the number of 'a' from index 4\n",
    "print(string1.count('a',4))\n",
    "print(string1.count('a',6))\n",
    "print(string1.count('a',4,6))    # 4 and 5\n",
    "print(string1.count('a',4,7))    # 4 5 6\n",
    "print(string1.count('A',4))      # 0\n",
    "print(string1.count('A'.lower(),4))  # 2\n",
    "print(string1.count('a'.upper(),4,7))"
   ]
  },
  {
   "cell_type": "code",
   "execution_count": 12,
   "id": "06057f5b",
   "metadata": {},
   "outputs": [
    {
     "name": "stdout",
     "output_type": "stream",
     "text": [
      "3\n"
     ]
    }
   ],
   "source": [
    "string1='ola ola ola'\n",
    "count=0\n",
    "for i in string1:\n",
    "    if i=='a':\n",
    "        count+=1\n",
    "        \n",
    "print(count)"
   ]
  },
  {
   "cell_type": "code",
   "execution_count": 20,
   "id": "f99d0f08",
   "metadata": {},
   "outputs": [
    {
     "name": "stdout",
     "output_type": "stream",
     "text": [
      "3\n"
     ]
    }
   ],
   "source": [
    "# how many ola are there\n",
    "# do till now what we completed use that only except count method\n",
    "\n",
    "\n",
    "string1='ola ola ola'\n",
    "count=0\n",
    "for i in range(len(string1)):\n",
    "     if string1[i:i+3]=='ola':\n",
    "            count+=1\n",
    "        \n",
    "print(count)\n",
    "# i=0 string1[0:3]: 0 1 2 : ola\n",
    "# i=1 string1[1:4]: 1 2 3 : ola"
   ]
  },
  {
   "cell_type": "code",
   "execution_count": 21,
   "id": "06cbd755",
   "metadata": {},
   "outputs": [
    {
     "data": {
      "text/plain": [
       "3"
      ]
     },
     "execution_count": 21,
     "metadata": {},
     "output_type": "execute_result"
    }
   ],
   "source": [
    "string1.count('a')   # this is as develper\n",
    "string1.count('ola') # as developer mode"
   ]
  },
  {
   "cell_type": "markdown",
   "id": "715313c9",
   "metadata": {},
   "source": [
    "$REPLACE$"
   ]
  },
  {
   "cell_type": "code",
   "execution_count": 27,
   "id": "af34c854",
   "metadata": {},
   "outputs": [
    {
     "data": {
      "text/plain": [
       "'weLLLLLcome'"
      ]
     },
     "execution_count": 27,
     "metadata": {},
     "output_type": "execute_result"
    }
   ],
   "source": [
    "string1='welcome'\n",
    "# replace 'l' with 'L'\n",
    "string1.replace('l','LLLLL')"
   ]
  },
  {
   "cell_type": "code",
   "execution_count": 31,
   "id": "c92b1ac4",
   "metadata": {},
   "outputs": [
    {
     "data": {
      "text/plain": [
       "'$esta$t'"
      ]
     },
     "execution_count": 31,
     "metadata": {},
     "output_type": "execute_result"
    }
   ],
   "source": [
    "string1='restart'\n",
    "# replace 'r' with '$'\n",
    "string1.replace('r', '$')"
   ]
  },
  {
   "cell_type": "code",
   "execution_count": null,
   "id": "38ed8828",
   "metadata": {},
   "outputs": [],
   "source": []
  },
  {
   "cell_type": "code",
   "execution_count": 38,
   "id": "5567263d",
   "metadata": {},
   "outputs": [
    {
     "data": {
      "text/plain": [
       "'$esta$t   $$$$'"
      ]
     },
     "execution_count": 38,
     "metadata": {},
     "output_type": "execute_result"
    }
   ],
   "source": [
    "string1='restart   rrrr'\n",
    "# replace 'r' with '$'\n",
    "string1.replace('r', '$',-1)"
   ]
  },
  {
   "cell_type": "code",
   "execution_count": 39,
   "id": "c69707f2",
   "metadata": {},
   "outputs": [
    {
     "data": {
      "text/plain": [
       "'t'"
      ]
     },
     "execution_count": 39,
     "metadata": {},
     "output_type": "execute_result"
    }
   ],
   "source": [
    "len(string1)\n",
    "max(string1)    # string1.max()"
   ]
  },
  {
   "cell_type": "code",
   "execution_count": 1,
   "id": "5b0cb957",
   "metadata": {},
   "outputs": [
    {
     "data": {
      "text/plain": [
       "'testatt'"
      ]
     },
     "execution_count": 1,
     "metadata": {},
     "output_type": "execute_result"
    }
   ],
   "source": [
    "string1='restart'\n",
    "# o/p: 'restart'\n",
    "\n",
    "# do only with what we completed till now\n",
    "string1.replace('r','t')"
   ]
  },
  {
   "cell_type": "code",
   "execution_count": 48,
   "id": "7ac049a5",
   "metadata": {},
   "outputs": [
    {
     "data": {
      "text/plain": [
       "'resta$t'"
      ]
     },
     "execution_count": 48,
     "metadata": {},
     "output_type": "execute_result"
    }
   ],
   "source": [
    "string1='restart'\n",
    "s1=string1[0]\n",
    "s2=string1[1:].replace('r','$')\n",
    "s1+s2"
   ]
  },
  {
   "cell_type": "code",
   "execution_count": 50,
   "id": "213a3df9",
   "metadata": {},
   "outputs": [
    {
     "data": {
      "text/plain": [
       "'$esta$t'"
      ]
     },
     "execution_count": 50,
     "metadata": {},
     "output_type": "execute_result"
    }
   ],
   "source": [
    "string1[::-1].replace('r','$')[::-1]"
   ]
  },
  {
   "cell_type": "markdown",
   "id": "0f1eadc7",
   "metadata": {},
   "source": [
    "$INDEX$"
   ]
  },
  {
   "cell_type": "code",
   "execution_count": 55,
   "id": "670f1a4c",
   "metadata": {},
   "outputs": [
    {
     "data": {
      "text/plain": [
       "3"
      ]
     },
     "execution_count": 55,
     "metadata": {},
     "output_type": "execute_result"
    }
   ],
   "source": [
    "string1='welcome python'\n",
    "# index of 'z'\n",
    "string1.index('c')"
   ]
  },
  {
   "cell_type": "code",
   "execution_count": 56,
   "id": "8258a593",
   "metadata": {},
   "outputs": [
    {
     "ename": "ValueError",
     "evalue": "substring not found",
     "output_type": "error",
     "traceback": [
      "\u001b[1;31m---------------------------------------------------------------------------\u001b[0m",
      "\u001b[1;31mValueError\u001b[0m                                Traceback (most recent call last)",
      "Cell \u001b[1;32mIn[56], line 1\u001b[0m\n\u001b[1;32m----> 1\u001b[0m string1\u001b[38;5;241m.\u001b[39mindex(\u001b[38;5;124m'\u001b[39m\u001b[38;5;124mz\u001b[39m\u001b[38;5;124m'\u001b[39m)\n",
      "\u001b[1;31mValueError\u001b[0m: substring not found"
     ]
    }
   ],
   "source": [
    "string1.index('z')  # substring is not found"
   ]
  },
  {
   "cell_type": "code",
   "execution_count": 61,
   "id": "e828fd39",
   "metadata": {},
   "outputs": [
    {
     "name": "stdout",
     "output_type": "stream",
     "text": [
      "3\n"
     ]
    },
    {
     "data": {
      "text/plain": [
       "3"
      ]
     },
     "execution_count": 61,
     "metadata": {},
     "output_type": "execute_result"
    }
   ],
   "source": [
    "string1='hai how are you and'\n",
    "# how many 'a' are there\n",
    "# what are the indexex of 'a'\n",
    "\n",
    "count=0\n",
    "for i in string1:\n",
    "    if i=='a':\n",
    "        count+=1\n",
    "    \n",
    "print(count)\n",
    "\n",
    "string1.count('a')"
   ]
  },
  {
   "cell_type": "code",
   "execution_count": 63,
   "id": "cf8919f7",
   "metadata": {},
   "outputs": [
    {
     "name": "stdout",
     "output_type": "stream",
     "text": [
      "1\n",
      "8\n",
      "16\n"
     ]
    }
   ],
   "source": [
    "for i in range(len(string1)):\n",
    "    if string1[i]=='a':\n",
    "        print(i)"
   ]
  },
  {
   "cell_type": "code",
   "execution_count": 64,
   "id": "5bb35fec",
   "metadata": {},
   "outputs": [
    {
     "data": {
      "text/plain": [
       "1"
      ]
     },
     "execution_count": 64,
     "metadata": {},
     "output_type": "execute_result"
    }
   ],
   "source": [
    "string1.index('a')    # only fisrt occurence"
   ]
  },
  {
   "cell_type": "code",
   "execution_count": 85,
   "id": "7d94dffe",
   "metadata": {},
   "outputs": [
    {
     "ename": "NameError",
     "evalue": "name 'i1' is not defined",
     "output_type": "error",
     "traceback": [
      "\u001b[1;31m---------------------------------------------------------------------------\u001b[0m",
      "\u001b[1;31mNameError\u001b[0m                                 Traceback (most recent call last)",
      "Cell \u001b[1;32mIn[85], line 2\u001b[0m\n\u001b[0;32m      1\u001b[0m string1\u001b[38;5;241m=\u001b[39m\u001b[38;5;124m'\u001b[39m\u001b[38;5;124mhai hai hai\u001b[39m\u001b[38;5;124m'\u001b[39m\n\u001b[1;32m----> 2\u001b[0m i1(string1\u001b[38;5;241m.\u001b[39mindex(\u001b[38;5;124m'\u001b[39m\u001b[38;5;124ma\u001b[39m\u001b[38;5;124m'\u001b[39m))    \u001b[38;5;66;03m# 1\u001b[39;00m\n\u001b[0;32m      3\u001b[0m i2(string1\u001b[38;5;241m.\u001b[39mindex(\u001b[38;5;124m'\u001b[39m\u001b[38;5;124ma\u001b[39m\u001b[38;5;124m'\u001b[39m,i1\u001b[38;5;241m+\u001b[39m\u001b[38;5;241m1\u001b[39m))   \u001b[38;5;66;03m# first occurence of 'a' is 1\u001b[39;00m\n\u001b[0;32m      4\u001b[0m i3(string1\u001b[38;5;241m.\u001b[39mindex(\u001b[38;5;124m'\u001b[39m\u001b[38;5;124ma\u001b[39m\u001b[38;5;124m'\u001b[39m,i2\u001b[38;5;241m+\u001b[39m\u001b[38;5;241m1\u001b[39m))\n",
      "\u001b[1;31mNameError\u001b[0m: name 'i1' is not defined"
     ]
    }
   ],
   "source": [
    "string1='hai hai hai'\n",
    "i1(string1.index('a'))    # 1\n",
    "i2(string1.index('a',i1+1))   # first occurence of 'a' is 1\n",
    "i3(string1.index('a',i2+1))\n",
    "i4(string1.index('a',i3+1))\n",
    "i5(string1.index('a',i4+1))\n",
    "print(i1,i2,i3,i4,i5)"
   ]
  },
  {
   "cell_type": "code",
   "execution_count": 86,
   "id": "b2910f83",
   "metadata": {},
   "outputs": [
    {
     "ename": "NameError",
     "evalue": "name 'i1' is not defined",
     "output_type": "error",
     "traceback": [
      "\u001b[1;31m---------------------------------------------------------------------------\u001b[0m",
      "\u001b[1;31mNameError\u001b[0m                                 Traceback (most recent call last)",
      "Cell \u001b[1;32mIn[86], line 5\u001b[0m\n\u001b[0;32m      3\u001b[0m string1\u001b[38;5;241m.\u001b[39mindex(\u001b[38;5;124m'\u001b[39m\u001b[38;5;124ma\u001b[39m\u001b[38;5;124m'\u001b[39m)\n\u001b[0;32m      4\u001b[0m \u001b[38;5;66;03m# second occurence of 'a'\u001b[39;00m\n\u001b[1;32m----> 5\u001b[0m string1\u001b[38;5;241m.\u001b[39mindex(\u001b[38;5;124m'\u001b[39m\u001b[38;5;124ma\u001b[39m\u001b[38;5;124m'\u001b[39m,i1\u001b[38;5;241m+\u001b[39m\u001b[38;5;241m1\u001b[39m)\n\u001b[0;32m      6\u001b[0m string1\u001b[38;5;241m.\u001b[39mindex(\u001b[38;5;124m'\u001b[39m\u001b[38;5;124ma\u001b[39m\u001b[38;5;124m'\u001b[39m,i2\u001b[38;5;241m+\u001b[39m\u001b[38;5;241m1\u001b[39m)\n",
      "\u001b[1;31mNameError\u001b[0m: name 'i1' is not defined"
     ]
    }
   ],
   "source": [
    "string1='hai hai hai hai hai'\n",
    "# i want to fisrt occurence of 'a'\n",
    "string1.index('a')\n",
    "# second occurence of 'a'\n",
    "string1.index('a',i1+1)\n",
    "string1.index('a',i2+1)\n"
   ]
  },
  {
   "cell_type": "code",
   "execution_count": 77,
   "id": "31303ee5",
   "metadata": {},
   "outputs": [
    {
     "ename": "TypeError",
     "evalue": "can only concatenate str (not \"int\") to str",
     "output_type": "error",
     "traceback": [
      "\u001b[1;31m---------------------------------------------------------------------------\u001b[0m",
      "\u001b[1;31mTypeError\u001b[0m                                 Traceback (most recent call last)",
      "Cell \u001b[1;32mIn[77], line 1\u001b[0m\n\u001b[1;32m----> 1\u001b[0m string1\u001b[38;5;241m.\u001b[39mindex(\u001b[38;5;124m\"\u001b[39m\u001b[38;5;124ma\u001b[39m\u001b[38;5;124m\"\u001b[39m,string1\u001b[38;5;241m.\u001b[39mindex(\u001b[38;5;124m\"\u001b[39m\u001b[38;5;124ma\u001b[39m\u001b[38;5;124m\"\u001b[39m\u001b[38;5;241m+\u001b[39m\u001b[38;5;241m1\u001b[39m))\n",
      "\u001b[1;31mTypeError\u001b[0m: can only concatenate str (not \"int\") to str"
     ]
    }
   ],
   "source": [
    "string1.index(\"a\",string1.index(\"a\"+1))"
   ]
  },
  {
   "cell_type": "code",
   "execution_count": 89,
   "id": "d4b5e43e",
   "metadata": {},
   "outputs": [
    {
     "name": "stdout",
     "output_type": "stream",
     "text": [
      "5\n",
      "5\n",
      "5\n",
      "5\n",
      "5\n"
     ]
    }
   ],
   "source": [
    "# function in function\n",
    "for i in string1:\n",
    "    if i=='a':\n",
    "        index=string1.index(i)\n",
    "        print(string1.index(i,index+1))"
   ]
  },
  {
   "cell_type": "code",
   "execution_count": 94,
   "id": "24c5fed6",
   "metadata": {},
   "outputs": [
    {
     "ename": "ValueError",
     "evalue": "substring not found",
     "output_type": "error",
     "traceback": [
      "\u001b[1;31m---------------------------------------------------------------------------\u001b[0m",
      "\u001b[1;31mValueError\u001b[0m                                Traceback (most recent call last)",
      "Cell \u001b[1;32mIn[94], line 2\u001b[0m\n\u001b[0;32m      1\u001b[0m stringa\u001b[38;5;241m=\u001b[39m\u001b[38;5;124m'\u001b[39m\u001b[38;5;124mwelcome hello\u001b[39m\u001b[38;5;124m'\u001b[39m\n\u001b[1;32m----> 2\u001b[0m string1\u001b[38;5;241m.\u001b[39mindex(\u001b[38;5;124m'\u001b[39m\u001b[38;5;124ml\u001b[39m\u001b[38;5;124m'\u001b[39m)\n\u001b[0;32m      3\u001b[0m string1\u001b[38;5;241m.\u001b[39mindex(\u001b[38;5;124m'\u001b[39m\u001b[38;5;124ml\u001b[39m\u001b[38;5;124m'\u001b[39m,syring1\u001b[38;5;241m.\u001b[39mindex(\u001b[38;5;124m'\u001b[39m\u001b[38;5;124ml\u001b[39m\u001b[38;5;124m'\u001b[39m)\u001b[38;5;241m+\u001b[39m\u001b[38;5;241m1\u001b[39m)\n",
      "\u001b[1;31mValueError\u001b[0m: substring not found"
     ]
    }
   ],
   "source": [
    "stringa='welcome hello'\n",
    "string1.index('l')\n",
    "string1.index('l',syring1.index('l')+1)\n",
    "string1.index('l'string1.index('l',string1.index)"
   ]
  },
  {
   "cell_type": "code",
   "execution_count": null,
   "id": "d67d211b",
   "metadata": {},
   "outputs": [],
   "source": []
  },
  {
   "cell_type": "code",
   "execution_count": null,
   "id": "301b84a2",
   "metadata": {},
   "outputs": [],
   "source": []
  },
  {
   "cell_type": "markdown",
   "id": "5c4bf812",
   "metadata": {},
   "source": [
    "$FIND$"
   ]
  },
  {
   "cell_type": "code",
   "execution_count": null,
   "id": "473738fb",
   "metadata": {},
   "outputs": [],
   "source": [
    "# take one string1\n",
    "# string1().find()\n",
    "# apply shift+tab\n",
    "# read what it is says\n",
    "# implement that"
   ]
  },
  {
   "cell_type": "code",
   "execution_count": 100,
   "id": "88287fcf",
   "metadata": {},
   "outputs": [
    {
     "ename": "ValueError",
     "evalue": "substring not found",
     "output_type": "error",
     "traceback": [
      "\u001b[1;31m---------------------------------------------------------------------------\u001b[0m",
      "\u001b[1;31mValueError\u001b[0m                                Traceback (most recent call last)",
      "Cell \u001b[1;32mIn[100], line 5\u001b[0m\n\u001b[0;32m      2\u001b[0m string1\u001b[38;5;241m.\u001b[39mfind(\u001b[38;5;124m'\u001b[39m\u001b[38;5;124mz\u001b[39m\u001b[38;5;124m'\u001b[39m)     \u001b[38;5;66;03m# no error\u001b[39;00m\n\u001b[0;32m      4\u001b[0m \u001b[38;5;66;03m# if substring not found it return -1\u001b[39;00m\n\u001b[1;32m----> 5\u001b[0m string1\u001b[38;5;241m.\u001b[39mindex(\u001b[38;5;124m'\u001b[39m\u001b[38;5;124mz\u001b[39m\u001b[38;5;124m'\u001b[39m)\n\u001b[0;32m      6\u001b[0m \u001b[38;5;66;03m# valueerror: substring not found\u001b[39;00m\n\u001b[0;32m      7\u001b[0m string1\u001b[38;5;241m.\u001b[39mcount(\u001b[38;5;124m'\u001b[39m\u001b[38;5;124mz\u001b[39m\u001b[38;5;124m'\u001b[39m)\n",
      "\u001b[1;31mValueError\u001b[0m: substring not found"
     ]
    }
   ],
   "source": [
    "string1='hai and hai'\n",
    "string1.find('z')     # no error\n",
    "\n",
    "# if substring not found it return -1\n",
    "string1.index('z')\n",
    "# valueerror: substring not found\n",
    "string1.count('z')"
   ]
  },
  {
   "cell_type": "code",
   "execution_count": null,
   "id": "26d636e8",
   "metadata": {},
   "outputs": [],
   "source": [
    "- capitalize/upper/lower/casefold\n",
    "- index/find\n",
    "- count\n",
    "-replace"
   ]
  },
  {
   "cell_type": "code",
   "execution_count": 1,
   "id": "d3a381c5",
   "metadata": {},
   "outputs": [
    {
     "data": {
      "text/plain": [
       "2"
      ]
     },
     "execution_count": 1,
     "metadata": {},
     "output_type": "execute_result"
    }
   ],
   "source": [
    "str1='hai how are you, in good'\n",
    "str1.index('i')   # first occurence"
   ]
  },
  {
   "cell_type": "code",
   "execution_count": 2,
   "id": "76b57c2e",
   "metadata": {},
   "outputs": [
    {
     "data": {
      "text/plain": [
       "17"
      ]
     },
     "execution_count": 2,
     "metadata": {},
     "output_type": "execute_result"
    }
   ],
   "source": [
    "str1.index('i',str1.index('i')+1)"
   ]
  },
  {
   "cell_type": "markdown",
   "id": "2dbb9aef",
   "metadata": {},
   "source": [
    "$STRIP$-$LSTRIP$-$RSTRIP$"
   ]
  },
  {
   "cell_type": "code",
   "execution_count": 137,
   "id": "85c8b516",
   "metadata": {},
   "outputs": [],
   "source": [
    "str1=' hello how are you '\n",
    "str2=\" hello how are you\"\n",
    "str3=\"hello how are you \"\n",
    "# i want to remove the spaces\n",
    "# if you want to remove the spaces both side use strip method\n",
    "# if you want to remove the spaces only left side then use Lstrip:Left strip \n",
    "# if you want to remove the spaces only right side then use Rstrip:Right strip "
   ]
  },
  {
   "cell_type": "code",
   "execution_count": 138,
   "id": "c651a219",
   "metadata": {},
   "outputs": [
    {
     "data": {
      "text/plain": [
       "' hello how are you '"
      ]
     },
     "execution_count": 138,
     "metadata": {},
     "output_type": "execute_result"
    }
   ],
   "source": [
    "str1"
   ]
  },
  {
   "cell_type": "code",
   "execution_count": 139,
   "id": "f7b22d1d",
   "metadata": {},
   "outputs": [
    {
     "name": "stdout",
     "output_type": "stream",
     "text": [
      "hello how are you\n",
      "hello how are you \n",
      " hello how are you\n"
     ]
    }
   ],
   "source": [
    "print(str1.strip())\n",
    "print(str1.lstrip())\n",
    "print(str1.rstrip())"
   ]
  },
  {
   "cell_type": "code",
   "execution_count": 130,
   "id": "48fe2414",
   "metadata": {},
   "outputs": [
    {
     "name": "stdout",
     "output_type": "stream",
     "text": [
      "hello how are you\n"
     ]
    }
   ],
   "source": [
    "print(str2)"
   ]
  },
  {
   "cell_type": "code",
   "execution_count": 131,
   "id": "00f02e7c",
   "metadata": {},
   "outputs": [
    {
     "name": "stdout",
     "output_type": "stream",
     "text": [
      "hello how are you\n"
     ]
    }
   ],
   "source": [
    "print(str2.lstrip())"
   ]
  },
  {
   "cell_type": "code",
   "execution_count": 132,
   "id": "d65968ab",
   "metadata": {},
   "outputs": [
    {
     "name": "stdout",
     "output_type": "stream",
     "text": [
      "hello how are you\n"
     ]
    }
   ],
   "source": [
    "print(str3)"
   ]
  },
  {
   "cell_type": "code",
   "execution_count": 134,
   "id": "a090c0a0",
   "metadata": {},
   "outputs": [
    {
     "data": {
      "text/plain": [
       "'hello how are you'"
      ]
     },
     "execution_count": 134,
     "metadata": {},
     "output_type": "execute_result"
    }
   ],
   "source": [
    "str3"
   ]
  },
  {
   "cell_type": "code",
   "execution_count": 140,
   "id": "d3fe0db7",
   "metadata": {},
   "outputs": [
    {
     "name": "stdout",
     "output_type": "stream",
     "text": [
      "extract first name.anaconda@nareshit.com:\n",
      "extract second name hello how are you:\n",
      "extract company namello how are you :\n"
     ]
    }
   ],
   "source": [
    "# wap extract \n",
    " \n",
    "str1='python.anaconda@nareshit.com'\n",
    "# extract first name: python\n",
    "# extract second name: anaconda\n",
    "# extract company name:nareshit\n",
    "\n",
    "first_name=str1.strip(\"python\")\n",
    "second_name=str2.strip(\"anaconda\")\n",
    "company_name=str3.strip(\"nareshit\")\n",
    "print(\"extract first name{}:\".format(first_name))\n",
    "print(\"extract second name{}:\".format(second_name))\n",
    "print(\"extract company name{}:\".format(company_name))"
   ]
  },
  {
   "cell_type": "code",
   "execution_count": 144,
   "id": "ec9d7ebd",
   "metadata": {},
   "outputs": [
    {
     "data": {
      "text/plain": [
       "'python'"
      ]
     },
     "execution_count": 144,
     "metadata": {},
     "output_type": "execute_result"
    }
   ],
   "source": [
    "# wap extract \n",
    " \n",
    "str1='python.anaconda@nareshit.com'\n",
    "# extract first name: python\n",
    "# extract second name: anaconda\n",
    "# extract company name:nareshit\n",
    "\n",
    "\n",
    "str1.find('.')\n",
    "\n",
    "str1[0:str1.find('.')]"
   ]
  },
  {
   "cell_type": "code",
   "execution_count": 28,
   "id": "388e1fee",
   "metadata": {},
   "outputs": [
    {
     "data": {
      "text/plain": [
       "15"
      ]
     },
     "execution_count": 28,
     "metadata": {},
     "output_type": "execute_result"
    }
   ],
   "source": [
    "str1[0:6],str1[7:15],str1[16:24]\n",
    "str1.find('@')"
   ]
  },
  {
   "cell_type": "code",
   "execution_count": 32,
   "id": "653f77d0",
   "metadata": {},
   "outputs": [
    {
     "data": {
      "text/plain": [
       "'python'"
      ]
     },
     "execution_count": 32,
     "metadata": {},
     "output_type": "execute_result"
    }
   ],
   "source": [
    "str1[0:str1.find('-')]\n",
    "str1[0:6]"
   ]
  },
  {
   "cell_type": "code",
   "execution_count": 29,
   "id": "63707e73",
   "metadata": {},
   "outputs": [
    {
     "data": {
      "text/plain": [
       "'anaconda'"
      ]
     },
     "execution_count": 29,
     "metadata": {},
     "output_type": "execute_result"
    }
   ],
   "source": [
    "str1[0:str1.find('')]\n",
    "str1[7:15]"
   ]
  },
  {
   "cell_type": "code",
   "execution_count": 31,
   "id": "95db6376",
   "metadata": {},
   "outputs": [
    {
     "data": {
      "text/plain": [
       "'nareshit'"
      ]
     },
     "execution_count": 31,
     "metadata": {},
     "output_type": "execute_result"
    }
   ],
   "source": [
    "str1[0:str1.find('-')]\n",
    "str1[16:24]"
   ]
  },
  {
   "cell_type": "code",
   "execution_count": 5,
   "id": "9964a252",
   "metadata": {},
   "outputs": [
    {
     "ename": "NameError",
     "evalue": "name 'strip' is not defined",
     "output_type": "error",
     "traceback": [
      "\u001b[1;31m---------------------------------------------------------------------------\u001b[0m",
      "\u001b[1;31mNameError\u001b[0m                                 Traceback (most recent call last)",
      "Cell \u001b[1;32mIn[5], line 3\u001b[0m\n\u001b[0;32m      1\u001b[0m str1\u001b[38;5;241m=\u001b[39m\u001b[38;5;124m'\u001b[39m\u001b[38;5;124mpython.anaconda@nareshit.com\u001b[39m\u001b[38;5;124m'\u001b[39m\n\u001b[0;32m      2\u001b[0m first_name\u001b[38;5;241m=\u001b[39mstr1\u001b[38;5;241m.\u001b[39mstrip(\u001b[38;5;124m'\u001b[39m\u001b[38;5;124m-\u001b[39m\u001b[38;5;124m'\u001b[39m)[\u001b[38;5;241m0\u001b[39m:\u001b[38;5;241m6\u001b[39m]\n\u001b[1;32m----> 3\u001b[0m second_name\u001b[38;5;241m=\u001b[39mstr1\u001b[38;5;241m.\u001b[39mstrip(\u001b[38;5;124m'\u001b[39m\u001b[38;5;124m-\u001b[39m\u001b[38;5;124m'\u001b[39m),strip(\u001b[38;5;124m'\u001b[39m\u001b[38;5;124m@\u001b[39m\u001b[38;5;124m'\u001b[39m)[\u001b[38;5;124m'\u001b[39m\u001b[38;5;124m-\u001b[39m\u001b[38;5;124m'\u001b[39m]\n\u001b[0;32m      4\u001b[0m company_name\u001b[38;5;241m=\u001b[39mstr1\u001b[38;5;241m.\u001b[39mstrip(\u001b[38;5;124m'\u001b[39m\u001b[38;5;124m@\u001b[39m\u001b[38;5;124m'\u001b[39m)[\u001b[38;5;241m2\u001b[39m],str1(\u001b[38;5;124m'\u001b[39m\u001b[38;5;124m-\u001b[39m\u001b[38;5;124m'\u001b[39m)[\u001b[38;5;241m16\u001b[39m:\u001b[38;5;241m24\u001b[39m]\n\u001b[0;32m      5\u001b[0m \u001b[38;5;28mprint\u001b[39m(\u001b[38;5;124m\"\u001b[39m\u001b[38;5;124mextract first_name:\u001b[39m\u001b[38;5;124m\"\u001b[39m\u001b[38;5;241m.\u001b[39mformat(first_name))\n",
      "\u001b[1;31mNameError\u001b[0m: name 'strip' is not defined"
     ]
    }
   ],
   "source": [
    "str1='python.anaconda@nareshit.com'\n",
    "first_name=str1.strip('-')[0:6]\n",
    "second_name=str1.strip('-'),strip('@')['-']\n",
    "company_name=str1.strip('@')[2],str1('-')[16:24]\n",
    "print(\"extract first_name:\".format(first_name))\n",
    "print(\"extract second_name:\".format(second_name))\n",
    "print(\"extract company_name:\".format(company_name))\n",
    "\n"
   ]
  },
  {
   "cell_type": "code",
   "execution_count": 41,
   "id": "ba0ed69f",
   "metadata": {},
   "outputs": [
    {
     "data": {
      "text/plain": [
       "'nareshit'"
      ]
     },
     "execution_count": 41,
     "metadata": {},
     "output_type": "execute_result"
    }
   ],
   "source": [
    "str1='python.anaconda@nareshit.com'\n",
    "first_dot=str1.index('.')\n",
    "second_dot=str1.index('.',first_dot+1)\n",
    "str1[str1.find('@')+1:second_dot]"
   ]
  },
  {
   "cell_type": "code",
   "execution_count": 44,
   "id": "ab4bd985",
   "metadata": {},
   "outputs": [],
   "source": [
    "str1='3.1489'\n",
    "# exctrat 3\n",
    "# extract 1489\n",
    "\n",
    "str1='3.1489'\n",
    "str1[str1.index\n",
    "str1[str1.index('.')+1:]"
   ]
  },
  {
   "cell_type": "code",
   "execution_count": 47,
   "id": "3ffd68e2",
   "metadata": {},
   "outputs": [
    {
     "data": {
      "text/plain": [
       "'3'"
      ]
     },
     "execution_count": 47,
     "metadata": {},
     "output_type": "execute_result"
    }
   ],
   "source": [
    "str1[0]"
   ]
  },
  {
   "cell_type": "code",
   "execution_count": 49,
   "id": "ba75c407",
   "metadata": {},
   "outputs": [
    {
     "data": {
      "text/plain": [
       "0"
      ]
     },
     "execution_count": 49,
     "metadata": {},
     "output_type": "execute_result"
    }
   ],
   "source": [
    "str1.index('.')-1"
   ]
  },
  {
   "cell_type": "markdown",
   "id": "a8f6a947",
   "metadata": {},
   "source": [
    "$STARTSWITH-ENDSWITH$"
   ]
  },
  {
   "cell_type": "code",
   "execution_count": 50,
   "id": "1167e41e",
   "metadata": {},
   "outputs": [],
   "source": [
    "str1='hai how are you'"
   ]
  },
  {
   "cell_type": "code",
   "execution_count": 51,
   "id": "13ef2a63",
   "metadata": {},
   "outputs": [
    {
     "data": {
      "text/plain": [
       "True"
      ]
     },
     "execution_count": 51,
     "metadata": {},
     "output_type": "execute_result"
    }
   ],
   "source": [
    "str1.startswith('hai')\n",
    "str1.startswith('h')"
   ]
  },
  {
   "cell_type": "code",
   "execution_count": 52,
   "id": "01d2e273",
   "metadata": {},
   "outputs": [
    {
     "data": {
      "text/plain": [
       "True"
      ]
     },
     "execution_count": 52,
     "metadata": {},
     "output_type": "execute_result"
    }
   ],
   "source": [
    "str1.endswith('you')"
   ]
  },
  {
   "cell_type": "code",
   "execution_count": 54,
   "id": "fd6235de",
   "metadata": {},
   "outputs": [
    {
     "data": {
      "text/plain": [
       "True"
      ]
     },
     "execution_count": 54,
     "metadata": {},
     "output_type": "execute_result"
    }
   ],
   "source": [
    "str1.startswith(str1)\n",
    "\n",
    "str1.endswith(str1)"
   ]
  },
  {
   "cell_type": "code",
   "execution_count": 55,
   "id": "7f7805e8",
   "metadata": {},
   "outputs": [
    {
     "data": {
      "text/plain": [
       "['__add__',\n",
       " '__class__',\n",
       " '__contains__',\n",
       " '__delattr__',\n",
       " '__dir__',\n",
       " '__doc__',\n",
       " '__eq__',\n",
       " '__format__',\n",
       " '__ge__',\n",
       " '__getattribute__',\n",
       " '__getitem__',\n",
       " '__getnewargs__',\n",
       " '__getstate__',\n",
       " '__gt__',\n",
       " '__hash__',\n",
       " '__init__',\n",
       " '__init_subclass__',\n",
       " '__iter__',\n",
       " '__le__',\n",
       " '__len__',\n",
       " '__lt__',\n",
       " '__mod__',\n",
       " '__mul__',\n",
       " '__ne__',\n",
       " '__new__',\n",
       " '__reduce__',\n",
       " '__reduce_ex__',\n",
       " '__repr__',\n",
       " '__rmod__',\n",
       " '__rmul__',\n",
       " '__setattr__',\n",
       " '__sizeof__',\n",
       " '__str__',\n",
       " '__subclasshook__',\n",
       " 'capitalize',\n",
       " 'casefold',\n",
       " 'center',\n",
       " 'count',\n",
       " 'encode',\n",
       " 'endswith',\n",
       " 'expandtabs',\n",
       " 'find',\n",
       " 'format',\n",
       " 'format_map',\n",
       " 'index',\n",
       " 'isalnum',\n",
       " 'isalpha',\n",
       " 'isascii',\n",
       " 'isdecimal',\n",
       " 'isdigit',\n",
       " 'isidentifier',\n",
       " 'islower',\n",
       " 'isnumeric',\n",
       " 'isprintable',\n",
       " 'isspace',\n",
       " 'istitle',\n",
       " 'isupper',\n",
       " 'join',\n",
       " 'ljust',\n",
       " 'lower',\n",
       " 'lstrip',\n",
       " 'maketrans',\n",
       " 'partition',\n",
       " 'removeprefix',\n",
       " 'removesuffix',\n",
       " 'replace',\n",
       " 'rfind',\n",
       " 'rindex',\n",
       " 'rjust',\n",
       " 'rpartition',\n",
       " 'rsplit',\n",
       " 'rstrip',\n",
       " 'split',\n",
       " 'splitlines',\n",
       " 'startswith',\n",
       " 'strip',\n",
       " 'swapcase',\n",
       " 'title',\n",
       " 'translate',\n",
       " 'upper',\n",
       " 'zfill']"
      ]
     },
     "execution_count": 55,
     "metadata": {},
     "output_type": "execute_result"
    }
   ],
   "source": [
    "dir('')\n",
    "'isalnum',\n",
    " 'isalpha',\n",
    " 'isascii',\n",
    " 'isdecimal',\n",
    " 'isdigit',\n",
    " 'isidentifier',\n",
    " 'islower',\n",
    " 'isnumeric',\n",
    " 'isprintable',\n",
    " 'isspace',\n",
    " 'istitle',\n",
    " 'isupper',"
   ]
  },
  {
   "cell_type": "code",
   "execution_count": null,
   "id": "73411739",
   "metadata": {},
   "outputs": [],
   "source": [
    "'isalnum',\n",
    " 'isalpha',\n",
    " 'isascii',\n",
    " 'isdecimal',\n",
    " 'isdigit',\n",
    " 'isidentifier',\n",
    " 'islower',\n",
    " 'isnumeric',\n",
    " 'isprintable',\n",
    " 'isspace',\n",
    " 'istitle',\n",
    " 'isupper',"
   ]
  },
  {
   "cell_type": "code",
   "execution_count": 66,
   "id": "ccf22abe",
   "metadata": {},
   "outputs": [
    {
     "data": {
      "text/plain": [
       "False"
      ]
     },
     "execution_count": 66,
     "metadata": {},
     "output_type": "execute_result"
    }
   ],
   "source": [
    "str1='123 pgr 123 pag'\n",
    "str1.isalnum()"
   ]
  },
  {
   "cell_type": "code",
   "execution_count": 64,
   "id": "5af1a2fa",
   "metadata": {},
   "outputs": [
    {
     "data": {
      "text/plain": [
       "True"
      ]
     },
     "execution_count": 64,
     "metadata": {},
     "output_type": "execute_result"
    }
   ],
   "source": [
    "str1='abc'\n",
    "str1.isalpha()"
   ]
  },
  {
   "cell_type": "code",
   "execution_count": 59,
   "id": "4606c229",
   "metadata": {},
   "outputs": [
    {
     "data": {
      "text/plain": [
       "True"
      ]
     },
     "execution_count": 59,
     "metadata": {},
     "output_type": "execute_result"
    }
   ],
   "source": [
    "str1='isascii'\n",
    "str1.isascii()"
   ]
  },
  {
   "cell_type": "code",
   "execution_count": 71,
   "id": "96f7137e",
   "metadata": {},
   "outputs": [
    {
     "data": {
      "text/plain": [
       "'islower'"
      ]
     },
     "execution_count": 71,
     "metadata": {},
     "output_type": "execute_result"
    }
   ],
   "source": [
    "str1='abc'\n",
    "str2='123'\n",
    "str3='abc123'\n",
    "str4='ABC'\n",
    "str5='abc'\n",
    "'isalpha'\n",
    "'isnumeric'\n",
    "'isalnum'\n",
    "'isupper'\n",
    "'islower'"
   ]
  },
  {
   "cell_type": "markdown",
   "id": "364e8264",
   "metadata": {},
   "source": [
    "$SPLIT$"
   ]
  },
  {
   "cell_type": "code",
   "execution_count": 73,
   "id": "de7624a2",
   "metadata": {},
   "outputs": [
    {
     "data": {
      "text/plain": [
       "['hai', 'how', 'are', 'you']"
      ]
     },
     "execution_count": 73,
     "metadata": {},
     "output_type": "execute_result"
    }
   ],
   "source": [
    "str1='hai how are you'\n",
    "str1.split()\n",
    "# if i not provide anything inside bracke\n",
    "# output is in list format"
   ]
  },
  {
   "cell_type": "code",
   "execution_count": 74,
   "id": "6f38e7d3",
   "metadata": {},
   "outputs": [
    {
     "data": {
      "text/plain": [
       "['h', 'i how ', 're you']"
      ]
     },
     "execution_count": 74,
     "metadata": {},
     "output_type": "execute_result"
    }
   ],
   "source": [
    "str1='hai how are you'\n",
    "str1.split('a')"
   ]
  },
  {
   "cell_type": "code",
   "execution_count": 76,
   "id": "31317a24",
   "metadata": {},
   "outputs": [
    {
     "data": {
      "text/plain": [
       "['hai h', 'w are y', 'u']"
      ]
     },
     "execution_count": 76,
     "metadata": {},
     "output_type": "execute_result"
    }
   ],
   "source": [
    "str1='hai how are you'\n",
    "str1.split('o')"
   ]
  },
  {
   "cell_type": "code",
   "execution_count": null,
   "id": "e6233e67",
   "metadata": {},
   "outputs": [],
   "source": [
    "- capitalize/upper/lower/casefold\n",
    "- index/find\n",
    "- count\n",
    "- replace\n",
    "- lstrip/rstrip/strip\n",
    "- startswith/endswith\n",
    "- isalpha/isnumeris/isalnum\n",
    "- split"
   ]
  },
  {
   "cell_type": "code",
   "execution_count": null,
   "id": "9c1b501d",
   "metadata": {},
   "outputs": [],
   "source": [
    "# wap toidentify the longest word and shortest word in a given sentence\n",
    "# wap to identify the most reputed wors in a given stentence\n",
    "# wap out of 3 strings 'hyd','blr','mumbai' which is greater and which lower"
   ]
  },
  {
   "cell_type": "code",
   "execution_count": null,
   "id": "3c6d43a1",
   "metadata": {},
   "outputs": [],
   "source": [
    "basic python==== assignment\n",
    "certication\n",
    "\n",
    "\n",
    "\n",
    "writeup on list"
   ]
  },
  {
   "cell_type": "markdown",
   "id": "75394432",
   "metadata": {},
   "source": [
    "- how to read the strings\n",
    "- single quotes/double quotes/triple quote\n",
    "- doc string\n",
    "- Type\n",
    "- Max\n",
    "- Min\n",
    "- Len\n",
    "- addition of two strings(concatenation)\n",
    "- multiplication\n",
    "- division\n",
    "- inoperator(For loop)\n",
    "- index\n",
    "- mutable conditiomn\n",
    "- Slice\n",
    "- strings method\n",
    "    -capitalize/upper/lower/casefold\n",
    "    - index/find\n",
    "    - count\n",
    "    - replace\n",
    "    - lstrip/rstrip/strip\n",
    "    - startswith/endswith\n",
    "    - isalpha/isnumeris/isalnum\n",
    "    - split\n"
   ]
  },
  {
   "cell_type": "markdown",
   "id": "6b931be0",
   "metadata": {},
   "source": [
    "$APPEND$"
   ]
  },
  {
   "cell_type": "code",
   "execution_count": 1,
   "id": "eae6e017",
   "metadata": {},
   "outputs": [
    {
     "data": {
      "text/plain": [
       "[100, 200, 300]"
      ]
     },
     "execution_count": 1,
     "metadata": {},
     "output_type": "execute_result"
    }
   ],
   "source": [
    "# add (something) to the end of a written document\n",
    "\n",
    "list1=[100,200]\n",
    "# [100,200,300]\n",
    "list1.append(300)\n",
    "list1"
   ]
  },
  {
   "cell_type": "code",
   "execution_count": 2,
   "id": "ac8d2765",
   "metadata": {},
   "outputs": [],
   "source": [
    "list1.append('apple')"
   ]
  },
  {
   "cell_type": "code",
   "execution_count": 3,
   "id": "77504018",
   "metadata": {},
   "outputs": [
    {
     "data": {
      "text/plain": [
       "[100, 200, 300, 'apple']"
      ]
     },
     "execution_count": 3,
     "metadata": {},
     "output_type": "execute_result"
    }
   ],
   "source": [
    "list1"
   ]
  },
  {
   "cell_type": "code",
   "execution_count": 4,
   "id": "9faed67c",
   "metadata": {},
   "outputs": [
    {
     "name": "stdout",
     "output_type": "stream",
     "text": [
      "1\n",
      "4\n",
      "9\n",
      "16\n",
      "25\n"
     ]
    }
   ],
   "source": [
    "# input list=[1,2,3,4,5]\n",
    "# create a new list=[1,4,9,16,25]\n",
    "\n",
    "\n",
    "# write normal python code\n",
    "list1=[1,2,3,4,5]\n",
    "for i in list1:\n",
    "    print(i*i)\n",
    "    \n",
    "# i dont want print the value, i want to ssave the output   "
   ]
  },
  {
   "cell_type": "code",
   "execution_count": 7,
   "id": "1cf00a18",
   "metadata": {},
   "outputs": [
    {
     "data": {
      "text/plain": [
       "[1, 4, 9, 16, 25]"
      ]
     },
     "execution_count": 7,
     "metadata": {},
     "output_type": "execute_result"
    }
   ],
   "source": [
    "list1=[1,2,3,4,5]\n",
    "output=[]\n",
    "for i in list1:\n",
    "    output.append(i*i)\n",
    "    \n",
    "    \n",
    "output"
   ]
  },
  {
   "cell_type": "code",
   "execution_count": null,
   "id": "6aa11681",
   "metadata": {},
   "outputs": [],
   "source": [
    "list2=['hyd','bengaluru','delhi']"
   ]
  },
  {
   "cell_type": "code",
   "execution_count": 32,
   "id": "10deb456",
   "metadata": {},
   "outputs": [
    {
     "name": "stdout",
     "output_type": "stream",
     "text": [
      "Hyd\n",
      "Bengaluru\n",
      "Delhi\n"
     ]
    },
    {
     "data": {
      "text/plain": [
       "['hyd', 'bengaluru', 'delhi']"
      ]
     },
     "execution_count": 32,
     "metadata": {},
     "output_type": "execute_result"
    }
   ],
   "source": [
    "list2=['hyd','bengaluru','delhi']\n",
    "output=[]\n",
    "for i in list2:\n",
    "    print(i.capitalize())\n",
    "list2"
   ]
  },
  {
   "cell_type": "code",
   "execution_count": 33,
   "id": "78c2cb65",
   "metadata": {},
   "outputs": [
    {
     "name": "stdout",
     "output_type": "stream",
     "text": [
      "Hyd\n",
      "Bengaluru\n",
      "Delhi\n"
     ]
    }
   ],
   "source": [
    "list2=['hyd','bengaluru','delhi']\n",
    "for i in list2:\n",
    "    print(i.capitalize())"
   ]
  },
  {
   "cell_type": "code",
   "execution_count": 35,
   "id": "d229517d",
   "metadata": {},
   "outputs": [
    {
     "data": {
      "text/plain": [
       "['h#d', 'beng#luru', 'delhi']"
      ]
     },
     "execution_count": 35,
     "metadata": {},
     "output_type": "execute_result"
    }
   ],
   "source": [
    "list3=['h#d','beng#luru','delhi']\n",
    "output=[]\n",
    "for i in list3:\n",
    "    output.append(i)\n",
    "output"
   ]
  },
  {
   "cell_type": "markdown",
   "id": "f6b74adc",
   "metadata": {},
   "source": [
    "$LIST COMPREHENSION$"
   ]
  },
  {
   "cell_type": "code",
   "execution_count": 36,
   "id": "4aa968af",
   "metadata": {},
   "outputs": [
    {
     "data": {
      "text/plain": [
       "[1, 4, 9, 16, 25]"
      ]
     },
     "execution_count": 36,
     "metadata": {},
     "output_type": "execute_result"
    }
   ],
   "source": [
    "# code in a single line =====> speed the process\n",
    "list1=[1,2,3,4,5]\n",
    "\n",
    "output=[]\n",
    "for i in list1:\n",
    "    output.append(i*i)\n",
    "    \n",
    "output\n",
    "\n",
    "\n",
    "# step-1: intilaized the list ouput=[]\n",
    "# step-2: iterate the loop\n",
    "# step-3: you save the output\n",
    "\n",
    "output1=[i*i for i in list1]\n",
    "output1"
   ]
  },
  {
   "cell_type": "code",
   "execution_count": 39,
   "id": "893c5caa",
   "metadata": {},
   "outputs": [
    {
     "data": {
      "text/plain": [
       "[1, 4, 9, 16, 25]"
      ]
     },
     "execution_count": 39,
     "metadata": {},
     "output_type": "execute_result"
    }
   ],
   "source": [
    "list1=[1,2,3,4,5]\n",
    "output1=[i*i for i in list1]\n",
    "output1"
   ]
  },
  {
   "cell_type": "code",
   "execution_count": 38,
   "id": "08f89de1",
   "metadata": {},
   "outputs": [
    {
     "data": {
      "text/plain": [
       "['Hyd', 'Bengaluru', 'Delhi']"
      ]
     },
     "execution_count": 38,
     "metadata": {},
     "output_type": "execute_result"
    }
   ],
   "source": [
    "list2=['hyd','bengaluru','delhi']\n",
    "output=[]\n",
    "for i in list2:\n",
    "    output.append(i.capitalize())\n",
    "output\n",
    "\n",
    "output1=[i.capitalize() for i in list2]\n",
    "output1\n",
    "\n"
   ]
  },
  {
   "cell_type": "code",
   "execution_count": 41,
   "id": "ef6b25ed",
   "metadata": {},
   "outputs": [
    {
     "name": "stdout",
     "output_type": "stream",
     "text": [
      "1\n",
      "2\n",
      "3\n",
      "4\n",
      "5\n",
      "6\n",
      "7\n",
      "8\n",
      "9\n",
      "10\n",
      "11\n",
      "12\n",
      "13\n",
      "14\n",
      "15\n",
      "16\n",
      "17\n",
      "18\n",
      "19\n"
     ]
    }
   ],
   "source": [
    "# create the list of 20 number from 1 to 20\n",
    "**\n",
    "method-1** \n",
    "\n",
    "for i in range(1,20):\n",
    "    print(i)"
   ]
  },
  {
   "cell_type": "code",
   "execution_count": 45,
   "id": "bc3ddeb8",
   "metadata": {},
   "outputs": [
    {
     "data": {
      "text/plain": [
       "[1, 2, 3, 4, 5, 6, 7, 8, 9, 10, 11, 12, 13, 14, 15, 16, 17, 18, 19, 20]"
      ]
     },
     "execution_count": 45,
     "metadata": {},
     "output_type": "execute_result"
    }
   ],
   "source": [
    "**method--2**\n",
    "\n",
    "numbers=[]\n",
    "for i in range(1,21):\n",
    "    numbers.append(i)\n",
    "numbers\n",
    "\n",
    "numbers1=[i for i in range(1,21)]\n",
    "numbers1"
   ]
  },
  {
   "cell_type": "code",
   "execution_count": 46,
   "id": "5e801713",
   "metadata": {},
   "outputs": [
    {
     "data": {
      "text/plain": [
       "[1, 2, 3, 4, 5, 6, 7, 8, 9, 10, 11, 12, 13, 14, 15, 16, 17, 18, 19, 20]"
      ]
     },
     "execution_count": 46,
     "metadata": {},
     "output_type": "execute_result"
    }
   ],
   "source": [
    "**method--3**\n",
    "\n",
    "numbers1=[i for i in range(1,21)]\n",
    "numbers1"
   ]
  },
  {
   "cell_type": "code",
   "execution_count": 49,
   "id": "82699eb7",
   "metadata": {},
   "outputs": [
    {
     "data": {
      "text/plain": [
       "['h#d', 'beng#luru']"
      ]
     },
     "execution_count": 49,
     "metadata": {},
     "output_type": "execute_result"
    }
   ],
   "source": [
    "# list comprehension with if condition\n",
    "\n",
    "list3=['h#d','beng#luru','delhi']\n",
    "output=[]\n",
    "for i in list3:\n",
    "    if '#' in i:\n",
    "        output.append(i)\n",
    "output\n",
    "\n",
    "# [<o/p> <for loop> <if_condition>]\n",
    "output1=[i for i in list3 if '#' in i]\n",
    "output1"
   ]
  },
  {
   "cell_type": "code",
   "execution_count": 44,
   "id": "f608c932",
   "metadata": {},
   "outputs": [
    {
     "ename": "SyntaxError",
     "evalue": "invalid syntax (738882814.py, line 8)",
     "output_type": "error",
     "traceback": [
      "\u001b[1;36m  Cell \u001b[1;32mIn[44], line 8\u001b[1;36m\u001b[0m\n\u001b[1;33m    if i in <=3:\u001b[0m\n\u001b[1;37m            ^\u001b[0m\n\u001b[1;31mSyntaxError\u001b[0m\u001b[1;31m:\u001b[0m invalid syntax\n"
     ]
    }
   ],
   "source": [
    "list4=['abcd','abc','ac','a']\n",
    "# element less than 3\n",
    "# ['ac','a']\n",
    "\n",
    "\n",
    "output=[]\n",
    "for i in list4:\n",
    "    if i in <=3:\n",
    "        output.append(i)\n",
    "output\n",
    "\n",
    "# [<o/p> <for loop> <if_condition>]\n",
    "output=[i for i in list4 if 'i'<=3]\n",
    "output\n"
   ]
  },
  {
   "cell_type": "code",
   "execution_count": 53,
   "id": "04171edc",
   "metadata": {},
   "outputs": [
    {
     "name": "stdout",
     "output_type": "stream",
     "text": [
      "odd:1\n",
      "even:2\n",
      "odd:3\n",
      "even:4\n",
      "odd:5\n"
     ]
    }
   ],
   "source": [
    "# if else\n",
    "\n",
    "list1=[1,2,3,4,5]\n",
    "\n",
    "for i in list1:\n",
    "    if i%2==0:\n",
    "        print(\"even:{}\".format(i))\n",
    "    else:\n",
    "        print(\"odd:{}\".format(i))"
   ]
  },
  {
   "cell_type": "code",
   "execution_count": 54,
   "id": "ff6203d7",
   "metadata": {},
   "outputs": [
    {
     "data": {
      "text/plain": [
       "['odd:1', 'even:2', 'odd:3', 'even:4', 'odd:5']"
      ]
     },
     "execution_count": 54,
     "metadata": {},
     "output_type": "execute_result"
    }
   ],
   "source": [
    "list1=[1,2,3,4,5]\n",
    "\n",
    "output=[]\n",
    "\n",
    "for i in list1:\n",
    "    if i%2==0:\n",
    "        output.append(\"even:{}\".format(i))\n",
    "    else:\n",
    "        output.append(\"odd:{}\".format(i))\n",
    "        \n",
    "output"
   ]
  },
  {
   "cell_type": "code",
   "execution_count": 45,
   "id": "6d69eac1",
   "metadata": {},
   "outputs": [
    {
     "data": {
      "text/plain": [
       "['odd:1', 'even:2', 'odd:3', 'even:4', 'odd:5']"
      ]
     },
     "execution_count": 45,
     "metadata": {},
     "output_type": "execute_result"
    }
   ],
   "source": [
    "# [<if_output>  <if_condition> else <else_output>  <for_loop>]\n",
    "[\"even:{}\".format(i) if i%2==0 else \"odd:{}\".format(i) for i in list1]"
   ]
  },
  {
   "cell_type": "markdown",
   "id": "41cf33c5",
   "metadata": {},
   "source": [
    "$COUNT$"
   ]
  },
  {
   "cell_type": "code",
   "execution_count": 61,
   "id": "050b1c2c",
   "metadata": {},
   "outputs": [
    {
     "data": {
      "text/plain": [
       "3"
      ]
     },
     "execution_count": 61,
     "metadata": {},
     "output_type": "execute_result"
    }
   ],
   "source": [
    "list1=[1,2,3,'A','B','B','B','C']\n",
    "list1.count('B')"
   ]
  },
  {
   "cell_type": "code",
   "execution_count": 62,
   "id": "4bec6b7a",
   "metadata": {},
   "outputs": [
    {
     "name": "stdout",
     "output_type": "stream",
     "text": [
      "3\n"
     ]
    }
   ],
   "source": [
    "count=0\n",
    "for i in list1:\n",
    "    if i=='B':\n",
    "        count=count+1\n",
    "print(count)"
   ]
  },
  {
   "cell_type": "markdown",
   "id": "8a11e7c6",
   "metadata": {},
   "source": [
    "$EXTEND$"
   ]
  },
  {
   "cell_type": "code",
   "execution_count": 64,
   "id": "b643de7b",
   "metadata": {},
   "outputs": [
    {
     "data": {
      "text/plain": [
       "['A', 'B', 'C', 1, 2, 3]"
      ]
     },
     "execution_count": 64,
     "metadata": {},
     "output_type": "execute_result"
    }
   ],
   "source": [
    "list1=['A','B','C']\n",
    "list2=[1,2,3]\n",
    "\n",
    "list1.extend(list2)\n",
    "list1\n",
    "\n",
    "# here the list1 will be updated with list2 values"
   ]
  },
  {
   "cell_type": "code",
   "execution_count": 71,
   "id": "55475342",
   "metadata": {},
   "outputs": [
    {
     "name": "stdout",
     "output_type": "stream",
     "text": [
      "['A', 'B', 'C']\n"
     ]
    }
   ],
   "source": [
    "list1=['A','B','C']\n",
    "list2=[1,2,3]\n",
    "list1+list2\n",
    "\n",
    "print(list1)"
   ]
  },
  {
   "cell_type": "code",
   "execution_count": 72,
   "id": "c26fee12",
   "metadata": {},
   "outputs": [
    {
     "data": {
      "text/plain": [
       "['A', 'B', 'C', [1, 2, 3]]"
      ]
     },
     "execution_count": 72,
     "metadata": {},
     "output_type": "execute_result"
    }
   ],
   "source": [
    "list1=['A','B','C']\n",
    "list2=[1,2,3]\n",
    "list1.append(list2)\n",
    "list1"
   ]
  },
  {
   "cell_type": "markdown",
   "id": "6e4ac289",
   "metadata": {},
   "source": [
    "****APPEND****  VS ***EXEND***  VS  ***CONCAT***"
   ]
  },
  {
   "cell_type": "markdown",
   "id": "d4f47186",
   "metadata": {},
   "source": [
    "- append will be the element at last, that element can be any type\n",
    "\n",
    "    - list1=[1,2,3]\n",
    "    - list2=['A','B']\n",
    "    - list1.extend(list2)=(1,2,3,['A','B'])\n",
    "    \n",
    "- extend will update the list by adding new element, the result also save in a same list\n",
    "    \n",
    "    - list1=[1,2,3]\n",
    "    - list2=['A','B']\n",
    "    - list1.extend(list2)=(1,2,3,'A','B')\n",
    "    \n",
    "- concat wii add two list, but the result will not update in a same list\n",
    "   \n",
    "    - list1=[1,2,3]\n",
    "    - list2=['A','B']\n",
    "    - list1+list2=(1,2,3,'A','B')"
   ]
  },
  {
   "cell_type": "markdown",
   "id": "a916f19c",
   "metadata": {},
   "source": [
    "$ITERATOR$"
   ]
  },
  {
   "cell_type": "markdown",
   "id": "7ae5614d",
   "metadata": {},
   "source": [
    ". Iterator word ======> loop\n",
    "\n",
    ". The element we can print using for loop\n",
    "\n",
    ". string='python' we can print each letter using for loop\n",
    "\n",
    ". list1=[1,2,3] we can print each element using for loop"
   ]
  },
  {
   "cell_type": "code",
   "execution_count": 73,
   "id": "13c27c53",
   "metadata": {},
   "outputs": [
    {
     "data": {
      "text/plain": [
       "<reversed at 0x1ba4cd3f6d0>"
      ]
     },
     "execution_count": 73,
     "metadata": {},
     "output_type": "execute_result"
    }
   ],
   "source": [
    "val=reversed('python')\n",
    "val"
   ]
  },
  {
   "cell_type": "code",
   "execution_count": 74,
   "id": "3506fb50",
   "metadata": {},
   "outputs": [
    {
     "name": "stdout",
     "output_type": "stream",
     "text": [
      "n\n",
      "o\n",
      "h\n",
      "t\n",
      "y\n",
      "p\n"
     ]
    }
   ],
   "source": [
    "for i in val:\n",
    "    print(i)"
   ]
  },
  {
   "cell_type": "code",
   "execution_count": 75,
   "id": "1d423984",
   "metadata": {},
   "outputs": [
    {
     "data": {
      "text/plain": [
       "[1, 2, 3, 1, 2, 3, 4]"
      ]
     },
     "execution_count": 75,
     "metadata": {},
     "output_type": "execute_result"
    }
   ],
   "source": [
    "list1=[1,2,3]\n",
    "list1.extend([1,2,3,4])\n",
    "list1"
   ]
  },
  {
   "cell_type": "code",
   "execution_count": 76,
   "id": "f6c1a66d",
   "metadata": {},
   "outputs": [
    {
     "data": {
      "text/plain": [
       "[1, 2, 3, 'python']"
      ]
     },
     "execution_count": 76,
     "metadata": {},
     "output_type": "execute_result"
    }
   ],
   "source": [
    "list1=[1,2,3]\n",
    "list1.extend(['python'])\n",
    "list1"
   ]
  },
  {
   "cell_type": "code",
   "execution_count": 79,
   "id": "ce4a78d9",
   "metadata": {},
   "outputs": [
    {
     "data": {
      "text/plain": [
       "[1, 2, 3, 'p', 'y', 't', 'h', 'o', 'n', ['python']]"
      ]
     },
     "execution_count": 79,
     "metadata": {},
     "output_type": "execute_result"
    }
   ],
   "source": [
    "list1=[1,2,3]\n",
    "list1.extend('python')\n",
    "list1.append(['python'])\n",
    "list1"
   ]
  },
  {
   "cell_type": "markdown",
   "id": "f408adee",
   "metadata": {},
   "source": [
    "$POP$ -- $REMOVE$ -- $DEL$"
   ]
  },
  {
   "cell_type": "code",
   "execution_count": 59,
   "id": "ee60002d",
   "metadata": {},
   "outputs": [],
   "source": [
    "list1=[1,2,3,'A','B','B','B','C']"
   ]
  },
  {
   "cell_type": "code",
   "execution_count": 60,
   "id": "00ef0f88",
   "metadata": {},
   "outputs": [
    {
     "data": {
      "text/plain": [
       "'B'"
      ]
     },
     "execution_count": 60,
     "metadata": {},
     "output_type": "execute_result"
    }
   ],
   "source": [
    "list1.pop(4)"
   ]
  },
  {
   "cell_type": "code",
   "execution_count": 61,
   "id": "029756bb",
   "metadata": {},
   "outputs": [
    {
     "data": {
      "text/plain": [
       "[1, 2, 3, 'A', 'B', 'B', 'C']"
      ]
     },
     "execution_count": 61,
     "metadata": {},
     "output_type": "execute_result"
    }
   ],
   "source": [
    "list1"
   ]
  },
  {
   "cell_type": "code",
   "execution_count": 72,
   "id": "6e5b9a3c",
   "metadata": {},
   "outputs": [
    {
     "data": {
      "text/plain": [
       "'A'"
      ]
     },
     "execution_count": 72,
     "metadata": {},
     "output_type": "execute_result"
    }
   ],
   "source": [
    "list1\n",
    "list1.pop(1)\n",
    "\n",
    "\n",
    "# in side brackets default arguments is there index=-1\n",
    "# -1 means last value\n",
    "# if you not provide any value\n",
    "# it will remove last value\n",
    "# if i provide any index, it will remove that element\n",
    "\n",
    "# it also returning, which element it is removing"
   ]
  },
  {
   "cell_type": "code",
   "execution_count": 87,
   "id": "ebe501ce",
   "metadata": {},
   "outputs": [
    {
     "data": {
      "text/plain": [
       "[200, 100, 300]"
      ]
     },
     "execution_count": 87,
     "metadata": {},
     "output_type": "execute_result"
    }
   ],
   "source": [
    "list1=[100,200,100,300]    # duplicates are allowed\n",
    "list1.remove(100)             # first occurence will gone\n",
    "list1                      # it will not return any value"
   ]
  },
  {
   "cell_type": "code",
   "execution_count": 90,
   "id": "812a5da3",
   "metadata": {},
   "outputs": [],
   "source": [
    "del(list1)"
   ]
  },
  {
   "cell_type": "code",
   "execution_count": 91,
   "id": "2d381706",
   "metadata": {},
   "outputs": [
    {
     "ename": "NameError",
     "evalue": "name 'list1' is not defined",
     "output_type": "error",
     "traceback": [
      "\u001b[1;31m---------------------------------------------------------------------------\u001b[0m",
      "\u001b[1;31mNameError\u001b[0m                                 Traceback (most recent call last)",
      "Cell \u001b[1;32mIn[91], line 1\u001b[0m\n\u001b[1;32m----> 1\u001b[0m list1\n",
      "\u001b[1;31mNameError\u001b[0m: name 'list1' is not defined"
     ]
    }
   ],
   "source": [
    "list1"
   ]
  },
  {
   "cell_type": "code",
   "execution_count": 92,
   "id": "ce9726a5",
   "metadata": {},
   "outputs": [
    {
     "data": {
      "text/plain": [
       "[100, 200, 300]"
      ]
     },
     "execution_count": 92,
     "metadata": {},
     "output_type": "execute_result"
    }
   ],
   "source": [
    "list1=[100,200,100,300]\n",
    "del list1[2]\n",
    "\n",
    "list1"
   ]
  },
  {
   "cell_type": "markdown",
   "id": "7f255643",
   "metadata": {},
   "source": [
    "- index  vs multiple values\n",
    "- insert  vs append\n",
    "- reverse ascending and descending ====== reversed\n",
    "- sort ======= sorted\n",
    "- differnece between reverse and sort\n",
    "\n",
    "-- get all the differneces"
   ]
  },
  {
   "cell_type": "code",
   "execution_count": 105,
   "id": "d9c35d23",
   "metadata": {},
   "outputs": [
    {
     "data": {
      "text/plain": [
       "[100, 200, 300, 200]"
      ]
     },
     "execution_count": 105,
     "metadata": {},
     "output_type": "execute_result"
    }
   ],
   "source": [
    "list1=[100,200,300]\n",
    "list1.insert(100,200)\n",
    "list1"
   ]
  },
  {
   "cell_type": "code",
   "execution_count": 107,
   "id": "63796814",
   "metadata": {},
   "outputs": [
    {
     "data": {
      "text/plain": [
       "[300, 200, 100]"
      ]
     },
     "execution_count": 107,
     "metadata": {},
     "output_type": "execute_result"
    }
   ],
   "source": [
    "list1=[100,200,300]\n",
    "list1.reverse()\n",
    "list1"
   ]
  },
  {
   "cell_type": "code",
   "execution_count": 110,
   "id": "ddf1f3aa",
   "metadata": {},
   "outputs": [
    {
     "data": {
      "text/plain": [
       "[100, 200, 300]"
      ]
     },
     "execution_count": 110,
     "metadata": {},
     "output_type": "execute_result"
    }
   ],
   "source": [
    "list1=[200,100,300]\n",
    "list1.sort()\n",
    "list1"
   ]
  },
  {
   "cell_type": "code",
   "execution_count": 73,
   "id": "7fe0a602",
   "metadata": {},
   "outputs": [
    {
     "data": {
      "text/plain": [
       "2"
      ]
     },
     "execution_count": 73,
     "metadata": {},
     "output_type": "execute_result"
    }
   ],
   "source": [
    "list1=[100,200,300,400]\n",
    "list1.index(300)"
   ]
  },
  {
   "cell_type": "markdown",
   "id": "7c5cfe17",
   "metadata": {},
   "source": [
    "$ZIP$"
   ]
  },
  {
   "cell_type": "code",
   "execution_count": 115,
   "id": "53183e51",
   "metadata": {},
   "outputs": [
    {
     "name": "stdout",
     "output_type": "stream",
     "text": [
      "RAM age is 25\n",
      "ROBERT age is 30\n",
      "RAHEEM age is 35\n"
     ]
    }
   ],
   "source": [
    "list1=['RAM','ROBERT','RAHEEM']\n",
    "list2=[25,30,35]\n",
    " \n",
    "# ram age is 25\n",
    "# robert age is 30\n",
    "# raheem age is 35\n",
    "\n",
    "for i,j in zip(list1,list2):\n",
    "    print(\"{} age is {}\".format(i,j))"
   ]
  },
  {
   "cell_type": "code",
   "execution_count": 123,
   "id": "41872f03",
   "metadata": {},
   "outputs": [
    {
     "data": {
      "text/plain": [
       "[125, 230, 335]"
      ]
     },
     "execution_count": 123,
     "metadata": {},
     "output_type": "execute_result"
    }
   ],
   "source": [
    "list1=[100,200,300]\n",
    "list2=[25,30,35]\n",
    "\n",
    "output=[i+j for i,j in zip(list1,list2)]\n",
    "output"
   ]
  },
  {
   "cell_type": "code",
   "execution_count": 9,
   "id": "022fe23e",
   "metadata": {},
   "outputs": [
    {
     "name": "stdout",
     "output_type": "stream",
     "text": [
      "who is pm of india\n",
      "enter the answermodi\n",
      "what is the capital of india\n",
      "enter the answerdelhi\n",
      "who is prsident of india\n",
      "enter the answerdraupadi\n",
      "enter your total obtain marks is: 0\n"
     ]
    }
   ],
   "source": [
    "# take 5 questions in list1\n",
    "# take corresponding 5 answers in another list1\n",
    "# iterate through list1\n",
    "# every question should print\n",
    "# answer=input(\"tell the answer\")\n",
    "# answer will check in list2\n",
    "# if it is there: marks=marks+1\n",
    "# else: no marks\n",
    "\n",
    "# how many write answers you made, how many answers you got\n",
    "\n",
    "###########################################################\n",
    "# list1=['who is pm od india','what is the capital of india','who is prsident of india']\n",
    "# list2=['modi','delhi','draupadi']\n",
    "# marks=0\n",
    "# correct_answer=0\n",
    "# for i in range(len(list1)):\n",
    "# for i in list:\n",
    "#   print('q1:'<>)\n",
    "#   answer=input(\"enter the answer\")\n",
    "#   if answer.lower()==list2.index(i):\n",
    "#        marks+=1\n",
    "\n",
    "\n",
    "\n",
    "list1=['who is pm of india','what is the capital of india','who is prsident of india']\n",
    "list2=['modi','delhi','draupadi']\n",
    "marks=0\n",
    "\n",
    "\n",
    "for i in range(len(list1)):\n",
    "    print(list1[i])\n",
    "    \n",
    "    \n",
    "    answer=input(\"enter the answer\")\n",
    "    if answer.capitalize()==list2[i]:\n",
    "        marks+=1\n",
    "print(\"enter your total obtain marks is:\",marks)"
   ]
  },
  {
   "cell_type": "code",
   "execution_count": 1,
   "id": "cc619a78",
   "metadata": {},
   "outputs": [],
   "source": [
    "import numpy"
   ]
  },
  {
   "cell_type": "code",
   "execution_count": 5,
   "id": "ebecc4fd",
   "metadata": {},
   "outputs": [
    {
     "name": "stdout",
     "output_type": "stream",
     "text": [
      "max_value is 130:\n"
     ]
    }
   ],
   "source": [
    "# wap to find the maximum value without using max keyword\n",
    "list=[100,120,130]\n",
    "\n",
    "\n",
    "def find_max(list):\n",
    "    max_value=list[0]\n",
    "    for num in list:                              ##\n",
    "        if num>max_value:\n",
    "            max_value=num\n",
    "    return max_value\n",
    "\n",
    "result=find_max(list)\n",
    "print(\"max_value is {}:\".format(result))"
   ]
  },
  {
   "cell_type": "code",
   "execution_count": 10,
   "id": "edcb2d70",
   "metadata": {},
   "outputs": [
    {
     "name": "stdout",
     "output_type": "stream",
     "text": [
      "max value in the list is130:\n"
     ]
    }
   ],
   "source": [
    "list=[100,120,130]\n",
    "max_value=0\n",
    "for num in list:\n",
    "    if num>max_value:\n",
    "        max_value=num\n",
    "print(\"max value in the list is{}:\".format(max_value))            "
   ]
  },
  {
   "cell_type": "code",
   "execution_count": null,
   "id": "6555ed3f",
   "metadata": {},
   "outputs": [],
   "source": [
    "list=[20,30,50,60,100,90,70,50,30]\n",
    "\n",
    "list=[1,2,3,10,9,8,6] the pattern is matching\n",
    "list\n",
    "=[10,9,50,30,20,]"
   ]
  }
 ],
 "metadata": {
  "kernelspec": {
   "display_name": "Python 3 (ipykernel)",
   "language": "python",
   "name": "python3"
  },
  "language_info": {
   "codemirror_mode": {
    "name": "ipython",
    "version": 3
   },
   "file_extension": ".py",
   "mimetype": "text/x-python",
   "name": "python",
   "nbconvert_exporter": "python",
   "pygments_lexer": "ipython3",
   "version": "3.11.5"
  }
 },
 "nbformat": 4,
 "nbformat_minor": 5
}
