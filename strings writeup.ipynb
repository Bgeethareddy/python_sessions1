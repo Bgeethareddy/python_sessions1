{
 "cells": [
  {
   "cell_type": "markdown",
   "id": "8ee5772d",
   "metadata": {},
   "source": [
    "$STRINGS$"
   ]
  },
  {
   "cell_type": "markdown",
   "id": "cebabf23",
   "metadata": {},
   "source": [
    "- HOW TO READ THE STRINGS"
   ]
  },
  {
   "cell_type": "markdown",
   "id": "5fc71c22",
   "metadata": {},
   "source": [
    "- There are three types of strings\n",
    "    - single quote\n",
    "    - double quote\n",
    "    - triple quote"
   ]
  },
  {
   "cell_type": "code",
   "execution_count": 2,
   "id": "5462a662",
   "metadata": {},
   "outputs": [
    {
     "data": {
      "text/plain": [
       "'python'"
      ]
     },
     "execution_count": 2,
     "metadata": {},
     "output_type": "execute_result"
    }
   ],
   "source": [
    "# single quote example:\n",
    "\n",
    "string1='python'          # single quote\n",
    "string1"
   ]
  },
  {
   "cell_type": "code",
   "execution_count": 5,
   "id": "37eaa6db",
   "metadata": {},
   "outputs": [
    {
     "data": {
      "text/plain": [
       "'python'"
      ]
     },
     "execution_count": 5,
     "metadata": {},
     "output_type": "execute_result"
    }
   ],
   "source": [
    "# double quote example:\n",
    "\n",
    "string2=\"python\"\n",
    "string2"
   ]
  },
  {
   "cell_type": "code",
   "execution_count": 9,
   "id": "e4d14ba6",
   "metadata": {},
   "outputs": [
    {
     "data": {
      "text/plain": [
       "'\\niam geetha reddy \\nfrom: Kadapa\\n'"
      ]
     },
     "execution_count": 9,
     "metadata": {},
     "output_type": "execute_result"
    }
   ],
   "source": [
    "# triple quotes example:\n",
    "\"\"\"\n",
    "iam geetha reddy \n",
    "from: Kadapa\n",
    "\"\"\""
   ]
  },
  {
   "cell_type": "code",
   "execution_count": 13,
   "id": "a04af9ac",
   "metadata": {},
   "outputs": [
    {
     "data": {
      "text/plain": [
       "'hello \"python\"'"
      ]
     },
     "execution_count": 13,
     "metadata": {},
     "output_type": "execute_result"
    }
   ],
   "source": [
    "# i want to highlite the python\n",
    "\n",
    "string1='hello \"python\"'\n",
    "string1"
   ]
  },
  {
   "cell_type": "markdown",
   "id": "4f46fb0d",
   "metadata": {},
   "source": [
    "$TYPE$"
   ]
  },
  {
   "cell_type": "markdown",
   "id": "db6c8247",
   "metadata": {},
   "source": [
    "- The Type of data strored in the Object or variable in the program.\n",
    "- Type is a built-in function that is used to Return the Type"
   ]
  },
  {
   "cell_type": "code",
   "execution_count": 14,
   "id": "0a910e27",
   "metadata": {},
   "outputs": [
    {
     "data": {
      "text/plain": [
       "'hello \"python\"'"
      ]
     },
     "execution_count": 14,
     "metadata": {},
     "output_type": "execute_result"
    }
   ],
   "source": [
    "string1"
   ]
  },
  {
   "cell_type": "code",
   "execution_count": 15,
   "id": "360d72d6",
   "metadata": {},
   "outputs": [
    {
     "data": {
      "text/plain": [
       "str"
      ]
     },
     "execution_count": 15,
     "metadata": {},
     "output_type": "execute_result"
    }
   ],
   "source": [
    "type(string1)"
   ]
  },
  {
   "cell_type": "markdown",
   "id": "90ce6d05",
   "metadata": {},
   "source": [
    "$LEN$\n",
    "\n",
    "\n",
    "- The len() returns the number of items in an object.\n",
    "- The len() return the number of characters in the string."
   ]
  },
  {
   "cell_type": "code",
   "execution_count": 2,
   "id": "a32f36cd",
   "metadata": {},
   "outputs": [],
   "source": [
    "string='python'"
   ]
  },
  {
   "cell_type": "code",
   "execution_count": 3,
   "id": "0a28ae9e",
   "metadata": {},
   "outputs": [
    {
     "data": {
      "text/plain": [
       "6"
      ]
     },
     "execution_count": 3,
     "metadata": {},
     "output_type": "execute_result"
    }
   ],
   "source": [
    "len(string)"
   ]
  },
  {
   "cell_type": "markdown",
   "id": "b850c1fe",
   "metadata": {},
   "source": [
    "$MAX-MIN$\n",
    "\n",
    "- The Max() returns the item with the Highest value\n",
    "- The Min() returns the item with the Lowset value\n",
    "- These functions are used to compute the Max and Min of values as passed in its arguments."
   ]
  },
  {
   "cell_type": "code",
   "execution_count": 5,
   "id": "3f827f6d",
   "metadata": {},
   "outputs": [
    {
     "data": {
      "text/plain": [
       "'t'"
      ]
     },
     "execution_count": 5,
     "metadata": {},
     "output_type": "execute_result"
    }
   ],
   "source": [
    "string='Naresh It'\n",
    "max(string)"
   ]
  },
  {
   "cell_type": "code",
   "execution_count": 8,
   "id": "197874ba",
   "metadata": {},
   "outputs": [
    {
     "data": {
      "text/plain": [
       "'N'"
      ]
     },
     "execution_count": 8,
     "metadata": {},
     "output_type": "execute_result"
    }
   ],
   "source": [
    "string=\"Naresh\"\n",
    "min(string)"
   ]
  },
  {
   "cell_type": "markdown",
   "id": "ac7ea668",
   "metadata": {},
   "source": [
    "$ORD-CHAR$\n",
    "\n",
    "- Ord() is used to convert a single unicode character into its integer representation.\n",
    "- Char() is uesd to get a string representing of a character which points to a unicode code interger."
   ]
  },
  {
   "cell_type": "code",
   "execution_count": 12,
   "id": "bc327ebc",
   "metadata": {},
   "outputs": [
    {
     "data": {
      "text/plain": [
       "80"
      ]
     },
     "execution_count": 12,
     "metadata": {},
     "output_type": "execute_result"
    }
   ],
   "source": [
    "ord('P')"
   ]
  },
  {
   "cell_type": "code",
   "execution_count": 22,
   "id": "dd04db4d",
   "metadata": {},
   "outputs": [
    {
     "data": {
      "text/plain": [
       "(80, 71, 82)"
      ]
     },
     "execution_count": 22,
     "metadata": {},
     "output_type": "execute_result"
    }
   ],
   "source": [
    "ord('P'),ord('G'),ord('R')"
   ]
  },
  {
   "cell_type": "code",
   "execution_count": 27,
   "id": "18441e9e",
   "metadata": {},
   "outputs": [
    {
     "data": {
      "text/plain": [
       "('P', 'G', 'R')"
      ]
     },
     "execution_count": 27,
     "metadata": {},
     "output_type": "execute_result"
    }
   ],
   "source": [
    "chr(80),chr(71),chr(82),"
   ]
  },
  {
   "cell_type": "markdown",
   "id": "3c537099",
   "metadata": {},
   "source": [
    "$concatenation$\n",
    "\n",
    "- Obtaining a new string that contains both of the original string.\n",
    "- It involves joining two or more strings to create a single new string.\n"
   ]
  },
  {
   "cell_type": "markdown",
   "id": "7e1a278b",
   "metadata": {},
   "source": [
    "$ADDITION$ $OF$ $TWO$ $STRINGS$\n",
    "\n",
    "    - The merging of both the strings together"
   ]
  },
  {
   "cell_type": "code",
   "execution_count": 30,
   "id": "56cb6b12",
   "metadata": {},
   "outputs": [
    {
     "data": {
      "text/plain": [
       "'Geetha Reddy'"
      ]
     },
     "execution_count": 30,
     "metadata": {},
     "output_type": "execute_result"
    }
   ],
   "source": [
    "str1=\"Geetha \"\n",
    "str2=\"Reddy\"\n",
    "str1+str2"
   ]
  },
  {
   "cell_type": "markdown",
   "id": "33ef669c",
   "metadata": {},
   "source": [
    "$SUBTRACTION$"
   ]
  },
  {
   "cell_type": "code",
   "execution_count": 31,
   "id": "9230f6c8",
   "metadata": {},
   "outputs": [
    {
     "ename": "TypeError",
     "evalue": "unsupported operand type(s) for -: 'str' and 'str'",
     "output_type": "error",
     "traceback": [
      "\u001b[1;31m---------------------------------------------------------------------------\u001b[0m",
      "\u001b[1;31mTypeError\u001b[0m                                 Traceback (most recent call last)",
      "Cell \u001b[1;32mIn[31], line 3\u001b[0m\n\u001b[0;32m      1\u001b[0m str1\u001b[38;5;241m=\u001b[39m\u001b[38;5;124m\"\u001b[39m\u001b[38;5;124mGeetha \u001b[39m\u001b[38;5;124m\"\u001b[39m\n\u001b[0;32m      2\u001b[0m str2\u001b[38;5;241m=\u001b[39m\u001b[38;5;124m\"\u001b[39m\u001b[38;5;124mReddy\u001b[39m\u001b[38;5;124m\"\u001b[39m\n\u001b[1;32m----> 3\u001b[0m str1\u001b[38;5;241m-\u001b[39mstr2\n",
      "\u001b[1;31mTypeError\u001b[0m: unsupported operand type(s) for -: 'str' and 'str'"
     ]
    }
   ],
   "source": [
    "str1=\"Geetha \"\n",
    "str2=\"Reddy\"\n",
    "str1-str2"
   ]
  },
  {
   "cell_type": "markdown",
   "id": "38dbe745",
   "metadata": {},
   "source": [
    "$MULTIPLICATION$\n",
    "\n",
    "\n",
    "    - Use the * operator to multiply not only numbers but also string and list."
   ]
  },
  {
   "cell_type": "code",
   "execution_count": 34,
   "id": "f893a73b",
   "metadata": {},
   "outputs": [
    {
     "data": {
      "text/plain": [
       "('Geetha Geetha Geetha ', 'ReddyReddyReddy')"
      ]
     },
     "execution_count": 34,
     "metadata": {},
     "output_type": "execute_result"
    }
   ],
   "source": [
    "3*str1,3*str2"
   ]
  },
  {
   "cell_type": "code",
   "execution_count": 35,
   "id": "ae926e03",
   "metadata": {},
   "outputs": [
    {
     "ename": "TypeError",
     "evalue": "unsupported operand type(s) for /: 'str' and 'str'",
     "output_type": "error",
     "traceback": [
      "\u001b[1;31m---------------------------------------------------------------------------\u001b[0m",
      "\u001b[1;31mTypeError\u001b[0m                                 Traceback (most recent call last)",
      "Cell \u001b[1;32mIn[35], line 1\u001b[0m\n\u001b[1;32m----> 1\u001b[0m str1\u001b[38;5;241m/\u001b[39mstr2\n",
      "\u001b[1;31mTypeError\u001b[0m: unsupported operand type(s) for /: 'str' and 'str'"
     ]
    }
   ],
   "source": [
    "str1/str2"
   ]
  },
  {
   "cell_type": "markdown",
   "id": "5e561ac2",
   "metadata": {},
   "source": [
    "$IN$  $OPERATOR$ $(FOR LOOP)$\n",
    "\n",
    "    - In operator determines whether a given valuse is a constituent element of a sequence such as a string.\n",
    "    - The statement return a boolen results of True or False."
   ]
  },
  {
   "cell_type": "markdown",
   "id": "48035e07",
   "metadata": {},
   "source": [
    "$INDEX$\n",
    "\n",
    "    - The process of accessing a specific element in a sequence, suac as a string,using its position or index number.\n",
    "    - Indexing in pyhton starts at 0.\n",
    "    - Which means that the first element in a sequence has an index of 0.\n",
    "    - The second element has an index of 1, and so on."
   ]
  },
  {
   "cell_type": "code",
   "execution_count": 38,
   "id": "ede97b89",
   "metadata": {},
   "outputs": [],
   "source": [
    "string='python'"
   ]
  },
  {
   "cell_type": "code",
   "execution_count": 39,
   "id": "dba045bb",
   "metadata": {},
   "outputs": [
    {
     "data": {
      "text/plain": [
       "('p', 'y', 't', 'h', 'o', 'n')"
      ]
     },
     "execution_count": 39,
     "metadata": {},
     "output_type": "execute_result"
    }
   ],
   "source": [
    "string[0],string[1],string[2],string[3],string[4],string[5]"
   ]
  },
  {
   "cell_type": "code",
   "execution_count": 40,
   "id": "182cb4b0",
   "metadata": {},
   "outputs": [
    {
     "name": "stdout",
     "output_type": "stream",
     "text": [
      "p\n",
      "y\n",
      "t\n",
      "h\n",
      "o\n",
      "n\n"
     ]
    }
   ],
   "source": [
    " # i want print letters using in operator\n",
    "    \n",
    "for i in string1:\n",
    "    print(i)"
   ]
  },
  {
   "cell_type": "code",
   "execution_count": 41,
   "id": "de79e9cb",
   "metadata": {},
   "outputs": [
    {
     "name": "stdout",
     "output_type": "stream",
     "text": [
      "0\n",
      "1\n",
      "2\n",
      "3\n",
      "4\n",
      "5\n"
     ]
    }
   ],
   "source": [
    "# i want print letters using in  range operator\n",
    "\n",
    "\n",
    "for i in range(len(string1)):\n",
    "    print(i)"
   ]
  },
  {
   "cell_type": "code",
   "execution_count": 42,
   "id": "d0932bd7",
   "metadata": {},
   "outputs": [
    {
     "name": "stdout",
     "output_type": "stream",
     "text": [
      "the index of p is 0\n",
      "the index of y is 1\n",
      "the index of t is 2\n",
      "the index of h is 3\n",
      "the index of o is 4\n",
      "the index of n is 5\n"
     ]
    }
   ],
   "source": [
    "# i want print letters like the index of p is 0'\n",
    "\n",
    "\n",
    "for i in range(len(string1)):\n",
    "    print('the index of {} is {}'.format(string1[i],i))"
   ]
  },
  {
   "cell_type": "markdown",
   "id": "4442b890",
   "metadata": {},
   "source": [
    "** MUTABLE AND IMMUTABLE CONCEPT**\n",
    "\n",
    "    - MUTABLE====WE CAN CHANGE\n",
    "\n",
    "    - IMMUTABLE === WE CANNOT CHANGE\n",
    "\n",
    "    - STRINGS ARE IMMUTABLE"
   ]
  },
  {
   "cell_type": "code",
   "execution_count": 46,
   "id": "2e22b552",
   "metadata": {},
   "outputs": [
    {
     "data": {
      "text/plain": [
       "[86, 88, 90]"
      ]
     },
     "execution_count": 46,
     "metadata": {},
     "output_type": "execute_result"
    }
   ],
   "source": [
    "list1=[86,8,90]\n",
    "list1[1]=88\n",
    "list1"
   ]
  },
  {
   "cell_type": "code",
   "execution_count": 45,
   "id": "d4a833ee",
   "metadata": {},
   "outputs": [
    {
     "data": {
      "text/plain": [
       "[1000, 200, 300]"
      ]
     },
     "execution_count": 45,
     "metadata": {},
     "output_type": "execute_result"
    }
   ],
   "source": [
    "list1=[100,200,300]   # 100=====1000\n",
    "list1[0]=1000\n",
    "list1"
   ]
  },
  {
   "cell_type": "markdown",
   "id": "48030397",
   "metadata": {},
   "source": [
    "$SLICE$\n",
    "\n",
    "    - The slice(5) represents a slice that start from index 0 and ends at index 5.\n",
    "    - And selects every third element from the sequence."
   ]
  },
  {
   "cell_type": "code",
   "execution_count": 54,
   "id": "cc745536",
   "metadata": {},
   "outputs": [
    {
     "name": "stdout",
     "output_type": "stream",
     "text": [
      "IPE\n"
     ]
    }
   ],
   "source": [
    "string1=\"SIMPLELEARN\"\n",
    "print(string1[1:7:2])"
   ]
  },
  {
   "cell_type": "markdown",
   "id": "114e2b31",
   "metadata": {},
   "source": [
    "$STRINGS$ $METHOD$\n",
    "\n",
    "    - It is a fundamental data type used to represent and manipulate textual data.\n",
    "    - Strings in python are immutable."
   ]
  },
  {
   "cell_type": "code",
   "execution_count": 57,
   "id": "0e700af5",
   "metadata": {},
   "outputs": [
    {
     "data": {
      "text/plain": [
       "['__add__',\n",
       " '__class__',\n",
       " '__contains__',\n",
       " '__delattr__',\n",
       " '__dir__',\n",
       " '__doc__',\n",
       " '__eq__',\n",
       " '__format__',\n",
       " '__ge__',\n",
       " '__getattribute__',\n",
       " '__getitem__',\n",
       " '__getnewargs__',\n",
       " '__getstate__',\n",
       " '__gt__',\n",
       " '__hash__',\n",
       " '__init__',\n",
       " '__init_subclass__',\n",
       " '__iter__',\n",
       " '__le__',\n",
       " '__len__',\n",
       " '__lt__',\n",
       " '__mod__',\n",
       " '__mul__',\n",
       " '__ne__',\n",
       " '__new__',\n",
       " '__reduce__',\n",
       " '__reduce_ex__',\n",
       " '__repr__',\n",
       " '__rmod__',\n",
       " '__rmul__',\n",
       " '__setattr__',\n",
       " '__sizeof__',\n",
       " '__str__',\n",
       " '__subclasshook__',\n",
       " 'capitalize',\n",
       " 'casefold',\n",
       " 'center',\n",
       " 'count',\n",
       " 'encode',\n",
       " 'endswith',\n",
       " 'expandtabs',\n",
       " 'find',\n",
       " 'format',\n",
       " 'format_map',\n",
       " 'index',\n",
       " 'isalnum',\n",
       " 'isalpha',\n",
       " 'isascii',\n",
       " 'isdecimal',\n",
       " 'isdigit',\n",
       " 'isidentifier',\n",
       " 'islower',\n",
       " 'isnumeric',\n",
       " 'isprintable',\n",
       " 'isspace',\n",
       " 'istitle',\n",
       " 'isupper',\n",
       " 'join',\n",
       " 'ljust',\n",
       " 'lower',\n",
       " 'lstrip',\n",
       " 'maketrans',\n",
       " 'partition',\n",
       " 'removeprefix',\n",
       " 'removesuffix',\n",
       " 'replace',\n",
       " 'rfind',\n",
       " 'rindex',\n",
       " 'rjust',\n",
       " 'rpartition',\n",
       " 'rsplit',\n",
       " 'rstrip',\n",
       " 'split',\n",
       " 'splitlines',\n",
       " 'startswith',\n",
       " 'strip',\n",
       " 'swapcase',\n",
       " 'title',\n",
       " 'translate',\n",
       " 'upper',\n",
       " 'zfill']"
      ]
     },
     "execution_count": 57,
     "metadata": {},
     "output_type": "execute_result"
    }
   ],
   "source": [
    "dir('')"
   ]
  },
  {
   "cell_type": "markdown",
   "id": "f0dc8fd0",
   "metadata": {},
   "source": [
    "$CAPITALIZE$\n",
    "\n",
    "\n",
    "    - Capitalize is used to convert the first char of a string to Uppercase and the remaining chat to Lowercase.\n",
    "    "
   ]
  },
  {
   "cell_type": "code",
   "execution_count": 59,
   "id": "961fbb62",
   "metadata": {},
   "outputs": [
    {
     "data": {
      "text/plain": [
       "'India'"
      ]
     },
     "execution_count": 59,
     "metadata": {},
     "output_type": "execute_result"
    }
   ],
   "source": [
    "string1='india'\n",
    "string1.capitalize()"
   ]
  },
  {
   "cell_type": "markdown",
   "id": "ae93ccd0",
   "metadata": {},
   "source": [
    "$UPPER$ $CASE$\n",
    "\n",
    "    - It converts all the Lowercase char in the string into Uppercase char and return a new string."
   ]
  },
  {
   "cell_type": "code",
   "execution_count": 61,
   "id": "ac7386b6",
   "metadata": {},
   "outputs": [
    {
     "data": {
      "text/plain": [
       "'INDIA'"
      ]
     },
     "execution_count": 61,
     "metadata": {},
     "output_type": "execute_result"
    }
   ],
   "source": [
    "string1.upper()"
   ]
  },
  {
   "cell_type": "markdown",
   "id": "e74c87b5",
   "metadata": {},
   "source": [
    "$LOWER$ $CASE$\n",
    "    \n",
    "    - It converts all the Uppercase char in th string into Lowercase char and retuen a new string."
   ]
  },
  {
   "cell_type": "code",
   "execution_count": 62,
   "id": "a38ea8dd",
   "metadata": {},
   "outputs": [
    {
     "data": {
      "text/plain": [
       "'india'"
      ]
     },
     "execution_count": 62,
     "metadata": {},
     "output_type": "execute_result"
    }
   ],
   "source": [
    "string1.lower()"
   ]
  },
  {
   "cell_type": "code",
   "execution_count": 64,
   "id": "0a782a22",
   "metadata": {},
   "outputs": [
    {
     "name": "stdout",
     "output_type": "stream",
     "text": [
      "India\n",
      "INDIA\n",
      "india\n"
     ]
    }
   ],
   "source": [
    "string1='india'\n",
    "print(string1.capitalize())\n",
    "print(string1.upper())\n",
    "print(string1.lower())"
   ]
  },
  {
   "cell_type": "markdown",
   "id": "f5e7ab0c",
   "metadata": {},
   "source": [
    "$COUNT$\n",
    "\n",
    "\n",
    "    - This method return the number of times a specified value appears in the string."
   ]
  },
  {
   "cell_type": "code",
   "execution_count": 6,
   "id": "0e19f426",
   "metadata": {},
   "outputs": [
    {
     "data": {
      "text/plain": [
       "3"
      ]
     },
     "execution_count": 6,
     "metadata": {},
     "output_type": "execute_result"
    }
   ],
   "source": [
    "string=\"I LOVE MY MOM\"\n",
    "string.count('M')"
   ]
  },
  {
   "cell_type": "code",
   "execution_count": 7,
   "id": "2f13a7a8",
   "metadata": {},
   "outputs": [
    {
     "data": {
      "text/plain": [
       "2"
      ]
     },
     "execution_count": 7,
     "metadata": {},
     "output_type": "execute_result"
    }
   ],
   "source": [
    "string.count('O')"
   ]
  },
  {
   "cell_type": "code",
   "execution_count": 11,
   "id": "974cabe7",
   "metadata": {},
   "outputs": [
    {
     "name": "stdout",
     "output_type": "stream",
     "text": [
      "2\n"
     ]
    }
   ],
   "source": [
    "string1='ola ola ola'\n",
    "print(string1.count('a',4))"
   ]
  },
  {
   "cell_type": "markdown",
   "id": "14bb4726",
   "metadata": {},
   "source": [
    "$REPLACE$\n",
    "\n",
    "    -This method replace a specified phrase with another specified phrase."
   ]
  },
  {
   "cell_type": "code",
   "execution_count": 12,
   "id": "3e790e0d",
   "metadata": {},
   "outputs": [
    {
     "data": {
      "text/plain": [
       "'Geeth@'"
      ]
     },
     "execution_count": 12,
     "metadata": {},
     "output_type": "execute_result"
    }
   ],
   "source": [
    "string1='Geetha'\n",
    "# replace 'r' with '$'\n",
    "string1.replace('a','@')"
   ]
  },
  {
   "cell_type": "markdown",
   "id": "a913252b",
   "metadata": {},
   "source": [
    "$FIND$\n",
    "\n",
    "    - This method finds the first occurrence of the specified value."
   ]
  },
  {
   "cell_type": "code",
   "execution_count": 13,
   "id": "f18944c3",
   "metadata": {},
   "outputs": [
    {
     "data": {
      "text/plain": [
       "2"
      ]
     },
     "execution_count": 13,
     "metadata": {},
     "output_type": "execute_result"
    }
   ],
   "source": [
    "string1='hai and hai'\n",
    "string1.find('i') "
   ]
  },
  {
   "cell_type": "markdown",
   "id": "66fb927e",
   "metadata": {},
   "source": [
    "$STRIP$  $RSTRIP$  $LSTRIP$\n",
    "\n",
    "$STRIP$\n",
    "\n",
    "\n",
    "    - The strip() method removes any leading, and trailing whitespaces.\n",
    "    - Leading means at the beginning of the string\n",
    "    - Trailing means at the end\n",
    "    - Any whitespaces will be removed.\n",
    "    \n",
    "    \n",
    "$RSTRIP$\n",
    "\n",
    "\n",
    "    - Python rstrip() method removes all the trailing characters from the string.\n",
    "    - It means it removes all the specified characters from right side of the string.\n",
    "    - This method returns a string value.\n",
    "    \n",
    "    \n",
    "$LSTRIP$\n",
    "\n",
    "\n",
    "    - Python String lstrip() method returns a copy of the string with leading characters removed\n",
    "    - (based on the string argument passed).\n",
    "    - If no argument is passed, it removes leading spaces.\n",
    "\n",
    "\n"
   ]
  },
  {
   "cell_type": "code",
   "execution_count": 14,
   "id": "4cb30046",
   "metadata": {},
   "outputs": [],
   "source": [
    "str1='hello how are you'\n",
    "str2=\"hello how are you\"\n",
    "str3=\"hello how are you\""
   ]
  },
  {
   "cell_type": "code",
   "execution_count": 15,
   "id": "60c74d27",
   "metadata": {},
   "outputs": [
    {
     "name": "stdout",
     "output_type": "stream",
     "text": [
      "hello how are you\n",
      "hello how are you\n",
      "hello how are you\n"
     ]
    }
   ],
   "source": [
    "print(str1.strip())\n",
    "print(str2.lstrip())\n",
    "print(str3.rstrip())"
   ]
  },
  {
   "cell_type": "markdown",
   "id": "3b05a71f",
   "metadata": {},
   "source": [
    "$STARTSWITH$  $ENDSWITH$\n",
    "\n",
    "\n",
    "$STARTWITH$\n",
    "\n",
    "    - This method is a string method that returns True\n",
    "    - If the input string starts with the specified prefix(string)\n",
    "    - else it returns False.\n",
    "    \n",
    "    \n",
    "$ENDSWITH$\n",
    "\n",
    "\n",
    "    - This method is a string method that returns  True \n",
    "    - If the input string ends with the specified suffix(string); \n",
    "    - else it returns False."
   ]
  },
  {
   "cell_type": "code",
   "execution_count": 18,
   "id": "a7b3c695",
   "metadata": {},
   "outputs": [],
   "source": [
    "string=\"I LOVE MY COUNTRY\""
   ]
  },
  {
   "cell_type": "code",
   "execution_count": 21,
   "id": "14faf97d",
   "metadata": {},
   "outputs": [
    {
     "data": {
      "text/plain": [
       "True"
      ]
     },
     "execution_count": 21,
     "metadata": {},
     "output_type": "execute_result"
    }
   ],
   "source": [
    "string.startswith(\"I\")\n",
    "string.startswith(\"I\")"
   ]
  },
  {
   "cell_type": "code",
   "execution_count": 22,
   "id": "f9c55cbd",
   "metadata": {},
   "outputs": [
    {
     "data": {
      "text/plain": [
       "True"
      ]
     },
     "execution_count": 22,
     "metadata": {},
     "output_type": "execute_result"
    }
   ],
   "source": [
    "string.startswith(\"I\")"
   ]
  },
  {
   "cell_type": "code",
   "execution_count": 23,
   "id": "4b74133c",
   "metadata": {},
   "outputs": [
    {
     "data": {
      "text/plain": [
       "False"
      ]
     },
     "execution_count": 23,
     "metadata": {},
     "output_type": "execute_result"
    }
   ],
   "source": [
    "string.startswith(\"LOVE\")"
   ]
  },
  {
   "cell_type": "markdown",
   "id": "97fd657d",
   "metadata": {},
   "source": [
    "$ISALPHA$\n",
    "\n",
    "    - A string for alphabetical characters and returns True only \n",
    "    - if the string contains all alphabetical characters. "
   ]
  },
  {
   "cell_type": "code",
   "execution_count": 24,
   "id": "32c2a13a",
   "metadata": {},
   "outputs": [
    {
     "data": {
      "text/plain": [
       "True"
      ]
     },
     "execution_count": 24,
     "metadata": {},
     "output_type": "execute_result"
    }
   ],
   "source": [
    "str1=\"PGR\"\n",
    "str1.isalpha()"
   ]
  },
  {
   "cell_type": "markdown",
   "id": "c654ef81",
   "metadata": {},
   "source": [
    "$ISALNUM$\n",
    "\n",
    "    - Returns Trueif all the characters are alphanumeric\n",
    "    - Meaning alphabet letter (a-z) and numbers (0-9)."
   ]
  },
  {
   "cell_type": "code",
   "execution_count": 29,
   "id": "13904562",
   "metadata": {},
   "outputs": [
    {
     "data": {
      "text/plain": [
       "True"
      ]
     },
     "execution_count": 29,
     "metadata": {},
     "output_type": "execute_result"
    }
   ],
   "source": [
    "str1='868890'\n",
    "str1.isalnum()"
   ]
  },
  {
   "cell_type": "markdown",
   "id": "da2c4fec",
   "metadata": {},
   "source": [
    "$ISALNUMERIC$\n",
    "\n",
    "\n",
    "    - Returns True if all the characters are numeric (0-9), otherwise False."
   ]
  },
  {
   "cell_type": "code",
   "execution_count": 32,
   "id": "5f0866c8",
   "metadata": {},
   "outputs": [
    {
     "data": {
      "text/plain": [
       "True"
      ]
     },
     "execution_count": 32,
     "metadata": {},
     "output_type": "execute_result"
    }
   ],
   "source": [
    "str1=\"123456789\"\n",
    "str1.isnumeric()"
   ]
  },
  {
   "cell_type": "code",
   "execution_count": 33,
   "id": "59c3422c",
   "metadata": {},
   "outputs": [
    {
     "data": {
      "text/plain": [
       "False"
      ]
     },
     "execution_count": 33,
     "metadata": {},
     "output_type": "execute_result"
    }
   ],
   "source": [
    "str1=\"123456789PGR\"\n",
    "str1.isnumeric()"
   ]
  },
  {
   "cell_type": "markdown",
   "id": "e0a87e2b",
   "metadata": {},
   "source": [
    "$SPLIT$\n",
    "\n",
    "\n",
    "    - The string manipulation function in Python used to break down\n",
    "    - A bigger string into several smaller strings is called the split() function in Python.  \n",
    "    - The split() function returns the strings as a list."
   ]
  },
  {
   "cell_type": "code",
   "execution_count": 34,
   "id": "2353e8f4",
   "metadata": {},
   "outputs": [
    {
     "data": {
      "text/plain": [
       "['hai', 'how', 'are', 'you']"
      ]
     },
     "execution_count": 34,
     "metadata": {},
     "output_type": "execute_result"
    }
   ],
   "source": [
    "str1='hai how are you'\n",
    "str1.split()"
   ]
  },
  {
   "cell_type": "code",
   "execution_count": 36,
   "id": "d5d89345",
   "metadata": {},
   "outputs": [
    {
     "data": {
      "text/plain": [
       "['h', 'i how ', 're you']"
      ]
     },
     "execution_count": 36,
     "metadata": {},
     "output_type": "execute_result"
    }
   ],
   "source": [
    "str1='hai how are you'\n",
    "str1.split('a')"
   ]
  }
 ],
 "metadata": {
  "kernelspec": {
   "display_name": "Python 3 (ipykernel)",
   "language": "python",
   "name": "python3"
  },
  "language_info": {
   "codemirror_mode": {
    "name": "ipython",
    "version": 3
   },
   "file_extension": ".py",
   "mimetype": "text/x-python",
   "name": "python",
   "nbconvert_exporter": "python",
   "pygments_lexer": "ipython3",
   "version": "3.11.5"
  }
 },
 "nbformat": 4,
 "nbformat_minor": 5
}
