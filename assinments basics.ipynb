{
 "cells": [
  {
   "cell_type": "code",
   "execution_count": 1,
   "id": "f89b723f",
   "metadata": {},
   "outputs": [
    {
     "name": "stdout",
     "output_type": "stream",
     "text": [
      "enter a value15\n",
      "the square of15 is225\n"
     ]
    }
   ],
   "source": [
    "number=eval(input(\"enter a value\"))\n",
    "square=number*number\n",
    "print(\"the square of{} is{}\".format(number,square))"
   ]
  },
  {
   "cell_type": "code",
   "execution_count": 2,
   "id": "51a51039",
   "metadata": {},
   "outputs": [
    {
     "name": "stdout",
     "output_type": "stream",
     "text": [
      "enter a number:25\n",
      "25---50---75---100---125\n"
     ]
    }
   ],
   "source": [
    "x=eval(input(\"enter a number:\"))\n",
    "print(x,2*x,3*x,4*x,5*x,sep='---')"
   ]
  },
  {
   "cell_type": "code",
   "execution_count": 3,
   "id": "c894c62f",
   "metadata": {},
   "outputs": [
    {
     "name": "stdout",
     "output_type": "stream",
     "text": [
      "enter a weight in kilograms55\n",
      "55.0 kilograms is equal to 110.0 pounds.\n"
     ]
    }
   ],
   "source": [
    "weight_in_kilograms=float(input(\"enter a weight in kilograms\"))\n",
    "weight_in_pounds=weight_in_kilograms*2\n",
    "print(f\"{weight_in_kilograms} kilograms is equal to {weight_in_pounds} pounds.\")"
   ]
  },
  {
   "cell_type": "code",
   "execution_count": 8,
   "id": "fdadb7e9",
   "metadata": {},
   "outputs": [
    {
     "name": "stdout",
     "output_type": "stream",
     "text": [
      "enter the price of the meal:500\n",
      "enter the tip percentage you want to leave:100\n",
      "bill of meal: 500.0 total_bill: 1000.0\n"
     ]
    }
   ],
   "source": [
    "meal_price=float(input(\"enter the price of the meal:\"))\n",
    "tip_percentage=float(input(\"enter the tip percentage you want to leave:\"))\n",
    "total_bill=meal_price/tip_percentage*100\n",
    "p=meal_price+total_bill\n",
    "print(\"bill of meal:\",meal_price,\"total_bill:\",p)"
   ]
  },
  {
   "cell_type": "code",
   "execution_count": 9,
   "id": "3e83ae56",
   "metadata": {
    "scrolled": true
   },
   "outputs": [
    {
     "name": "stdout",
     "output_type": "stream",
     "text": [
      "enter the first num20\n",
      "enter the second num30\n",
      "enter the third num40\n",
      "total: 90\n",
      "average: 30.0\n"
     ]
    }
   ],
   "source": [
    "num1=eval(input(\"enter the first num\"))\n",
    "num2=eval(input(\"enter the second num\"))\n",
    "num3=eval(input(\"enter the third num\"))\n",
    "total=num1+num2+num3\n",
    "average=total/3\n",
    "print(\"total:\",total)\n",
    "print(\"average:\",average)"
   ]
  },
  {
   "cell_type": "code",
   "execution_count": null,
   "id": "012e4cb7",
   "metadata": {},
   "outputs": [],
   "source": []
  }
 ],
 "metadata": {
  "kernelspec": {
   "display_name": "Python 3 (ipykernel)",
   "language": "python",
   "name": "python3"
  },
  "language_info": {
   "codemirror_mode": {
    "name": "ipython",
    "version": 3
   },
   "file_extension": ".py",
   "mimetype": "text/x-python",
   "name": "python",
   "nbconvert_exporter": "python",
   "pygments_lexer": "ipython3",
   "version": "3.11.5"
  }
 },
 "nbformat": 4,
 "nbformat_minor": 5
}
