{
 "cells": [
  {
   "cell_type": "code",
   "execution_count": null,
   "id": "7a970301",
   "metadata": {},
   "outputs": [],
   "source": [
    "- basicsyntax\n",
    "- conditionalstatements\n",
    "- Try-exception\n",
    "- function\n",
    "- loop\n",
    "  .for \n",
    "  .while"
   ]
  },
  {
   "cell_type": "markdown",
   "id": "e37ace5a",
   "metadata": {},
   "source": [
    ". you will be in the loop\n",
    "\n",
    ". when you will enter into the loop\n",
    "\n",
    ". how much time you will stay in the loop\n",
    "\n",
    ". how you will come out of the from the loop"
   ]
  },
  {
   "cell_type": "markdown",
   "id": "2d6be132",
   "metadata": {},
   "source": [
    "-Intialization\n",
    "\n",
    "-increment/decrement\n",
    "\n",
    "-condition to stop the loop"
   ]
  },
  {
   "cell_type": "code",
   "execution_count": null,
   "id": "d32fed58",
   "metadata": {},
   "outputs": [],
   "source": [
    "# want to print first 10 numbers\n",
    "# intial point:0\n",
    "#increment\n",
    "#cond=10"
   ]
  },
  {
   "cell_type": "code",
   "execution_count": null,
   "id": "5cf92efb",
   "metadata": {},
   "outputs": [],
   "source": [
    "i=0\n",
    "i=1\n",
    "i=2\n",
    "i=3\n",
    "i=4"
   ]
  },
  {
   "cell_type": "markdown",
   "id": "c08b4a0c",
   "metadata": {},
   "source": [
    "Pattern -1"
   ]
  },
  {
   "cell_type": "code",
   "execution_count": null,
   "id": "1abca2fe",
   "metadata": {},
   "outputs": [],
   "source": [
    "for i in range(stop):\n",
    "\n",
    "- in the bracket if we have only single value that is consider as stop value\n",
    "- the default start value is =0\n",
    "- python index always start with=0\n",
    "- if direction sign is not mentioned: increment (+) sign\n",
    "- if direction is positive side then end=stop-1"
   ]
  },
  {
   "cell_type": "code",
   "execution_count": 72,
   "id": "09e174e4",
   "metadata": {},
   "outputs": [
    {
     "name": "stdout",
     "output_type": "stream",
     "text": [
      "0\n",
      "1\n",
      "2\n",
      "3\n",
      "4\n",
      "5\n",
      "6\n",
      "7\n",
      "8\n",
      "9\n"
     ]
    }
   ],
   "source": [
    "for i in range(10):\n",
    "    print(i)\n",
    "    \n",
    "# start=0\n",
    "# direc=+\n",
    "# end=stop-1=10-1=9"
   ]
  },
  {
   "cell_type": "code",
   "execution_count": 11,
   "id": "0cfd8584",
   "metadata": {},
   "outputs": [
    {
     "name": "stdout",
     "output_type": "stream",
     "text": [
      "0\n",
      "1\n",
      "2\n",
      "3\n",
      "4\n",
      "5\n",
      "6\n",
      "7\n",
      "8\n",
      "9\n",
      "10\n",
      "11\n",
      "12\n",
      "13\n",
      "14\n",
      "15\n",
      "16\n",
      "17\n",
      "18\n",
      "19\n"
     ]
    }
   ],
   "source": [
    "for i in range(20):\n",
    "    print(i)"
   ]
  },
  {
   "cell_type": "code",
   "execution_count": 12,
   "id": "ab0e8f90",
   "metadata": {},
   "outputs": [
    {
     "name": "stdout",
     "output_type": "stream",
     "text": [
      "0\n",
      "1\n",
      "2\n"
     ]
    }
   ],
   "source": [
    "print(0)\n",
    "print(1)\n",
    "print(2)\n",
    "\n",
    "# generalised: print(i)"
   ]
  },
  {
   "cell_type": "markdown",
   "id": "2358f81d",
   "metadata": {},
   "source": [
    "-intialization\n",
    "\n",
    "-increment/decrement\n",
    "\n",
    "-condition\n",
    "\n",
    "for i in range(20)        # this three lines comes in sigle line  # for loop "
   ]
  },
  {
   "cell_type": "code",
   "execution_count": null,
   "id": "99effe9f",
   "metadata": {},
   "outputs": [],
   "source": [
    "print(i,end='')"
   ]
  },
  {
   "cell_type": "code",
   "execution_count": 14,
   "id": "538d1224",
   "metadata": {},
   "outputs": [
    {
     "name": "stdout",
     "output_type": "stream",
     "text": [
      "0  1  2  3  4  5  6  7  8  9  10  11  12  13  14  15  16  17  18  19  20  21  22  23  24  25  26  27  28  29  "
     ]
    }
   ],
   "source": [
    "for i in range(30):\n",
    "    print(i,end='  ')"
   ]
  },
  {
   "cell_type": "markdown",
   "id": "b151851a",
   "metadata": {},
   "source": [
    "***Pattern-2***"
   ]
  },
  {
   "cell_type": "markdown",
   "id": "b5a25b7f",
   "metadata": {},
   "source": [
    "for i in range(start,stop)\n",
    "\n",
    "-start: start of the loop, intial point\n",
    "\n",
    "-direction sign not mentioned: +ve direction i.e.increment"
   ]
  },
  {
   "cell_type": "code",
   "execution_count": 15,
   "id": "16cfac63",
   "metadata": {},
   "outputs": [
    {
     "name": "stdout",
     "output_type": "stream",
     "text": [
      "30  31  32  33  34  35  36  37  38  39  "
     ]
    }
   ],
   "source": [
    "for i in range(30,40):\n",
    "    print(i,end='  ')"
   ]
  },
  {
   "cell_type": "markdown",
   "id": "508587d7",
   "metadata": {},
   "source": [
    "***Pattern-3***"
   ]
  },
  {
   "cell_type": "markdown",
   "id": "454b2fec",
   "metadata": {},
   "source": [
    "for i in range(start,stop,step)\n",
    "\n",
    "- start: start of the loop,intial point\n",
    "\n",
    "    - direction:what is sign of step value, that is the direction\n",
    "    \n",
    "    - direction will not decide by satrt and stop value\n",
    "    \n",
    "    - direction will provided by step value\n",
    "\n",
    "- if step size is positive direction\n",
    "\n",
    "        end=stop-1\n",
    "\n",
    "-if step size is negative direction\n",
    "\n",
    "        end=stop-1"
   ]
  },
  {
   "cell_type": "code",
   "execution_count": 57,
   "id": "39387f1d",
   "metadata": {},
   "outputs": [
    {
     "name": "stdout",
     "output_type": "stream",
     "text": [
      "2  3  4  5  6  7  "
     ]
    }
   ],
   "source": [
    "for i in range(2,8,1):\n",
    "    print(i,end='  ')\n",
    "    \n",
    "# start=2\n",
    "# direction: step=+2\n",
    "# end=stop-1=20-1=19\n",
    "\n",
    "# 2 4 6 8 10 12 14 16 18 <20>"
   ]
  },
  {
   "cell_type": "code",
   "execution_count": 3,
   "id": "f2184de3",
   "metadata": {},
   "outputs": [
    {
     "name": "stdout",
     "output_type": "stream",
     "text": [
      "-2  -4  -6  -8  -10  -12  -14  -16  -18  "
     ]
    }
   ],
   "source": [
    "for i in range(-2,-20,-2):\n",
    "    print(i,end=('  '))\n",
    "    \n",
    "# start=-2\n",
    "# direction: step=-2\n",
    "# end=stop+1= -+1=-9\n",
    "# is this pos"
   ]
  },
  {
   "cell_type": "code",
   "execution_count": 19,
   "id": "933eaba2",
   "metadata": {},
   "outputs": [],
   "source": [
    "for i in range(8,20,-2):\n",
    "    print(i,end='  ')\n",
    "\n",
    "# start=8\n",
    "# direc=step=-2:-neg"
   ]
  },
  {
   "cell_type": "code",
   "execution_count": null,
   "id": "5cddb092",
   "metadata": {},
   "outputs": [],
   "source": [
    "range(3,25,3)    # start=3   pos end=25-1=24 p\n",
    "range(3,25,-3)   # start=3   pos end=25+1=26 not possible\n",
    "range(3,-25,3)   # start=3   pos end=25-1=24 np\n",
    "range(3,-25,-3)  # start=3   ng end=25-1=-24\n",
    "range(-3,25,3)\n",
    "range(-3,-25,3)\n",
    "range(-3,25,-3)\n",
    "range(-3,-25,-3)"
   ]
  },
  {
   "cell_type": "code",
   "execution_count": 20,
   "id": "f2492913",
   "metadata": {},
   "outputs": [
    {
     "name": "stdout",
     "output_type": "stream",
     "text": [
      "3 6 9 12 15 18 21 24 "
     ]
    }
   ],
   "source": [
    "for i in range(3,25,3):\n",
    "    print(i,end=' ')"
   ]
  },
  {
   "cell_type": "code",
   "execution_count": 4,
   "id": "05da064e",
   "metadata": {},
   "outputs": [],
   "source": [
    "for i in range(3,25,-3):\n",
    "    print(i,end=' ')"
   ]
  },
  {
   "cell_type": "code",
   "execution_count": 5,
   "id": "3ff8758a",
   "metadata": {},
   "outputs": [],
   "source": [
    "for i in range(3,-25,3):\n",
    "    print(i,end=' ')"
   ]
  },
  {
   "cell_type": "code",
   "execution_count": 6,
   "id": "b9fc733a",
   "metadata": {},
   "outputs": [
    {
     "name": "stdout",
     "output_type": "stream",
     "text": [
      "3 0 -3 -6 -9 -12 -15 -18 -21 -24 "
     ]
    }
   ],
   "source": [
    "for i in range(3,-25,-3):\n",
    "    print(i,end=' ')"
   ]
  },
  {
   "cell_type": "code",
   "execution_count": 7,
   "id": "e0b71da4",
   "metadata": {},
   "outputs": [
    {
     "name": "stdout",
     "output_type": "stream",
     "text": [
      "-3 0 3 6 9 12 15 18 21 24 "
     ]
    }
   ],
   "source": [
    "for i in range(-3,25,3):\n",
    "    print(i,end=' ')"
   ]
  },
  {
   "cell_type": "code",
   "execution_count": 8,
   "id": "d7b1cf95",
   "metadata": {},
   "outputs": [],
   "source": [
    "for i in range(-3,-25,3):\n",
    "    print(i,end=' ')"
   ]
  },
  {
   "cell_type": "code",
   "execution_count": 27,
   "id": "18f03a98",
   "metadata": {},
   "outputs": [],
   "source": [
    "for i in range(-3,25,-3):\n",
    "    print(i,end=' ')"
   ]
  },
  {
   "cell_type": "code",
   "execution_count": 28,
   "id": "613dff56",
   "metadata": {},
   "outputs": [
    {
     "name": "stdout",
     "output_type": "stream",
     "text": [
      "-3 -6 -9 -12 -15 -18 -21 -24 "
     ]
    }
   ],
   "source": [
    "for i in range(-3,-25,-3):\n",
    "    print(i,end=' ')"
   ]
  },
  {
   "cell_type": "code",
   "execution_count": 3,
   "id": "ab88adde",
   "metadata": {},
   "outputs": [
    {
     "name": "stdout",
     "output_type": "stream",
     "text": [
      "hello\n",
      "hello\n",
      "hello\n"
     ]
    }
   ],
   "source": [
    "# wap print : hello 3 times\n",
    " \n",
    "for i in range(3):\n",
    "    print('hello')"
   ]
  },
  {
   "cell_type": "code",
   "execution_count": 59,
   "id": "be110f58",
   "metadata": {},
   "outputs": [
    {
     "name": "stdout",
     "output_type": "stream",
     "text": [
      "hai\n",
      "hello\n",
      "hello\n",
      "hello\n",
      "how do you do\n"
     ]
    }
   ],
   "source": [
    "print('hai')\n",
    "for i in range(3):\n",
    "    print('hello')\n",
    "print('how do you do')"
   ]
  },
  {
   "cell_type": "code",
   "execution_count": 5,
   "id": "ef9e73fe",
   "metadata": {},
   "outputs": [
    {
     "name": "stdout",
     "output_type": "stream",
     "text": [
      "A\n",
      "A\n",
      "A\n",
      "B\n",
      "B\n",
      "C\n",
      "C\n",
      "C\n"
     ]
    }
   ],
   "source": [
    "# A\n",
    "# A\n",
    "# A\n",
    "# B\n",
    "# B\n",
    "# C\n",
    "# C\n",
    "# C\n",
    "\n",
    "\n",
    "\n",
    "for i in range(3):\n",
    "    print('A')\n",
    "for i in range(2):\n",
    "    print('B')\n",
    "for i in range(3):\n",
    "    print('C')\n",
    "    "
   ]
  },
  {
   "cell_type": "code",
   "execution_count": 8,
   "id": "2e31ffb1",
   "metadata": {},
   "outputs": [
    {
     "name": "stdout",
     "output_type": "stream",
     "text": [
      "A\n",
      "B\n",
      "A\n",
      "B\n",
      "A\n",
      "B\n",
      "C\n",
      "C\n",
      "C\n"
     ]
    }
   ],
   "source": [
    "for i in range(3):\n",
    "    print('A')\n",
    "    print('B')\n",
    "for i in range(3):\n",
    "    print('C')"
   ]
  },
  {
   "cell_type": "code",
   "execution_count": 11,
   "id": "d7fd1e82",
   "metadata": {},
   "outputs": [
    {
     "name": "stdout",
     "output_type": "stream",
     "text": [
      "the square of 10 is 100\n",
      "the square of 11 is 121\n",
      "the square of 12 is 144\n",
      "the square of 13 is 169\n",
      "the square of 14 is 196\n"
     ]
    }
   ],
   "source": [
    "# wap ask the user to get the square of the number\n",
    "# between 10 to 15\n",
    "# square of 10 is        direct way\n",
    "\n",
    "\n",
    "\n",
    "for i in range(10,15):\n",
    "    print (\"the square of {} is {}\".format(i,i*i))\n",
    "    "
   ]
  },
  {
   "cell_type": "code",
   "execution_count": 13,
   "id": "79c46c07",
   "metadata": {},
   "outputs": [
    {
     "name": "stdout",
     "output_type": "stream",
     "text": [
      "enter the number:10\n",
      "enter the number:16\n",
      "the square of 10 is 100\n",
      "the square of 11 is 121\n",
      "the square of 12 is 144\n",
      "the square of 13 is 169\n",
      "the square of 14 is 196\n",
      "the square of 15 is 225\n"
     ]
    }
   ],
   "source": [
    "# the same above question\n",
    "# take the number form keyboard                         keybaoard take value\n",
    "# num1=eval(input())  \n",
    "# num2=eval(input())   \n",
    "# replace 10,16 in for loop with variable num1,num2\n",
    "\n",
    "\n",
    "num1=eval(input(\"enter the number:\"))\n",
    "num2=eval(input(\"enter the number:\"))\n",
    "for i in range(num1,num2):\n",
    "    print (\"the square of {} is {}\".format(i,i*i))\n"
   ]
  },
  {
   "cell_type": "code",
   "execution_count": 89,
   "id": "aa0a2240",
   "metadata": {},
   "outputs": [
    {
     "name": "stdout",
     "output_type": "stream",
     "text": [
      "enter the number:50\n",
      "enter the number:60\n",
      "the square of 50 is 2500\n",
      "the square of 51 is 2601\n",
      "the square of 52 is 2704\n",
      "the square of 53 is 2809\n",
      "the square of 54 is 2916\n",
      "the square of 55 is 3025\n",
      "the square of 56 is 3136\n",
      "the square of 57 is 3249\n",
      "the square of 58 is 3364\n",
      "the square of 59 is 3481\n"
     ]
    }
   ],
   "source": [
    "# num1=eval(input(\"enter the number:\"))\n",
    "# num2=eval(input(\"enter the number:\"))\n",
    "\n",
    "num1=eval(input(\"enter the number:\"))\n",
    "num2=eval(input(\"enter the number:\"))\n",
    "for i in range(num1,num2):\n",
    "    print (\"the square of {} is {}\".format(i,i*i))\n"
   ]
  },
  {
   "cell_type": "code",
   "execution_count": 76,
   "id": "ebc080e2",
   "metadata": {},
   "outputs": [
    {
     "name": "stdout",
     "output_type": "stream",
     "text": [
      "enter start number12\n",
      "enter stop number15\n",
      "the square of 12 is 144\n",
      "the square of 13 is 169\n",
      "the square of 14 is 196\n"
     ]
    }
   ],
   "source": [
    "# function with out arguments\n",
    "\n",
    "\n",
    "def square():\n",
    "    num1=eval(input('enter start number'))\n",
    "    num2=eval(input('enter stop number'))\n",
    "    \n",
    "    for i in range(num1,num2):\n",
    "        print (\"the square of {} is {}\".format(i,i*i))\n",
    "\n",
    "square()\n"
   ]
  },
  {
   "cell_type": "code",
   "execution_count": 80,
   "id": "119545d6",
   "metadata": {},
   "outputs": [
    {
     "name": "stdout",
     "output_type": "stream",
     "text": [
      "enter start number:80\n",
      "enter stop number:85\n",
      "the square of 80 is 6400\n",
      "the square of 81 is 6561\n",
      "the square of 82 is 6724\n",
      "the square of 83 is 6889\n",
      "the square of 84 is 7056\n"
     ]
    }
   ],
   "source": [
    "def square1():\n",
    "    num1=eval(input(\"enter start number:\"))\n",
    "    num2=eval(input(\"enter stop number:\"))\n",
    "    \n",
    "    for i in range(num1,num2):\n",
    "        print(\"the square of {} is {}\".format(i,i*i))\n",
    "square1()"
   ]
  },
  {
   "cell_type": "code",
   "execution_count": 88,
   "id": "f188446b",
   "metadata": {},
   "outputs": [
    {
     "name": "stdout",
     "output_type": "stream",
     "text": [
      "the square of 10 is 100\n",
      "the square of 11 is 121\n",
      "the square of 12 is 144\n",
      "the square of 13 is 169\n",
      "the square of 14 is 196\n",
      "the square of 15 is 225\n",
      "the square of 16 is 256\n",
      "the square of 17 is 289\n",
      "the square of 18 is 324\n",
      "the square of 19 is 361\n"
     ]
    }
   ],
   "source": [
    "# function with arguments\n",
    "def square1(num1,num2):\n",
    "    \n",
    "    for i in range(num1,num2):\n",
    "        print(\"the square of {} is {}\".format(i,i*i))\n",
    "square1(10,20)"
   ]
  },
  {
   "cell_type": "code",
   "execution_count": 82,
   "id": "4f3b71ab",
   "metadata": {},
   "outputs": [
    {
     "name": "stdout",
     "output_type": "stream",
     "text": [
      "enter the number:4\n",
      "the square of 4 is 16\n",
      "enter the number:6\n",
      "the square of 6 is 36\n",
      "enter the number:8\n",
      "the square of 8 is 64\n",
      "enter the number:10\n",
      "the square of 10 is 100\n",
      "enter the number:25\n",
      "the square of 25 is 625\n"
     ]
    }
   ],
   "source": [
    "#wap ask the user to print square of the 5 number \n",
    "# and this 5 number you need ask the user every time\n",
    " \n",
    "for i in range(5):\n",
    "    num=eval(input(\"enter the number:\"))\n",
    "    print(\"the square of {} is {}\".format(num,num*num))"
   ]
  },
  {
   "cell_type": "code",
   "execution_count": 32,
   "id": "5965dd9f",
   "metadata": {},
   "outputs": [
    {
     "name": "stdout",
     "output_type": "stream",
     "text": [
      "the square of 16 is 256\n",
      "the square of 9 is 81\n",
      "the square of 17 is 289\n",
      "the square of 9 is 81\n",
      "the square of 4 is 16\n"
     ]
    }
   ],
   "source": [
    "# wap ask the user to print 5 times square of a number\n",
    "# this time you need to take every time a random number between 1 to 20\n",
    "import random\n",
    "for i in range(5):\n",
    "    num=random.randint(1,20)\n",
    "    print(\"the square of {} is {}\".format(num,num*num))\n"
   ]
  },
  {
   "cell_type": "code",
   "execution_count": 61,
   "id": "240aa412",
   "metadata": {},
   "outputs": [
    {
     "name": "stdout",
     "output_type": "stream",
     "text": [
      "the square of 8 is 64\n",
      "the square of 5 is 25\n",
      "the square of 3 is 9\n",
      "the square of 8 is 64\n",
      "the square of 9 is 81\n"
     ]
    }
   ],
   "source": [
    "import random\n",
    "for i in range(5):\n",
    "    num=random.randint(1,10)\n",
    "    print(\"the square of {} is {}\".format(num,num*num))\n"
   ]
  },
  {
   "cell_type": "code",
   "execution_count": 10,
   "id": "6b08b7b1",
   "metadata": {},
   "outputs": [
    {
     "name": "stdout",
     "output_type": "stream",
     "text": [
      "the given 10 is even\n",
      "the given 11 is odd\n",
      "the given 12 is even\n",
      "the given 13 is odd\n",
      "the given 14 is even\n",
      "the given 15 is odd\n",
      "the given 16 is even\n",
      "the given 17 is odd\n",
      "the given 18 is even\n",
      "the given 19 is odd\n",
      "the given 20 is even\n",
      "the given 21 is odd\n",
      "the given 22 is even\n",
      "the given 23 is odd\n",
      "the given 24 is even\n",
      "the given 25 is odd\n",
      "the given 26 is even\n",
      "the given 27 is odd\n",
      "the given 28 is even\n",
      "the given 29 is odd\n"
     ]
    }
   ],
   "source": [
    "# wap ask the user print the given number is even or odd\n",
    "# you need to take  the number between 10to30 \n",
    "\n",
    "# lterate the loop bewtween 10 and 30\n",
    "# every time apply if i%2==0: print even\n",
    "#             else:print odd\n",
    "\n",
    "\n",
    "for num in range(10,30):\n",
    "    if num%2==0:\n",
    "        print(\"the given {} is even\".format(num))\n",
    "    else:\n",
    "        print(\"the given {} is odd\".format(num))\n",
    "\n"
   ]
  },
  {
   "cell_type": "code",
   "execution_count": 13,
   "id": "7bb7579c",
   "metadata": {},
   "outputs": [
    {
     "name": "stdout",
     "output_type": "stream",
     "text": [
      "the given is even 20\n",
      "the given is even 12\n",
      "the given is odd 25\n",
      "the given is even 22\n",
      "the given is even 12\n"
     ]
    }
   ],
   "source": [
    "#wap ask the user print the given number is even or odd\n",
    "# you need to take the number bewtween randomly between 10 to 30\n",
    "# this process you need to 5 time\n",
    "# create a for loop to run 5 times\n",
    "#every time get the random nunber\n",
    "# finally apply if-else condtion: it is an even or odd\n",
    "\n",
    "import random\n",
    "for num in range(5):\n",
    "    num=random.randint(10,30) \n",
    "    if num%2==0:\n",
    "        print(\"the given is even {}\".format(num))\n",
    "    else:\n",
    "        print(\"the given is odd {}\".format(num))\n",
    "\n"
   ]
  },
  {
   "cell_type": "code",
   "execution_count": 14,
   "id": "2b30a4a2",
   "metadata": {},
   "outputs": [
    {
     "name": "stdout",
     "output_type": "stream",
     "text": [
      "the given 16 is even\n",
      "the given 12 is even\n",
      "the given 22 is even\n",
      "the given 13 is odd\n",
      "the given 16 is even\n"
     ]
    }
   ],
   "source": [
    "def even_odd(num):\n",
    "    if num%2==0:\n",
    "        print(\"the given {} is even\".format(num))\n",
    "    else:\n",
    "        print(\"the given {} is odd\".format(num))\n",
    "\n",
    "import random\n",
    "for i in range(5):\n",
    "    num=random.randint(10,30) \n",
    "    even_odd(num) "
   ]
  },
  {
   "cell_type": "code",
   "execution_count": 15,
   "id": "2b7ae466",
   "metadata": {},
   "outputs": [],
   "source": [
    "# 5 lines \n",
    "# take a random number from random package between 1 to 10\n",
    "# ============== you need to repeat 3 times=============\n",
    "# ask the user enter a number between 1 to 10\n",
    "#if the number == random number:\n",
    "#     print('you won')\n",
    "# else:\n",
    "# print('you loss')"
   ]
  },
  {
   "cell_type": "code",
   "execution_count": 99,
   "id": "20e6d908",
   "metadata": {},
   "outputs": [
    {
     "name": "stdout",
     "output_type": "stream",
     "text": [
      "enter number between 1 and 10:8\n",
      "you lost\n",
      "enter number between 1 and 10:7\n",
      "you lost\n",
      "enter number between 1 and 10:10\n",
      "you lost\n"
     ]
    }
   ],
   "source": [
    "import random\n",
    "random_num=random.randint(1,10)\n",
    "for i in range(3):\n",
    "    user_num=eval(input(\"enter number between 1 and 10:\"))\n",
    "    if user_num==random_num:\n",
    "        print(\"you won\")\n",
    "        break\n",
    "    else:\n",
    "        print(\"you lost\")"
   ]
  },
  {
   "cell_type": "code",
   "execution_count": 68,
   "id": "934865e8",
   "metadata": {},
   "outputs": [
    {
     "name": "stdout",
     "output_type": "stream",
     "text": [
      "enter number between 1 and 10:5\n",
      "you won\n"
     ]
    }
   ],
   "source": [
    "import random\n",
    "for i in range(3):\n",
    "    random_num=random.randint(1,10)\n",
    "    user_num=eval(input(\"enter number between 1 and 10:\"))\n",
    "    if user_num==random_num:\n",
    "        print(\"you won\")\n",
    "        break\n",
    "    else:\n",
    "        print(\"you loss\")"
   ]
  },
  {
   "cell_type": "code",
   "execution_count": null,
   "id": "3b936009",
   "metadata": {},
   "outputs": [],
   "source": [
    "# improvise above code\n",
    "# you need to mention the numbe5r of chances left\n",
    "# the user whenever he fail/lose\n",
    "\n",
    "\n",
    "\n",
    "import random\n",
    "random_num=random.randint(1,10)\n",
    "print(random_num)\n",
    "for i in range(3):\n",
    "    user_num=eval(input(\"enter number between 1 and 10:\"))\n",
    "    if user_num==random_num:\n",
    "        print(\"you won\")\n",
    "        break\n",
    "    else:\n",
    "        print(\"you loss\")\n",
    "        print(\"the number of chances left is:\",2-i)      2 means chances"
   ]
  },
  {
   "cell_type": "code",
   "execution_count": 64,
   "id": "83831a99",
   "metadata": {},
   "outputs": [
    {
     "name": "stdout",
     "output_type": "stream",
     "text": [
      "enter how many chances you want:5\n",
      "enter number between 1 and 10:1\n",
      "you won\n"
     ]
    }
   ],
   "source": [
    "import random\n",
    "random_num=random.randint(1,10)\n",
    "chances=eval(input(\"enter how many chances you want:\"))\n",
    "for i in range(1):\n",
    "    user_num=eval(input(\"enter number between 1 and 10:\"))\n",
    "    if user_num==random_num:\n",
    "        print(\"you won\")\n",
    "        break\n",
    "    else:\n",
    "        print(\"you loss\")\n",
    "        print(\"the number of chances left is:\".format(chances-1-i))"
   ]
  },
  {
   "cell_type": "code",
   "execution_count": 103,
   "id": "27df4dcc",
   "metadata": {},
   "outputs": [
    {
     "name": "stdout",
     "output_type": "stream",
     "text": [
      "1\n",
      "enter how many chances you want:4\n",
      "enter number between 1 and 10:1\n",
      "you won\n"
     ]
    }
   ],
   "source": [
    "# improvise above code\n",
    "# whenever the user lost all the chances\n",
    "# it should print all the chances are over\n",
    "# print('ple try again after 10mins')\n",
    "\n",
    "import random\n",
    "random_num=random.randint(1,10)\n",
    "print(random_num)\n",
    "chances=eval(input(\"enter how many chances you want:\"))\n",
    "for i in range(chances):\n",
    "    user_num=eval(input(\"enter number between 1 and 10:\"))\n",
    "    if user_num==random_num:\n",
    "        print(\"you won\")\n",
    "        break\n",
    "    elif chances-1-i==0:\n",
    "        print(\"pls try again your all chances are over\")\n",
    "    else:\n",
    "        print(\"you lost\")\n",
    "        print(\"the number of chances left is:\",chances-1-i)"
   ]
  },
  {
   "cell_type": "code",
   "execution_count": 104,
   "id": "8867712a",
   "metadata": {},
   "outputs": [
    {
     "name": "stdout",
     "output_type": "stream",
     "text": [
      "10\n",
      "enter how many chances you want:5\n",
      "enter number between 1 and 10:6\n",
      "you lost\n",
      "the number of chances left is: 4\n",
      "enter number between 1 and 10:4\n",
      "you lost\n",
      "the number of chances left is: 3\n",
      "enter number between 1 and 10:5\n",
      "you lost\n",
      "the number of chances left is: 2\n",
      "enter number between 1 and 10:2\n",
      "you lost\n",
      "the number of chances left is: 1\n",
      "enter number between 1 and 10:2\n",
      "pls try again your all chances are over\n"
     ]
    }
   ],
   "source": [
    "import random\n",
    "random_num=random.randint(1,10)\n",
    "print(random_num)\n",
    "chances=eval(input(\"enter how many chances you want:\"))\n",
    "for i in range(chances):\n",
    "    user_num=eval(input(\"enter number between 1 and 10:\"))\n",
    "    if user_num==random_num:\n",
    "        print(\"you won\")\n",
    "        break\n",
    "    elif chances-1-i==0:\n",
    "        print(\"pls try again your all chances are over\")\n",
    "    else:\n",
    "        print(\"you lost\")\n",
    "        print(\"the number of chances left is:\",chances-1-i)"
   ]
  },
  {
   "cell_type": "code",
   "execution_count": 7,
   "id": "69d29fa6",
   "metadata": {},
   "outputs": [
    {
     "name": "stdout",
     "output_type": "stream",
     "text": [
      "0+1 is:\n",
      "1\n",
      "1+2 is:\n",
      "3\n",
      "3+3 is:\n",
      "6\n",
      "6+4 is:\n",
      "10\n",
      "10+5 is:\n",
      "15\n",
      "15+6 is:\n",
      "21\n",
      "21+7 is:\n",
      "28\n",
      "28+8 is:\n",
      "36\n",
      "36+9 is:\n",
      "45\n",
      "45+10 is:\n",
      "55\n",
      "the sum of first 10 natural numbers is: 55\n"
     ]
    }
   ],
   "source": [
    "# wap ask the user get the some of 10 natural numbers                      ***# interview question***\n",
    "#1+2+3+4+5+6+7+8+9+10=55\n",
    "\n",
    "summ=0\n",
    "for i in range (1,11): \n",
    "    print (\"{}+{} is:\".format(summ,i))          # i=2   summ=1    sum=1+2=3\n",
    "    summ=summ+i                           \n",
    "    print(summ)\n",
    "print(\"the sum of first 10 natural numbers is:\",summ)\n",
    "    \n",
    "    \n",
    "# 0+1=1\n",
    "# 1+2=3\n",
    "# 3+3=6\n",
    "# 6+4=10\n",
    "# 10+5=15\n",
    "# 15+6=21\n",
    "# 21+7=28\n",
    "# (sum)+(i)="
   ]
  },
  {
   "cell_type": "code",
   "execution_count": 9,
   "id": "4a91785f",
   "metadata": {},
   "outputs": [
    {
     "name": "stdout",
     "output_type": "stream",
     "text": [
      "0\n",
      "1\n",
      "2\n",
      "3\n",
      "4\n",
      "5\n",
      "6\n",
      "7\n",
      "8\n",
      "9\n"
     ]
    }
   ],
   "source": [
    "for i in range(10):\n",
    "    num=i\n",
    "    print(i)"
   ]
  },
  {
   "cell_type": "markdown",
   "id": "82a46c3d",
   "metadata": {},
   "source": [
    "- whenever if you want implement counter program\n",
    "- summ program\n",
    "- intialize the variable with zero\n",
    "- like: summ=0 or count=0\n",
    "- inside the loop based on the problem update the variable\n",
    "- like: summ=summ+i or count=count+i\n",
    "- like: summ+=i  or count+=i"
   ]
  },
  {
   "cell_type": "code",
   "execution_count": 11,
   "id": "e8561259",
   "metadata": {},
   "outputs": [
    {
     "name": "stdout",
     "output_type": "stream",
     "text": [
      "9\n",
      "the given 22 is even\n",
      "18\n",
      "the given 27 is odd\n",
      "27\n",
      "the given 14 is even\n",
      "36\n",
      "the given 19 is odd\n",
      "45\n",
      "the given 14 is even\n"
     ]
    }
   ],
   "source": [
    "#wap ask the user print the given number is even or odd\n",
    "# you need to take the number bewtween randomly between 10 to 30\n",
    "# this process you need to 5 time\n",
    "# create a for loop to run 5 times\n",
    "#every time get the random nunber\n",
    "# finally apply if-else condtion: it is an even or odd\n",
    "# improvise this problem\n",
    "# by count the number of even and number odds you are getting\n",
    "count=0\n",
    "import random\n",
    "for num in range(5):\n",
    "    num=random.randint(10,30) \n",
    "    count=count+i\n",
    "    print(count)\n",
    "    if num%2==0:\n",
    "        print(\"the given {} is even\".format(num))\n",
    "    else:\n",
    "        print(\"the given {} is odd\".format(num))\n"
   ]
  },
  {
   "cell_type": "code",
   "execution_count": 15,
   "id": "6e704fb5",
   "metadata": {},
   "outputs": [
    {
     "name": "stdout",
     "output_type": "stream",
     "text": [
      "when is odd: 9\n",
      "the given 22 is odd\n",
      "when is odd: 9\n",
      "the given 15 is even\n",
      "when is odd: 9\n",
      "the given 26 is odd\n",
      "when is odd: 9\n",
      "the given 26 is odd\n",
      "when is odd: 9\n",
      "the given 20 is odd\n",
      "4 1\n"
     ]
    }
   ],
   "source": [
    "odd_count=0\n",
    "even_count=0\n",
    "import random\n",
    "for num in range(5):\n",
    "    num=random.randint(10,30)\n",
    "    if num%2==0:\n",
    "        print('when is odd:',i)        \n",
    "        print(\"the given {} is odd\".format(num))\n",
    "        odd_count=odd_count+1\n",
    "    else:\n",
    "        print('when is odd:',i)\n",
    "        print(\"the given {} is even\".format(num))\n",
    "        even_count=even_count+1\n",
    "print(odd_count,even_count)"
   ]
  },
  {
   "cell_type": "code",
   "execution_count": 16,
   "id": "1b1a774a",
   "metadata": {},
   "outputs": [
    {
     "name": "stdout",
     "output_type": "stream",
     "text": [
      "when is odd: 9\n",
      "the given 29 is even\n",
      "when is odd: 9\n",
      "the given 15 is even\n",
      "when is odd: 9\n",
      "the given 16 is odd\n",
      "when is odd: 9\n",
      "the given 17 is even\n",
      "when is odd: 9\n",
      "the given 24 is odd\n",
      "18 27\n"
     ]
    }
   ],
   "source": [
    "odd_count=0\n",
    "even_count=0\n",
    "import random\n",
    "for num in range(5):\n",
    "    num=random.randint(10,30)\n",
    "    if num%2==0:\n",
    "        print('when is odd:',i)        \n",
    "        print(\"the given {} is odd\".format(num))\n",
    "        odd_count=odd_count+i\n",
    "    else:\n",
    "        print('when is odd:',i)\n",
    "        print(\"the given {} is even\".format(num))\n",
    "        even_count=even_count+i\n",
    "print(odd_count,even_count)"
   ]
  },
  {
   "cell_type": "code",
   "execution_count": 73,
   "id": "899cc10d",
   "metadata": {},
   "outputs": [
    {
     "name": "stdout",
     "output_type": "stream",
     "text": [
      "94\n",
      "67\n",
      "91\n",
      "55\n",
      "96\n",
      "76\n",
      "the number of values more than 50 is: 29\n"
     ]
    }
   ],
   "source": [
    "# wap ask the user take a number between 1 to 99\n",
    "# iterate the loop 10 times\n",
    "# count how many times a number is coming and greater than 50\n",
    "\n",
    "import random\n",
    "count=0\n",
    "for i in range(10):\n",
    "    num=random.randint(1,99)\n",
    "    if num>50:\n",
    "        print(num)\n",
    "        count+=i\n",
    "print(\"the number of values more than 50 is:\",count) "
   ]
  },
  {
   "cell_type": "code",
   "execution_count": 28,
   "id": "2dcccb8f",
   "metadata": {},
   "outputs": [
    {
     "name": "stdout",
     "output_type": "stream",
     "text": [
      "enter which number divisior want to know:10\n",
      "10 is divisible by 1\n",
      "10 is divisible by 2\n",
      "10 is divisible by 5\n",
      "10 is divisible by 10\n",
      "the number of divisiors are: 18\n",
      "the number of non divisiors count is: -8\n"
     ]
    }
   ],
   "source": [
    "# number of divisiors program\n",
    "# 10 is divisible by want numbers\n",
    "# 10/1  10/2  10/3  10/4  10/5  10/6  10/7  10/8  10/9  10/10\n",
    "# (num/i)%2==0\n",
    "#5 divisiors:  1 to 5\n",
    "\n",
    "count=0\n",
    "num=eval(input(\"enter which number divisior want to know:\"))\n",
    "for i in range(1,num+1):\n",
    "    if num%i==0:\n",
    "        print(\"{} is divisible by {}\".format(num,i))\n",
    "        count=count+i\n",
    "print(\"the number of divisiors are:\",count)\n",
    "print(\"the number of non divisiors count is:\",(num-count))"
   ]
  },
  {
   "cell_type": "code",
   "execution_count": 37,
   "id": "86cc31f2",
   "metadata": {},
   "outputs": [
    {
     "name": "stdout",
     "output_type": "stream",
     "text": [
      "enter which number divisior want to know:10\n",
      "10 is divisible by 1\n",
      "10 is divisible by 2\n",
      "10 is divisible by 5\n",
      "10 is divisible by 10\n",
      "the number of divisiors are: 0\n",
      "the number of non divisiors count is: 37\n"
     ]
    }
   ],
   "source": [
    "d_count=0\n",
    "nd_count=0\n",
    "num=eval(input(\"enter which number divisior want to know:\"))\n",
    "for i in range(1,num+1):\n",
    "    if num%i==0:\n",
    "        print(\"{} is divisible by {}\".format(num,i))\n",
    "        d_count=d_count+i\n",
    "    else:\n",
    "        nd_count=nd_count+i\n",
    "print(\"the number of divisiors are:\",count)\n",
    "print(\"the number of non divisiors count is:\",(nd_count))"
   ]
  },
  {
   "cell_type": "code",
   "execution_count": null,
   "id": "6cd715db",
   "metadata": {},
   "outputs": [],
   "source": [
    "def counter 2()\n",
    "# ========\n",
    "# ======\n",
    "# return()\n",
    "\n",
    "\n"
   ]
  },
  {
   "cell_type": "code",
   "execution_count": 56,
   "id": "ffa97bf8",
   "metadata": {},
   "outputs": [
    {
     "name": "stdout",
     "output_type": "stream",
     "text": [
      "enter which number divisior want to know5\n",
      "5 is divisible by 1:\n",
      "5 is divisible by 1:\n",
      "2 0\n"
     ]
    }
   ],
   "source": [
    "def condition(num,d_count,nd_count,i):\n",
    "    if num%i==0:\n",
    "        print(\"{} is divisible by {}:\".format(num,1))\n",
    "        d_count=d_count+1\n",
    "    else:\n",
    "        nd_count=nd_count\n",
    "    return(d_count,nd_count)\n",
    "\n",
    "\n",
    "\n",
    "def counter2():\n",
    "    d_count=0\n",
    "    nd_count=0\n",
    "    num=eval(input(\"enter which number divisior want to know\"))\n",
    "    for i in range(1,num+1):\n",
    "        d_count,nd_count=condition(num,d_count,nd_count,i)\n",
    "    return(d_count,nd_count)\n",
    "val1,val2=counter2()\n",
    "print(val1,val2)"
   ]
  },
  {
   "cell_type": "code",
   "execution_count": 53,
   "id": "2f87c306",
   "metadata": {},
   "outputs": [
    {
     "name": "stdout",
     "output_type": "stream",
     "text": [
      "enter which number divisior want to know:5\n",
      "5 is divisible by 1\n",
      "5 is divisible by 5\n",
      "6 9\n"
     ]
    }
   ],
   "source": [
    "def counter2():\n",
    "    d_count=0\n",
    "    nd_count=0\n",
    "    num=eval(input(\"enter which number divisior want to know:\"))\n",
    "    for i in range(1,num+1):\n",
    "        if num%i==0:\n",
    "            print(\"{} is divisible by {}\".format(num,i))\n",
    "            d_count=d_count+i\n",
    "        else:\n",
    "            nd_count=nd_count+i\n",
    "    return(d_count,nd_count)\n",
    "val1,val2=counter2()\n",
    "print(val1,val2)\n"
   ]
  },
  {
   "cell_type": "code",
   "execution_count": null,
   "id": "83733f76",
   "metadata": {},
   "outputs": [],
   "source": [
    "num=eval(input(\"enter which number divisior want to know:\"))\n",
    "def counter():\n",
    "    d_count=0\n",
    "    nd_count=0\n",
    "for i in range(1,num+1):\n",
    "    if num%i==0:\n",
    "        print(\"{} is divisible by {}\".format(num,i))\n",
    "        d_count=d_count+i\n",
    "    else:\n",
    "        nd_count=nd_count+i\n",
    "print(\"the number of divisiors are:\",count)\n",
    "print(\"the number of non divisiors count is:\",(nd_count))"
   ]
  },
  {
   "cell_type": "code",
   "execution_count": null,
   "id": "69ab5659",
   "metadata": {},
   "outputs": [],
   "source": [
    "- whenever if you want implement counter "
   ]
  },
  {
   "cell_type": "code",
   "execution_count": null,
   "id": "e2cbebea",
   "metadata": {},
   "outputs": [],
   "source": [
    "def counter2():\n",
    "    d_count=0\n",
    "    nd_count=0\n",
    "    num=eval(input(\"enter which number divisior want to know:\"))\n",
    "    for i in range(1,num+1):\n",
    "        d_count,nd_count=condition \n",
    "    return(d_count,nd_count)\n",
    "val,val2=counter2()\n",
    "counter2()\n"
   ]
  },
  {
   "cell_type": "code",
   "execution_count": 50,
   "id": "5408b504",
   "metadata": {},
   "outputs": [
    {
     "name": "stdout",
     "output_type": "stream",
     "text": [
      "enter which number divisior want to know:5\n",
      "5 is divisible by 1\n",
      "5 is divisible by 5\n",
      "enter which number divisior want to know:5\n",
      "5 is divisible by 1\n",
      "5 is divisible by 5\n"
     ]
    },
    {
     "data": {
      "text/plain": [
       "(6, 0)"
      ]
     },
     "execution_count": 50,
     "metadata": {},
     "output_type": "execute_result"
    }
   ],
   "source": [
    "\n",
    "\n",
    "\n",
    "def counter2():\n",
    "    d_count=0\n",
    "    nd_count=0\n",
    "    num=eval(input(\"enter which number divisior want to know:\"))\n",
    "    for i in range(1,num+1):\n",
    "        if num%i==0:\n",
    "            print(\"{} is divisible by {}\".format(num,i))\n",
    "            d_count=d_count+i\n",
    "    return(d_count,nd_count)\n",
    "val,val2=counter2()\n",
    "counter2()\n"
   ]
  },
  {
   "cell_type": "code",
   "execution_count": null,
   "id": "861cf809",
   "metadata": {},
   "outputs": [],
   "source": [
    "- intialization\n",
    "-increment/decrement\n",
    "-condition        # this three lines comes in sigle line  # for loop "
   ]
  },
  {
   "cell_type": "code",
   "execution_count": null,
   "id": "ae0ec366",
   "metadata": {},
   "outputs": [],
   "source": [
    "for i in range(1,10)\n",
    "\n",
    "\n",
    "while loop we need to provide all three are individually"
   ]
  },
  {
   "cell_type": "code",
   "execution_count": null,
   "id": "b6b412f7",
   "metadata": {},
   "outputs": [],
   "source": [
    "# i want print first 10 numbers 0 to 9\n",
    "# intial points\n",
    "# increment\n",
    "# condition: whenever i will see value 9 then i will sta"
   ]
  },
  {
   "cell_type": "code",
   "execution_count": null,
   "id": "fdd9dd31",
   "metadata": {},
   "outputs": [],
   "source": [
    "# wrapper\n",
    "\n",
    "i=0                         # intial point\n",
    "while <condition>:\n",
    "    # st1\n",
    "    # st2\n",
    "    # st3\n",
    "    i=i+i"
   ]
  },
  {
   "cell_type": "code",
   "execution_count": 1,
   "id": "574ca990",
   "metadata": {},
   "outputs": [
    {
     "name": "stdout",
     "output_type": "stream",
     "text": [
      "0 1 2 3 4 5 6 7 8 9 "
     ]
    }
   ],
   "source": [
    "# i want print first 10 numbers 0 to 9\n",
    "for i in range(10):\n",
    "    print(i,end=' ')"
   ]
  },
  {
   "cell_type": "code",
   "execution_count": null,
   "id": "94c22b4a",
   "metadata": {},
   "outputs": [],
   "source": [
    "i=0\n",
    "while <condition>:\n",
    "    print(i,end=' ')\n",
    "    i=i+1\n",
    "    \n",
    "# tell me some True condition based on i=0\n",
    "# i<100\n",
    "# i>=0\n",
    "# i<10\n",
    "# i>-1\n",
    "# i!=1"
   ]
  },
  {
   "cell_type": "code",
   "execution_count": 4,
   "id": "e775cdc4",
   "metadata": {},
   "outputs": [],
   "source": [
    "i=0\n",
    "while i>0:\n",
    "    print(i,end=' ')\n",
    "    i=i+1\n",
    "# step-1: i=0 0>=0 True   print(0)  i=0+1 =1   \n",
    "# step-2: i=1 1>=0 True   print(1)  i=1+1 =2  \n",
    "# step-3: i=2 0>=0 True   print(2)  i=2+1 =3 "
   ]
  },
  {
   "cell_type": "code",
   "execution_count": 7,
   "id": "3ce5bafd",
   "metadata": {},
   "outputs": [],
   "source": [
    "i=0\n",
    "while i>10:\n",
    "    print(i,end=' ')\n",
    "    i=i+1"
   ]
  },
  {
   "cell_type": "code",
   "execution_count": null,
   "id": "7ec6dcb3",
   "metadata": {},
   "outputs": [],
   "source": [
    "- if you  want avoid infinte loop, give proper a condition\n",
    "- based on given question\n",
    "- even though the condition is vaild, you can enter inside the lopp\n",
    "- but you never come out of the loop"
   ]
  },
  {
   "cell_type": "code",
   "execution_count": 1,
   "id": "fbee1c7c",
   "metadata": {},
   "outputs": [
    {
     "name": "stdout",
     "output_type": "stream",
     "text": [
      "10 11 12 13 14 15 16 17 18 19 20 "
     ]
    }
   ],
   "source": [
    "# print 10 to 20\n",
    "i=10\n",
    "while i<21:\n",
    "    print(i,end=' ')\n",
    "    i=i+1"
   ]
  },
  {
   "cell_type": "code",
   "execution_count": 3,
   "id": "990718ff",
   "metadata": {},
   "outputs": [
    {
     "name": "stdout",
     "output_type": "stream",
     "text": [
      "-1 -2 -3 -4 -5 -6 -7 -8 -9 -10 "
     ]
    }
   ],
   "source": [
    "# print-1 to -10\n",
    "# first create the wapper\n",
    "i=-1\n",
    "while i>-11:\n",
    "    print(i,end=' ')\n",
    "    i=i-1"
   ]
  },
  {
   "cell_type": "markdown",
   "id": "0282ac56",
   "metadata": {},
   "source": [
    "** another method ***\n"
   ]
  },
  {
   "cell_type": "code",
   "execution_count": 5,
   "id": "f07f39cb",
   "metadata": {},
   "outputs": [
    {
     "name": "stdout",
     "output_type": "stream",
     "text": [
      "-1 -2 -3 -4 -5 -6 -7 -8 -9 -10 "
     ]
    }
   ],
   "source": [
    "i=-1\n",
    "while True:\n",
    "    print(i,end=' ')\n",
    "    i=i-1\n",
    "    if i==-11:\n",
    "        break"
   ]
  },
  {
   "cell_type": "code",
   "execution_count": null,
   "id": "67d43c5c",
   "metadata": {},
   "outputs": [],
   "source": [
    "# by mistake you provided not a valid condition\n",
    "# then your loop is going infinte\n",
    "# then provide a if condition inside the loop\n",
    "\n",
    "# suppose you are not good at provide conditions\n",
    "# then apply While True=== then provide the if condition\n",
    "# inside the loop\n"
   ]
  },
  {
   "cell_type": "code",
   "execution_count": null,
   "id": "de1ec7f3",
   "metadata": {},
   "outputs": [],
   "source": [
    "#################### Infinite loop #######################\n",
    "i=0\n",
    "while i>=0:\n",
    "    print(i,end=' ')\n",
    "    i=i-1\n",
    "    if i==-11:break\n",
    "        \n",
    "################## True ##############       \n",
    "i=0\n",
    "while True:\n",
    "    print(i,end=' ')\n",
    "    i=i-1\n",
    "    if i==-11:\n",
    "        break\n",
    "        \n",
    "################## I Know the condition ##############       \n",
    "i=0\n",
    "while i<10:\n",
    "    print(i,end=' ')\n",
    "    i=i-1\n",
    "    \n",
    "        "
   ]
  },
  {
   "cell_type": "code",
   "execution_count": null,
   "id": "58f60015",
   "metadata": {},
   "outputs": [],
   "source": [
    "# ask the user enter a number five times\n",
    "# print the square of the number\n",
    "\n",
    "# first do with for lopp\n",
    "# then with wjile loop"
   ]
  },
  {
   "cell_type": "code",
   "execution_count": 7,
   "id": "c583f844",
   "metadata": {},
   "outputs": [
    {
     "name": "stdout",
     "output_type": "stream",
     "text": [
      "enter a square:5\n",
      "the square of 5 is 25\n",
      "enter a square:8\n",
      "the square of 8 is 64\n",
      "enter a square:9\n",
      "the square of 9 is 81\n",
      "enter a square:7\n",
      "the square of 7 is 49\n",
      "enter a square:6\n",
      "the square of 6 is 36\n"
     ]
    }
   ],
   "source": [
    "for i in range(5):\n",
    "    num=eval(input(\"enter a square:\"))\n",
    "    print (\"the square of {} is {}\".format(num,num*num))\n",
    "    "
   ]
  },
  {
   "cell_type": "code",
   "execution_count": 10,
   "id": "29a9d468",
   "metadata": {},
   "outputs": [
    {
     "name": "stdout",
     "output_type": "stream",
     "text": [
      "enter a square:5\n",
      "the square of 5 is 25\n",
      "enter a square:6\n",
      "the square of 6 is 36\n",
      "enter a square:7\n",
      "the square of 7 is 49\n",
      "enter a square:8\n",
      "the square of 8 is 64\n",
      "enter a square:89\n",
      "the square of 89 is 7921\n"
     ]
    }
   ],
   "source": [
    "i=0\n",
    "while i<=4:\n",
    "    num=eval(input(\"enter a square:\"))\n",
    "    print (\"the square of {} is {}\".format(num,num*num))\n",
    "    i=i+1\n",
    "\n",
    "    "
   ]
  },
  {
   "cell_type": "code",
   "execution_count": 12,
   "id": "48f4be1c",
   "metadata": {},
   "outputs": [
    {
     "name": "stdout",
     "output_type": "stream",
     "text": [
      "the square of 11 is 121\n",
      "the square of 20 is 400\n",
      "the square of 13 is 169\n",
      "the square of 18 is 324\n",
      "the square of 13 is 169\n"
     ]
    }
   ],
   "source": [
    "# wap take a random number between 10 to 20 ,five times you need to take\n",
    "# and print the square of the number\n",
    "\n",
    "import random\n",
    "i=0\n",
    "while i<=4:\n",
    "    num=random.randint(10,20)\n",
    "    print (\"the square of {} is {}\".format(num,num*num))\n",
    "    i=i+1\n",
    "    "
   ]
  },
  {
   "cell_type": "code",
   "execution_count": null,
   "id": "a4540780",
   "metadata": {},
   "outputs": [],
   "source": [
    "# wap ask the user print a number is an even or odd\n",
    "# consider number from 10 to 20\n",
    "\n",
    "# for\n",
    "# while\n",
    "\n",
    "\n",
    "for i in range(10,20):\n",
    "    if i%2==0:\n",
    "        print(\"{} is a even number\".format(i))\n",
    "    else:\n",
    "        print(\"{} is a odd number\".format(i))\n",
    "        "
   ]
  },
  {
   "cell_type": "code",
   "execution_count": 15,
   "id": "5c4c0c16",
   "metadata": {},
   "outputs": [
    {
     "name": "stdout",
     "output_type": "stream",
     "text": [
      "10 is a even number\n",
      "11 is a odd number\n",
      "12 is a even number\n",
      "13 is a odd number\n",
      "14 is a even number\n",
      "15 is a odd number\n",
      "16 is a even number\n",
      "17 is a odd number\n",
      "18 is a even number\n",
      "19 is a odd number\n",
      "20 is a even number\n"
     ]
    }
   ],
   "source": [
    "i=10\n",
    "while  i<21:\n",
    "    if i%2==0:\n",
    "        print(\"{} is a even number\".format(i))\n",
    "    else:\n",
    "        print(\"{} is a odd number\".format(i))\n",
    "    i=i+1\n",
    "\n"
   ]
  },
  {
   "cell_type": "code",
   "execution_count": 16,
   "id": "06c6e9ed",
   "metadata": {},
   "outputs": [
    {
     "name": "stdout",
     "output_type": "stream",
     "text": [
      "11 is a odd number\n",
      "12 is a even number\n",
      "13 is a odd number\n",
      "14 is a even number\n",
      "15 is a odd number\n",
      "16 is a even number\n",
      "17 is a odd number\n",
      "18 is a even number\n",
      "19 is a odd number\n",
      "20 is a even number\n",
      "21 is a odd number\n"
     ]
    }
   ],
   "source": [
    "i=10\n",
    "while  i<21:\n",
    "    i=i+1\n",
    "    if i%2==0:\n",
    "        print(\"{} is a even number\".format(i))\n",
    "    else:\n",
    "        print(\"{} is a odd number\".format(i))\n",
    "        \n",
    "    "
   ]
  },
  {
   "cell_type": "code",
   "execution_count": 18,
   "id": "ceaba3d6",
   "metadata": {},
   "outputs": [
    {
     "name": "stdout",
     "output_type": "stream",
     "text": [
      "0+0 is:\n",
      "0\n",
      "the sum of first 10 natural numbers is: 0\n",
      "0+1 is:\n",
      "1\n",
      "the sum of first 10 natural numbers is: 1\n",
      "1+2 is:\n",
      "3\n",
      "the sum of first 10 natural numbers is: 3\n",
      "3+3 is:\n",
      "6\n",
      "the sum of first 10 natural numbers is: 6\n",
      "6+4 is:\n",
      "10\n",
      "the sum of first 10 natural numbers is: 10\n",
      "10+5 is:\n",
      "15\n",
      "the sum of first 10 natural numbers is: 15\n",
      "15+6 is:\n",
      "21\n",
      "the sum of first 10 natural numbers is: 21\n",
      "21+7 is:\n",
      "28\n",
      "the sum of first 10 natural numbers is: 28\n",
      "28+8 is:\n",
      "36\n",
      "the sum of first 10 natural numbers is: 36\n",
      "36+9 is:\n",
      "45\n",
      "the sum of first 10 natural numbers is: 45\n",
      "45+10 is:\n",
      "55\n",
      "the sum of first 10 natural numbers is: 55\n"
     ]
    }
   ],
   "source": [
    "# print sum first 10 natural number\n",
    "# answer should be 55\n",
    "# for loop\n",
    "# while loop\n",
    "\n",
    "summ=0\n",
    "i=0\n",
    "while i<11:\n",
    "    print (\"{}+{} is:\".format(summ,i))          # i=2   summ=1    sum=1+2=3\n",
    "    summ=summ+i                           \n",
    "    print(summ)\n",
    "    print(\"the sum of first 10 natural numbers is:\",summ)\n",
    "    i=i+1\n"
   ]
  },
  {
   "cell_type": "code",
   "execution_count": 19,
   "id": "f967ac65",
   "metadata": {},
   "outputs": [
    {
     "name": "stdout",
     "output_type": "stream",
     "text": [
      "55\n"
     ]
    }
   ],
   "source": [
    "# print sum first 10 natural number\n",
    "# answer should be 55\n",
    "# for loop\n",
    "# while loop\n",
    "\n",
    "\n",
    "summ=0\n",
    "for i in range(1,11):\n",
    "    summ+=i\n",
    "print(summ)"
   ]
  },
  {
   "cell_type": "code",
   "execution_count": 28,
   "id": "0f228c79",
   "metadata": {},
   "outputs": [
    {
     "name": "stdout",
     "output_type": "stream",
     "text": [
      "55\n"
     ]
    }
   ],
   "source": [
    "summ=0\n",
    "i=0\n",
    "while i<11:\n",
    "    summ+=i\n",
    "    i=i+1\n",
    "print(summ)"
   ]
  },
  {
   "cell_type": "code",
   "execution_count": 37,
   "id": "ec642f99",
   "metadata": {},
   "outputs": [
    {
     "name": "stdout",
     "output_type": "stream",
     "text": [
      "732\n"
     ]
    }
   ],
   "source": [
    "# wap get 10 random number between 1 to 10\n",
    "# and sum those numbets\n",
    "\n",
    "\n",
    "import random\n",
    "summ=0\n",
    "for i in range(10):\n",
    "    num=random.randint(1,100)\n",
    "    summ=summ+num\n",
    "print(summ)"
   ]
  },
  {
   "cell_type": "code",
   "execution_count": 38,
   "id": "862055da",
   "metadata": {},
   "outputs": [
    {
     "name": "stdout",
     "output_type": "stream",
     "text": [
      "343\n"
     ]
    }
   ],
   "source": [
    "import random\n",
    "i=0\n",
    "summ=0\n",
    "while i<10:\n",
    "    num=random.randint(1,100)\n",
    "    summ=summ+num\n",
    "    i=i+1\n",
    "print(summ)\n",
    "    "
   ]
  },
  {
   "cell_type": "code",
   "execution_count": 40,
   "id": "a9a53eb9",
   "metadata": {},
   "outputs": [
    {
     "name": "stdout",
     "output_type": "stream",
     "text": [
      "25\n"
     ]
    }
   ],
   "source": [
    "# wap  ask the user get a 10 random number between 10 to 100\n",
    "# count how many are greater than 50\n",
    "\n",
    "count=0\n",
    "for i in range(10):\n",
    "    num=random.randint(1,100)\n",
    "    if num>50:\n",
    "        count=count+i\n",
    "print(count)\n",
    "    \n"
   ]
  },
  {
   "cell_type": "code",
   "execution_count": 51,
   "id": "4b1a6bd7",
   "metadata": {},
   "outputs": [
    {
     "name": "stdout",
     "output_type": "stream",
     "text": [
      "90 69 100 59 /\n",
      "4\n"
     ]
    }
   ],
   "source": [
    "i=0\n",
    "count=0\n",
    "while i<10:\n",
    "    num=random.randint(10,100)\n",
    "    if num>50:\n",
    "        print(num,end=' ')\n",
    "        count+=1\n",
    "    i=i+1\n",
    "print('/')\n",
    "print(count)"
   ]
  },
  {
   "cell_type": "code",
   "execution_count": 52,
   "id": "20c8b7a3",
   "metadata": {},
   "outputs": [
    {
     "name": "stdout",
     "output_type": "stream",
     "text": [
      "96 76 72 55 58 58 67 90 95 92 /\n",
      "10\n"
     ]
    }
   ],
   "source": [
    "# wap ask the user get a 10 random number between 0 to 10\n",
    "# count how many are gretaer than 5 and equal=0\n",
    "\n",
    "i=0\n",
    "count=0\n",
    "while i<10:\n",
    "    num=random.randint(10,100)\n",
    "    if num>5 or num==0:\n",
    "        print(num,end=' ')\n",
    "        count+=1\n",
    "    i=i+1\n",
    "print('/')\n",
    "print(count)"
   ]
  },
  {
   "cell_type": "code",
   "execution_count": 63,
   "id": "261fd5cd",
   "metadata": {},
   "outputs": [
    {
     "name": "stdout",
     "output_type": "stream",
     "text": [
      "13 17 52 56 32 54 19 54 /\n",
      "8\n",
      "/\n",
      "0\n"
     ]
    }
   ],
   "source": [
    "# wap ask the user get a 10 random number between 0 to 10\n",
    "# two count how many are gretaer than 5\n",
    "# how many and equal=0\n",
    "i=0\n",
    "count_5=0\n",
    "count_0=0             # i=count_5,count_0=0\n",
    "while i<10:\n",
    "    ##############################################\n",
    "    num=random.randint(1,100)\n",
    "    if num>5:\n",
    "        print(num,end=' ')\n",
    "        count_5+=1\n",
    "    elif num==0:\n",
    "        print(num,end=' ')\n",
    "        count_0+=1\n",
    "    ###############################################################3   \n",
    "    i=i+1\n",
    "print('/')\n",
    "print(count_5)\n",
    "print('/')\n",
    "print(count_0)"
   ]
  },
  {
   "cell_type": "code",
   "execution_count": 65,
   "id": "91baaf99",
   "metadata": {},
   "outputs": [
    {
     "name": "stdout",
     "output_type": "stream",
     "text": [
      "enter number between 1 and 10:9\n",
      "you lost\n",
      "enter number between 1 and 10:5\n",
      "you lost\n",
      "enter number between 1 and 10:7\n",
      "you lost\n",
      "enter number between 1 and 10:8\n",
      "you lost\n",
      "enter number between 1 and 10:89\n",
      "you lost\n",
      "enter number between 1 and 10:4\n",
      "you lost\n",
      "enter number between 1 and 10:5\n",
      "you lost\n",
      "enter number between 1 and 10:2\n",
      "you lost\n",
      "enter number between 1 and 10:2\n",
      "you lost\n",
      "enter number between 1 and 10:4\n",
      "you won\n"
     ]
    }
   ],
   "source": [
    "# 5 lines \n",
    "# take a random number from random package between 1 to 10\n",
    "# ============== you need to repeat 3 times=============\n",
    "# ask the user enter a number between 1 to 10\n",
    "#if the number == random number:\n",
    "#     print('you won')\n",
    "# else:\n",
    "# print('you loss')\n",
    "# while loop\n",
    "\n",
    "\n",
    "import random\n",
    "i=0\n",
    "while i<10:\n",
    "    random_num=random.randint(1,10)\n",
    "    user_num=eval(input(\"enter number between 1 and 10:\"))\n",
    "    if user_num==random_num:\n",
    "        print(\"you won\")\n",
    "        break\n",
    "    else:\n",
    "        print(\"you lost\")\n",
    "    \n",
    "    i=i+1"
   ]
  },
  {
   "cell_type": "code",
   "execution_count": null,
   "id": "de93e587",
   "metadata": {},
   "outputs": [],
   "source": [
    "# condition:  1000=========== go play the game\n",
    "# condition: 500 \n",
    "        take the money\n",
    "    500+100<1000\n",
    "    take the money\n",
    "    100\n",
    "    500+100+100\n",
    "    "
   ]
  },
  {
   "cell_type": "code",
   "execution_count": 26,
   "id": "a8aa3aa9",
   "metadata": {},
   "outputs": [
    {
     "ename": "IndentationError",
     "evalue": "unexpected indent (3300491951.py, line 36)",
     "output_type": "error",
     "traceback": [
      "\u001b[1;36m  Cell \u001b[1;32mIn[26], line 36\u001b[1;36m\u001b[0m\n\u001b[1;33m    while account_bal+e_wallet_bal>=cost_to_start:\u001b[0m\n\u001b[1;37m    ^\u001b[0m\n\u001b[1;31mIndentationError\u001b[0m\u001b[1;31m:\u001b[0m unexpected indent\n"
     ]
    }
   ],
   "source": [
    "# Suppose that a players wants to paly a game which requires him Rs.1000 to start.\n",
    "# If the curent balance in his account is less than Rs. 1000 he needs to withdraw the extra money from his e-wallet.\n",
    "# Note that if the sum of money in his currents account and the withdrawn is greater than or euqal to Rs. 1000\n",
    "# then the can start playing the game. However if the sum is less than Rs.1000 then the program should keep\n",
    "# displaying the user the message \"You still do not have enough money to start playing.\"\n",
    "# and keep prompting the user to withdraw money unless it crosses Rs.1000.\n",
    "# Once ready,i,e. if his current acccount balance crosses Rs. 1000 it will display a message\n",
    "#\"Now you are ready to play the game.\" Your program should also display the account balance and \n",
    "# the current in the e-wallet.\n",
    "\n",
    "#(Consider: initial account balance is Rs.200 and monry in the e-wallet is Rs.5000)\n",
    "#(d\\Do further improvement by checking if the e-wallet balance becomes NIL,etc)\n",
    "\n",
    "account_bal=200\n",
    "e_wallet_bal=5000\n",
    "\n",
    "cost_to_start=1000\n",
    "\n",
    "while account_bal+e_wallet_bal<cost_to_start:\n",
    "       print(\"you still do not have enough money to start playing:\")\n",
    "       print(\"account balance:\".format(account_bal))\n",
    "       print(\"e_wallet bal:\".format(e_wallet_bal))\n",
    "       \n",
    "       \n",
    "if e_wallet_bal==0:\n",
    "    print(\"you e_wallet bal is empty. you cannot play the game:\")\n",
    "break\n",
    "withdraw_amount=eval(input(\"enter the amount to withdraw from e-wallet:\"))\n",
    "       \n",
    "    \n",
    "if withdraw_amount <= e_wallet_balance:\n",
    "    e_wallet_balance -= withdraw_amount\n",
    "    account_balance += withdraw_amount\n",
    "else:\n",
    "     print(\"You cannot withdraw more money than you have in your e-wallet:\")\n",
    "        while account_bal+e_wallet_bal>=cost_to_start:\n",
    "            print(\"now you are ready to play the game:.\")\n",
    "            print(\"account balance:\".format(account_bal))\n",
    "            print(\"e_wallet bal:\".format(e_wallet_bal))"
   ]
  },
  {
   "cell_type": "code",
   "execution_count": null,
   "id": "8b711d54",
   "metadata": {},
   "outputs": [],
   "source": []
  }
 ],
 "metadata": {
  "kernelspec": {
   "display_name": "Python 3 (ipykernel)",
   "language": "python",
   "name": "python3"
  },
  "language_info": {
   "codemirror_mode": {
    "name": "ipython",
    "version": 3
   },
   "file_extension": ".py",
   "mimetype": "text/x-python",
   "name": "python",
   "nbconvert_exporter": "python",
   "pygments_lexer": "ipython3",
   "version": "3.11.5"
  }
 },
 "nbformat": 4,
 "nbformat_minor": 5
}
