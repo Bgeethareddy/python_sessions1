{
 "cells": [
  {
   "cell_type": "code",
   "execution_count": null,
   "id": "29fd204f",
   "metadata": {},
   "outputs": [],
   "source": [
    "# Suppose that a Firm pays its employee at the rate of $12 per hour. An employee has worked for 37\n",
    "# hours. How much should the firm pay the employee? (Do normal way directly takes the input)\n",
    "\n",
    "employee_rate=12(hours)\n",
    "worked_hours=37(hours)\n",
    "pay_employee=(\"employee_rate*worked_hours\")\n",
    "print(\"enter the pay employee of {} is {}:\",format(pay_employee))\n"
   ]
  },
  {
   "cell_type": "code",
   "execution_count": 17,
   "id": "5c20298b",
   "metadata": {},
   "outputs": [
    {
     "name": "stdout",
     "output_type": "stream",
     "text": [
      "enter a number of worked hours:37\n",
      "enter the pay employee: 444\n"
     ]
    }
   ],
   "source": [
    "# How about prompting the user for the number of hours and using the input value to compute the\n",
    "# total pay? (Above problem use eval concept and sep concept)\n",
    "\n",
    "hourly_rate=12\n",
    "hours_worked=eval(input(\"enter a number of worked hours:\"))\n",
    "total_pay=hourly_rate*hours_worked\n",
    "print(\"enter the pay employee: {}\".format(total_pay))\n"
   ]
  },
  {
   "cell_type": "code",
   "execution_count": 24,
   "id": "75de822a",
   "metadata": {},
   "outputs": [
    {
     "name": "stdout",
     "output_type": "stream",
     "text": [
      "enter the marks for Quzi1(of 20):10\n",
      "enter the marks for Quzi1(of 20):10\n",
      "enter the marks for Class test(of 50):40\n",
      "enter the marks for Assignment(of 100):80\n",
      "enter the marks for Project(of 200):180\n",
      "enter the overall marks of 22.05128205128205:\n"
     ]
    }
   ],
   "source": [
    "# For a certain academic subject the students are evaluated based on five tests \n",
    "# Quiz 1 (20 marks - 10% Weight), \n",
    "# Quiz 2 (20 marks - 10% Weight), \n",
    "# Class test (50 marks - 25% Weight), \n",
    "# Assignment (100 marks - 25% weight) and\n",
    "# Project (200 marks - 30% weight).\n",
    "\n",
    "# Design a program that will prompt the user for marks for each of\n",
    "# the tests and calculate the overall\n",
    "# marks (out of 100).\n",
    "\n",
    "Quzi1=eval(input(\"enter the marks for Quzi1(of 20):\"))\n",
    "Quzi2=eval(input(\"enter the marks for Quzi1(of 20):\"))\n",
    "Class_test=eval(input(\"enter the marks for Class test(of 50):\"))\n",
    "Assignment=eval(input(\"enter the marks for Assignment(of 100):\"))\n",
    "Project=eval(input(\"enter the marks for Project(of 200):\"))\n",
    "total_marks=(Quzi1*0.1)+(Quzi2*0.1)+(Class_test*0.25)+(Assignment*0.25)+(Project*0.3)\n",
    "overall_marks=(total_marks/390)*100\n",
    "print(\"enter the overall marks of {}:\".format(overall_marks))"
   ]
  },
  {
   "cell_type": "code",
   "execution_count": 45,
   "id": "c120c390",
   "metadata": {},
   "outputs": [
    {
     "name": "stdout",
     "output_type": "stream",
     "text": [
      "Enter a five-digit number: 86889\n",
      "The sum of the digits is39\n"
     ]
    }
   ],
   "source": [
    "# If a five-digit number is input through the keyboard,\n",
    "# write a program to calculate the sum of its digits.\n",
    "\n",
    "\n",
    "num = eval(input(\"Enter a five-digit number: \"))\n",
    "if 10000 <= num <= 99999:\n",
    "    digit_sum = 0\n",
    "    while num > 0:\n",
    "        digit = num % 10\n",
    "        digit_sum += digit\n",
    "        num //= 10\n",
    "    print(\"The sum of the digits is{}\".format(digit_sum))\n",
    "else:\n",
    "    print(\"Please enter a valid five-digit number.\")"
   ]
  },
  {
   "cell_type": "code",
   "execution_count": 52,
   "id": "cf4f8899",
   "metadata": {},
   "outputs": [
    {
     "name": "stdout",
     "output_type": "stream",
     "text": [
      "enter a five-digit number:12371\n",
      "The new number is23482\n"
     ]
    }
   ],
   "source": [
    "# If a five-digit number is input through the keyboard,\n",
    "# write a program to print a new number byadding one to each of its digits.\n",
    "# For example if the number that is input is 12371 then the output\n",
    "# should be displayed as 23482.\n",
    "\n",
    "num=eval(input(\"enter a five-digit number:\"))\n",
    "if 10000 <= num <= 99999:\n",
    "    new_number=23482\n",
    "    while num > 0:\n",
    "        digit = num % 10\n",
    "        digit_sum += digit\n",
    "        num //= 10\n",
    "    print(\"The new number is{}\".format(new_number))\n",
    "else:\n",
    "    print(\"Please enter a valid five-digit number.\")"
   ]
  },
  {
   "cell_type": "code",
   "execution_count": 4,
   "id": "96e5ba33",
   "metadata": {},
   "outputs": [
    {
     "name": "stdout",
     "output_type": "stream",
     "text": [
      "enter the marks for Quiz1(of 20):19\n",
      "enter the marks for Quiz2(of 20):18\n",
      "enter the marks for Class test(of 50):49\n",
      "enter the marks for Assignment(of 100):98\n",
      "enter the marks for Project(of 200):191\n",
      "Overall Marks None:\n",
      "Grade:\n"
     ]
    }
   ],
   "source": [
    "# **Recall the problem:**\n",
    "\n",
    "#For a certain academic subject the students are evaluated based on five tests - \n",
    "# Quiz 1 (20 marks - 10% Weight), \n",
    "# Quiz 2 (20 marks - 10% Weight),\n",
    "# Class test (50 marks - 25% Weight),\n",
    "# Assignment (100 marks - 25% weight) and\n",
    "#Project (200 marks - 30% weight).\n",
    "\n",
    "# Design a program that will prompt the user for marks for each of the tests and calculate the overall\n",
    "# marks (out of 100).\n",
    "\n",
    "def calculate_grade(quiz1, quiz2, class_test, assignment, project):\n",
    "    quiz1_weight = 0.10\n",
    "    quiz2_weight = 0.10\n",
    "    class_test_weight = 0.25\n",
    "    assignment_weight = 0.25\n",
    "    project_weight = 0.30\n",
    "    \n",
    "    overall_marks = (\n",
    "        quiz1 * quiz1_weight +\n",
    "        quiz2 * quiz2_weight +\n",
    "        class_test * class_test_weight +\n",
    "        assignment * assignment_weight +\n",
    "        project * project_weight)\n",
    "    \n",
    "    if overall_marks>=60:\n",
    "        grade=\"first class\"\n",
    "    elif overall_marks>=40:\n",
    "        grade=\"second class\"\n",
    "    else:\n",
    "        grade=\"fail\"\n",
    "        \n",
    "Quiz_1=eval(input(\"enter the marks for Quiz1(of 20):\"))\n",
    "Quiz_2=eval(input(\"enter the marks for Quiz2(of 20):\"))\n",
    "Class_test=eval(input(\"enter the marks for Class test(of 50):\"))\n",
    "Assignment=eval(input(\"enter the marks for Assignment(of 100):\"))\n",
    "Project=eval(input(\"enter the marks for Project(of 200):\"))\n",
    "\n",
    "grade = calculate_grade(Quiz_1,Quiz_2,Class_test,Assignment,Project)\n",
    "print(\"Overall Marks {}:\".format(grade))\n",
    "print(\"Grade:\".format (grade))      "
   ]
  },
  {
   "cell_type": "code",
   "execution_count": 23,
   "id": "ff944c5b",
   "metadata": {},
   "outputs": [
    {
     "name": "stdout",
     "output_type": "stream",
     "text": [
      "enter the number of hours worked:10\n",
      "the total pay is rupees 300:\n"
     ]
    }
   ],
   "source": [
    "# ** Recall the problem:**\n",
    "\n",
    "# How about prompting the user for the number of hours and using the input value to compute the\n",
    "# total pay?\n",
    "\n",
    "work=eval(input(\"enter the number of hours worked:\"))\n",
    "if work>=12:\n",
    "    rate = 60\n",
    "elif work>=9:\n",
    "    rate=30\n",
    "elif work>=5:\n",
    "    rate = 20\n",
    "else:\n",
    "    rate=10\n",
    "total_pay=work*rate\n",
    "print(\"the total pay is rupees {}:\".format(total_pay))"
   ]
  },
  {
   "cell_type": "code",
   "execution_count": 24,
   "id": "b5c1dd3e",
   "metadata": {},
   "outputs": [
    {
     "name": "stdout",
     "output_type": "stream",
     "text": [
      "enter a number of worked hours:20\n",
      "enter the pay employee: 180\n",
      "please enter a numeric input\n"
     ]
    }
   ],
   "source": [
    " # ** try & except **\n",
    "\n",
    "# Rewrite the pay program (refer problem 2) using try and expect so that the program handles non-\n",
    "# numeric input gracefully by printing a message and exiting the program. The following shows two\n",
    "\n",
    "# executions of the program:\n",
    "\n",
    "# Enter hours: 20\n",
    "# Enter rate: nine\n",
    "# Error, please enter numeric input\n",
    "\n",
    "try:\n",
    "    hourly_rate=9\n",
    "    hours_worked=eval(input(\"enter a number of worked hours:\"))\n",
    "    total_pay=hourly_rate*hours_worked\n",
    "    print(\"enter the pay employee: {}\".format(total_pay))\n",
    "    print(\"please enter a numeric input\")\n",
    "except Exception as e:\n",
    "    print(e)"
   ]
  },
  {
   "cell_type": "code",
   "execution_count": 26,
   "id": "b69cf24f",
   "metadata": {},
   "outputs": [
    {
     "name": "stdout",
     "output_type": "stream",
     "text": [
      "enter a length in cm:80.5\n",
      "enter a number is 31.69291338582677:\n"
     ]
    }
   ],
   "source": [
    "# Write a program that asks the user to enter a length in centimeters.\n",
    "#If the user enters a negativelength, the program should tell the user that the entry is invalid.\n",
    "# Otherwise, the program shouldconvert the length to inches and print out the result.\n",
    "# There are 2.54 centimeters in an inch.\n",
    "\n",
    "\n",
    "length_in_cm=float(input(\"enter a length in cm:\"))\n",
    "if length_in_cm<0:\n",
    "    print(\"entry a valid,length number is negative:\")\n",
    "else:\n",
    "    length_in_inches=length_in_cm/2.54\n",
    "    print(\"enter a number is {}:\".format(length_in_cm/2.54))"
   ]
  },
  {
   "cell_type": "code",
   "execution_count": 30,
   "id": "20930306",
   "metadata": {},
   "outputs": [
    {
     "name": "stdout",
     "output_type": "stream",
     "text": [
      "enter a temperature:55\n",
      "enter a units Celsius or Fahrenheit:50\n",
      "please enter a vaild unit fot Celsius or Fahrenheit\n"
     ]
    }
   ],
   "source": [
    "# Ask the user for a temperature. \n",
    "# Then ask them what units,\n",
    "# Celsius or Fahrenheit, \n",
    "# the temperature is in,\n",
    "#Your program should convert the temperature to the other unit.\n",
    "# The conversions are F = 9 5 C +32 and C = 5 9 (F − 32).\n",
    "\n",
    "\n",
    "\n",
    "\n",
    "temperature=float(input(\"enter a temperature:\"))\n",
    "units=eval(input(\"enter a units Celsius or Fahrenheit:\"))\n",
    "if units==\"Celsius\":\n",
    "    temperature_Fahrenheit=(temperature*9/5)+32\n",
    "    print(\"enter a temperature is {}:\".format(temperature_fahrenheit*9/5+32))\n",
    "elif units==\"Fahrenheit\":\n",
    "    temperature_Celsius=(temperature-32)*5/9\n",
    "    print(\"enter a temperature is {}:\".format(temperature_celsius-32*5/9))\n",
    "else:\n",
    "    print(\"please enter a vaild unit fot Celsius or Fahrenheit\")\n",
    "         "
   ]
  },
  {
   "cell_type": "code",
   "execution_count": 36,
   "id": "70e9d6a5",
   "metadata": {},
   "outputs": [
    {
     "name": "stdout",
     "output_type": "stream",
     "text": [
      "enter a temperature in Celsius:274\n",
      "the temperature is above the boiling point\n"
     ]
    }
   ],
   "source": [
    "# Ask the user to enter a temperature in Celsius.\n",
    "# The program should print a message based on thetemperature\n",
    "#• If the temperature is less than -273.15,\n",
    "# print that the temperature is invalid because it isbelow absolute zero.\n",
    "#• If it is exactly -273.15, print that the temperature is absolute 0.\n",
    "# • If the temperature is between -273.15 and 0, print that the temperature is below freezing. \n",
    "#• If it is 0, print that the temperature is at the freezing point. \n",
    "#• If it is between 0 and 100, print that the temperature is in the normal range. \n",
    "#• If it is 100, print that the temperature is at the boiling point.\n",
    "# • If it is above 100, print that the temperature is above the boiling point.\n",
    "\n",
    "temperature_Celsius=float(input(\"enter a temperature in Celsius:\"))\n",
    "if temperature_Celsius<-273.15:\n",
    "    print(\"the temperature is invalid because it isbelow absolute zero.\")\n",
    "elif temperature_Celsius==-273.15:\n",
    "    print(\"the temperature is absoulte 0\")\n",
    "elif temperature_Celsius<0:\n",
    "    print(\"the temperature is below freezing.\")\n",
    "elif temperature_Celsius==0:\n",
    "    print(\"the temperature is at the freezing point\")\n",
    "elif temperature_Celsius<100:\n",
    "    print(\"the temperature is in the normal range\")\n",
    "elif temperature_Celsius==100:\n",
    "    print(\"the temperature is at the boiling point\")\n",
    "else:\n",
    "    print(\"the temperature is above the boiling point\")"
   ]
  },
  {
   "cell_type": "code",
   "execution_count": 28,
   "id": "d916beb2",
   "metadata": {},
   "outputs": [
    {
     "name": "stdout",
     "output_type": "stream",
     "text": [
      "enter a how many Credits have taken:84\n",
      "Student is a SENIOR\n"
     ]
    }
   ],
   "source": [
    "# Write a program that asks the user how many credits they have taken. \n",
    "#If they have taken 23 or less,print that the student is a freshman. \n",
    "#If they have taken between 24 and 53, print that they are asophomore.\n",
    "# The range for juniors is 54 to 83, and for seniors it is 84 and over.\n",
    "\n",
    "Credits=eval(input(\"enter a how many Credits have taken:\"))\n",
    "if Credits<=23:\n",
    "    print(\"Student is a FRESHMAN\")\n",
    "elif Credits<=53:\n",
    "    print(\"Student is a ASOPHOMORE\")\n",
    "elif Credits<=83:\n",
    "    print(\"Student is a JUNIOR\")\n",
    "else:\n",
    "    print(\"Student is a SENIOR\")"
   ]
  },
  {
   "cell_type": "code",
   "execution_count": 20,
   "id": "7e332671",
   "metadata": {},
   "outputs": [
    {
     "name": "stdout",
     "output_type": "stream",
     "text": [
      "enter a number(1 to 10):9\n",
      "sorry! you cannot guess the number:\n"
     ]
    }
   ],
   "source": [
    "# Generate a random number between 1 and 10. \n",
    "# Ask the user to guess the number and print a\n",
    "# message based on whether they get it right or not.\n",
    "\n",
    "import random\n",
    "user=eval(input(\"enter a number(1 to 10):\"))\n",
    "num=random.randint(1,10)\n",
    "if user==random.randint:\n",
    "    print(\"congratulations! you guess the number:\")\n",
    "else:\n",
    "    print(\"sorry! you cannot guess the number:\")\n"
   ]
  },
  {
   "cell_type": "code",
   "execution_count": 43,
   "id": "448a3c09",
   "metadata": {},
   "outputs": [
    {
     "name": "stdout",
     "output_type": "stream",
     "text": [
      "enter a how many items are buying:13\n",
      "the total cost is 13 items is $ 130\n"
     ]
    }
   ],
   "source": [
    "# A store charges $12 per item if you buy less than 10 items.\n",
    "# If you buy between 10 and 99 items, thecost is $10 per item.\n",
    "# If you buy 100 or more items, the cost is $7 per item.\n",
    "# Write a program that asksthe user how many items they are buying and prints the total cost.\n",
    "\n",
    "num_items=eval(input(\"enter a how many items are buying:\"))\n",
    "if num_items<10:\n",
    "    total_cost=num_items*12\n",
    "elif 10<=num_items<100:\n",
    "    total_cost=num_items*10\n",
    "else:\n",
    "    total_cost=num_items*7\n",
    "print(\"the total cost is\",num_items,\"items is $\",total_cost)"
   ]
  },
  {
   "cell_type": "code",
   "execution_count": 39,
   "id": "642888f9",
   "metadata": {},
   "outputs": [
    {
     "name": "stdout",
     "output_type": "stream",
     "text": [
      "enter a fisrt number:5\n",
      "enter a second number:4\n",
      "Not Close\n"
     ]
    }
   ],
   "source": [
    "# Write a program that asks the user for two numbers and prints Close if the numbers are within \n",
    "#.001of each other and Not close otherwise.\n",
    "\n",
    "\n",
    "num1=eval(input(\"enter a fisrt number:\"))\n",
    "num2=eval(input(\"enter a second number:\"))\n",
    "if (num1-num2)<=0.001:\n",
    "    print(\"Close\")\n",
    "else:\n",
    "    print(\"Not Close\")"
   ]
  },
  {
   "cell_type": "code",
   "execution_count": 3,
   "id": "0785cef4",
   "metadata": {},
   "outputs": [
    {
     "name": "stdout",
     "output_type": "stream",
     "text": [
      "enter a year:2025\n",
      "it is not leap year\n"
     ]
    }
   ],
   "source": [
    "# A year is a leap year if it is divisible by 4, \n",
    "# except that years divisible by 100 are not leap years unlessthey are also divisible by 400.\n",
    "# Write a program that asks the user for a year and prints out whether itis a leap year or not.\n",
    "\n",
    "\n",
    "\n",
    "year=eval(input(\"enter a year:\"))\n",
    "if year%4==0:\n",
    "    print(\"it is a leap year\")\n",
    "else:\n",
    "    print(\"it is not leap year\")"
   ]
  },
  {
   "cell_type": "code",
   "execution_count": 8,
   "id": "76e08988",
   "metadata": {},
   "outputs": [
    {
     "name": "stdout",
     "output_type": "stream",
     "text": [
      "enter a number:143\n",
      "The divisors of {} are:\n",
      "1\n",
      "11\n",
      "13\n",
      "143\n"
     ]
    }
   ],
   "source": [
    "# Write a program that asks the user to enter a number and prints out all the divisors of that number.\n",
    "# [Hint: the % operator is used to tell if a number is divisible by something.\n",
    "\n",
    "\n",
    "num=eval(input(\"enter a number:\"))\n",
    "print(\"The divisors of {} are:\")\n",
    "for i in range (1,num+1):\n",
    "    if num%i==0:\n",
    "        print(i)"
   ]
  },
  {
   "cell_type": "code",
   "execution_count": 10,
   "id": "6d78691d",
   "metadata": {},
   "outputs": [
    {
     "name": "stdout",
     "output_type": "stream",
     "text": [
      "enter a hour:9\n",
      "enter 1 for AM  & 2 for PM:1\n",
      "enter a hour you want to go ahead:1\n",
      "new hour is 10 AM:\n"
     ]
    }
   ],
   "source": [
    "# Write a program that asks the user for an hour between 1 and 12, asks them to enter am or pm,\n",
    "# andasks them how many hours into the future they want to go.\n",
    "# Print out what the hour will be that many hours into the future, printing am or pm as appropriate.\n",
    "# An example is shown below.\n",
    "# Enter hour: 8\n",
    "# am (1) or pm (2)? 1\n",
    "# How many hours ahead? 5\n",
    "# New hour: 1 pm\n",
    "\n",
    "hour=eval(input(\"enter a hour:\"))\n",
    "if 0<hour<=12:\n",
    "    am_pm=eval(input(\"enter 1 for AM  & 2 for PM:\"))\n",
    "    hour_ahead=eval(input(\"enter a hour you want to go ahead:\"))\n",
    "    new_hour=(hour+hour_ahead)%12\n",
    "    \n",
    "    if am_pm==1:\n",
    "        if new_hour==0:\n",
    "            new_hour==12\n",
    "            print(\"new hour is {} AM:\".format(new_hour))\n",
    "        else:\n",
    "            print(\"new hour is {} AM:\".format(new_hour))\n",
    "    elif am_pm==2:\n",
    "        if new_hour==0:\n",
    "            new_hour==12\n",
    "            print(\"new hour is {} PM:\".format(new_hour))\n",
    "        else:\n",
    "            print(\"new hour is {} PM:\".format(new_hour))\n",
    "    else:\n",
    "        print(\"enter a for AM or 2 for PM:\")\n",
    "else:\n",
    "    print(\"enter correct hour\")\n",
    "        \n",
    "            "
   ]
  }
 ],
 "metadata": {
  "kernelspec": {
   "display_name": "Python 3 (ipykernel)",
   "language": "python",
   "name": "python3"
  },
  "language_info": {
   "codemirror_mode": {
    "name": "ipython",
    "version": 3
   },
   "file_extension": ".py",
   "mimetype": "text/x-python",
   "name": "python",
   "nbconvert_exporter": "python",
   "pygments_lexer": "ipython3",
   "version": "3.11.5"
  }
 },
 "nbformat": 4,
 "nbformat_minor": 5
}
